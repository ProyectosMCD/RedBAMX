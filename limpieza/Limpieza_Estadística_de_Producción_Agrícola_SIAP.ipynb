{
 "cells": [
  {
   "cell_type": "markdown",
   "metadata": {},
   "source": [
    "# Limpieza de Datos de Producción Agrícola del SIAP\n",
    "\n",
    "En este punto, se procede a realizar la depuración de los datos relativos a la producción agrícola proporcionados por **SIAP**. Para llevar a cabo esta tarea, se realizarán las siguientes etapas:\n",
    "\n",
    "- Exploración de los Datos: Se realizará una revisión inicial de los datos para identificar posibles inconsistencias o datos faltantes que requieran atención.\n",
    "\n",
    "- Limpieza de Datos Faltantes: Los registros que contengan datos faltantes o nulos serán evaluados y, en la medida de lo posible, se completarán o se eliminarán de la base de datos, dependiendo de su relevancia para el análisis."
   ]
  },
  {
   "cell_type": "markdown",
   "metadata": {},
   "source": [
    "### Importación de Librerías"
   ]
  },
  {
   "cell_type": "code",
   "execution_count": 2,
   "metadata": {},
   "outputs": [],
   "source": [
    "import pandas as pd\n",
    "import os\n",
    "import numpy as np"
   ]
  },
  {
   "cell_type": "markdown",
   "metadata": {},
   "source": [
    "### Exploración a nivel básico de los datos"
   ]
  },
  {
   "cell_type": "code",
   "execution_count": 18,
   "metadata": {},
   "outputs": [],
   "source": [
    "# Obtención de la ruta\n",
    "actual_dir = os.getcwd()\n",
    "ext_dir = os.path.dirname(actual_dir)\n",
    "subdir1 = '/descarga'\n",
    "subdir2 = '/data/'\n",
    "data_processed = subdir1 + subdir2 + 'processed/'\n",
    "dir = ext_dir + data_processed\n",
    "\n",
    "# Leer DF\n",
    "df = pd.read_csv(dir + 'Cierre_agricola__2003_2023.csv', low_memory=False)"
   ]
  },
  {
   "cell_type": "code",
   "execution_count": null,
   "metadata": {},
   "outputs": [],
   "source": []
  }
 ],
 "metadata": {
  "kernelspec": {
   "display_name": "base",
   "language": "python",
   "name": "python3"
  },
  "language_info": {
   "codemirror_mode": {
    "name": "ipython",
    "version": 3
   },
   "file_extension": ".py",
   "mimetype": "text/x-python",
   "name": "python",
   "nbconvert_exporter": "python",
   "pygments_lexer": "ipython3",
   "version": "3.11.3"
  }
 },
 "nbformat": 4,
 "nbformat_minor": 2
}
