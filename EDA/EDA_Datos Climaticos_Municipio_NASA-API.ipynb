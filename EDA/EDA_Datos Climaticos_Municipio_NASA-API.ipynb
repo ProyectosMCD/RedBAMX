{
 "cells": [
  {
   "cell_type": "markdown",
   "metadata": {},
   "source": [
    "### Importación de Librerías"
   ]
  },
  {
   "cell_type": "code",
   "execution_count": 210,
   "metadata": {},
   "outputs": [],
   "source": [
    "import numpy as np\n",
    "import os\n",
    "import pandas as pd\n",
    "import matplotlib.pyplot as plt\n",
    "import seaborn as sns\n",
    "import warnings\n",
    "import plotly.express as px\n",
    "import plotly.graph_objects as go\n",
    "from plotly.subplots import make_subplots\n",
    "import ipywidgets as widgets\n",
    "from sklearn.neighbors import LocalOutlierFactor\n",
    "\n",
    "warnings.filterwarnings(\"ignore\")\n",
    "plt.style.use('ggplot')\n",
    "px.defaults.template = \"ggplot2\"\n",
    "#px.defaults.template = \"seaborn\"\n",
    "#plt.style.use('seaborn')\n",
    "pd.set_option('display.max_columns', None)"
   ]
  },
  {
   "cell_type": "markdown",
   "metadata": {},
   "source": [
    "### Leer el Dataframe"
   ]
  },
  {
   "cell_type": "code",
   "execution_count": 168,
   "metadata": {},
   "outputs": [],
   "source": [
    "# Obtención de la ruta\n",
    "actual_dir = os.getcwd()\n",
    "ext_dir = os.path.dirname(actual_dir)\n",
    "subdir = '/descarga/data/Municipios/Municipios_Clean/'\n",
    "dir = ext_dir + subdir"
   ]
  },
  {
   "cell_type": "code",
   "execution_count": 169,
   "metadata": {},
   "outputs": [
    {
     "data": {
      "text/html": [
       "<div>\n",
       "<style scoped>\n",
       "    .dataframe tbody tr th:only-of-type {\n",
       "        vertical-align: middle;\n",
       "    }\n",
       "\n",
       "    .dataframe tbody tr th {\n",
       "        vertical-align: top;\n",
       "    }\n",
       "\n",
       "    .dataframe thead th {\n",
       "        text-align: right;\n",
       "    }\n",
       "</style>\n",
       "<table border=\"1\" class=\"dataframe\">\n",
       "  <thead>\n",
       "    <tr style=\"text-align: right;\">\n",
       "      <th></th>\n",
       "      <th>Estado</th>\n",
       "      <th>Municipio</th>\n",
       "      <th>Estado_CVE</th>\n",
       "      <th>Municipio_CVE</th>\n",
       "      <th>Año</th>\n",
       "      <th>Mes</th>\n",
       "      <th>Día</th>\n",
       "      <th>Temp_Superficial</th>\n",
       "      <th>Temp_Superficial_MAX</th>\n",
       "      <th>Temp_Superficial_MIN</th>\n",
       "      <th>Temp_2_Metros</th>\n",
       "      <th>Temp_2_Metros_MAX</th>\n",
       "      <th>Temp_2_Metros_MIN</th>\n",
       "      <th>Temp_2_Metros_Pto_Congelación</th>\n",
       "      <th>Temp_2_Metros_Pto_Húmedo</th>\n",
       "      <th>Presión_Superficial</th>\n",
       "      <th>Velocidad_Viento</th>\n",
       "      <th>Humedad_Relativa</th>\n",
       "      <th>Precipitacion</th>\n",
       "    </tr>\n",
       "  </thead>\n",
       "  <tbody>\n",
       "    <tr>\n",
       "      <th>0</th>\n",
       "      <td>Aguascalientes</td>\n",
       "      <td>Aguascalientes</td>\n",
       "      <td>1</td>\n",
       "      <td>1</td>\n",
       "      <td>2020</td>\n",
       "      <td>1</td>\n",
       "      <td>1</td>\n",
       "      <td>13.37</td>\n",
       "      <td>22.76</td>\n",
       "      <td>6.50</td>\n",
       "      <td>13.30</td>\n",
       "      <td>20.08</td>\n",
       "      <td>7.35</td>\n",
       "      <td>7.12</td>\n",
       "      <td>10.21</td>\n",
       "      <td>79.30</td>\n",
       "      <td>3.91</td>\n",
       "      <td>68.44</td>\n",
       "      <td>6.93</td>\n",
       "    </tr>\n",
       "    <tr>\n",
       "      <th>1</th>\n",
       "      <td>Aguascalientes</td>\n",
       "      <td>Asientos</td>\n",
       "      <td>1</td>\n",
       "      <td>2</td>\n",
       "      <td>2020</td>\n",
       "      <td>1</td>\n",
       "      <td>1</td>\n",
       "      <td>12.91</td>\n",
       "      <td>23.01</td>\n",
       "      <td>6.02</td>\n",
       "      <td>12.88</td>\n",
       "      <td>19.87</td>\n",
       "      <td>7.19</td>\n",
       "      <td>7.03</td>\n",
       "      <td>9.95</td>\n",
       "      <td>78.76</td>\n",
       "      <td>5.12</td>\n",
       "      <td>69.81</td>\n",
       "      <td>13.81</td>\n",
       "    </tr>\n",
       "    <tr>\n",
       "      <th>2</th>\n",
       "      <td>Aguascalientes</td>\n",
       "      <td>Calvillo</td>\n",
       "      <td>1</td>\n",
       "      <td>3</td>\n",
       "      <td>2020</td>\n",
       "      <td>1</td>\n",
       "      <td>1</td>\n",
       "      <td>13.37</td>\n",
       "      <td>22.76</td>\n",
       "      <td>6.50</td>\n",
       "      <td>13.30</td>\n",
       "      <td>20.08</td>\n",
       "      <td>7.35</td>\n",
       "      <td>7.12</td>\n",
       "      <td>10.21</td>\n",
       "      <td>79.30</td>\n",
       "      <td>3.91</td>\n",
       "      <td>68.44</td>\n",
       "      <td>6.93</td>\n",
       "    </tr>\n",
       "    <tr>\n",
       "      <th>3</th>\n",
       "      <td>Aguascalientes</td>\n",
       "      <td>Cosío</td>\n",
       "      <td>1</td>\n",
       "      <td>4</td>\n",
       "      <td>2020</td>\n",
       "      <td>1</td>\n",
       "      <td>1</td>\n",
       "      <td>12.03</td>\n",
       "      <td>21.56</td>\n",
       "      <td>5.61</td>\n",
       "      <td>11.83</td>\n",
       "      <td>18.49</td>\n",
       "      <td>6.46</td>\n",
       "      <td>6.87</td>\n",
       "      <td>9.36</td>\n",
       "      <td>77.65</td>\n",
       "      <td>6.20</td>\n",
       "      <td>73.94</td>\n",
       "      <td>9.15</td>\n",
       "    </tr>\n",
       "    <tr>\n",
       "      <th>4</th>\n",
       "      <td>Aguascalientes</td>\n",
       "      <td>Jesús María</td>\n",
       "      <td>1</td>\n",
       "      <td>5</td>\n",
       "      <td>2020</td>\n",
       "      <td>1</td>\n",
       "      <td>1</td>\n",
       "      <td>13.37</td>\n",
       "      <td>22.76</td>\n",
       "      <td>6.50</td>\n",
       "      <td>13.30</td>\n",
       "      <td>20.08</td>\n",
       "      <td>7.35</td>\n",
       "      <td>7.12</td>\n",
       "      <td>10.21</td>\n",
       "      <td>79.30</td>\n",
       "      <td>3.91</td>\n",
       "      <td>68.44</td>\n",
       "      <td>6.93</td>\n",
       "    </tr>\n",
       "    <tr>\n",
       "      <th>...</th>\n",
       "      <td>...</td>\n",
       "      <td>...</td>\n",
       "      <td>...</td>\n",
       "      <td>...</td>\n",
       "      <td>...</td>\n",
       "      <td>...</td>\n",
       "      <td>...</td>\n",
       "      <td>...</td>\n",
       "      <td>...</td>\n",
       "      <td>...</td>\n",
       "      <td>...</td>\n",
       "      <td>...</td>\n",
       "      <td>...</td>\n",
       "      <td>...</td>\n",
       "      <td>...</td>\n",
       "      <td>...</td>\n",
       "      <td>...</td>\n",
       "      <td>...</td>\n",
       "      <td>...</td>\n",
       "    </tr>\n",
       "    <tr>\n",
       "      <th>3441195</th>\n",
       "      <td>Zacatecas</td>\n",
       "      <td>Villa Hidalgo</td>\n",
       "      <td>32</td>\n",
       "      <td>54</td>\n",
       "      <td>2023</td>\n",
       "      <td>10</td>\n",
       "      <td>31</td>\n",
       "      <td>15.41</td>\n",
       "      <td>26.25</td>\n",
       "      <td>8.85</td>\n",
       "      <td>13.67</td>\n",
       "      <td>20.40</td>\n",
       "      <td>8.55</td>\n",
       "      <td>9.00</td>\n",
       "      <td>11.33</td>\n",
       "      <td>79.10</td>\n",
       "      <td>2.77</td>\n",
       "      <td>75.62</td>\n",
       "      <td>1.87</td>\n",
       "    </tr>\n",
       "    <tr>\n",
       "      <th>3441196</th>\n",
       "      <td>Zacatecas</td>\n",
       "      <td>Villanueva</td>\n",
       "      <td>32</td>\n",
       "      <td>55</td>\n",
       "      <td>2023</td>\n",
       "      <td>10</td>\n",
       "      <td>31</td>\n",
       "      <td>17.53</td>\n",
       "      <td>29.22</td>\n",
       "      <td>9.80</td>\n",
       "      <td>16.14</td>\n",
       "      <td>22.72</td>\n",
       "      <td>9.83</td>\n",
       "      <td>10.43</td>\n",
       "      <td>13.28</td>\n",
       "      <td>79.32</td>\n",
       "      <td>2.34</td>\n",
       "      <td>71.25</td>\n",
       "      <td>3.85</td>\n",
       "    </tr>\n",
       "    <tr>\n",
       "      <th>3441197</th>\n",
       "      <td>Zacatecas</td>\n",
       "      <td>Zacatecas</td>\n",
       "      <td>32</td>\n",
       "      <td>56</td>\n",
       "      <td>2023</td>\n",
       "      <td>10</td>\n",
       "      <td>31</td>\n",
       "      <td>16.23</td>\n",
       "      <td>27.09</td>\n",
       "      <td>9.41</td>\n",
       "      <td>14.58</td>\n",
       "      <td>21.00</td>\n",
       "      <td>9.33</td>\n",
       "      <td>9.26</td>\n",
       "      <td>11.92</td>\n",
       "      <td>78.10</td>\n",
       "      <td>2.77</td>\n",
       "      <td>72.56</td>\n",
       "      <td>4.25</td>\n",
       "    </tr>\n",
       "    <tr>\n",
       "      <th>3441198</th>\n",
       "      <td>Zacatecas</td>\n",
       "      <td>Trancoso</td>\n",
       "      <td>32</td>\n",
       "      <td>57</td>\n",
       "      <td>2023</td>\n",
       "      <td>10</td>\n",
       "      <td>31</td>\n",
       "      <td>15.38</td>\n",
       "      <td>25.62</td>\n",
       "      <td>8.01</td>\n",
       "      <td>13.65</td>\n",
       "      <td>19.69</td>\n",
       "      <td>7.90</td>\n",
       "      <td>8.38</td>\n",
       "      <td>11.02</td>\n",
       "      <td>79.13</td>\n",
       "      <td>3.32</td>\n",
       "      <td>72.31</td>\n",
       "      <td>1.38</td>\n",
       "    </tr>\n",
       "    <tr>\n",
       "      <th>3441199</th>\n",
       "      <td>Zacatecas</td>\n",
       "      <td>Santa María de la Paz</td>\n",
       "      <td>32</td>\n",
       "      <td>58</td>\n",
       "      <td>2023</td>\n",
       "      <td>10</td>\n",
       "      <td>31</td>\n",
       "      <td>19.94</td>\n",
       "      <td>32.85</td>\n",
       "      <td>12.12</td>\n",
       "      <td>18.59</td>\n",
       "      <td>25.87</td>\n",
       "      <td>12.44</td>\n",
       "      <td>12.27</td>\n",
       "      <td>15.43</td>\n",
       "      <td>81.54</td>\n",
       "      <td>1.26</td>\n",
       "      <td>70.38</td>\n",
       "      <td>1.35</td>\n",
       "    </tr>\n",
       "  </tbody>\n",
       "</table>\n",
       "<p>3441200 rows × 19 columns</p>\n",
       "</div>"
      ],
      "text/plain": [
       "                 Estado              Municipio  Estado_CVE  Municipio_CVE  \\\n",
       "0        Aguascalientes         Aguascalientes           1              1   \n",
       "1        Aguascalientes               Asientos           1              2   \n",
       "2        Aguascalientes               Calvillo           1              3   \n",
       "3        Aguascalientes                  Cosío           1              4   \n",
       "4        Aguascalientes            Jesús María           1              5   \n",
       "...                 ...                    ...         ...            ...   \n",
       "3441195       Zacatecas          Villa Hidalgo          32             54   \n",
       "3441196       Zacatecas             Villanueva          32             55   \n",
       "3441197       Zacatecas              Zacatecas          32             56   \n",
       "3441198       Zacatecas               Trancoso          32             57   \n",
       "3441199       Zacatecas  Santa María de la Paz          32             58   \n",
       "\n",
       "          Año  Mes  Día  Temp_Superficial  Temp_Superficial_MAX  \\\n",
       "0        2020    1    1             13.37                 22.76   \n",
       "1        2020    1    1             12.91                 23.01   \n",
       "2        2020    1    1             13.37                 22.76   \n",
       "3        2020    1    1             12.03                 21.56   \n",
       "4        2020    1    1             13.37                 22.76   \n",
       "...       ...  ...  ...               ...                   ...   \n",
       "3441195  2023   10   31             15.41                 26.25   \n",
       "3441196  2023   10   31             17.53                 29.22   \n",
       "3441197  2023   10   31             16.23                 27.09   \n",
       "3441198  2023   10   31             15.38                 25.62   \n",
       "3441199  2023   10   31             19.94                 32.85   \n",
       "\n",
       "         Temp_Superficial_MIN  Temp_2_Metros  Temp_2_Metros_MAX  \\\n",
       "0                        6.50          13.30              20.08   \n",
       "1                        6.02          12.88              19.87   \n",
       "2                        6.50          13.30              20.08   \n",
       "3                        5.61          11.83              18.49   \n",
       "4                        6.50          13.30              20.08   \n",
       "...                       ...            ...                ...   \n",
       "3441195                  8.85          13.67              20.40   \n",
       "3441196                  9.80          16.14              22.72   \n",
       "3441197                  9.41          14.58              21.00   \n",
       "3441198                  8.01          13.65              19.69   \n",
       "3441199                 12.12          18.59              25.87   \n",
       "\n",
       "         Temp_2_Metros_MIN  Temp_2_Metros_Pto_Congelación  \\\n",
       "0                     7.35                           7.12   \n",
       "1                     7.19                           7.03   \n",
       "2                     7.35                           7.12   \n",
       "3                     6.46                           6.87   \n",
       "4                     7.35                           7.12   \n",
       "...                    ...                            ...   \n",
       "3441195               8.55                           9.00   \n",
       "3441196               9.83                          10.43   \n",
       "3441197               9.33                           9.26   \n",
       "3441198               7.90                           8.38   \n",
       "3441199              12.44                          12.27   \n",
       "\n",
       "         Temp_2_Metros_Pto_Húmedo  Presión_Superficial  Velocidad_Viento  \\\n",
       "0                           10.21                79.30              3.91   \n",
       "1                            9.95                78.76              5.12   \n",
       "2                           10.21                79.30              3.91   \n",
       "3                            9.36                77.65              6.20   \n",
       "4                           10.21                79.30              3.91   \n",
       "...                           ...                  ...               ...   \n",
       "3441195                     11.33                79.10              2.77   \n",
       "3441196                     13.28                79.32              2.34   \n",
       "3441197                     11.92                78.10              2.77   \n",
       "3441198                     11.02                79.13              3.32   \n",
       "3441199                     15.43                81.54              1.26   \n",
       "\n",
       "         Humedad_Relativa  Precipitacion  \n",
       "0                   68.44           6.93  \n",
       "1                   69.81          13.81  \n",
       "2                   68.44           6.93  \n",
       "3                   73.94           9.15  \n",
       "4                   68.44           6.93  \n",
       "...                   ...            ...  \n",
       "3441195             75.62           1.87  \n",
       "3441196             71.25           3.85  \n",
       "3441197             72.56           4.25  \n",
       "3441198             72.31           1.38  \n",
       "3441199             70.38           1.35  \n",
       "\n",
       "[3441200 rows x 19 columns]"
      ]
     },
     "execution_count": 169,
     "metadata": {},
     "output_type": "execute_result"
    }
   ],
   "source": [
    "df = pd.read_csv(dir + 'Data_Climatic_Municipios_Clean.csv', low_memory=False)\n",
    "df.sort_values(by=['Año','Mes','Día','Estado_CVE', 'Municipio_CVE'], inplace=True)\n",
    "df.reset_index(drop=True, inplace=True)\n",
    "df"
   ]
  },
  {
   "cell_type": "markdown",
   "metadata": {},
   "source": [
    "### Creacion de DataFrame a nivel Estatal inferido de los datos municipales "
   ]
  },
  {
   "cell_type": "markdown",
   "metadata": {},
   "source": [
    "De acuerdo a las necesidades del cliente, el equipo llego a la conclusion de que la mejor manera de trabajar con los datos climaticos es a nivel estatal, por lo que se creo un DataFrame a nivel estatal con los datos de los municipios."
   ]
  },
  {
   "cell_type": "code",
   "execution_count": 170,
   "metadata": {},
   "outputs": [
    {
     "data": {
      "text/html": [
       "<div>\n",
       "<style scoped>\n",
       "    .dataframe tbody tr th:only-of-type {\n",
       "        vertical-align: middle;\n",
       "    }\n",
       "\n",
       "    .dataframe tbody tr th {\n",
       "        vertical-align: top;\n",
       "    }\n",
       "\n",
       "    .dataframe thead th {\n",
       "        text-align: right;\n",
       "    }\n",
       "</style>\n",
       "<table border=\"1\" class=\"dataframe\">\n",
       "  <thead>\n",
       "    <tr style=\"text-align: right;\">\n",
       "      <th></th>\n",
       "      <th>Año</th>\n",
       "      <th>Mes</th>\n",
       "      <th>Estado</th>\n",
       "      <th>Estado_CVE</th>\n",
       "      <th>Temp_Superficial</th>\n",
       "      <th>Temp_Superficial_MAX</th>\n",
       "      <th>Temp_Superficial_MIN</th>\n",
       "      <th>Temp_2_Metros</th>\n",
       "      <th>Temp_2_Metros_MAX</th>\n",
       "      <th>Temp_2_Metros_MIN</th>\n",
       "      <th>Temp_2_Metros_Pto_Congelación</th>\n",
       "      <th>Temp_2_Metros_Pto_Húmedo</th>\n",
       "      <th>Presión_Superficial</th>\n",
       "      <th>Velocidad_Viento</th>\n",
       "      <th>Humedad_Relativa</th>\n",
       "      <th>Precipitacion</th>\n",
       "    </tr>\n",
       "  </thead>\n",
       "  <tbody>\n",
       "    <tr>\n",
       "      <th>0</th>\n",
       "      <td>2020</td>\n",
       "      <td>1</td>\n",
       "      <td>Aguascalientes</td>\n",
       "      <td>1</td>\n",
       "      <td>11.871672</td>\n",
       "      <td>24.617947</td>\n",
       "      <td>3.252815</td>\n",
       "      <td>11.622434</td>\n",
       "      <td>19.955865</td>\n",
       "      <td>4.849208</td>\n",
       "      <td>2.336100</td>\n",
       "      <td>6.980059</td>\n",
       "      <td>79.269296</td>\n",
       "      <td>2.306334</td>\n",
       "      <td>59.219238</td>\n",
       "      <td>0.836100</td>\n",
       "    </tr>\n",
       "    <tr>\n",
       "      <th>1</th>\n",
       "      <td>2020</td>\n",
       "      <td>1</td>\n",
       "      <td>Baja California</td>\n",
       "      <td>2</td>\n",
       "      <td>11.503548</td>\n",
       "      <td>21.848387</td>\n",
       "      <td>5.296516</td>\n",
       "      <td>12.156581</td>\n",
       "      <td>19.138839</td>\n",
       "      <td>7.561161</td>\n",
       "      <td>3.232000</td>\n",
       "      <td>7.694516</td>\n",
       "      <td>96.414323</td>\n",
       "      <td>2.328968</td>\n",
       "      <td>60.059871</td>\n",
       "      <td>0.225097</td>\n",
       "    </tr>\n",
       "    <tr>\n",
       "      <th>2</th>\n",
       "      <td>2020</td>\n",
       "      <td>1</td>\n",
       "      <td>Baja California Sur</td>\n",
       "      <td>3</td>\n",
       "      <td>18.086452</td>\n",
       "      <td>27.860968</td>\n",
       "      <td>12.222968</td>\n",
       "      <td>17.575806</td>\n",
       "      <td>24.043097</td>\n",
       "      <td>13.045290</td>\n",
       "      <td>10.594581</td>\n",
       "      <td>14.085290</td>\n",
       "      <td>99.619742</td>\n",
       "      <td>2.680968</td>\n",
       "      <td>67.542323</td>\n",
       "      <td>0.050258</td>\n",
       "    </tr>\n",
       "    <tr>\n",
       "      <th>3</th>\n",
       "      <td>2020</td>\n",
       "      <td>1</td>\n",
       "      <td>Campeche</td>\n",
       "      <td>4</td>\n",
       "      <td>24.531466</td>\n",
       "      <td>30.339472</td>\n",
       "      <td>20.069032</td>\n",
       "      <td>24.493050</td>\n",
       "      <td>30.125425</td>\n",
       "      <td>19.977243</td>\n",
       "      <td>18.949589</td>\n",
       "      <td>21.721496</td>\n",
       "      <td>100.730762</td>\n",
       "      <td>0.696833</td>\n",
       "      <td>73.750880</td>\n",
       "      <td>1.040616</td>\n",
       "    </tr>\n",
       "    <tr>\n",
       "      <th>4</th>\n",
       "      <td>2020</td>\n",
       "      <td>1</td>\n",
       "      <td>Chiapas</td>\n",
       "      <td>7</td>\n",
       "      <td>20.458480</td>\n",
       "      <td>27.968901</td>\n",
       "      <td>15.246714</td>\n",
       "      <td>20.349943</td>\n",
       "      <td>26.273483</td>\n",
       "      <td>15.924568</td>\n",
       "      <td>16.362354</td>\n",
       "      <td>18.356055</td>\n",
       "      <td>91.695314</td>\n",
       "      <td>1.527048</td>\n",
       "      <td>80.520960</td>\n",
       "      <td>1.351758</td>\n",
       "    </tr>\n",
       "    <tr>\n",
       "      <th>...</th>\n",
       "      <td>...</td>\n",
       "      <td>...</td>\n",
       "      <td>...</td>\n",
       "      <td>...</td>\n",
       "      <td>...</td>\n",
       "      <td>...</td>\n",
       "      <td>...</td>\n",
       "      <td>...</td>\n",
       "      <td>...</td>\n",
       "      <td>...</td>\n",
       "      <td>...</td>\n",
       "      <td>...</td>\n",
       "      <td>...</td>\n",
       "      <td>...</td>\n",
       "      <td>...</td>\n",
       "      <td>...</td>\n",
       "    </tr>\n",
       "    <tr>\n",
       "      <th>1467</th>\n",
       "      <td>2023</td>\n",
       "      <td>10</td>\n",
       "      <td>Tamaulipas</td>\n",
       "      <td>28</td>\n",
       "      <td>25.542873</td>\n",
       "      <td>35.266069</td>\n",
       "      <td>19.147674</td>\n",
       "      <td>24.547022</td>\n",
       "      <td>30.963188</td>\n",
       "      <td>19.681215</td>\n",
       "      <td>17.522588</td>\n",
       "      <td>21.035079</td>\n",
       "      <td>96.205454</td>\n",
       "      <td>2.576077</td>\n",
       "      <td>68.954276</td>\n",
       "      <td>2.814044</td>\n",
       "    </tr>\n",
       "    <tr>\n",
       "      <th>1468</th>\n",
       "      <td>2023</td>\n",
       "      <td>10</td>\n",
       "      <td>Tlaxcala</td>\n",
       "      <td>29</td>\n",
       "      <td>15.290113</td>\n",
       "      <td>23.650790</td>\n",
       "      <td>9.515000</td>\n",
       "      <td>14.971597</td>\n",
       "      <td>20.815581</td>\n",
       "      <td>10.438403</td>\n",
       "      <td>11.728065</td>\n",
       "      <td>13.349629</td>\n",
       "      <td>76.623823</td>\n",
       "      <td>1.711016</td>\n",
       "      <td>83.134355</td>\n",
       "      <td>10.307129</td>\n",
       "    </tr>\n",
       "    <tr>\n",
       "      <th>1469</th>\n",
       "      <td>2023</td>\n",
       "      <td>10</td>\n",
       "      <td>Veracruz</td>\n",
       "      <td>30</td>\n",
       "      <td>24.580210</td>\n",
       "      <td>31.172556</td>\n",
       "      <td>20.226730</td>\n",
       "      <td>24.134035</td>\n",
       "      <td>28.654913</td>\n",
       "      <td>20.827220</td>\n",
       "      <td>20.242191</td>\n",
       "      <td>22.187728</td>\n",
       "      <td>93.911541</td>\n",
       "      <td>2.264079</td>\n",
       "      <td>80.661794</td>\n",
       "      <td>8.900584</td>\n",
       "    </tr>\n",
       "    <tr>\n",
       "      <th>1470</th>\n",
       "      <td>2023</td>\n",
       "      <td>10</td>\n",
       "      <td>Yucatán</td>\n",
       "      <td>31</td>\n",
       "      <td>27.839565</td>\n",
       "      <td>32.797638</td>\n",
       "      <td>24.157495</td>\n",
       "      <td>27.691656</td>\n",
       "      <td>32.443996</td>\n",
       "      <td>24.111659</td>\n",
       "      <td>23.106765</td>\n",
       "      <td>25.399595</td>\n",
       "      <td>100.892797</td>\n",
       "      <td>0.607775</td>\n",
       "      <td>78.530797</td>\n",
       "      <td>2.573174</td>\n",
       "    </tr>\n",
       "    <tr>\n",
       "      <th>1471</th>\n",
       "      <td>2023</td>\n",
       "      <td>10</td>\n",
       "      <td>Zacatecas</td>\n",
       "      <td>32</td>\n",
       "      <td>18.916952</td>\n",
       "      <td>30.348515</td>\n",
       "      <td>11.531646</td>\n",
       "      <td>17.939727</td>\n",
       "      <td>25.131491</td>\n",
       "      <td>12.307175</td>\n",
       "      <td>11.179894</td>\n",
       "      <td>14.559739</td>\n",
       "      <td>80.038231</td>\n",
       "      <td>2.085445</td>\n",
       "      <td>69.505723</td>\n",
       "      <td>4.207948</td>\n",
       "    </tr>\n",
       "  </tbody>\n",
       "</table>\n",
       "<p>1472 rows × 16 columns</p>\n",
       "</div>"
      ],
      "text/plain": [
       "       Año  Mes               Estado  Estado_CVE  Temp_Superficial  \\\n",
       "0     2020    1       Aguascalientes           1         11.871672   \n",
       "1     2020    1      Baja California           2         11.503548   \n",
       "2     2020    1  Baja California Sur           3         18.086452   \n",
       "3     2020    1             Campeche           4         24.531466   \n",
       "4     2020    1              Chiapas           7         20.458480   \n",
       "...    ...  ...                  ...         ...               ...   \n",
       "1467  2023   10           Tamaulipas          28         25.542873   \n",
       "1468  2023   10             Tlaxcala          29         15.290113   \n",
       "1469  2023   10             Veracruz          30         24.580210   \n",
       "1470  2023   10              Yucatán          31         27.839565   \n",
       "1471  2023   10            Zacatecas          32         18.916952   \n",
       "\n",
       "      Temp_Superficial_MAX  Temp_Superficial_MIN  Temp_2_Metros  \\\n",
       "0                24.617947              3.252815      11.622434   \n",
       "1                21.848387              5.296516      12.156581   \n",
       "2                27.860968             12.222968      17.575806   \n",
       "3                30.339472             20.069032      24.493050   \n",
       "4                27.968901             15.246714      20.349943   \n",
       "...                    ...                   ...            ...   \n",
       "1467             35.266069             19.147674      24.547022   \n",
       "1468             23.650790              9.515000      14.971597   \n",
       "1469             31.172556             20.226730      24.134035   \n",
       "1470             32.797638             24.157495      27.691656   \n",
       "1471             30.348515             11.531646      17.939727   \n",
       "\n",
       "      Temp_2_Metros_MAX  Temp_2_Metros_MIN  Temp_2_Metros_Pto_Congelación  \\\n",
       "0             19.955865           4.849208                       2.336100   \n",
       "1             19.138839           7.561161                       3.232000   \n",
       "2             24.043097          13.045290                      10.594581   \n",
       "3             30.125425          19.977243                      18.949589   \n",
       "4             26.273483          15.924568                      16.362354   \n",
       "...                 ...                ...                            ...   \n",
       "1467          30.963188          19.681215                      17.522588   \n",
       "1468          20.815581          10.438403                      11.728065   \n",
       "1469          28.654913          20.827220                      20.242191   \n",
       "1470          32.443996          24.111659                      23.106765   \n",
       "1471          25.131491          12.307175                      11.179894   \n",
       "\n",
       "      Temp_2_Metros_Pto_Húmedo  Presión_Superficial  Velocidad_Viento  \\\n",
       "0                     6.980059            79.269296          2.306334   \n",
       "1                     7.694516            96.414323          2.328968   \n",
       "2                    14.085290            99.619742          2.680968   \n",
       "3                    21.721496           100.730762          0.696833   \n",
       "4                    18.356055            91.695314          1.527048   \n",
       "...                        ...                  ...               ...   \n",
       "1467                 21.035079            96.205454          2.576077   \n",
       "1468                 13.349629            76.623823          1.711016   \n",
       "1469                 22.187728            93.911541          2.264079   \n",
       "1470                 25.399595           100.892797          0.607775   \n",
       "1471                 14.559739            80.038231          2.085445   \n",
       "\n",
       "      Humedad_Relativa  Precipitacion  \n",
       "0            59.219238       0.836100  \n",
       "1            60.059871       0.225097  \n",
       "2            67.542323       0.050258  \n",
       "3            73.750880       1.040616  \n",
       "4            80.520960       1.351758  \n",
       "...                ...            ...  \n",
       "1467         68.954276       2.814044  \n",
       "1468         83.134355      10.307129  \n",
       "1469         80.661794       8.900584  \n",
       "1470         78.530797       2.573174  \n",
       "1471         69.505723       4.207948  \n",
       "\n",
       "[1472 rows x 16 columns]"
      ]
     },
     "execution_count": 170,
     "metadata": {},
     "output_type": "execute_result"
    }
   ],
   "source": [
    "### Crea Dataframe Estatal inferido a partir del Municipal\n",
    "df_estatal = df.groupby(['Año','Mes','Estado', 'Estado_CVE']).mean().reset_index()\n",
    "df_estatal.drop(columns=['Municipio_CVE','Día'], inplace=True)\n",
    "df_estatal"
   ]
  },
  {
   "cell_type": "markdown",
   "metadata": {},
   "source": [
    "### Descripcion solo de las variables numericas"
   ]
  },
  {
   "cell_type": "code",
   "execution_count": 172,
   "metadata": {},
   "outputs": [
    {
     "data": {
      "text/html": [
       "<div>\n",
       "<style scoped>\n",
       "    .dataframe tbody tr th:only-of-type {\n",
       "        vertical-align: middle;\n",
       "    }\n",
       "\n",
       "    .dataframe tbody tr th {\n",
       "        vertical-align: top;\n",
       "    }\n",
       "\n",
       "    .dataframe thead th {\n",
       "        text-align: right;\n",
       "    }\n",
       "</style>\n",
       "<table border=\"1\" class=\"dataframe\">\n",
       "  <thead>\n",
       "    <tr style=\"text-align: right;\">\n",
       "      <th></th>\n",
       "      <th>Temp_Superficial</th>\n",
       "      <th>Temp_Superficial_MAX</th>\n",
       "      <th>Temp_Superficial_MIN</th>\n",
       "      <th>Temp_2_Metros</th>\n",
       "      <th>Temp_2_Metros_MAX</th>\n",
       "      <th>Temp_2_Metros_MIN</th>\n",
       "      <th>Temp_2_Metros_Pto_Congelación</th>\n",
       "      <th>Temp_2_Metros_Pto_Húmedo</th>\n",
       "      <th>Presión_Superficial</th>\n",
       "      <th>Velocidad_Viento</th>\n",
       "      <th>Humedad_Relativa</th>\n",
       "      <th>Precipitacion</th>\n",
       "    </tr>\n",
       "  </thead>\n",
       "  <tbody>\n",
       "    <tr>\n",
       "      <th>count</th>\n",
       "      <td>1472.000000</td>\n",
       "      <td>1472.000000</td>\n",
       "      <td>1472.000000</td>\n",
       "      <td>1472.000000</td>\n",
       "      <td>1472.000000</td>\n",
       "      <td>1472.000000</td>\n",
       "      <td>1472.000000</td>\n",
       "      <td>1472.000000</td>\n",
       "      <td>1472.000000</td>\n",
       "      <td>1472.000000</td>\n",
       "      <td>1472.000000</td>\n",
       "      <td>1472.000000</td>\n",
       "    </tr>\n",
       "    <tr>\n",
       "      <th>mean</th>\n",
       "      <td>22.013029</td>\n",
       "      <td>32.859709</td>\n",
       "      <td>14.363630</td>\n",
       "      <td>21.124783</td>\n",
       "      <td>28.166155</td>\n",
       "      <td>15.455790</td>\n",
       "      <td>11.776865</td>\n",
       "      <td>16.450818</td>\n",
       "      <td>88.734345</td>\n",
       "      <td>1.847348</td>\n",
       "      <td>62.334582</td>\n",
       "      <td>2.580671</td>\n",
       "    </tr>\n",
       "    <tr>\n",
       "      <th>std</th>\n",
       "      <td>5.073739</td>\n",
       "      <td>5.209239</td>\n",
       "      <td>6.225044</td>\n",
       "      <td>4.753899</td>\n",
       "      <td>4.184188</td>\n",
       "      <td>5.586824</td>\n",
       "      <td>7.225245</td>\n",
       "      <td>5.604649</td>\n",
       "      <td>7.800812</td>\n",
       "      <td>0.611161</td>\n",
       "      <td>15.394474</td>\n",
       "      <td>3.276291</td>\n",
       "    </tr>\n",
       "    <tr>\n",
       "      <th>min</th>\n",
       "      <td>7.305806</td>\n",
       "      <td>18.892065</td>\n",
       "      <td>-1.774579</td>\n",
       "      <td>7.814299</td>\n",
       "      <td>16.196774</td>\n",
       "      <td>0.802412</td>\n",
       "      <td>-9.865272</td>\n",
       "      <td>0.272277</td>\n",
       "      <td>75.433460</td>\n",
       "      <td>0.411409</td>\n",
       "      <td>20.651204</td>\n",
       "      <td>0.000000</td>\n",
       "    </tr>\n",
       "    <tr>\n",
       "      <th>25%</th>\n",
       "      <td>18.519838</td>\n",
       "      <td>29.085022</td>\n",
       "      <td>9.695081</td>\n",
       "      <td>17.776948</td>\n",
       "      <td>25.245562</td>\n",
       "      <td>11.191272</td>\n",
       "      <td>6.314761</td>\n",
       "      <td>12.428520</td>\n",
       "      <td>82.348073</td>\n",
       "      <td>1.418371</td>\n",
       "      <td>50.891138</td>\n",
       "      <td>0.269087</td>\n",
       "    </tr>\n",
       "    <tr>\n",
       "      <th>50%</th>\n",
       "      <td>22.347306</td>\n",
       "      <td>31.934887</td>\n",
       "      <td>14.125348</td>\n",
       "      <td>21.191541</td>\n",
       "      <td>28.139136</td>\n",
       "      <td>15.241894</td>\n",
       "      <td>12.027976</td>\n",
       "      <td>16.527848</td>\n",
       "      <td>89.302300</td>\n",
       "      <td>1.815252</td>\n",
       "      <td>62.217004</td>\n",
       "      <td>1.225591</td>\n",
       "    </tr>\n",
       "    <tr>\n",
       "      <th>75%</th>\n",
       "      <td>25.818232</td>\n",
       "      <td>36.784256</td>\n",
       "      <td>19.421538</td>\n",
       "      <td>24.674445</td>\n",
       "      <td>31.068161</td>\n",
       "      <td>19.970326</td>\n",
       "      <td>17.346413</td>\n",
       "      <td>21.196055</td>\n",
       "      <td>94.741315</td>\n",
       "      <td>2.275370</td>\n",
       "      <td>75.236117</td>\n",
       "      <td>3.886939</td>\n",
       "    </tr>\n",
       "    <tr>\n",
       "      <th>max</th>\n",
       "      <td>33.525097</td>\n",
       "      <td>46.667226</td>\n",
       "      <td>26.960485</td>\n",
       "      <td>31.925758</td>\n",
       "      <td>39.203212</td>\n",
       "      <td>27.030588</td>\n",
       "      <td>25.926727</td>\n",
       "      <td>27.158328</td>\n",
       "      <td>101.463470</td>\n",
       "      <td>3.633549</td>\n",
       "      <td>92.658999</td>\n",
       "      <td>28.186566</td>\n",
       "    </tr>\n",
       "  </tbody>\n",
       "</table>\n",
       "</div>"
      ],
      "text/plain": [
       "       Temp_Superficial  Temp_Superficial_MAX  Temp_Superficial_MIN  \\\n",
       "count       1472.000000           1472.000000           1472.000000   \n",
       "mean          22.013029             32.859709             14.363630   \n",
       "std            5.073739              5.209239              6.225044   \n",
       "min            7.305806             18.892065             -1.774579   \n",
       "25%           18.519838             29.085022              9.695081   \n",
       "50%           22.347306             31.934887             14.125348   \n",
       "75%           25.818232             36.784256             19.421538   \n",
       "max           33.525097             46.667226             26.960485   \n",
       "\n",
       "       Temp_2_Metros  Temp_2_Metros_MAX  Temp_2_Metros_MIN  \\\n",
       "count    1472.000000        1472.000000        1472.000000   \n",
       "mean       21.124783          28.166155          15.455790   \n",
       "std         4.753899           4.184188           5.586824   \n",
       "min         7.814299          16.196774           0.802412   \n",
       "25%        17.776948          25.245562          11.191272   \n",
       "50%        21.191541          28.139136          15.241894   \n",
       "75%        24.674445          31.068161          19.970326   \n",
       "max        31.925758          39.203212          27.030588   \n",
       "\n",
       "       Temp_2_Metros_Pto_Congelación  Temp_2_Metros_Pto_Húmedo  \\\n",
       "count                    1472.000000               1472.000000   \n",
       "mean                       11.776865                 16.450818   \n",
       "std                         7.225245                  5.604649   \n",
       "min                        -9.865272                  0.272277   \n",
       "25%                         6.314761                 12.428520   \n",
       "50%                        12.027976                 16.527848   \n",
       "75%                        17.346413                 21.196055   \n",
       "max                        25.926727                 27.158328   \n",
       "\n",
       "       Presión_Superficial  Velocidad_Viento  Humedad_Relativa  Precipitacion  \n",
       "count          1472.000000       1472.000000       1472.000000    1472.000000  \n",
       "mean             88.734345          1.847348         62.334582       2.580671  \n",
       "std               7.800812          0.611161         15.394474       3.276291  \n",
       "min              75.433460          0.411409         20.651204       0.000000  \n",
       "25%              82.348073          1.418371         50.891138       0.269087  \n",
       "50%              89.302300          1.815252         62.217004       1.225591  \n",
       "75%              94.741315          2.275370         75.236117       3.886939  \n",
       "max             101.463470          3.633549         92.658999      28.186566  "
      ]
     },
     "execution_count": 172,
     "metadata": {},
     "output_type": "execute_result"
    }
   ],
   "source": [
    "columnas_numericas = ['Temp_Superficial','Temp_Superficial_MAX','Temp_Superficial_MIN','Temp_2_Metros','Temp_2_Metros_MAX','Temp_2_Metros_MIN','Temp_2_Metros_Pto_Congelación','Temp_2_Metros_Pto_Húmedo','Presión_Superficial','Velocidad_Viento','Humedad_Relativa','Precipitacion']\n",
    "df_estatal[columnas_numericas].describe()"
   ]
  },
  {
   "cell_type": "code",
   "execution_count": 173,
   "metadata": {},
   "outputs": [
    {
     "name": "stdout",
     "output_type": "stream",
     "text": [
      "<class 'pandas.core.frame.DataFrame'>\n",
      "RangeIndex: 1472 entries, 0 to 1471\n",
      "Data columns (total 16 columns):\n",
      " #   Column                         Non-Null Count  Dtype  \n",
      "---  ------                         --------------  -----  \n",
      " 0   Año                            1472 non-null   int64  \n",
      " 1   Mes                            1472 non-null   int64  \n",
      " 2   Estado                         1472 non-null   object \n",
      " 3   Estado_CVE                     1472 non-null   int64  \n",
      " 4   Temp_Superficial               1472 non-null   float64\n",
      " 5   Temp_Superficial_MAX           1472 non-null   float64\n",
      " 6   Temp_Superficial_MIN           1472 non-null   float64\n",
      " 7   Temp_2_Metros                  1472 non-null   float64\n",
      " 8   Temp_2_Metros_MAX              1472 non-null   float64\n",
      " 9   Temp_2_Metros_MIN              1472 non-null   float64\n",
      " 10  Temp_2_Metros_Pto_Congelación  1472 non-null   float64\n",
      " 11  Temp_2_Metros_Pto_Húmedo       1472 non-null   float64\n",
      " 12  Presión_Superficial            1472 non-null   float64\n",
      " 13  Velocidad_Viento               1472 non-null   float64\n",
      " 14  Humedad_Relativa               1472 non-null   float64\n",
      " 15  Precipitacion                  1472 non-null   float64\n",
      "dtypes: float64(12), int64(3), object(1)\n",
      "memory usage: 184.1+ KB\n"
     ]
    }
   ],
   "source": [
    "df_estatal.info()"
   ]
  },
  {
   "cell_type": "markdown",
   "metadata": {},
   "source": [
    "### Plot por Variable/Año/Meses para cada estado\n",
    "Añadimos un wiget para poder seleccionar la variable que se desea visualizar ya que plotly tiene dificultad a la hora de mostrar mas varios graficos a la vez."
   ]
  },
  {
   "cell_type": "code",
   "execution_count": 198,
   "metadata": {},
   "outputs": [
    {
     "data": {
      "application/vnd.plotly.v1+json": {
       "config": {
        "plotlyServerURL": "https://plot.ly"
       },
       "data": [
        {
         "hovertemplate": "Estado=Aguascalientes<br>Año=2020<br>Meses=%{x}<br>Temp_Superficial=%{y}<extra></extra>",
         "legendgroup": "Aguascalientes",
         "line": {
          "color": "#F8766D",
          "dash": "solid"
         },
         "marker": {
          "symbol": "circle"
         },
         "mode": "lines",
         "name": "Aguascalientes",
         "showlegend": true,
         "type": "scattergl",
         "x": [
          1,
          2,
          3,
          4,
          5,
          6,
          7,
          8,
          9,
          10,
          11,
          12
         ],
         "xaxis": "x",
         "y": [
          11.871671554252199,
          14.60153605015674,
          20.3016715542522,
          21.978333333333335,
          22.865395894428154,
          23.88169696969697,
          22.03882697947214,
          20.999853372434018,
          19.887575757575757,
          18.081788856304986,
          15.520333333333333,
          12.67008797653959
         ],
         "yaxis": "y"
        },
        {
         "hovertemplate": "Estado=Aguascalientes<br>Año=2021<br>Meses=%{x}<br>Temp_Superficial=%{y}<extra></extra>",
         "legendgroup": "Aguascalientes",
         "line": {
          "color": "#F8766D",
          "dash": "solid"
         },
         "marker": {
          "symbol": "circle"
         },
         "mode": "lines",
         "name": "Aguascalientes",
         "showlegend": false,
         "type": "scattergl",
         "x": [
          1,
          2,
          3,
          4,
          5,
          6,
          7,
          8,
          9,
          10,
          11,
          12
         ],
         "xaxis": "x2",
         "y": [
          12.467390029325513,
          14.761428571428572,
          19.11615835777126,
          21.727878787878787,
          23.435953079178883,
          21.55630303030303,
          20.128357771260998,
          20.36659824046921,
          18.750757575757575,
          18.17982404692082,
          14.618515151515151,
          13.04724340175953
         ],
         "yaxis": "y2"
        },
        {
         "hovertemplate": "Estado=Aguascalientes<br>Año=2022<br>Meses=%{x}<br>Temp_Superficial=%{y}<extra></extra>",
         "legendgroup": "Aguascalientes",
         "line": {
          "color": "#F8766D",
          "dash": "solid"
         },
         "marker": {
          "symbol": "circle"
         },
         "mode": "lines",
         "name": "Aguascalientes",
         "showlegend": false,
         "type": "scattergl",
         "x": [
          1,
          2,
          3,
          4,
          5,
          6,
          7,
          8,
          9,
          10,
          11,
          12
         ],
         "xaxis": "x3",
         "y": [
          12.609120234604106,
          14.337305194805197,
          16.631085043988268,
          21.255363636363636,
          24.435014662756597,
          23.642848484848486,
          22.27624633431085,
          21.438621700879764,
          19.70148484848485,
          17.808768328445748,
          15.604151515151514,
          12.830117302052786
         ],
         "yaxis": "y3"
        },
        {
         "hovertemplate": "Estado=Aguascalientes<br>Año=2023<br>Meses=%{x}<br>Temp_Superficial=%{y}<extra></extra>",
         "legendgroup": "Aguascalientes",
         "line": {
          "color": "#F8766D",
          "dash": "solid"
         },
         "marker": {
          "symbol": "circle"
         },
         "mode": "lines",
         "name": "Aguascalientes",
         "showlegend": false,
         "type": "scattergl",
         "x": [
          1,
          2,
          3,
          4,
          5,
          6,
          7,
          8,
          9,
          10
         ],
         "xaxis": "x4",
         "y": [
          12.452228739002933,
          15.459577922077923,
          18.721466275659825,
          21.03842424242424,
          22.343636363636364,
          26.011,
          23.258299120234604,
          22.10689149560117,
          22.401363636363637,
          18.888709677419357
         ],
         "yaxis": "y4"
        },
        {
         "hovertemplate": "Estado=Baja California<br>Año=2020<br>Meses=%{x}<br>Temp_Superficial=%{y}<extra></extra>",
         "legendgroup": "Baja California",
         "line": {
          "color": "#A3A500",
          "dash": "solid"
         },
         "marker": {
          "symbol": "circle"
         },
         "mode": "lines",
         "name": "Baja California",
         "showlegend": true,
         "type": "scattergl",
         "x": [
          1,
          2,
          3,
          4,
          5,
          6,
          7,
          8,
          9,
          10,
          11,
          12
         ],
         "xaxis": "x",
         "y": [
          11.503548387096775,
          12.759586206896552,
          14.040322580645162,
          18.074266666666666,
          23.406193548387098,
          24.684866666666668,
          28.890451612903224,
          30.81290322580645,
          28.3384,
          23.408451612903225,
          16.16626666666667,
          11.785677419354839
         ],
         "yaxis": "y"
        },
        {
         "hovertemplate": "Estado=Baja California<br>Año=2021<br>Meses=%{x}<br>Temp_Superficial=%{y}<extra></extra>",
         "legendgroup": "Baja California",
         "line": {
          "color": "#A3A500",
          "dash": "solid"
         },
         "marker": {
          "symbol": "circle"
         },
         "mode": "lines",
         "name": "Baja California",
         "showlegend": false,
         "type": "scattergl",
         "x": [
          1,
          2,
          3,
          4,
          5,
          6,
          7,
          8,
          9,
          10,
          11,
          12
         ],
         "xaxis": "x2",
         "y": [
          11.614774193548387,
          13.001857142857142,
          13.746451612903225,
          19.302466666666668,
          21.571612903225805,
          27.465,
          30.303161290322578,
          29.818516129032258,
          27.382266666666666,
          19.831806451612902,
          18.074266666666666,
          12.33574193548387
         ],
         "yaxis": "y2"
        },
        {
         "hovertemplate": "Estado=Baja California<br>Año=2022<br>Meses=%{x}<br>Temp_Superficial=%{y}<extra></extra>",
         "legendgroup": "Baja California",
         "line": {
          "color": "#A3A500",
          "dash": "solid"
         },
         "marker": {
          "symbol": "circle"
         },
         "mode": "lines",
         "name": "Baja California",
         "showlegend": false,
         "type": "scattergl",
         "x": [
          1,
          2,
          3,
          4,
          5,
          6,
          7,
          8,
          9,
          10,
          11,
          12
         ],
         "xaxis": "x3",
         "y": [
          11.62941935483871,
          11.786428571428571,
          15.888516129032256,
          19.3614,
          21.843225806451613,
          27.7986,
          29.120838709677418,
          30.86509677419355,
          26.94673333333333,
          21.96909677419355,
          13.1384,
          11.446064516129033
         ],
         "yaxis": "y3"
        },
        {
         "hovertemplate": "Estado=Baja California<br>Año=2023<br>Meses=%{x}<br>Temp_Superficial=%{y}<extra></extra>",
         "legendgroup": "Baja California",
         "line": {
          "color": "#A3A500",
          "dash": "solid"
         },
         "marker": {
          "symbol": "circle"
         },
         "mode": "lines",
         "name": "Baja California",
         "showlegend": false,
         "type": "scattergl",
         "x": [
          1,
          2,
          3,
          4,
          5,
          6,
          7,
          8,
          9,
          10
         ],
         "xaxis": "x4",
         "y": [
          10.409161290322581,
          10.051142857142858,
          12.990709677419355,
          17.84626666666667,
          20.180387096774194,
          22.8476,
          30.217225806451612,
          28.747999999999998,
          24.4012,
          21.732129032258065
         ],
         "yaxis": "y4"
        },
        {
         "hovertemplate": "Estado=Baja California Sur<br>Año=2020<br>Meses=%{x}<br>Temp_Superficial=%{y}<extra></extra>",
         "legendgroup": "Baja California Sur",
         "line": {
          "color": "#00BF7D",
          "dash": "solid"
         },
         "marker": {
          "symbol": "circle"
         },
         "mode": "lines",
         "name": "Baja California Sur",
         "showlegend": true,
         "type": "scattergl",
         "x": [
          1,
          2,
          3,
          4,
          5,
          6,
          7,
          8,
          9,
          10,
          11,
          12
         ],
         "xaxis": "x",
         "y": [
          18.086451612903225,
          18.92813793103448,
          20.730967741935483,
          23.893066666666666,
          27.766709677419357,
          30.84933333333333,
          33.482064516129036,
          33.31929032258064,
          32.71273333333333,
          30.066064516129032,
          25.368466666666666,
          19.528580645161288
         ],
         "yaxis": "y"
        },
        {
         "hovertemplate": "Estado=Baja California Sur<br>Año=2021<br>Meses=%{x}<br>Temp_Superficial=%{y}<extra></extra>",
         "legendgroup": "Baja California Sur",
         "line": {
          "color": "#00BF7D",
          "dash": "solid"
         },
         "marker": {
          "symbol": "circle"
         },
         "mode": "lines",
         "name": "Baja California Sur",
         "showlegend": false,
         "type": "scattergl",
         "x": [
          1,
          2,
          3,
          4,
          5,
          6,
          7,
          8,
          9,
          10,
          11,
          12
         ],
         "xaxis": "x2",
         "y": [
          18.283870967741937,
          19.875714285714285,
          21.504709677419356,
          25.162466666666667,
          27.571419354838707,
          30.996866666666666,
          33.190064516129034,
          32.86690322580645,
          30.8454,
          28.128580645161293,
          24.978866666666665,
          21.580000000000002
         ],
         "yaxis": "y2"
        },
        {
         "hovertemplate": "Estado=Baja California Sur<br>Año=2022<br>Meses=%{x}<br>Temp_Superficial=%{y}<extra></extra>",
         "legendgroup": "Baja California Sur",
         "line": {
          "color": "#00BF7D",
          "dash": "solid"
         },
         "marker": {
          "symbol": "circle"
         },
         "mode": "lines",
         "name": "Baja California Sur",
         "showlegend": false,
         "type": "scattergl",
         "x": [
          1,
          2,
          3,
          4,
          5,
          6,
          7,
          8,
          9,
          10,
          11,
          12
         ],
         "xaxis": "x3",
         "y": [
          19.737354838709678,
          19.508928571428573,
          22.294838709677418,
          25.284733333333335,
          27.270774193548387,
          31.09913333333333,
          33.096000000000004,
          32.568387096774195,
          29.687,
          26.888193548387097,
          22.182266666666667,
          20.11716129032258
         ],
         "yaxis": "y3"
        },
        {
         "hovertemplate": "Estado=Baja California Sur<br>Año=2023<br>Meses=%{x}<br>Temp_Superficial=%{y}<extra></extra>",
         "legendgroup": "Baja California Sur",
         "line": {
          "color": "#00BF7D",
          "dash": "solid"
         },
         "marker": {
          "symbol": "circle"
         },
         "mode": "lines",
         "name": "Baja California Sur",
         "showlegend": false,
         "type": "scattergl",
         "x": [
          1,
          2,
          3,
          4,
          5,
          6,
          7,
          8,
          9,
          10
         ],
         "xaxis": "x4",
         "y": [
          18.50632258064516,
          18.345714285714287,
          21.886709677419354,
          24.258,
          25.150129032258064,
          29.837333333333337,
          33.52509677419355,
          33.38129032258065,
          32.1012,
          29.09116129032258
         ],
         "yaxis": "y4"
        },
        {
         "hovertemplate": "Estado=Campeche<br>Año=2020<br>Meses=%{x}<br>Temp_Superficial=%{y}<extra></extra>",
         "legendgroup": "Campeche",
         "line": {
          "color": "#00B0F6",
          "dash": "solid"
         },
         "marker": {
          "symbol": "circle"
         },
         "mode": "lines",
         "name": "Campeche",
         "showlegend": true,
         "type": "scattergl",
         "x": [
          1,
          2,
          3,
          4,
          5,
          6,
          7,
          8,
          9,
          10,
          11,
          12
         ],
         "xaxis": "x",
         "y": [
          24.531466275659824,
          26.24335423197492,
          28.61052785923754,
          32.096090909090904,
          29.537947214076247,
          26.749969696969696,
          26.939882697947215,
          27.107829912023462,
          26.90415151515152,
          25.81765395894428,
          24.515636363636364,
          22.421026392961878
         ],
         "yaxis": "y"
        },
        {
         "hovertemplate": "Estado=Campeche<br>Año=2021<br>Meses=%{x}<br>Temp_Superficial=%{y}<extra></extra>",
         "legendgroup": "Campeche",
         "line": {
          "color": "#00B0F6",
          "dash": "solid"
         },
         "marker": {
          "symbol": "circle"
         },
         "mode": "lines",
         "name": "Campeche",
         "showlegend": false,
         "type": "scattergl",
         "x": [
          1,
          2,
          3,
          4,
          5,
          6,
          7,
          8,
          9,
          10,
          11,
          12
         ],
         "xaxis": "x2",
         "y": [
          23.362287390029326,
          24.987532467532468,
          27.89718475073314,
          30.512424242424242,
          29.535718475073313,
          27.77672727272727,
          27.368944281524925,
          27.594369501466275,
          26.985030303030303,
          26.952140762463344,
          24.662484848484848,
          25.473225806451616
         ],
         "yaxis": "y2"
        },
        {
         "hovertemplate": "Estado=Campeche<br>Año=2022<br>Meses=%{x}<br>Temp_Superficial=%{y}<extra></extra>",
         "legendgroup": "Campeche",
         "line": {
          "color": "#00B0F6",
          "dash": "solid"
         },
         "marker": {
          "symbol": "circle"
         },
         "mode": "lines",
         "name": "Campeche",
         "showlegend": false,
         "type": "scattergl",
         "x": [
          1,
          2,
          3,
          4,
          5,
          6,
          7,
          8,
          9,
          10,
          11,
          12
         ],
         "xaxis": "x3",
         "y": [
          23.83149560117302,
          24.91262987012987,
          27.173460410557183,
          29.392242424242426,
          29.967859237536658,
          26.777848484848487,
          27.141935483870967,
          26.9591495601173,
          26.312212121212124,
          25.527478005865106,
          25.52439393939394,
          24.45093841642229
         ],
         "yaxis": "y3"
        },
        {
         "hovertemplate": "Estado=Campeche<br>Año=2023<br>Meses=%{x}<br>Temp_Superficial=%{y}<extra></extra>",
         "legendgroup": "Campeche",
         "line": {
          "color": "#00B0F6",
          "dash": "solid"
         },
         "marker": {
          "symbol": "circle"
         },
         "mode": "lines",
         "name": "Campeche",
         "showlegend": false,
         "type": "scattergl",
         "x": [
          1,
          2,
          3,
          4,
          5,
          6,
          7,
          8,
          9,
          10
         ],
         "xaxis": "x4",
         "y": [
          24.924868035190613,
          26.16431818181818,
          28.622052785923756,
          30.696757575757577,
          31.74733137829912,
          31.81451515151515,
          30.31043988269795,
          30.516275659824046,
          29.44612121212121,
          27.958797653958946
         ],
         "yaxis": "y4"
        },
        {
         "hovertemplate": "Estado=Chiapas<br>Año=2020<br>Meses=%{x}<br>Temp_Superficial=%{y}<extra></extra>",
         "legendgroup": "Chiapas",
         "line": {
          "color": "#E76BF3",
          "dash": "solid"
         },
         "marker": {
          "symbol": "circle"
         },
         "mode": "lines",
         "name": "Chiapas",
         "showlegend": true,
         "type": "scattergl",
         "x": [
          1,
          2,
          3,
          4,
          5,
          6,
          7,
          8,
          9,
          10,
          11,
          12
         ],
         "xaxis": "x",
         "y": [
          20.458480043739748,
          21.748421975452953,
          23.774907053034447,
          26.750858757062144,
          25.306722252597048,
          23.187375706214688,
          23.17777200656096,
          22.96686987424822,
          22.749830508474574,
          21.786776927282666,
          21.001977401129942,
          19.28907326407873
         ],
         "yaxis": "y"
        },
        {
         "hovertemplate": "Estado=Chiapas<br>Año=2021<br>Meses=%{x}<br>Temp_Superficial=%{y}<extra></extra>",
         "legendgroup": "Chiapas",
         "line": {
          "color": "#E76BF3",
          "dash": "solid"
         },
         "marker": {
          "symbol": "circle"
         },
         "mode": "lines",
         "name": "Chiapas",
         "showlegend": false,
         "type": "scattergl",
         "x": [
          1,
          2,
          3,
          4,
          5,
          6,
          7,
          8,
          9,
          10,
          11,
          12
         ],
         "xaxis": "x2",
         "y": [
          20.217621651175506,
          20.471125907990317,
          22.90476216511755,
          25.235522598870055,
          24.444379442318205,
          23.40650282485876,
          23.11120557681793,
          22.936880809185347,
          23.010209039548023,
          22.62098141060689,
          19.926062146892654,
          20.519926189174413
         ],
         "yaxis": "y2"
        },
        {
         "hovertemplate": "Estado=Chiapas<br>Año=2022<br>Meses=%{x}<br>Temp_Superficial=%{y}<extra></extra>",
         "legendgroup": "Chiapas",
         "line": {
          "color": "#E76BF3",
          "dash": "solid"
         },
         "marker": {
          "symbol": "circle"
         },
         "mode": "lines",
         "name": "Chiapas",
         "showlegend": false,
         "type": "scattergl",
         "x": [
          1,
          2,
          3,
          4,
          5,
          6,
          7,
          8,
          9,
          10,
          11,
          12
         ],
         "xaxis": "x3",
         "y": [
          19.742599781301255,
          20.5727784503632,
          22.81923182066703,
          24.988084745762713,
          24.95491798797157,
          22.60316101694915,
          23.15415527610716,
          22.8724931656643,
          22.51291525423729,
          21.822553307818477,
          21.30982768361582,
          19.92770639693822
         ],
         "yaxis": "y3"
        },
        {
         "hovertemplate": "Estado=Chiapas<br>Año=2023<br>Meses=%{x}<br>Temp_Superficial=%{y}<extra></extra>",
         "legendgroup": "Chiapas",
         "line": {
          "color": "#E76BF3",
          "dash": "solid"
         },
         "marker": {
          "symbol": "circle"
         },
         "mode": "lines",
         "name": "Chiapas",
         "showlegend": false,
         "type": "scattergl",
         "x": [
          1,
          2,
          3,
          4,
          5,
          6,
          7,
          8,
          9,
          10
         ],
         "xaxis": "x4",
         "y": [
          20.17875068343357,
          21.148777239709442,
          23.58755877528704,
          25.623946327683615,
          26.96473482777474,
          26.659200564971755,
          24.110951339529798,
          24.209803171131767,
          23.87672881355932,
          22.790757244395845
         ],
         "yaxis": "y4"
        },
        {
         "hovertemplate": "Estado=Chihuahua<br>Año=2020<br>Meses=%{x}<br>Temp_Superficial=%{y}<extra></extra>",
         "legendgroup": "Chihuahua",
         "line": {
          "color": "#F8766D",
          "dash": "solid"
         },
         "marker": {
          "symbol": "circle"
         },
         "mode": "lines",
         "name": "Chihuahua",
         "showlegend": true,
         "type": "scattergl",
         "x": [
          1,
          2,
          3,
          4,
          5,
          6,
          7,
          8,
          9,
          10,
          11,
          12
         ],
         "xaxis": "x",
         "y": [
          8.274217621569571,
          9.901893978383942,
          14.922623976889746,
          19.0148407960199,
          24.484535387578237,
          27.806358208955224,
          26.701940298507463,
          27.24949446316803,
          21.911572139303484,
          19.181242176215697,
          14.691716417910447,
          7.305806451612903
         ],
         "yaxis": "y"
        },
        {
         "hovertemplate": "Estado=Chihuahua<br>Año=2021<br>Meses=%{x}<br>Temp_Superficial=%{y}<extra></extra>",
         "legendgroup": "Chihuahua",
         "line": {
          "color": "#F8766D",
          "dash": "solid"
         },
         "marker": {
          "symbol": "circle"
         },
         "mode": "lines",
         "name": "Chihuahua",
         "showlegend": false,
         "type": "scattergl",
         "x": [
          1,
          2,
          3,
          4,
          5,
          6,
          7,
          8,
          9,
          10,
          11,
          12
         ],
         "xaxis": "x2",
         "y": [
          7.5905247953779496,
          11.245341151385926,
          13.899855560905152,
          19.462278606965175,
          23.8164756860857,
          27.656437810945274,
          24.41249398170438,
          23.77608570052961,
          22.434810945273632,
          18.771742898411173,
          14.290099502487562,
          11.579128550794413
         ],
         "yaxis": "y2"
        },
        {
         "hovertemplate": "Estado=Chihuahua<br>Año=2022<br>Meses=%{x}<br>Temp_Superficial=%{y}<extra></extra>",
         "legendgroup": "Chihuahua",
         "line": {
          "color": "#F8766D",
          "dash": "solid"
         },
         "marker": {
          "symbol": "circle"
         },
         "mode": "lines",
         "name": "Chihuahua",
         "showlegend": false,
         "type": "scattergl",
         "x": [
          1,
          2,
          3,
          4,
          5,
          6,
          7,
          8,
          9,
          10,
          11,
          12
         ],
         "xaxis": "x3",
         "y": [
          8.833668753009148,
          9.242574626865672,
          13.741829561868078,
          20.551273631840793,
          25.027250842561386,
          27.52952736318408,
          26.825536831969185,
          23.864650938854115,
          21.346701492537314,
          16.496071256620127,
          10.491646766169154,
          9.441545498314877
         ],
         "yaxis": "y3"
        },
        {
         "hovertemplate": "Estado=Chihuahua<br>Año=2023<br>Meses=%{x}<br>Temp_Superficial=%{y}<extra></extra>",
         "legendgroup": "Chihuahua",
         "line": {
          "color": "#F8766D",
          "dash": "solid"
         },
         "marker": {
          "symbol": "circle"
         },
         "mode": "lines",
         "name": "Chihuahua",
         "showlegend": false,
         "type": "scattergl",
         "x": [
          1,
          2,
          3,
          4,
          5,
          6,
          7,
          8,
          9,
          10
         ],
         "xaxis": "x4",
         "y": [
          8.401261434761675,
          9.768843283582088,
          14.059711121810304,
          18.848820895522387,
          22.432725084256138,
          27.849825870646768,
          28.33259990370727,
          26.353312469908523,
          26.034084577114427,
          19.1380982185845
         ],
         "yaxis": "y4"
        },
        {
         "hovertemplate": "Estado=Ciudad de México<br>Año=2020<br>Meses=%{x}<br>Temp_Superficial=%{y}<extra></extra>",
         "legendgroup": "Ciudad de México",
         "line": {
          "color": "#A3A500",
          "dash": "solid"
         },
         "marker": {
          "symbol": "circle"
         },
         "mode": "lines",
         "name": "Ciudad de México",
         "showlegend": true,
         "type": "scattergl",
         "x": [
          1,
          2,
          3,
          4,
          5,
          6,
          7,
          8,
          9,
          10,
          11,
          12
         ],
         "xaxis": "x",
         "y": [
          11.700625,
          14.686206896551724,
          17.953306451612903,
          20.385729166666668,
          19.807116935483872,
          19.103666666666665,
          17.512056451612903,
          16.14491935483871,
          15.3553125,
          13.684133064516129,
          12.766354166666668,
          12.534415322580644
         ],
         "yaxis": "y"
        },
        {
         "hovertemplate": "Estado=Ciudad de México<br>Año=2021<br>Meses=%{x}<br>Temp_Superficial=%{y}<extra></extra>",
         "legendgroup": "Ciudad de México",
         "line": {
          "color": "#A3A500",
          "dash": "solid"
         },
         "marker": {
          "symbol": "circle"
         },
         "mode": "lines",
         "name": "Ciudad de México",
         "showlegend": false,
         "type": "scattergl",
         "x": [
          1,
          2,
          3,
          4,
          5,
          6,
          7,
          8,
          9,
          10,
          11,
          12
         ],
         "xaxis": "x2",
         "y": [
          12.87875,
          13.598147321428572,
          17.64421370967742,
          19.090291666666666,
          18.826995967741937,
          16.627875,
          16.12219758064516,
          15.981774193548388,
          15.128520833333333,
          14.634112903225807,
          11.942,
          11.692520161290322
         ],
         "yaxis": "y2"
        },
        {
         "hovertemplate": "Estado=Ciudad de México<br>Año=2022<br>Meses=%{x}<br>Temp_Superficial=%{y}<extra></extra>",
         "legendgroup": "Ciudad de México",
         "line": {
          "color": "#A3A500",
          "dash": "solid"
         },
         "marker": {
          "symbol": "circle"
         },
         "mode": "lines",
         "name": "Ciudad de México",
         "showlegend": false,
         "type": "scattergl",
         "x": [
          1,
          2,
          3,
          4,
          5,
          6,
          7,
          8,
          9,
          10,
          11,
          12
         ],
         "xaxis": "x3",
         "y": [
          11.968649193548387,
          13.810044642857141,
          16.487540322580646,
          19.679750000000002,
          20.666814516129033,
          18.235145833333334,
          17.640887096774193,
          16.608810483870965,
          15.436791666666666,
          15.23328629032258,
          14.39275,
          11.692721774193549
         ],
         "yaxis": "y3"
        },
        {
         "hovertemplate": "Estado=Ciudad de México<br>Año=2023<br>Meses=%{x}<br>Temp_Superficial=%{y}<extra></extra>",
         "legendgroup": "Ciudad de México",
         "line": {
          "color": "#A3A500",
          "dash": "solid"
         },
         "marker": {
          "symbol": "circle"
         },
         "mode": "lines",
         "name": "Ciudad de México",
         "showlegend": false,
         "type": "scattergl",
         "x": [
          1,
          2,
          3,
          4,
          5,
          6,
          7,
          8,
          9,
          10
         ],
         "xaxis": "x4",
         "y": [
          12.051854838709678,
          14.41734375,
          17.662197580645163,
          19.0828125,
          19.596854838709678,
          21.577166666666667,
          16.41048387096774,
          15.800423387096775,
          15.498041666666667,
          14.869475806451613
         ],
         "yaxis": "y4"
        },
        {
         "hovertemplate": "Estado=Coahuila<br>Año=2020<br>Meses=%{x}<br>Temp_Superficial=%{y}<extra></extra>",
         "legendgroup": "Coahuila",
         "line": {
          "color": "#00BF7D",
          "dash": "solid"
         },
         "marker": {
          "symbol": "circle"
         },
         "mode": "lines",
         "name": "Coahuila",
         "showlegend": true,
         "type": "scattergl",
         "x": [
          1,
          2,
          3,
          4,
          5,
          6,
          7,
          8,
          9,
          10,
          11,
          12
         ],
         "xaxis": "x",
         "y": [
          13.583353140916808,
          15.64423774954628,
          22.668030560271646,
          25.961482456140352,
          29.107156196943976,
          29.69434210526316,
          29.83227504244482,
          30.857444821731747,
          24.81865789473684,
          23.179235993208827,
          19.00880701754386,
          12.039388794567062
         ],
         "yaxis": "y"
        },
        {
         "hovertemplate": "Estado=Coahuila<br>Año=2021<br>Meses=%{x}<br>Temp_Superficial=%{y}<extra></extra>",
         "legendgroup": "Coahuila",
         "line": {
          "color": "#00BF7D",
          "dash": "solid"
         },
         "marker": {
          "symbol": "circle"
         },
         "mode": "lines",
         "name": "Coahuila",
         "showlegend": false,
         "type": "scattergl",
         "x": [
          1,
          2,
          3,
          4,
          5,
          6,
          7,
          8,
          9,
          10,
          11,
          12
         ],
         "xaxis": "x2",
         "y": [
          11.13657894736842,
          14.217988721804511,
          19.84660441426146,
          24.813684210526315,
          27.664252971137522,
          29.836921052631578,
          28.32953310696095,
          29.236196943972832,
          28.557526315789474,
          24.165662139219016,
          17.82219298245614,
          17.433123938879458
         ],
         "yaxis": "y2"
        },
        {
         "hovertemplate": "Estado=Coahuila<br>Año=2022<br>Meses=%{x}<br>Temp_Superficial=%{y}<extra></extra>",
         "legendgroup": "Coahuila",
         "line": {
          "color": "#00BF7D",
          "dash": "solid"
         },
         "marker": {
          "symbol": "circle"
         },
         "mode": "lines",
         "name": "Coahuila",
         "showlegend": false,
         "type": "scattergl",
         "x": [
          1,
          2,
          3,
          4,
          5,
          6,
          7,
          8,
          9,
          10,
          11,
          12
         ],
         "xaxis": "x3",
         "y": [
          12.142894736842106,
          13.624943609022557,
          19.414422750424446,
          26.795333333333332,
          30.56311544991511,
          32.154131578947364,
          32.68350594227504,
          29.31467741935484,
          25.41813157894737,
          21.28299660441426,
          15.619342105263158,
          14.079940577249575
         ],
         "yaxis": "y3"
        },
        {
         "hovertemplate": "Estado=Coahuila<br>Año=2023<br>Meses=%{x}<br>Temp_Superficial=%{y}<extra></extra>",
         "legendgroup": "Coahuila",
         "line": {
          "color": "#00BF7D",
          "dash": "solid"
         },
         "marker": {
          "symbol": "circle"
         },
         "mode": "lines",
         "name": "Coahuila",
         "showlegend": false,
         "type": "scattergl",
         "x": [
          1,
          2,
          3,
          4,
          5,
          6,
          7,
          8,
          9,
          10
         ],
         "xaxis": "x4",
         "y": [
          14.682801358234295,
          16.41748120300752,
          21.488013582342955,
          24.105508771929824,
          26.50730050933786,
          32.073605263157894,
          31.403684210526315,
          31.697724957555177,
          30.23444736842105,
          22.370942275042445
         ],
         "yaxis": "y4"
        },
        {
         "hovertemplate": "Estado=Colima<br>Año=2020<br>Meses=%{x}<br>Temp_Superficial=%{y}<extra></extra>",
         "legendgroup": "Colima",
         "line": {
          "color": "#00B0F6",
          "dash": "solid"
         },
         "marker": {
          "symbol": "circle"
         },
         "mode": "lines",
         "name": "Colima",
         "showlegend": true,
         "type": "scattergl",
         "x": [
          1,
          2,
          3,
          4,
          5,
          6,
          7,
          8,
          9,
          10,
          11,
          12
         ],
         "xaxis": "x",
         "y": [
          21.67632258064516,
          22.144034482758624,
          24.500129032258066,
          25.5693,
          27.66306451612903,
          27.8252,
          26.232225806451613,
          25.386193548387098,
          25.4351,
          24.93641935483871,
          23.607666666666667,
          21.428322580645162
         ],
         "yaxis": "y"
        },
        {
         "hovertemplate": "Estado=Colima<br>Año=2021<br>Meses=%{x}<br>Temp_Superficial=%{y}<extra></extra>",
         "legendgroup": "Colima",
         "line": {
          "color": "#00B0F6",
          "dash": "solid"
         },
         "marker": {
          "symbol": "circle"
         },
         "mode": "lines",
         "name": "Colima",
         "showlegend": false,
         "type": "scattergl",
         "x": [
          1,
          2,
          3,
          4,
          5,
          6,
          7,
          8,
          9,
          10,
          11,
          12
         ],
         "xaxis": "x2",
         "y": [
          21.26574193548387,
          21.70282142857143,
          24.010516129032258,
          26.295566666666666,
          27.50309677419355,
          26.460666666666665,
          25.70732258064516,
          25.460129032258067,
          25.005633333333332,
          24.975161290322582,
          23.522233333333332,
          22.41232258064516
         ],
         "yaxis": "y2"
        },
        {
         "hovertemplate": "Estado=Colima<br>Año=2022<br>Meses=%{x}<br>Temp_Superficial=%{y}<extra></extra>",
         "legendgroup": "Colima",
         "line": {
          "color": "#00B0F6",
          "dash": "solid"
         },
         "marker": {
          "symbol": "circle"
         },
         "mode": "lines",
         "name": "Colima",
         "showlegend": false,
         "type": "scattergl",
         "x": [
          1,
          2,
          3,
          4,
          5,
          6,
          7,
          8,
          9,
          10,
          11,
          12
         ],
         "xaxis": "x3",
         "y": [
          21.86774193548387,
          22.704428571428572,
          23.272516129032258,
          26.00336666666667,
          27.92864516129032,
          26.183366666666668,
          25.80377419354839,
          25.485935483870968,
          25.185,
          24.806451612903224,
          23.640033333333335,
          22.169806451612903
         ],
         "yaxis": "y3"
        },
        {
         "hovertemplate": "Estado=Colima<br>Año=2023<br>Meses=%{x}<br>Temp_Superficial=%{y}<extra></extra>",
         "legendgroup": "Colima",
         "line": {
          "color": "#00B0F6",
          "dash": "solid"
         },
         "marker": {
          "symbol": "circle"
         },
         "mode": "lines",
         "name": "Colima",
         "showlegend": false,
         "type": "scattergl",
         "x": [
          1,
          2,
          3,
          4,
          5,
          6,
          7,
          8,
          9,
          10
         ],
         "xaxis": "x4",
         "y": [
          21.48990322580645,
          23.18867857142857,
          24.560903225806452,
          26.595899999999997,
          28.258193548387098,
          29.200033333333334,
          26.90551612903226,
          26.080290322580645,
          26.156333333333333,
          25.092774193548387
         ],
         "yaxis": "y4"
        },
        {
         "hovertemplate": "Estado=Durango<br>Año=2020<br>Meses=%{x}<br>Temp_Superficial=%{y}<extra></extra>",
         "legendgroup": "Durango",
         "line": {
          "color": "#E76BF3",
          "dash": "solid"
         },
         "marker": {
          "symbol": "circle"
         },
         "mode": "lines",
         "name": "Durango",
         "showlegend": true,
         "type": "scattergl",
         "x": [
          1,
          2,
          3,
          4,
          5,
          6,
          7,
          8,
          9,
          10,
          11,
          12
         ],
         "xaxis": "x",
         "y": [
          10.41206782464847,
          12.827709991158267,
          18.55923076923077,
          20.893521367521366,
          24.115235732009925,
          25.468094017094014,
          23.454152191894128,
          23.631720430107528,
          19.947529914529916,
          18.41575682382134,
          15.531307692307694,
          10.073531844499586
         ],
         "yaxis": "y"
        },
        {
         "hovertemplate": "Estado=Durango<br>Año=2021<br>Meses=%{x}<br>Temp_Superficial=%{y}<extra></extra>",
         "legendgroup": "Durango",
         "line": {
          "color": "#E76BF3",
          "dash": "solid"
         },
         "marker": {
          "symbol": "circle"
         },
         "mode": "lines",
         "name": "Durango",
         "showlegend": false,
         "type": "scattergl",
         "x": [
          1,
          2,
          3,
          4,
          5,
          6,
          7,
          8,
          9,
          10,
          11,
          12
         ],
         "xaxis": "x2",
         "y": [
          10.327493796526054,
          14.21547619047619,
          17.02776674937965,
          20.916324786324786,
          24.15151364764268,
          24.96830769230769,
          22.124234904880065,
          22.35290322580645,
          20.93413675213675,
          18.699545078577337,
          15.29239316239316,
          13.319834574028123
         ],
         "yaxis": "y2"
        },
        {
         "hovertemplate": "Estado=Durango<br>Año=2022<br>Meses=%{x}<br>Temp_Superficial=%{y}<extra></extra>",
         "legendgroup": "Durango",
         "line": {
          "color": "#E76BF3",
          "dash": "solid"
         },
         "marker": {
          "symbol": "circle"
         },
         "mode": "lines",
         "name": "Durango",
         "showlegend": false,
         "type": "scattergl",
         "x": [
          1,
          2,
          3,
          4,
          5,
          6,
          7,
          8,
          9,
          10,
          11,
          12
         ],
         "xaxis": "x3",
         "y": [
          11.409280397022332,
          12.352609890109889,
          15.586559139784947,
          21.452521367521367,
          25.09255583126551,
          25.871358974358976,
          24.969412737799836,
          22.833490488006618,
          20.456931623931624,
          17.38138130686518,
          13.31194017094017,
          11.933664185277088
         ],
         "yaxis": "y3"
        },
        {
         "hovertemplate": "Estado=Durango<br>Año=2023<br>Meses=%{x}<br>Temp_Superficial=%{y}<extra></extra>",
         "legendgroup": "Durango",
         "line": {
          "color": "#E76BF3",
          "dash": "solid"
         },
         "marker": {
          "symbol": "circle"
         },
         "mode": "lines",
         "name": "Durango",
         "showlegend": false,
         "type": "scattergl",
         "x": [
          1,
          2,
          3,
          4,
          5,
          6,
          7,
          8,
          9,
          10
         ],
         "xaxis": "x4",
         "y": [
          11.382985938792391,
          13.36834249084249,
          17.568436724565757,
          20.311504273504273,
          22.399330024813896,
          27.109213675213674,
          24.408296112489662,
          23.20334987593052,
          23.068555555555555,
          17.77684863523573
         ],
         "yaxis": "y4"
        },
        {
         "hovertemplate": "Estado=Estado de México<br>Año=2020<br>Meses=%{x}<br>Temp_Superficial=%{y}<extra></extra>",
         "legendgroup": "Estado de México",
         "line": {
          "color": "#F8766D",
          "dash": "solid"
         },
         "marker": {
          "symbol": "circle"
         },
         "mode": "lines",
         "name": "Estado de México",
         "showlegend": true,
         "type": "scattergl",
         "x": [
          1,
          2,
          3,
          4,
          5,
          6,
          7,
          8,
          9,
          10,
          11,
          12
         ],
         "xaxis": "x",
         "y": [
          13.23042064516129,
          16.179387586206897,
          19.651656774193548,
          22.178474666666666,
          21.595280000000002,
          20.69635733333333,
          18.82305032258065,
          17.45673548387097,
          16.63446666666667,
          15.112701935483871,
          14.321002666666667,
          13.968572903225807
         ],
         "yaxis": "y"
        },
        {
         "hovertemplate": "Estado=Estado de México<br>Año=2021<br>Meses=%{x}<br>Temp_Superficial=%{y}<extra></extra>",
         "legendgroup": "Estado de México",
         "line": {
          "color": "#F8766D",
          "dash": "solid"
         },
         "marker": {
          "symbol": "circle"
         },
         "mode": "lines",
         "name": "Estado de México",
         "showlegend": false,
         "type": "scattergl",
         "x": [
          1,
          2,
          3,
          4,
          5,
          6,
          7,
          8,
          9,
          10,
          11,
          12
         ],
         "xaxis": "x2",
         "y": [
          14.432820645161291,
          15.27774,
          19.243501935483874,
          20.828645333333334,
          20.478046451612904,
          18.0204,
          17.446650322580645,
          17.24909935483871,
          16.432530666666665,
          16.0050735483871,
          13.484290666666668,
          13.243282580645161
         ],
         "yaxis": "y2"
        },
        {
         "hovertemplate": "Estado=Estado de México<br>Año=2022<br>Meses=%{x}<br>Temp_Superficial=%{y}<extra></extra>",
         "legendgroup": "Estado de México",
         "line": {
          "color": "#F8766D",
          "dash": "solid"
         },
         "marker": {
          "symbol": "circle"
         },
         "mode": "lines",
         "name": "Estado de México",
         "showlegend": false,
         "type": "scattergl",
         "x": [
          1,
          2,
          3,
          4,
          5,
          6,
          7,
          8,
          9,
          10,
          11,
          12
         ],
         "xaxis": "x3",
         "y": [
          13.586774193548386,
          15.459914285714285,
          18.204454193548386,
          21.3792,
          22.408366451612903,
          19.694749333333334,
          18.959881290322578,
          17.88551741935484,
          16.745861333333334,
          16.55395870967742,
          15.867978666666666,
          13.211685161290323
         ],
         "yaxis": "y3"
        },
        {
         "hovertemplate": "Estado=Estado de México<br>Año=2023<br>Meses=%{x}<br>Temp_Superficial=%{y}<extra></extra>",
         "legendgroup": "Estado de México",
         "line": {
          "color": "#F8766D",
          "dash": "solid"
         },
         "marker": {
          "symbol": "circle"
         },
         "mode": "lines",
         "name": "Estado de México",
         "showlegend": false,
         "type": "scattergl",
         "x": [
          1,
          2,
          3,
          4,
          5,
          6,
          7,
          8,
          9,
          10
         ],
         "xaxis": "x4",
         "y": [
          13.664810322580646,
          16.064922857142857,
          19.37906064516129,
          20.787642666666667,
          21.31594322580645,
          23.238434666666667,
          17.90951741935484,
          17.257357419354836,
          17.079650666666666,
          16.25981677419355
         ],
         "yaxis": "y4"
        },
        {
         "hovertemplate": "Estado=Guanajuato<br>Año=2020<br>Meses=%{x}<br>Temp_Superficial=%{y}<extra></extra>",
         "legendgroup": "Guanajuato",
         "line": {
          "color": "#A3A500",
          "dash": "solid"
         },
         "marker": {
          "symbol": "circle"
         },
         "mode": "lines",
         "name": "Guanajuato",
         "showlegend": true,
         "type": "scattergl",
         "x": [
          1,
          2,
          3,
          4,
          5,
          6,
          7,
          8,
          9,
          10,
          11,
          12
         ],
         "xaxis": "x",
         "y": [
          14.094368863955118,
          17.13889055472264,
          21.842699859747544,
          24.950275362318838,
          24.30892005610098,
          23.52355072463768,
          22.00976157082749,
          20.539670406732117,
          19.25945652173913,
          18.168702664796633,
          16.521942028985507,
          15.206339410939693
         ],
         "yaxis": "y"
        },
        {
         "hovertemplate": "Estado=Guanajuato<br>Año=2021<br>Meses=%{x}<br>Temp_Superficial=%{y}<extra></extra>",
         "legendgroup": "Guanajuato",
         "line": {
          "color": "#A3A500",
          "dash": "solid"
         },
         "marker": {
          "symbol": "circle"
         },
         "mode": "lines",
         "name": "Guanajuato",
         "showlegend": false,
         "type": "scattergl",
         "x": [
          1,
          2,
          3,
          4,
          5,
          6,
          7,
          8,
          9,
          10,
          11,
          12
         ],
         "xaxis": "x2",
         "y": [
          15.577223001402524,
          17.161405279503104,
          21.350827489481066,
          23.74303623188406,
          24.12951612903226,
          21.39742028985507,
          20.02507012622721,
          19.76927769985975,
          18.624246376811595,
          18.039249649368866,
          14.961166666666667,
          14.638927068723703
         ],
         "yaxis": "y2"
        },
        {
         "hovertemplate": "Estado=Guanajuato<br>Año=2022<br>Meses=%{x}<br>Temp_Superficial=%{y}<extra></extra>",
         "legendgroup": "Guanajuato",
         "line": {
          "color": "#A3A500",
          "dash": "solid"
         },
         "marker": {
          "symbol": "circle"
         },
         "mode": "lines",
         "name": "Guanajuato",
         "showlegend": false,
         "type": "scattergl",
         "x": [
          1,
          2,
          3,
          4,
          5,
          6,
          7,
          8,
          9,
          10,
          11,
          12
         ],
         "xaxis": "x3",
         "y": [
          14.586178120617111,
          16.74503105590062,
          19.818941093969144,
          23.90463768115942,
          26.133639551192147,
          23.33013768115942,
          21.771605890603087,
          20.70780504908836,
          19.065753623188407,
          18.64083450210379,
          17.72177536231884,
          14.905981767180926
         ],
         "yaxis": "y3"
        },
        {
         "hovertemplate": "Estado=Guanajuato<br>Año=2023<br>Meses=%{x}<br>Temp_Superficial=%{y}<extra></extra>",
         "legendgroup": "Guanajuato",
         "line": {
          "color": "#A3A500",
          "dash": "solid"
         },
         "marker": {
          "symbol": "circle"
         },
         "mode": "lines",
         "name": "Guanajuato",
         "showlegend": false,
         "type": "scattergl",
         "x": [
          1,
          2,
          3,
          4,
          5,
          6,
          7,
          8,
          9,
          10
         ],
         "xaxis": "x4",
         "y": [
          14.904095371669005,
          17.650784161490684,
          21.530462833099577,
          23.107311594202898,
          24.17241234221599,
          26.14308695652174,
          22.59095371669004,
          21.02367461430575,
          21.20905072463768,
          18.789417952314164
         ],
         "yaxis": "y4"
        },
        {
         "hovertemplate": "Estado=Guerrero<br>Año=2020<br>Meses=%{x}<br>Temp_Superficial=%{y}<extra></extra>",
         "legendgroup": "Guerrero",
         "line": {
          "color": "#00BF7D",
          "dash": "solid"
         },
         "marker": {
          "symbol": "circle"
         },
         "mode": "lines",
         "name": "Guerrero",
         "showlegend": true,
         "type": "scattergl",
         "x": [
          1,
          2,
          3,
          4,
          5,
          6,
          7,
          8,
          9,
          10,
          11,
          12
         ],
         "xaxis": "x",
         "y": [
          22.680195141377936,
          24.734031502767134,
          27.3852767821585,
          29.04749794238683,
          28.785017921146952,
          26.831897119341566,
          24.622126642771807,
          23.623405017921147,
          22.938679012345677,
          22.248562325766628,
          22.401588477366257,
          22.761943448825168
         ],
         "yaxis": "y"
        },
        {
         "hovertemplate": "Estado=Guerrero<br>Año=2021<br>Meses=%{x}<br>Temp_Superficial=%{y}<extra></extra>",
         "legendgroup": "Guerrero",
         "line": {
          "color": "#00BF7D",
          "dash": "solid"
         },
         "marker": {
          "symbol": "circle"
         },
         "mode": "lines",
         "name": "Guerrero",
         "showlegend": false,
         "type": "scattergl",
         "x": [
          1,
          2,
          3,
          4,
          5,
          6,
          7,
          8,
          9,
          10,
          11,
          12
         ],
         "xaxis": "x2",
         "y": [
          23.558243727598565,
          23.89640211640212,
          26.554281162883314,
          27.86738683127572,
          27.44131819992035,
          24.031432098765432,
          23.71056551174831,
          23.117244125846277,
          22.91280658436214,
          23.111541218637992,
          21.16340329218107,
          22.486535244922344
         ],
         "yaxis": "y2"
        },
        {
         "hovertemplate": "Estado=Guerrero<br>Año=2022<br>Meses=%{x}<br>Temp_Superficial=%{y}<extra></extra>",
         "legendgroup": "Guerrero",
         "line": {
          "color": "#00BF7D",
          "dash": "solid"
         },
         "marker": {
          "symbol": "circle"
         },
         "mode": "lines",
         "name": "Guerrero",
         "showlegend": false,
         "type": "scattergl",
         "x": [
          1,
          2,
          3,
          4,
          5,
          6,
          7,
          8,
          9,
          10,
          11,
          12
         ],
         "xaxis": "x3",
         "y": [
          23.087761847869377,
          24.77887566137566,
          26.450390282755873,
          28.33545679012346,
          28.46541616885703,
          24.808781893004113,
          24.34957387495022,
          23.59289924332935,
          22.80995473251029,
          22.858821186778176,
          22.903267489711936,
          21.72432098765432
         ],
         "yaxis": "y3"
        },
        {
         "hovertemplate": "Estado=Guerrero<br>Año=2023<br>Meses=%{x}<br>Temp_Superficial=%{y}<extra></extra>",
         "legendgroup": "Guerrero",
         "line": {
          "color": "#00BF7D",
          "dash": "solid"
         },
         "marker": {
          "symbol": "circle"
         },
         "mode": "lines",
         "name": "Guerrero",
         "showlegend": false,
         "type": "scattergl",
         "x": [
          1,
          2,
          3,
          4,
          5,
          6,
          7,
          8,
          9,
          10
         ],
         "xaxis": "x4",
         "y": [
          23.077379530067702,
          24.791851851851852,
          26.867694145758662,
          28.188563786008235,
          28.602727996814018,
          29.568814814814814,
          24.53299482277977,
          24.18326563122262,
          24.32133744855967,
          23.06330943847073
         ],
         "yaxis": "y4"
        },
        {
         "hovertemplate": "Estado=Hidalgo<br>Año=2020<br>Meses=%{x}<br>Temp_Superficial=%{y}<extra></extra>",
         "legendgroup": "Hidalgo",
         "line": {
          "color": "#00B0F6",
          "dash": "solid"
         },
         "marker": {
          "symbol": "circle"
         },
         "mode": "lines",
         "name": "Hidalgo",
         "showlegend": true,
         "type": "scattergl",
         "x": [
          1,
          2,
          3,
          4,
          5,
          6,
          7,
          8,
          9,
          10,
          11,
          12
         ],
         "xaxis": "x",
         "y": [
          13.914823348694314,
          16.045114942528738,
          20.289158986175117,
          24.39554761904762,
          22.808533026113672,
          21.613646825396824,
          21.5698579109063,
          20.256301843317974,
          18.31376984126984,
          16.327680491551458,
          14.940563492063493,
          13.953056835637481
         ],
         "yaxis": "y"
        },
        {
         "hovertemplate": "Estado=Hidalgo<br>Año=2021<br>Meses=%{x}<br>Temp_Superficial=%{y}<extra></extra>",
         "legendgroup": "Hidalgo",
         "line": {
          "color": "#00B0F6",
          "dash": "solid"
         },
         "marker": {
          "symbol": "circle"
         },
         "mode": "lines",
         "name": "Hidalgo",
         "showlegend": false,
         "type": "scattergl",
         "x": [
          1,
          2,
          3,
          4,
          5,
          6,
          7,
          8,
          9,
          10,
          11,
          12
         ],
         "xaxis": "x2",
         "y": [
          14.837469278033794,
          16.14031462585034,
          19.601144393241167,
          22.505817460317463,
          22.360019201228877,
          20.264376984126987,
          19.55243855606759,
          19.802722734254992,
          18.554269841269843,
          17.67094470046083,
          14.269234126984127,
          14.711324884792628
         ],
         "yaxis": "y2"
        },
        {
         "hovertemplate": "Estado=Hidalgo<br>Año=2022<br>Meses=%{x}<br>Temp_Superficial=%{y}<extra></extra>",
         "legendgroup": "Hidalgo",
         "line": {
          "color": "#00B0F6",
          "dash": "solid"
         },
         "marker": {
          "symbol": "circle"
         },
         "mode": "lines",
         "name": "Hidalgo",
         "showlegend": false,
         "type": "scattergl",
         "x": [
          1,
          2,
          3,
          4,
          5,
          6,
          7,
          8,
          9,
          10,
          11,
          12
         ],
         "xaxis": "x3",
         "y": [
          13.524043778801843,
          14.771789965986395,
          19.004807987711214,
          22.907079365079365,
          24.193168202764976,
          21.582126984126983,
          21.068913210445466,
          20.698778801843318,
          18.43402777777778,
          17.305460829493086,
          16.62631746031746,
          13.839704301075267
         ],
         "yaxis": "y3"
        },
        {
         "hovertemplate": "Estado=Hidalgo<br>Año=2023<br>Meses=%{x}<br>Temp_Superficial=%{y}<extra></extra>",
         "legendgroup": "Hidalgo",
         "line": {
          "color": "#00B0F6",
          "dash": "solid"
         },
         "marker": {
          "symbol": "circle"
         },
         "mode": "lines",
         "name": "Hidalgo",
         "showlegend": false,
         "type": "scattergl",
         "x": [
          1,
          2,
          3,
          4,
          5,
          6,
          7,
          8,
          9,
          10
         ],
         "xaxis": "x4",
         "y": [
          14.880241935483872,
          16.49779761904762,
          20.793283410138248,
          22.07904365079365,
          23.13105222734255,
          25.05174603174603,
          21.2835599078341,
          20.476432411674345,
          20.994440476190476,
          18.52682411674347
         ],
         "yaxis": "y4"
        },
        {
         "hovertemplate": "Estado=Jalisco<br>Año=2020<br>Meses=%{x}<br>Temp_Superficial=%{y}<extra></extra>",
         "legendgroup": "Jalisco",
         "line": {
          "color": "#E76BF3",
          "dash": "solid"
         },
         "marker": {
          "symbol": "circle"
         },
         "mode": "lines",
         "name": "Jalisco",
         "showlegend": true,
         "type": "scattergl",
         "x": [
          1,
          2,
          3,
          4,
          5,
          6,
          7,
          8,
          9,
          10,
          11,
          12
         ],
         "xaxis": "x",
         "y": [
          16.20238193548387,
          18.309329655172416,
          22.844833548387097,
          24.684866666666668,
          25.99167741935484,
          26.223466666666667,
          22.923840000000002,
          22.00861677419355,
          21.560597333333334,
          20.9044,
          19.279189333333335,
          16.810691612903227
         ],
         "yaxis": "y"
        },
        {
         "hovertemplate": "Estado=Jalisco<br>Año=2021<br>Meses=%{x}<br>Temp_Superficial=%{y}<extra></extra>",
         "legendgroup": "Jalisco",
         "line": {
          "color": "#E76BF3",
          "dash": "solid"
         },
         "marker": {
          "symbol": "circle"
         },
         "mode": "lines",
         "name": "Jalisco",
         "showlegend": false,
         "type": "scattergl",
         "x": [
          1,
          2,
          3,
          4,
          5,
          6,
          7,
          8,
          9,
          10,
          11,
          12
         ],
         "xaxis": "x2",
         "y": [
          16.94498322580645,
          18.54355142857143,
          22.374485161290323,
          24.73102666666667,
          25.941249032258064,
          23.998957333333333,
          21.95956387096774,
          21.627894193548386,
          20.929162666666667,
          20.570085161290322,
          17.976749333333334,
          17.19757677419355
         ],
         "yaxis": "y2"
        },
        {
         "hovertemplate": "Estado=Jalisco<br>Año=2022<br>Meses=%{x}<br>Temp_Superficial=%{y}<extra></extra>",
         "legendgroup": "Jalisco",
         "line": {
          "color": "#E76BF3",
          "dash": "solid"
         },
         "marker": {
          "symbol": "circle"
         },
         "mode": "lines",
         "name": "Jalisco",
         "showlegend": false,
         "type": "scattergl",
         "x": [
          1,
          2,
          3,
          4,
          5,
          6,
          7,
          8,
          9,
          10,
          11,
          12
         ],
         "xaxis": "x3",
         "y": [
          17.141489032258065,
          18.74134,
          20.71027870967742,
          24.748648000000003,
          27.077690322580647,
          24.376069333333334,
          22.65938322580645,
          21.80989677419355,
          21.331514666666667,
          20.270069677419357,
          19.109696,
          17.150229677419354
         ],
         "yaxis": "y3"
        },
        {
         "hovertemplate": "Estado=Jalisco<br>Año=2023<br>Meses=%{x}<br>Temp_Superficial=%{y}<extra></extra>",
         "legendgroup": "Jalisco",
         "line": {
          "color": "#E76BF3",
          "dash": "solid"
         },
         "marker": {
          "symbol": "circle"
         },
         "mode": "lines",
         "name": "Jalisco",
         "showlegend": false,
         "type": "scattergl",
         "x": [
          1,
          2,
          3,
          4,
          5,
          6,
          7,
          8,
          9,
          10
         ],
         "xaxis": "x4",
         "y": [
          16.64576,
          19.54034857142857,
          22.06116129032258,
          24.237805333333334,
          25.580774193548386,
          27.98816,
          23.653267096774194,
          22.350975483870968,
          22.697850666666668,
          20.712998709677418
         ],
         "yaxis": "y4"
        },
        {
         "hovertemplate": "Estado=Michoacán<br>Año=2020<br>Meses=%{x}<br>Temp_Superficial=%{y}<extra></extra>",
         "legendgroup": "Michoacán",
         "line": {
          "color": "#F8766D",
          "dash": "solid"
         },
         "marker": {
          "symbol": "circle"
         },
         "mode": "lines",
         "name": "Michoacán",
         "showlegend": true,
         "type": "scattergl",
         "x": [
          1,
          2,
          3,
          4,
          5,
          6,
          7,
          8,
          9,
          10,
          11,
          12
         ],
         "xaxis": "x",
         "y": [
          17.043402797602056,
          19.58546841623436,
          23.554693120182698,
          25.459604719764013,
          25.954350556665712,
          25.206589970501472,
          22.475121324578932,
          21.461481587210965,
          20.886705014749264,
          20.060576648586924,
          19.290814159292037,
          17.594561804167856
         ],
         "yaxis": "y"
        },
        {
         "hovertemplate": "Estado=Michoacán<br>Año=2021<br>Meses=%{x}<br>Temp_Superficial=%{y}<extra></extra>",
         "legendgroup": "Michoacán",
         "line": {
          "color": "#F8766D",
          "dash": "solid"
         },
         "marker": {
          "symbol": "circle"
         },
         "mode": "lines",
         "name": "Michoacán",
         "showlegend": false,
         "type": "scattergl",
         "x": [
          1,
          2,
          3,
          4,
          5,
          6,
          7,
          8,
          9,
          10,
          11,
          12
         ],
         "xaxis": "x2",
         "y": [
          18.130922066799886,
          19.136257901390646,
          22.99640308307165,
          24.696439528023596,
          25.444444761632887,
          22.777362831858404,
          21.479534684556093,
          20.79960319725949,
          20.375958702064896,
          20.086051955466743,
          17.99766371681416,
          17.29094204967171
         ],
         "yaxis": "y2"
        },
        {
         "hovertemplate": "Estado=Michoacán<br>Año=2022<br>Meses=%{x}<br>Temp_Superficial=%{y}<extra></extra>",
         "legendgroup": "Michoacán",
         "line": {
          "color": "#F8766D",
          "dash": "solid"
         },
         "marker": {
          "symbol": "circle"
         },
         "mode": "lines",
         "name": "Michoacán",
         "showlegend": false,
         "type": "scattergl",
         "x": [
          1,
          2,
          3,
          4,
          5,
          6,
          7,
          8,
          9,
          10,
          11,
          12
         ],
         "xaxis": "x3",
         "y": [
          17.59786468741079,
          19.57138432364096,
          21.640185555238368,
          25.124598820058996,
          26.951524407650584,
          23.53056342182891,
          21.990382529260632,
          21.2352383671139,
          20.804613569321535,
          20.724724521838425,
          20.0732005899705,
          17.81563516985441
         ],
         "yaxis": "y3"
        },
        {
         "hovertemplate": "Estado=Michoacán<br>Año=2023<br>Meses=%{x}<br>Temp_Superficial=%{y}<extra></extra>",
         "legendgroup": "Michoacán",
         "line": {
          "color": "#F8766D",
          "dash": "solid"
         },
         "marker": {
          "symbol": "circle"
         },
         "mode": "lines",
         "name": "Michoacán",
         "showlegend": false,
         "type": "scattergl",
         "x": [
          1,
          2,
          3,
          4,
          5,
          6,
          7,
          8,
          9,
          10
         ],
         "xaxis": "x4",
         "y": [
          17.4458749643163,
          20.133321744627054,
          22.82688552669141,
          24.42461946902655,
          25.538729660291178,
          27.196339233038348,
          22.616768484156434,
          21.644350556665717,
          21.737421828908555,
          20.314256351698543
         ],
         "yaxis": "y4"
        },
        {
         "hovertemplate": "Estado=Morelos<br>Año=2020<br>Meses=%{x}<br>Temp_Superficial=%{y}<extra></extra>",
         "legendgroup": "Morelos",
         "line": {
          "color": "#A3A500",
          "dash": "solid"
         },
         "marker": {
          "symbol": "circle"
         },
         "mode": "lines",
         "name": "Morelos",
         "showlegend": true,
         "type": "scattergl",
         "x": [
          1,
          2,
          3,
          4,
          5,
          6,
          7,
          8,
          9,
          10,
          11,
          12
         ],
         "xaxis": "x",
         "y": [
          17.511534701857283,
          20.430428422152563,
          23.8436265884653,
          26.44041414141414,
          25.494408602150536,
          24.155535353535353,
          21.221515151515153,
          20.034369501466276,
          19.08731313131313,
          17.978690127077225,
          18.266666666666666,
          18.048357771261
         ],
         "yaxis": "y"
        },
        {
         "hovertemplate": "Estado=Morelos<br>Año=2021<br>Meses=%{x}<br>Temp_Superficial=%{y}<extra></extra>",
         "legendgroup": "Morelos",
         "line": {
          "color": "#A3A500",
          "dash": "solid"
         },
         "marker": {
          "symbol": "circle"
         },
         "mode": "lines",
         "name": "Morelos",
         "showlegend": false,
         "type": "scattergl",
         "x": [
          1,
          2,
          3,
          4,
          5,
          6,
          7,
          8,
          9,
          10,
          11,
          12
         ],
         "xaxis": "x2",
         "y": [
          18.629276637341153,
          19.406049783549783,
          22.9897165200391,
          24.7800303030303,
          23.981270772238513,
          20.74541414141414,
          19.8188954056696,
          19.924936461388075,
          18.874333333333333,
          19.06206256109482,
          17.28889898989899,
          17.598836754643205
         ],
         "yaxis": "y2"
        },
        {
         "hovertemplate": "Estado=Morelos<br>Año=2022<br>Meses=%{x}<br>Temp_Superficial=%{y}<extra></extra>",
         "legendgroup": "Morelos",
         "line": {
          "color": "#A3A500",
          "dash": "solid"
         },
         "marker": {
          "symbol": "circle"
         },
         "mode": "lines",
         "name": "Morelos",
         "showlegend": false,
         "type": "scattergl",
         "x": [
          1,
          2,
          3,
          4,
          5,
          6,
          7,
          8,
          9,
          10,
          11,
          12
         ],
         "xaxis": "x3",
         "y": [
          18.135014662756596,
          19.752132034632037,
          22.46173020527859,
          25.363363636363637,
          26.17403714565005,
          22.90657575757576,
          22.214046920821115,
          20.616344086021506,
          19.25280808080808,
          19.454467253176933,
          19.48412121212121,
          17.03507331378299
         ],
         "yaxis": "y3"
        },
        {
         "hovertemplate": "Estado=Morelos<br>Año=2023<br>Meses=%{x}<br>Temp_Superficial=%{y}<extra></extra>",
         "legendgroup": "Morelos",
         "line": {
          "color": "#A3A500",
          "dash": "solid"
         },
         "marker": {
          "symbol": "circle"
         },
         "mode": "lines",
         "name": "Morelos",
         "showlegend": false,
         "type": "scattergl",
         "x": [
          1,
          2,
          3,
          4,
          5,
          6,
          7,
          8,
          9,
          10
         ],
         "xaxis": "x4",
         "y": [
          18.072414467253175,
          20.133073593073593,
          23.509403714565003,
          24.705616161616163,
          25.126881720430106,
          27.264434343434345,
          20.440029325513198,
          20.094701857282505,
          20.197545454545455,
          18.94254154447703
         ],
         "yaxis": "y4"
        },
        {
         "hovertemplate": "Estado=Nayarit<br>Año=2020<br>Meses=%{x}<br>Temp_Superficial=%{y}<extra></extra>",
         "legendgroup": "Nayarit",
         "line": {
          "color": "#00BF7D",
          "dash": "solid"
         },
         "marker": {
          "symbol": "circle"
         },
         "mode": "lines",
         "name": "Nayarit",
         "showlegend": true,
         "type": "scattergl",
         "x": [
          1,
          2,
          3,
          4,
          5,
          6,
          7,
          8,
          9,
          10,
          11,
          12
         ],
         "xaxis": "x",
         "y": [
          19.612645161290324,
          20.55798275862069,
          24.15659677419355,
          25.795883333333336,
          27.740274193548387,
          28.867633333333337,
          26.12191935483871,
          25.392500000000002,
          24.742116666666668,
          24.1173064516129,
          22.609866666666665,
          19.77174193548387
         ],
         "yaxis": "y"
        },
        {
         "hovertemplate": "Estado=Nayarit<br>Año=2021<br>Meses=%{x}<br>Temp_Superficial=%{y}<extra></extra>",
         "legendgroup": "Nayarit",
         "line": {
          "color": "#00BF7D",
          "dash": "solid"
         },
         "marker": {
          "symbol": "circle"
         },
         "mode": "lines",
         "name": "Nayarit",
         "showlegend": false,
         "type": "scattergl",
         "x": [
          1,
          2,
          3,
          4,
          5,
          6,
          7,
          8,
          9,
          10,
          11,
          12
         ],
         "xaxis": "x2",
         "y": [
          19.38533870967742,
          21.13975,
          23.51483870967742,
          26.164716666666667,
          27.847967741935488,
          27.29031666666667,
          25.25717741935484,
          25.186983870967744,
          24.5004,
          24.200467741935487,
          22.162266666666667,
          20.97091935483871
         ],
         "yaxis": "y2"
        },
        {
         "hovertemplate": "Estado=Nayarit<br>Año=2022<br>Meses=%{x}<br>Temp_Superficial=%{y}<extra></extra>",
         "legendgroup": "Nayarit",
         "line": {
          "color": "#00BF7D",
          "dash": "solid"
         },
         "marker": {
          "symbol": "circle"
         },
         "mode": "lines",
         "name": "Nayarit",
         "showlegend": false,
         "type": "scattergl",
         "x": [
          1,
          2,
          3,
          4,
          5,
          6,
          7,
          8,
          9,
          10,
          11,
          12
         ],
         "xaxis": "x3",
         "y": [
          20.854032258064517,
          21.69907142857143,
          22.968,
          25.89875,
          28.038870967741932,
          27.0548,
          25.598693548387097,
          25.03898387096774,
          24.955666666666666,
          23.343370967741933,
          21.3733,
          20.499306451612902
         ],
         "yaxis": "y3"
        },
        {
         "hovertemplate": "Estado=Nayarit<br>Año=2023<br>Meses=%{x}<br>Temp_Superficial=%{y}<extra></extra>",
         "legendgroup": "Nayarit",
         "line": {
          "color": "#00BF7D",
          "dash": "solid"
         },
         "marker": {
          "symbol": "circle"
         },
         "mode": "lines",
         "name": "Nayarit",
         "showlegend": false,
         "type": "scattergl",
         "x": [
          1,
          2,
          3,
          4,
          5,
          6,
          7,
          8,
          9,
          10
         ],
         "xaxis": "x4",
         "y": [
          20.498451612903228,
          22.169035714285712,
          23.33725806451613,
          25.46635,
          27.271274193548386,
          29.2552,
          26.62085483870968,
          25.756451612903227,
          26.008466666666667,
          24.133145161290322
         ],
         "yaxis": "y4"
        },
        {
         "hovertemplate": "Estado=Nuevo León<br>Año=2020<br>Meses=%{x}<br>Temp_Superficial=%{y}<extra></extra>",
         "legendgroup": "Nuevo León",
         "line": {
          "color": "#00B0F6",
          "dash": "solid"
         },
         "marker": {
          "symbol": "circle"
         },
         "mode": "lines",
         "name": "Nuevo León",
         "showlegend": true,
         "type": "scattergl",
         "x": [
          1,
          2,
          3,
          4,
          5,
          6,
          7,
          8,
          9,
          10,
          11,
          12
         ],
         "xaxis": "x",
         "y": [
          15.732125237191651,
          17.015693035835024,
          24.229177735610374,
          27.012405228758173,
          28.636204933586335,
          28.517633986928107,
          29.037197975964578,
          28.636432637571154,
          25.29011764705882,
          23.188494623655917,
          20.09935947712418,
          13.992960151802656
         ],
         "yaxis": "y"
        },
        {
         "hovertemplate": "Estado=Nuevo León<br>Año=2021<br>Meses=%{x}<br>Temp_Superficial=%{y}<extra></extra>",
         "legendgroup": "Nuevo León",
         "line": {
          "color": "#00B0F6",
          "dash": "solid"
         },
         "marker": {
          "symbol": "circle"
         },
         "mode": "lines",
         "name": "Nuevo León",
         "showlegend": false,
         "type": "scattergl",
         "x": [
          1,
          2,
          3,
          4,
          5,
          6,
          7,
          8,
          9,
          10,
          11,
          12
         ],
         "xaxis": "x2",
         "y": [
          14.264516129032259,
          15.873648459383753,
          21.786824794433905,
          25.805065359477123,
          27.60876660341556,
          28.402281045751632,
          26.974060721062617,
          28.27609108159393,
          27.525660130718954,
          24.22294750158128,
          18.427065359477123,
          18.67749525616698
         ],
         "yaxis": "y2"
        },
        {
         "hovertemplate": "Estado=Nuevo León<br>Año=2022<br>Meses=%{x}<br>Temp_Superficial=%{y}<extra></extra>",
         "legendgroup": "Nuevo León",
         "line": {
          "color": "#00B0F6",
          "dash": "solid"
         },
         "marker": {
          "symbol": "circle"
         },
         "mode": "lines",
         "name": "Nuevo León",
         "showlegend": false,
         "type": "scattergl",
         "x": [
          1,
          2,
          3,
          4,
          5,
          6,
          7,
          8,
          9,
          10,
          11,
          12
         ],
         "xaxis": "x3",
         "y": [
          13.201726755218216,
          14.5859593837535,
          20.105983554712207,
          27.013320261437908,
          30.438159392789377,
          30.475078431372552,
          31.30595192915876,
          29.48652118912081,
          25.20285620915033,
          22.217273877292854,
          16.937339869281047,
          15.338918406072107
         ],
         "yaxis": "y3"
        },
        {
         "hovertemplate": "Estado=Nuevo León<br>Año=2023<br>Meses=%{x}<br>Temp_Superficial=%{y}<extra></extra>",
         "legendgroup": "Nuevo León",
         "line": {
          "color": "#00B0F6",
          "dash": "solid"
         },
         "marker": {
          "symbol": "circle"
         },
         "mode": "lines",
         "name": "Nuevo León",
         "showlegend": false,
         "type": "scattergl",
         "x": [
          1,
          2,
          3,
          4,
          5,
          6,
          7,
          8,
          9,
          10
         ],
         "xaxis": "x4",
         "y": [
          16.421878557874763,
          17.88348739495798,
          23.098241619228336,
          24.22154248366013,
          26.69545857052498,
          31.681045751633988,
          31.050512333965845,
          31.009949399114486,
          30.4190522875817,
          23.70595825426945
         ],
         "yaxis": "y4"
        },
        {
         "hovertemplate": "Estado=Oaxaca<br>Año=2020<br>Meses=%{x}<br>Temp_Superficial=%{y}<extra></extra>",
         "legendgroup": "Oaxaca",
         "line": {
          "color": "#E76BF3",
          "dash": "solid"
         },
         "marker": {
          "symbol": "circle"
         },
         "mode": "lines",
         "name": "Oaxaca",
         "showlegend": true,
         "type": "scattergl",
         "x": [
          1,
          2,
          3,
          4,
          5,
          6,
          7,
          8,
          9,
          10,
          11,
          12
         ],
         "xaxis": "x",
         "y": [
          18.19375778155065,
          19.998474289171206,
          22.99503621958121,
          26.023966666666666,
          24.535003961516697,
          22.485281286549707,
          21.322643463497453,
          20.517450481041312,
          19.80210233918129,
          18.45081380871534,
          17.777956140350877,
          17.114102433503113
         ],
         "yaxis": "y"
        },
        {
         "hovertemplate": "Estado=Oaxaca<br>Año=2021<br>Meses=%{x}<br>Temp_Superficial=%{y}<extra></extra>",
         "legendgroup": "Oaxaca",
         "line": {
          "color": "#E76BF3",
          "dash": "solid"
         },
         "marker": {
          "symbol": "circle"
         },
         "mode": "lines",
         "name": "Oaxaca",
         "showlegend": false,
         "type": "scattergl",
         "x": [
          1,
          2,
          3,
          4,
          5,
          6,
          7,
          8,
          9,
          10,
          11,
          12
         ],
         "xaxis": "x2",
         "y": [
          17.99063497453311,
          19.252688596491225,
          22.38221222410866,
          24.46865438596491,
          23.622763440860215,
          20.96868538011696,
          20.63091001697793,
          20.352335031126202,
          20.252648538011695,
          19.769434069043577,
          17.044519883040934,
          18.311465195246182
         ],
         "yaxis": "y2"
        },
        {
         "hovertemplate": "Estado=Oaxaca<br>Año=2022<br>Meses=%{x}<br>Temp_Superficial=%{y}<extra></extra>",
         "legendgroup": "Oaxaca",
         "line": {
          "color": "#E76BF3",
          "dash": "solid"
         },
         "marker": {
          "symbol": "circle"
         },
         "mode": "lines",
         "name": "Oaxaca",
         "showlegend": false,
         "type": "scattergl",
         "x": [
          1,
          2,
          3,
          4,
          5,
          6,
          7,
          8,
          9,
          10,
          11,
          12
         ],
         "xaxis": "x3",
         "y": [
          17.91766270514997,
          19.01268671679198,
          22.057667232597623,
          24.743619883040935,
          25.156782116581777,
          21.267869590643276,
          21.264695529145442,
          20.819361063950197,
          19.625505263157894,
          19.253976796830788,
          19.025492397660816,
          17.4546298811545
         ],
         "yaxis": "y3"
        },
        {
         "hovertemplate": "Estado=Oaxaca<br>Año=2023<br>Meses=%{x}<br>Temp_Superficial=%{y}<extra></extra>",
         "legendgroup": "Oaxaca",
         "line": {
          "color": "#E76BF3",
          "dash": "solid"
         },
         "marker": {
          "symbol": "circle"
         },
         "mode": "lines",
         "name": "Oaxaca",
         "showlegend": false,
         "type": "scattergl",
         "x": [
          1,
          2,
          3,
          4,
          5,
          6,
          7,
          8,
          9,
          10
         ],
         "xaxis": "x4",
         "y": [
          18.470486134691566,
          19.838968045112782,
          23.305929824561407,
          25.15233918128655,
          26.015963214487833,
          24.896323391812867,
          20.878086587436332,
          21.072946802490097,
          20.94493274853801,
          20.10289530277306
         ],
         "yaxis": "y4"
        },
        {
         "hovertemplate": "Estado=Puebla<br>Año=2020<br>Meses=%{x}<br>Temp_Superficial=%{y}<extra></extra>",
         "legendgroup": "Puebla",
         "line": {
          "color": "#F8766D",
          "dash": "solid"
         },
         "marker": {
          "symbol": "circle"
         },
         "mode": "lines",
         "name": "Puebla",
         "showlegend": true,
         "type": "scattergl",
         "x": [
          1,
          2,
          3,
          4,
          5,
          6,
          7,
          8,
          9,
          10,
          11,
          12
         ],
         "xaxis": "x",
         "y": [
          15.3712145086963,
          17.549570951851262,
          20.996522967147314,
          24.545440860215056,
          23.487768693325407,
          21.866078341013825,
          20.596574996283632,
          19.40287052177791,
          18.368125960061445,
          16.571088152222387,
          15.754597542242704,
          15.208938605619146
         ],
         "yaxis": "y"
        },
        {
         "hovertemplate": "Estado=Puebla<br>Año=2021<br>Meses=%{x}<br>Temp_Superficial=%{y}<extra></extra>",
         "legendgroup": "Puebla",
         "line": {
          "color": "#F8766D",
          "dash": "solid"
         },
         "marker": {
          "symbol": "circle"
         },
         "mode": "lines",
         "name": "Puebla",
         "showlegend": false,
         "type": "scattergl",
         "x": [
          1,
          2,
          3,
          4,
          5,
          6,
          7,
          8,
          9,
          10,
          11,
          12
         ],
         "xaxis": "x2",
         "y": [
          15.730955849561468,
          16.966226135615535,
          20.294538427233533,
          22.990033794162827,
          22.298990634755462,
          19.92153609831029,
          19.0626668648729,
          19.15791883454735,
          18.533932411674346,
          18.04763193102423,
          15.009396313364055,
          15.550825033447301
         ],
         "yaxis": "y2"
        },
        {
         "hovertemplate": "Estado=Puebla<br>Año=2022<br>Meses=%{x}<br>Temp_Superficial=%{y}<extra></extra>",
         "legendgroup": "Puebla",
         "line": {
          "color": "#F8766D",
          "dash": "solid"
         },
         "marker": {
          "symbol": "circle"
         },
         "mode": "lines",
         "name": "Puebla",
         "showlegend": false,
         "type": "scattergl",
         "x": [
          1,
          2,
          3,
          4,
          5,
          6,
          7,
          8,
          9,
          10,
          11,
          12
         ],
         "xaxis": "x3",
         "y": [
          15.158024379366731,
          16.105516787360106,
          19.693337297458005,
          23.212225806451613,
          24.299402408205736,
          21.26887250384025,
          20.692748624944254,
          19.844520588672513,
          18.234440860215056,
          18.0082756057678,
          17.532291858678956,
          14.970178385610227
         ],
         "yaxis": "y3"
        },
        {
         "hovertemplate": "Estado=Puebla<br>Año=2023<br>Meses=%{x}<br>Temp_Superficial=%{y}<extra></extra>",
         "legendgroup": "Puebla",
         "line": {
          "color": "#F8766D",
          "dash": "solid"
         },
         "marker": {
          "symbol": "circle"
         },
         "mode": "lines",
         "name": "Puebla",
         "showlegend": false,
         "type": "scattergl",
         "x": [
          1,
          2,
          3,
          4,
          5,
          6,
          7,
          8,
          9,
          10
         ],
         "xaxis": "x4",
         "y": [
          16.101482087111638,
          17.5722646477946,
          21.387230563401218,
          22.850924731182793,
          23.498061543035526,
          25.071482334869433,
          19.95705961052475,
          20.07631485060205,
          20.158818740399386,
          18.784752489965808
         ],
         "yaxis": "y4"
        },
        {
         "hovertemplate": "Estado=Querétaro<br>Año=2020<br>Meses=%{x}<br>Temp_Superficial=%{y}<extra></extra>",
         "legendgroup": "Querétaro",
         "line": {
          "color": "#A3A500",
          "dash": "solid"
         },
         "marker": {
          "symbol": "circle"
         },
         "mode": "lines",
         "name": "Querétaro",
         "showlegend": true,
         "type": "scattergl",
         "x": [
          1,
          2,
          3,
          4,
          5,
          6,
          7,
          8,
          9,
          10,
          11,
          12
         ],
         "xaxis": "x",
         "y": [
          13.993853046594982,
          16.636494252873565,
          21.202974910394264,
          25.39351851851852,
          23.726881720430107,
          22.74398148148148,
          22.227150537634408,
          21.08351254480287,
          18.986537037037035,
          17.519713261648747,
          15.983592592592592,
          14.671559139784945
         ],
         "yaxis": "y"
        },
        {
         "hovertemplate": "Estado=Querétaro<br>Año=2021<br>Meses=%{x}<br>Temp_Superficial=%{y}<extra></extra>",
         "legendgroup": "Querétaro",
         "line": {
          "color": "#A3A500",
          "dash": "solid"
         },
         "marker": {
          "symbol": "circle"
         },
         "mode": "lines",
         "name": "Querétaro",
         "showlegend": false,
         "type": "scattergl",
         "x": [
          1,
          2,
          3,
          4,
          5,
          6,
          7,
          8,
          9,
          10,
          11,
          12
         ],
         "xaxis": "x2",
         "y": [
          15.46937275985663,
          17.224484126984127,
          20.790376344086024,
          23.570425925925928,
          23.342275985663083,
          21.01403703703704,
          19.923906810035845,
          20.22720430107527,
          18.854481481481482,
          17.977526881720433,
          14.611462962962962,
          14.979462365591399
         ],
         "yaxis": "y2"
        },
        {
         "hovertemplate": "Estado=Querétaro<br>Año=2022<br>Meses=%{x}<br>Temp_Superficial=%{y}<extra></extra>",
         "legendgroup": "Querétaro",
         "line": {
          "color": "#A3A500",
          "dash": "solid"
         },
         "marker": {
          "symbol": "circle"
         },
         "mode": "lines",
         "name": "Querétaro",
         "showlegend": false,
         "type": "scattergl",
         "x": [
          1,
          2,
          3,
          4,
          5,
          6,
          7,
          8,
          9,
          10,
          11,
          12
         ],
         "xaxis": "x3",
         "y": [
          14.247598566308243,
          15.740019841269842,
          19.940017921146953,
          23.904314814814814,
          25.626863799283157,
          22.735314814814814,
          22.010017921146954,
          21.41646953405018,
          19.012351851851854,
          18.089068100358425,
          17.290055555555554,
          14.405483870967743
         ],
         "yaxis": "y3"
        },
        {
         "hovertemplate": "Estado=Querétaro<br>Año=2023<br>Meses=%{x}<br>Temp_Superficial=%{y}<extra></extra>",
         "legendgroup": "Querétaro",
         "line": {
          "color": "#A3A500",
          "dash": "solid"
         },
         "marker": {
          "symbol": "circle"
         },
         "mode": "lines",
         "name": "Querétaro",
         "showlegend": false,
         "type": "scattergl",
         "x": [
          1,
          2,
          3,
          4,
          5,
          6,
          7,
          8,
          9,
          10
         ],
         "xaxis": "x4",
         "y": [
          15.022939068100357,
          17.20486111111111,
          21.70068100358423,
          22.81111111111111,
          23.945555555555558,
          25.861592592592594,
          22.52992831541219,
          21.59899641577061,
          21.982092592592593,
          18.78401433691756
         ],
         "yaxis": "y4"
        },
        {
         "hovertemplate": "Estado=Quintana Roo<br>Año=2020<br>Meses=%{x}<br>Temp_Superficial=%{y}<extra></extra>",
         "legendgroup": "Quintana Roo",
         "line": {
          "color": "#00BF7D",
          "dash": "solid"
         },
         "marker": {
          "symbol": "circle"
         },
         "mode": "lines",
         "name": "Quintana Roo",
         "showlegend": true,
         "type": "scattergl",
         "x": [
          1,
          2,
          3,
          4,
          5,
          6,
          7,
          8,
          9,
          10,
          11,
          12
         ],
         "xaxis": "x",
         "y": [
          25.206774193548387,
          25.94702194357367,
          26.88818181818182,
          29.28336363636364,
          28.332873900293254,
          27.066727272727274,
          27.465953079178885,
          27.744281524926684,
          27.67278787878788,
          26.85923753665689,
          25.574121212121216,
          23.44041055718475
         ],
         "yaxis": "y"
        },
        {
         "hovertemplate": "Estado=Quintana Roo<br>Año=2021<br>Meses=%{x}<br>Temp_Superficial=%{y}<extra></extra>",
         "legendgroup": "Quintana Roo",
         "line": {
          "color": "#00BF7D",
          "dash": "solid"
         },
         "marker": {
          "symbol": "circle"
         },
         "mode": "lines",
         "name": "Quintana Roo",
         "showlegend": false,
         "type": "scattergl",
         "x": [
          1,
          2,
          3,
          4,
          5,
          6,
          7,
          8,
          9,
          10,
          11,
          12
         ],
         "xaxis": "x2",
         "y": [
          23.616803519061584,
          25.033311688311688,
          26.38574780058651,
          27.991212121212122,
          28.67281524926686,
          27.658939393939395,
          27.60178885630498,
          27.944398826979473,
          27.271848484848483,
          27.133431085043988,
          24.94190909090909,
          25.52692082111437
         ],
         "yaxis": "y2"
        },
        {
         "hovertemplate": "Estado=Quintana Roo<br>Año=2022<br>Meses=%{x}<br>Temp_Superficial=%{y}<extra></extra>",
         "legendgroup": "Quintana Roo",
         "line": {
          "color": "#00BF7D",
          "dash": "solid"
         },
         "marker": {
          "symbol": "circle"
         },
         "mode": "lines",
         "name": "Quintana Roo",
         "showlegend": false,
         "type": "scattergl",
         "x": [
          1,
          2,
          3,
          4,
          5,
          6,
          7,
          8,
          9,
          10,
          11,
          12
         ],
         "xaxis": "x3",
         "y": [
          24.125219941348977,
          24.871753246753247,
          26.526129032258066,
          27.604606060606063,
          28.585307917888564,
          26.93321212121212,
          27.889325513196482,
          27.55982404692082,
          27.104545454545455,
          26.673695014662755,
          26.436484848484852,
          25.61102639296188
         ],
         "yaxis": "y3"
        },
        {
         "hovertemplate": "Estado=Quintana Roo<br>Año=2023<br>Meses=%{x}<br>Temp_Superficial=%{y}<extra></extra>",
         "legendgroup": "Quintana Roo",
         "line": {
          "color": "#00BF7D",
          "dash": "solid"
         },
         "marker": {
          "symbol": "circle"
         },
         "mode": "lines",
         "name": "Quintana Roo",
         "showlegend": false,
         "type": "scattergl",
         "x": [
          1,
          2,
          3,
          4,
          5,
          6,
          7,
          8,
          9,
          10
         ],
         "xaxis": "x4",
         "y": [
          25.47492668621701,
          25.819967532467533,
          26.945454545454545,
          28.46139393939394,
          29.892668621700878,
          30.27621212121212,
          28.480703812316715,
          28.39618768328446,
          27.883060606060607,
          27.39340175953079
         ],
         "yaxis": "y4"
        },
        {
         "hovertemplate": "Estado=San Luis Potosí<br>Año=2020<br>Meses=%{x}<br>Temp_Superficial=%{y}<extra></extra>",
         "legendgroup": "San Luis Potosí",
         "line": {
          "color": "#00B0F6",
          "dash": "solid"
         },
         "marker": {
          "symbol": "circle"
         },
         "mode": "lines",
         "name": "San Luis Potosí",
         "showlegend": true,
         "type": "scattergl",
         "x": [
          1,
          2,
          3,
          4,
          5,
          6,
          7,
          8,
          9,
          10,
          11,
          12
         ],
         "xaxis": "x",
         "y": [
          15.6128531701891,
          17.913977407847803,
          23.729410456062293,
          27.85101724137931,
          26.394755283648497,
          25.691626436781608,
          25.786579532814237,
          24.566535038932145,
          22.485442528735632,
          20.911907675194662,
          19.001293103448276,
          15.816501668520578
         ],
         "yaxis": "y"
        },
        {
         "hovertemplate": "Estado=San Luis Potosí<br>Año=2021<br>Meses=%{x}<br>Temp_Superficial=%{y}<extra></extra>",
         "legendgroup": "San Luis Potosí",
         "line": {
          "color": "#00B0F6",
          "dash": "solid"
         },
         "marker": {
          "symbol": "circle"
         },
         "mode": "lines",
         "name": "San Luis Potosí",
         "showlegend": false,
         "type": "scattergl",
         "x": [
          1,
          2,
          3,
          4,
          5,
          6,
          7,
          8,
          9,
          10,
          11,
          12
         ],
         "xaxis": "x2",
         "y": [
          16.50360400444939,
          18.659187192118228,
          22.694621802002224,
          26.06253448275862,
          26.36914905450501,
          24.600689655172413,
          23.048854282536148,
          23.859771968854282,
          22.311988505747127,
          21.077897664071187,
          17.8706091954023,
          17.863581757508342
         ],
         "yaxis": "y2"
        },
        {
         "hovertemplate": "Estado=San Luis Potosí<br>Año=2022<br>Meses=%{x}<br>Temp_Superficial=%{y}<extra></extra>",
         "legendgroup": "San Luis Potosí",
         "line": {
          "color": "#00B0F6",
          "dash": "solid"
         },
         "marker": {
          "symbol": "circle"
         },
         "mode": "lines",
         "name": "San Luis Potosí",
         "showlegend": false,
         "type": "scattergl",
         "x": [
          1,
          2,
          3,
          4,
          5,
          6,
          7,
          8,
          9,
          10,
          11,
          12
         ],
         "xaxis": "x3",
         "y": [
          16.036012235817577,
          17.263442118226603,
          21.623309232480533,
          26.23186206896552,
          28.57921023359288,
          26.117643678160917,
          25.71512235817575,
          25.439087875417133,
          22.133867816091954,
          20.25043937708565,
          18.849367816091956,
          16.06222469410456
         ],
         "yaxis": "y3"
        },
        {
         "hovertemplate": "Estado=San Luis Potosí<br>Año=2023<br>Meses=%{x}<br>Temp_Superficial=%{y}<extra></extra>",
         "legendgroup": "San Luis Potosí",
         "line": {
          "color": "#00B0F6",
          "dash": "solid"
         },
         "marker": {
          "symbol": "circle"
         },
         "mode": "lines",
         "name": "San Luis Potosí",
         "showlegend": false,
         "type": "scattergl",
         "x": [
          1,
          2,
          3,
          4,
          5,
          6,
          7,
          8,
          9,
          10
         ],
         "xaxis": "x4",
         "y": [
          17.349894327030032,
          19.179593596059114,
          23.860400444938822,
          24.618810344827587,
          26.330339265850945,
          29.455850574712645,
          26.643448275862067,
          26.714160177975526,
          27.17831609195402,
          22.175984427141266
         ],
         "yaxis": "y4"
        },
        {
         "hovertemplate": "Estado=Sinaloa<br>Año=2020<br>Meses=%{x}<br>Temp_Superficial=%{y}<extra></extra>",
         "legendgroup": "Sinaloa",
         "line": {
          "color": "#E76BF3",
          "dash": "solid"
         },
         "marker": {
          "symbol": "circle"
         },
         "mode": "lines",
         "name": "Sinaloa",
         "showlegend": true,
         "type": "scattergl",
         "x": [
          1,
          2,
          3,
          4,
          5,
          6,
          7,
          8,
          9,
          10,
          11,
          12
         ],
         "xaxis": "x",
         "y": [
          18.73279569892473,
          19.59691570881226,
          23.01353046594982,
          25.333962962962964,
          28.923333333333332,
          31.310092592592593,
          29.34016129032258,
          28.926272401433692,
          27.85537037037037,
          27.18388888888889,
          24.427222222222223,
          19.18100358422939
         ],
         "yaxis": "y"
        },
        {
         "hovertemplate": "Estado=Sinaloa<br>Año=2021<br>Meses=%{x}<br>Temp_Superficial=%{y}<extra></extra>",
         "legendgroup": "Sinaloa",
         "line": {
          "color": "#E76BF3",
          "dash": "solid"
         },
         "marker": {
          "symbol": "circle"
         },
         "mode": "lines",
         "name": "Sinaloa",
         "showlegend": false,
         "type": "scattergl",
         "x": [
          1,
          2,
          3,
          4,
          5,
          6,
          7,
          8,
          9,
          10,
          11,
          12
         ],
         "xaxis": "x2",
         "y": [
          18.51132616487455,
          20.332539682539682,
          22.134283154121864,
          25.866462962962963,
          28.883620071684586,
          30.839814814814815,
          28.654982078853045,
          28.042329749103946,
          26.7765,
          26.326594982078852,
          24.216851851851853,
          21.37853046594982
         ],
         "yaxis": "y2"
        },
        {
         "hovertemplate": "Estado=Sinaloa<br>Año=2022<br>Meses=%{x}<br>Temp_Superficial=%{y}<extra></extra>",
         "legendgroup": "Sinaloa",
         "line": {
          "color": "#E76BF3",
          "dash": "solid"
         },
         "marker": {
          "symbol": "circle"
         },
         "mode": "lines",
         "name": "Sinaloa",
         "showlegend": false,
         "type": "scattergl",
         "x": [
          1,
          2,
          3,
          4,
          5,
          6,
          7,
          8,
          9,
          10,
          11,
          12
         ],
         "xaxis": "x3",
         "y": [
          19.961774193548386,
          20.441468253968253,
          21.760609318996416,
          25.68748148148148,
          28.48600358422939,
          30.011166666666668,
          28.817921146953406,
          27.05505376344086,
          26.85872222222222,
          24.840232974910396,
          21.021574074074074,
          20.26116487455197
         ],
         "yaxis": "y3"
        },
        {
         "hovertemplate": "Estado=Sinaloa<br>Año=2023<br>Meses=%{x}<br>Temp_Superficial=%{y}<extra></extra>",
         "legendgroup": "Sinaloa",
         "line": {
          "color": "#E76BF3",
          "dash": "solid"
         },
         "marker": {
          "symbol": "circle"
         },
         "mode": "lines",
         "name": "Sinaloa",
         "showlegend": false,
         "type": "scattergl",
         "x": [
          1,
          2,
          3,
          4,
          5,
          6,
          7,
          8,
          9,
          10
         ],
         "xaxis": "x4",
         "y": [
          19.53541218637993,
          19.881547619047616,
          22.384695340501793,
          25.15277777777778,
          27.81121863799283,
          31.07059259259259,
          28.98094982078853,
          28.727616487455197,
          29.260296296296296,
          26.613655913978494
         ],
         "yaxis": "y4"
        },
        {
         "hovertemplate": "Estado=Sonora<br>Año=2020<br>Meses=%{x}<br>Temp_Superficial=%{y}<extra></extra>",
         "legendgroup": "Sonora",
         "line": {
          "color": "#F8766D",
          "dash": "solid"
         },
         "marker": {
          "symbol": "circle"
         },
         "mode": "lines",
         "name": "Sonora",
         "showlegend": true,
         "type": "scattergl",
         "x": [
          1,
          2,
          3,
          4,
          5,
          6,
          7,
          8,
          9,
          10,
          11,
          12
         ],
         "xaxis": "x",
         "y": [
          11.430855734767023,
          12.927116858237548,
          15.297329749103943,
          20.41009722222222,
          27.148956093189966,
          31.25213425925926,
          31.19483870967742,
          31.212836021505378,
          29.02313425925926,
          24.95847670250896,
          19.30009259259259,
          11.886693548387097
         ],
         "yaxis": "y"
        },
        {
         "hovertemplate": "Estado=Sonora<br>Año=2021<br>Meses=%{x}<br>Temp_Superficial=%{y}<extra></extra>",
         "legendgroup": "Sonora",
         "line": {
          "color": "#F8766D",
          "dash": "solid"
         },
         "marker": {
          "symbol": "circle"
         },
         "mode": "lines",
         "name": "Sonora",
         "showlegend": false,
         "type": "scattergl",
         "x": [
          1,
          2,
          3,
          4,
          5,
          6,
          7,
          8,
          9,
          10,
          11,
          12
         ],
         "xaxis": "x2",
         "y": [
          11.947549283154123,
          13.784742063492065,
          16.417105734767027,
          22.854208333333332,
          26.287491039426524,
          32.26711574074074,
          28.658490143369175,
          28.49910842293907,
          26.49723611111111,
          21.831854838709678,
          19.038574074074074,
          14.399802867383514
         ],
         "yaxis": "y2"
        },
        {
         "hovertemplate": "Estado=Sonora<br>Año=2022<br>Meses=%{x}<br>Temp_Superficial=%{y}<extra></extra>",
         "legendgroup": "Sonora",
         "line": {
          "color": "#F8766D",
          "dash": "solid"
         },
         "marker": {
          "symbol": "circle"
         },
         "mode": "lines",
         "name": "Sonora",
         "showlegend": false,
         "type": "scattergl",
         "x": [
          1,
          2,
          3,
          4,
          5,
          6,
          7,
          8,
          9,
          10,
          11,
          12
         ],
         "xaxis": "x3",
         "y": [
          12.641653225806452,
          12.98999503968254,
          17.235394265232976,
          23.128300925925924,
          26.747110215053766,
          31.04411111111111,
          29.512567204301078,
          26.881814516129033,
          25.766986111111112,
          21.090636200716848,
          14.231861111111112,
          12.483593189964159
         ],
         "yaxis": "y3"
        },
        {
         "hovertemplate": "Estado=Sonora<br>Año=2023<br>Meses=%{x}<br>Temp_Superficial=%{y}<extra></extra>",
         "legendgroup": "Sonora",
         "line": {
          "color": "#F8766D",
          "dash": "solid"
         },
         "marker": {
          "symbol": "circle"
         },
         "mode": "lines",
         "name": "Sonora",
         "showlegend": false,
         "type": "scattergl",
         "x": [
          1,
          2,
          3,
          4,
          5,
          6,
          7,
          8,
          9,
          10
         ],
         "xaxis": "x4",
         "y": [
          10.993239247311829,
          12.11733134920635,
          16.489193548387096,
          22.004916666666666,
          25.491890681003586,
          30.157597222222222,
          33.18713261648745,
          31.11232526881721,
          29.099777777777778,
          25.346724910394265
         ],
         "yaxis": "y4"
        },
        {
         "hovertemplate": "Estado=Tabasco<br>Año=2020<br>Meses=%{x}<br>Temp_Superficial=%{y}<extra></extra>",
         "legendgroup": "Tabasco",
         "line": {
          "color": "#A3A500",
          "dash": "solid"
         },
         "marker": {
          "symbol": "circle"
         },
         "mode": "lines",
         "name": "Tabasco",
         "showlegend": true,
         "type": "scattergl",
         "x": [
          1,
          2,
          3,
          4,
          5,
          6,
          7,
          8,
          9,
          10,
          11,
          12
         ],
         "xaxis": "x",
         "y": [
          23.25166982922201,
          24.029046653144015,
          26.31527514231499,
          31.739098039215687,
          30.527590132827324,
          27.209745098039214,
          27.26474383301708,
          27.151537001897534,
          26.923862745098038,
          25.667248576850096,
          24.46170588235294,
          22.391062618595825
         ],
         "yaxis": "y"
        },
        {
         "hovertemplate": "Estado=Tabasco<br>Año=2021<br>Meses=%{x}<br>Temp_Superficial=%{y}<extra></extra>",
         "legendgroup": "Tabasco",
         "line": {
          "color": "#A3A500",
          "dash": "solid"
         },
         "marker": {
          "symbol": "circle"
         },
         "mode": "lines",
         "name": "Tabasco",
         "showlegend": false,
         "type": "scattergl",
         "x": [
          1,
          2,
          3,
          4,
          5,
          6,
          7,
          8,
          9,
          10,
          11,
          12
         ],
         "xaxis": "x2",
         "y": [
          22.779601518026567,
          23.03401260504202,
          25.66470588235294,
          29.775549019607844,
          29.881631878557876,
          28.171666666666667,
          27.263472485768503,
          27.441935483870967,
          27.235745098039214,
          26.51777988614801,
          23.510450980392157,
          23.927950664136624
         ],
         "yaxis": "y2"
        },
        {
         "hovertemplate": "Estado=Tabasco<br>Año=2022<br>Meses=%{x}<br>Temp_Superficial=%{y}<extra></extra>",
         "legendgroup": "Tabasco",
         "line": {
          "color": "#A3A500",
          "dash": "solid"
         },
         "marker": {
          "symbol": "circle"
         },
         "mode": "lines",
         "name": "Tabasco",
         "showlegend": false,
         "type": "scattergl",
         "x": [
          1,
          2,
          3,
          4,
          5,
          6,
          7,
          8,
          9,
          10,
          11,
          12
         ],
         "xaxis": "x3",
         "y": [
          22.49876660341556,
          22.81466386554622,
          24.858349146110058,
          28.37627450980392,
          30.639962049335864,
          27.05709803921569,
          27.42789373814042,
          27.31550284629981,
          26.52178431372549,
          25.518007590132825,
          24.998980392156863,
          23.397362428842506
         ],
         "yaxis": "y3"
        },
        {
         "hovertemplate": "Estado=Tabasco<br>Año=2023<br>Meses=%{x}<br>Temp_Superficial=%{y}<extra></extra>",
         "legendgroup": "Tabasco",
         "line": {
          "color": "#A3A500",
          "dash": "solid"
         },
         "marker": {
          "symbol": "circle"
         },
         "mode": "lines",
         "name": "Tabasco",
         "showlegend": false,
         "type": "scattergl",
         "x": [
          1,
          2,
          3,
          4,
          5,
          6,
          7,
          8,
          9,
          10
         ],
         "xaxis": "x4",
         "y": [
          23.188671726755217,
          23.53857142857143,
          25.932732447817834,
          28.341039215686276,
          31.337191650853892,
          32.649,
          30.115863377609106,
          30.32438330170778,
          29.77854901960784,
          27.991537001897534
         ],
         "yaxis": "y4"
        },
        {
         "hovertemplate": "Estado=Tamaulipas<br>Año=2020<br>Meses=%{x}<br>Temp_Superficial=%{y}<extra></extra>",
         "legendgroup": "Tamaulipas",
         "line": {
          "color": "#00BF7D",
          "dash": "solid"
         },
         "marker": {
          "symbol": "circle"
         },
         "mode": "lines",
         "name": "Tamaulipas",
         "showlegend": true,
         "type": "scattergl",
         "x": [
          1,
          2,
          3,
          4,
          5,
          6,
          7,
          8,
          9,
          10,
          11,
          12
         ],
         "xaxis": "x",
         "y": [
          18.050517629407352,
          19.459951884522855,
          25.443870967741937,
          28.764736434108528,
          28.377636909227306,
          28.160372093023256,
          28.904643660915227,
          28.400810202550637,
          25.999891472868217,
          24.20821455363841,
          21.86437984496124,
          16.85873218304576
         ],
         "yaxis": "y"
        },
        {
         "hovertemplate": "Estado=Tamaulipas<br>Año=2021<br>Meses=%{x}<br>Temp_Superficial=%{y}<extra></extra>",
         "legendgroup": "Tamaulipas",
         "line": {
          "color": "#00BF7D",
          "dash": "solid"
         },
         "marker": {
          "symbol": "circle"
         },
         "mode": "lines",
         "name": "Tamaulipas",
         "showlegend": false,
         "type": "scattergl",
         "x": [
          1,
          2,
          3,
          4,
          5,
          6,
          7,
          8,
          9,
          10,
          11,
          12
         ],
         "xaxis": "x2",
         "y": [
          17.37528882220555,
          18.033147840531562,
          23.502078019504875,
          27.09368992248062,
          28.294598649662415,
          27.82781395348837,
          26.468597149287323,
          27.922018004501126,
          27.255713178294577,
          24.379917479369844,
          19.929953488372092,
          20.267989497374344
         ],
         "yaxis": "y2"
        },
        {
         "hovertemplate": "Estado=Tamaulipas<br>Año=2022<br>Meses=%{x}<br>Temp_Superficial=%{y}<extra></extra>",
         "legendgroup": "Tamaulipas",
         "line": {
          "color": "#00BF7D",
          "dash": "solid"
         },
         "marker": {
          "symbol": "circle"
         },
         "mode": "lines",
         "name": "Tamaulipas",
         "showlegend": false,
         "type": "scattergl",
         "x": [
          1,
          2,
          3,
          4,
          5,
          6,
          7,
          8,
          9,
          10,
          11,
          12
         ],
         "xaxis": "x3",
         "y": [
          15.990232558139535,
          16.632225913621262,
          21.97218304576144,
          27.728232558139535,
          30.037141785446362,
          29.7915503875969,
          30.129489872468117,
          29.344073518379595,
          26.20996899224806,
          23.608462115528884,
          19.43282945736434,
          17.32616654163541
         ],
         "yaxis": "y3"
        },
        {
         "hovertemplate": "Estado=Tamaulipas<br>Año=2023<br>Meses=%{x}<br>Temp_Superficial=%{y}<extra></extra>",
         "legendgroup": "Tamaulipas",
         "line": {
          "color": "#00BF7D",
          "dash": "solid"
         },
         "marker": {
          "symbol": "circle"
         },
         "mode": "lines",
         "name": "Tamaulipas",
         "showlegend": false,
         "type": "scattergl",
         "x": [
          1,
          2,
          3,
          4,
          5,
          6,
          7,
          8,
          9,
          10
         ],
         "xaxis": "x4",
         "y": [
          19.07118529632408,
          19.799684385382058,
          24.789819954988747,
          25.723643410852713,
          27.969774943735935,
          31.981906976744185,
          30.41,
          30.57450112528132,
          30.992441860465117,
          25.542873218304578
         ],
         "yaxis": "y4"
        },
        {
         "hovertemplate": "Estado=Tlaxcala<br>Año=2020<br>Meses=%{x}<br>Temp_Superficial=%{y}<extra></extra>",
         "legendgroup": "Tlaxcala",
         "line": {
          "color": "#00B0F6",
          "dash": "solid"
         },
         "marker": {
          "symbol": "circle"
         },
         "mode": "lines",
         "name": "Tlaxcala",
         "showlegend": true,
         "type": "scattergl",
         "x": [
          1,
          2,
          3,
          4,
          5,
          6,
          7,
          8,
          9,
          10,
          11,
          12
         ],
         "xaxis": "x",
         "y": [
          12.063016129032258,
          14.843982758620689,
          18.362483870967743,
          21.301366666666667,
          20.467354838709678,
          18.757416666666664,
          17.571193548387097,
          16.21832258064516,
          15.390883333333333,
          13.313064516129032,
          11.909683333333334,
          12.332048387096775
         ],
         "yaxis": "y"
        },
        {
         "hovertemplate": "Estado=Tlaxcala<br>Año=2021<br>Meses=%{x}<br>Temp_Superficial=%{y}<extra></extra>",
         "legendgroup": "Tlaxcala",
         "line": {
          "color": "#00B0F6",
          "dash": "solid"
         },
         "marker": {
          "symbol": "circle"
         },
         "mode": "lines",
         "name": "Tlaxcala",
         "showlegend": false,
         "type": "scattergl",
         "x": [
          1,
          2,
          3,
          4,
          5,
          6,
          7,
          8,
          9,
          10,
          11,
          12
         ],
         "xaxis": "x2",
         "y": [
          12.41825806451613,
          13.812714285714286,
          17.635564516129033,
          19.848300000000002,
          19.032225806451613,
          16.55291666666667,
          15.85766129032258,
          15.917258064516128,
          15.4528,
          14.741258064516128,
          11.554366666666667,
          11.48656451612903
         ],
         "yaxis": "y2"
        },
        {
         "hovertemplate": "Estado=Tlaxcala<br>Año=2022<br>Meses=%{x}<br>Temp_Superficial=%{y}<extra></extra>",
         "legendgroup": "Tlaxcala",
         "line": {
          "color": "#00B0F6",
          "dash": "solid"
         },
         "marker": {
          "symbol": "circle"
         },
         "mode": "lines",
         "name": "Tlaxcala",
         "showlegend": false,
         "type": "scattergl",
         "x": [
          1,
          2,
          3,
          4,
          5,
          6,
          7,
          8,
          9,
          10,
          11,
          12
         ],
         "xaxis": "x3",
         "y": [
          11.75301612903226,
          13.263857142857143,
          16.648725806451612,
          20.205416666666668,
          21.36932258064516,
          18.396133333333335,
          17.888290322580644,
          16.835596774193547,
          15.148133333333334,
          15.049435483870969,
          14.3964,
          11.66574193548387
         ],
         "yaxis": "y3"
        },
        {
         "hovertemplate": "Estado=Tlaxcala<br>Año=2023<br>Meses=%{x}<br>Temp_Superficial=%{y}<extra></extra>",
         "legendgroup": "Tlaxcala",
         "line": {
          "color": "#00B0F6",
          "dash": "solid"
         },
         "marker": {
          "symbol": "circle"
         },
         "mode": "lines",
         "name": "Tlaxcala",
         "showlegend": false,
         "type": "scattergl",
         "x": [
          1,
          2,
          3,
          4,
          5,
          6,
          7,
          8,
          9,
          10
         ],
         "xaxis": "x4",
         "y": [
          12.560467741935485,
          14.554482142857141,
          18.365000000000002,
          19.757683333333333,
          20.327209677419354,
          21.63675,
          16.18272580645161,
          16.258209677419355,
          15.825133333333333,
          15.290112903225808
         ],
         "yaxis": "y4"
        },
        {
         "hovertemplate": "Estado=Veracruz<br>Año=2020<br>Meses=%{x}<br>Temp_Superficial=%{y}<extra></extra>",
         "legendgroup": "Veracruz",
         "line": {
          "color": "#E76BF3",
          "dash": "solid"
         },
         "marker": {
          "symbol": "circle"
         },
         "mode": "lines",
         "name": "Veracruz",
         "showlegend": true,
         "type": "scattergl",
         "x": [
          1,
          2,
          3,
          4,
          5,
          6,
          7,
          8,
          9,
          10,
          11,
          12
         ],
         "xaxis": "x",
         "y": [
          18.985909920876445,
          20.052421925829538,
          23.686489653073643,
          28.23419182389937,
          26.964421789409617,
          25.33019968553459,
          25.094882836275108,
          24.471822884966524,
          23.42914779874214,
          21.635823189287887,
          20.361970125786165,
          18.04863664029215
         ],
         "yaxis": "y"
        },
        {
         "hovertemplate": "Estado=Veracruz<br>Año=2021<br>Meses=%{x}<br>Temp_Superficial=%{y}<extra></extra>",
         "legendgroup": "Veracruz",
         "line": {
          "color": "#E76BF3",
          "dash": "solid"
         },
         "marker": {
          "symbol": "circle"
         },
         "mode": "lines",
         "name": "Veracruz",
         "showlegend": false,
         "type": "scattergl",
         "x": [
          1,
          2,
          3,
          4,
          5,
          6,
          7,
          8,
          9,
          10,
          11,
          12
         ],
         "xaxis": "x2",
         "y": [
          18.786489653073644,
          19.672252358490567,
          22.77319993913573,
          26.295861635220124,
          26.660809494826538,
          24.925943396226415,
          24.043552951917228,
          24.122617163724893,
          23.76170283018868,
          22.867874315276936,
          19.62571855345912,
          19.795739500912966
         ],
         "yaxis": "y2"
        },
        {
         "hovertemplate": "Estado=Veracruz<br>Año=2022<br>Meses=%{x}<br>Temp_Superficial=%{y}<extra></extra>",
         "legendgroup": "Veracruz",
         "line": {
          "color": "#E76BF3",
          "dash": "solid"
         },
         "marker": {
          "symbol": "circle"
         },
         "mode": "lines",
         "name": "Veracruz",
         "showlegend": false,
         "type": "scattergl",
         "x": [
          1,
          2,
          3,
          4,
          5,
          6,
          7,
          8,
          9,
          10,
          11,
          12
         ],
         "xaxis": "x3",
         "y": [
          18.097408703590993,
          18.449883760107816,
          22.121110772976262,
          26.617721698113208,
          28.464082471089473,
          25.14444496855346,
          24.430672550213025,
          24.404134205721242,
          23.263198113207547,
          21.786269020085207,
          20.856481132075473,
          18.569018563603166
         ],
         "yaxis": "y3"
        },
        {
         "hovertemplate": "Estado=Veracruz<br>Año=2023<br>Meses=%{x}<br>Temp_Superficial=%{y}<extra></extra>",
         "legendgroup": "Veracruz",
         "line": {
          "color": "#E76BF3",
          "dash": "solid"
         },
         "marker": {
          "symbol": "circle"
         },
         "mode": "lines",
         "name": "Veracruz",
         "showlegend": false,
         "type": "scattergl",
         "x": [
          1,
          2,
          3,
          4,
          5,
          6,
          7,
          8,
          9,
          10
         ],
         "xaxis": "x4",
         "y": [
          19.51531801582471,
          20.223020552560648,
          24.133982045039563,
          25.991201257861636,
          27.63401095556908,
          29.09177358490566,
          25.833324710894704,
          25.765092818015827,
          26.500773584905662,
          24.58020998174072
         ],
         "yaxis": "y4"
        },
        {
         "hovertemplate": "Estado=Yucatán<br>Año=2020<br>Meses=%{x}<br>Temp_Superficial=%{y}<extra></extra>",
         "legendgroup": "Yucatán",
         "line": {
          "color": "#F8766D",
          "dash": "solid"
         },
         "marker": {
          "symbol": "circle"
         },
         "mode": "lines",
         "name": "Yucatán",
         "showlegend": true,
         "type": "scattergl",
         "x": [
          1,
          2,
          3,
          4,
          5,
          6,
          7,
          8,
          9,
          10,
          11,
          12
         ],
         "xaxis": "x",
         "y": [
          24.662449786975046,
          25.990110605074822,
          28.21750152160682,
          31.34893710691824,
          29.057678027997564,
          26.771094339622643,
          27.164157029823492,
          27.419245283018867,
          27.451424528301885,
          26.23932136335971,
          24.69772641509434,
          22.340091296409007
         ],
         "yaxis": "y"
        },
        {
         "hovertemplate": "Estado=Yucatán<br>Año=2021<br>Meses=%{x}<br>Temp_Superficial=%{y}<extra></extra>",
         "legendgroup": "Yucatán",
         "line": {
          "color": "#F8766D",
          "dash": "solid"
         },
         "marker": {
          "symbol": "circle"
         },
         "mode": "lines",
         "name": "Yucatán",
         "showlegend": false,
         "type": "scattergl",
         "x": [
          1,
          2,
          3,
          4,
          5,
          6,
          7,
          8,
          9,
          10,
          11,
          12
         ],
         "xaxis": "x2",
         "y": [
          22.95106512477176,
          24.737371967654987,
          27.100763846622034,
          29.608534591194967,
          29.18085514303104,
          27.496106918238993,
          27.516472915398662,
          27.59368837492392,
          27.03723899371069,
          27.318752282410223,
          24.780245283018864,
          25.58534692635423
         ],
         "yaxis": "y2"
        },
        {
         "hovertemplate": "Estado=Yucatán<br>Año=2022<br>Meses=%{x}<br>Temp_Superficial=%{y}<extra></extra>",
         "legendgroup": "Yucatán",
         "line": {
          "color": "#F8766D",
          "dash": "solid"
         },
         "marker": {
          "symbol": "circle"
         },
         "mode": "lines",
         "name": "Yucatán",
         "showlegend": false,
         "type": "scattergl",
         "x": [
          1,
          2,
          3,
          4,
          5,
          6,
          7,
          8,
          9,
          10,
          11,
          12
         ],
         "xaxis": "x3",
         "y": [
          23.661040779062688,
          24.60317385444744,
          26.76070298234936,
          28.771301886792454,
          29.35354534388314,
          27.452427672955974,
          27.712373706634207,
          26.920736457699327,
          26.52080817610063,
          25.873886183810104,
          26.381783018867928,
          25.202032866707246
         ],
         "yaxis": "y3"
        },
        {
         "hovertemplate": "Estado=Yucatán<br>Año=2023<br>Meses=%{x}<br>Temp_Superficial=%{y}<extra></extra>",
         "legendgroup": "Yucatán",
         "line": {
          "color": "#F8766D",
          "dash": "solid"
         },
         "marker": {
          "symbol": "circle"
         },
         "mode": "lines",
         "name": "Yucatán",
         "showlegend": false,
         "type": "scattergl",
         "x": [
          1,
          2,
          3,
          4,
          5,
          6,
          7,
          8,
          9,
          10
         ],
         "xaxis": "x4",
         "y": [
          25.00276628119294,
          25.793429919137463,
          28.10314668289714,
          30.019569182389937,
          31.039278758368834,
          31.354490566037736,
          29.337534996956787,
          29.39619293974437,
          29.091490566037738,
          27.839564820450395
         ],
         "yaxis": "y4"
        },
        {
         "hovertemplate": "Estado=Zacatecas<br>Año=2020<br>Meses=%{x}<br>Temp_Superficial=%{y}<extra></extra>",
         "legendgroup": "Zacatecas",
         "line": {
          "color": "#A3A500",
          "dash": "solid"
         },
         "marker": {
          "symbol": "circle"
         },
         "mode": "lines",
         "name": "Zacatecas",
         "showlegend": true,
         "type": "scattergl",
         "x": [
          1,
          2,
          3,
          4,
          5,
          6,
          7,
          8,
          9,
          10,
          11,
          12
         ],
         "xaxis": "x",
         "y": [
          12.122525027808676,
          14.746985731272295,
          20.64395439377086,
          22.623310344827583,
          23.921946607341493,
          25.05164367816092,
          22.509938820912126,
          21.772313681868745,
          20.346563218390802,
          18.642614015572857,
          16.14351724137931,
          12.866112347052281
         ],
         "yaxis": "y"
        },
        {
         "hovertemplate": "Estado=Zacatecas<br>Año=2021<br>Meses=%{x}<br>Temp_Superficial=%{y}<extra></extra>",
         "legendgroup": "Zacatecas",
         "line": {
          "color": "#A3A500",
          "dash": "solid"
         },
         "marker": {
          "symbol": "circle"
         },
         "mode": "lines",
         "name": "Zacatecas",
         "showlegend": false,
         "type": "scattergl",
         "x": [
          1,
          2,
          3,
          4,
          5,
          6,
          7,
          8,
          9,
          10,
          11,
          12
         ],
         "xaxis": "x2",
         "y": [
          12.69162958843159,
          15.656865763546797,
          19.630773081201333,
          22.189160919540228,
          24.313042269187985,
          22.86692528735632,
          20.773476084538377,
          20.92920467185762,
          19.440936781609196,
          18.52267519466073,
          15.216954022988507,
          13.795923248053393
         ],
         "yaxis": "y2"
        },
        {
         "hovertemplate": "Estado=Zacatecas<br>Año=2022<br>Meses=%{x}<br>Temp_Superficial=%{y}<extra></extra>",
         "legendgroup": "Zacatecas",
         "line": {
          "color": "#A3A500",
          "dash": "solid"
         },
         "marker": {
          "symbol": "circle"
         },
         "mode": "lines",
         "name": "Zacatecas",
         "showlegend": false,
         "type": "scattergl",
         "x": [
          1,
          2,
          3,
          4,
          5,
          6,
          7,
          8,
          9,
          10,
          11,
          12
         ],
         "xaxis": "x3",
         "y": [
          12.964666295884317,
          14.79935960591133,
          17.46963848720801,
          22.386471264367817,
          25.61012235817575,
          24.66305747126437,
          23.24744716351502,
          22.221446051167966,
          20.389086206896554,
          18.21742491657397,
          15.711436781609196,
          13.280812013348166
         ],
         "yaxis": "y3"
        },
        {
         "hovertemplate": "Estado=Zacatecas<br>Año=2023<br>Meses=%{x}<br>Temp_Superficial=%{y}<extra></extra>",
         "legendgroup": "Zacatecas",
         "line": {
          "color": "#A3A500",
          "dash": "solid"
         },
         "marker": {
          "symbol": "circle"
         },
         "mode": "lines",
         "name": "Zacatecas",
         "showlegend": false,
         "type": "scattergl",
         "x": [
          1,
          2,
          3,
          4,
          5,
          6,
          7,
          8,
          9,
          10
         ],
         "xaxis": "x4",
         "y": [
          13.0833426028921,
          16.045775862068965,
          19.316518353726362,
          21.488494252873565,
          22.783125695216906,
          27.00713218390805,
          24.115,
          22.872269187986653,
          22.829327586206897,
          18.91695216907675
         ],
         "yaxis": "y4"
        }
       ],
       "layout": {
        "annotations": [
         {
          "font": {},
          "showarrow": false,
          "text": "Año=2020",
          "x": 0.1175,
          "xanchor": "center",
          "xref": "paper",
          "y": 1,
          "yanchor": "bottom",
          "yref": "paper"
         },
         {
          "font": {},
          "showarrow": false,
          "text": "Año=2021",
          "x": 0.3725,
          "xanchor": "center",
          "xref": "paper",
          "y": 1,
          "yanchor": "bottom",
          "yref": "paper"
         },
         {
          "font": {},
          "showarrow": false,
          "text": "Año=2022",
          "x": 0.6275,
          "xanchor": "center",
          "xref": "paper",
          "y": 1,
          "yanchor": "bottom",
          "yref": "paper"
         },
         {
          "font": {},
          "showarrow": false,
          "text": "Año=2023",
          "x": 0.8824999999999998,
          "xanchor": "center",
          "xref": "paper",
          "y": 1,
          "yanchor": "bottom",
          "yref": "paper"
         }
        ],
        "height": 500,
        "legend": {
         "title": {
          "text": "Estado"
         },
         "tracegroupgap": 0
        },
        "margin": {
         "t": 60
        },
        "template": {
         "data": {
          "bar": [
           {
            "error_x": {
             "color": "rgb(51,51,51)"
            },
            "error_y": {
             "color": "rgb(51,51,51)"
            },
            "marker": {
             "line": {
              "color": "rgb(237,237,237)",
              "width": 0.5
             },
             "pattern": {
              "fillmode": "overlay",
              "size": 10,
              "solidity": 0.2
             }
            },
            "type": "bar"
           }
          ],
          "barpolar": [
           {
            "marker": {
             "line": {
              "color": "rgb(237,237,237)",
              "width": 0.5
             },
             "pattern": {
              "fillmode": "overlay",
              "size": 10,
              "solidity": 0.2
             }
            },
            "type": "barpolar"
           }
          ],
          "carpet": [
           {
            "aaxis": {
             "endlinecolor": "rgb(51,51,51)",
             "gridcolor": "white",
             "linecolor": "white",
             "minorgridcolor": "white",
             "startlinecolor": "rgb(51,51,51)"
            },
            "baxis": {
             "endlinecolor": "rgb(51,51,51)",
             "gridcolor": "white",
             "linecolor": "white",
             "minorgridcolor": "white",
             "startlinecolor": "rgb(51,51,51)"
            },
            "type": "carpet"
           }
          ],
          "choropleth": [
           {
            "colorbar": {
             "outlinewidth": 0,
             "tickcolor": "rgb(237,237,237)",
             "ticklen": 6,
             "ticks": "inside"
            },
            "type": "choropleth"
           }
          ],
          "contour": [
           {
            "colorbar": {
             "outlinewidth": 0,
             "tickcolor": "rgb(237,237,237)",
             "ticklen": 6,
             "ticks": "inside"
            },
            "colorscale": [
             [
              0,
              "rgb(20,44,66)"
             ],
             [
              1,
              "rgb(90,179,244)"
             ]
            ],
            "type": "contour"
           }
          ],
          "contourcarpet": [
           {
            "colorbar": {
             "outlinewidth": 0,
             "tickcolor": "rgb(237,237,237)",
             "ticklen": 6,
             "ticks": "inside"
            },
            "type": "contourcarpet"
           }
          ],
          "heatmap": [
           {
            "colorbar": {
             "outlinewidth": 0,
             "tickcolor": "rgb(237,237,237)",
             "ticklen": 6,
             "ticks": "inside"
            },
            "colorscale": [
             [
              0,
              "rgb(20,44,66)"
             ],
             [
              1,
              "rgb(90,179,244)"
             ]
            ],
            "type": "heatmap"
           }
          ],
          "heatmapgl": [
           {
            "colorbar": {
             "outlinewidth": 0,
             "tickcolor": "rgb(237,237,237)",
             "ticklen": 6,
             "ticks": "inside"
            },
            "colorscale": [
             [
              0,
              "rgb(20,44,66)"
             ],
             [
              1,
              "rgb(90,179,244)"
             ]
            ],
            "type": "heatmapgl"
           }
          ],
          "histogram": [
           {
            "marker": {
             "pattern": {
              "fillmode": "overlay",
              "size": 10,
              "solidity": 0.2
             }
            },
            "type": "histogram"
           }
          ],
          "histogram2d": [
           {
            "colorbar": {
             "outlinewidth": 0,
             "tickcolor": "rgb(237,237,237)",
             "ticklen": 6,
             "ticks": "inside"
            },
            "colorscale": [
             [
              0,
              "rgb(20,44,66)"
             ],
             [
              1,
              "rgb(90,179,244)"
             ]
            ],
            "type": "histogram2d"
           }
          ],
          "histogram2dcontour": [
           {
            "colorbar": {
             "outlinewidth": 0,
             "tickcolor": "rgb(237,237,237)",
             "ticklen": 6,
             "ticks": "inside"
            },
            "colorscale": [
             [
              0,
              "rgb(20,44,66)"
             ],
             [
              1,
              "rgb(90,179,244)"
             ]
            ],
            "type": "histogram2dcontour"
           }
          ],
          "mesh3d": [
           {
            "colorbar": {
             "outlinewidth": 0,
             "tickcolor": "rgb(237,237,237)",
             "ticklen": 6,
             "ticks": "inside"
            },
            "type": "mesh3d"
           }
          ],
          "parcoords": [
           {
            "line": {
             "colorbar": {
              "outlinewidth": 0,
              "tickcolor": "rgb(237,237,237)",
              "ticklen": 6,
              "ticks": "inside"
             }
            },
            "type": "parcoords"
           }
          ],
          "pie": [
           {
            "automargin": true,
            "type": "pie"
           }
          ],
          "scatter": [
           {
            "fillpattern": {
             "fillmode": "overlay",
             "size": 10,
             "solidity": 0.2
            },
            "type": "scatter"
           }
          ],
          "scatter3d": [
           {
            "line": {
             "colorbar": {
              "outlinewidth": 0,
              "tickcolor": "rgb(237,237,237)",
              "ticklen": 6,
              "ticks": "inside"
             }
            },
            "marker": {
             "colorbar": {
              "outlinewidth": 0,
              "tickcolor": "rgb(237,237,237)",
              "ticklen": 6,
              "ticks": "inside"
             }
            },
            "type": "scatter3d"
           }
          ],
          "scattercarpet": [
           {
            "marker": {
             "colorbar": {
              "outlinewidth": 0,
              "tickcolor": "rgb(237,237,237)",
              "ticklen": 6,
              "ticks": "inside"
             }
            },
            "type": "scattercarpet"
           }
          ],
          "scattergeo": [
           {
            "marker": {
             "colorbar": {
              "outlinewidth": 0,
              "tickcolor": "rgb(237,237,237)",
              "ticklen": 6,
              "ticks": "inside"
             }
            },
            "type": "scattergeo"
           }
          ],
          "scattergl": [
           {
            "marker": {
             "colorbar": {
              "outlinewidth": 0,
              "tickcolor": "rgb(237,237,237)",
              "ticklen": 6,
              "ticks": "inside"
             }
            },
            "type": "scattergl"
           }
          ],
          "scattermapbox": [
           {
            "marker": {
             "colorbar": {
              "outlinewidth": 0,
              "tickcolor": "rgb(237,237,237)",
              "ticklen": 6,
              "ticks": "inside"
             }
            },
            "type": "scattermapbox"
           }
          ],
          "scatterpolar": [
           {
            "marker": {
             "colorbar": {
              "outlinewidth": 0,
              "tickcolor": "rgb(237,237,237)",
              "ticklen": 6,
              "ticks": "inside"
             }
            },
            "type": "scatterpolar"
           }
          ],
          "scatterpolargl": [
           {
            "marker": {
             "colorbar": {
              "outlinewidth": 0,
              "tickcolor": "rgb(237,237,237)",
              "ticklen": 6,
              "ticks": "inside"
             }
            },
            "type": "scatterpolargl"
           }
          ],
          "scatterternary": [
           {
            "marker": {
             "colorbar": {
              "outlinewidth": 0,
              "tickcolor": "rgb(237,237,237)",
              "ticklen": 6,
              "ticks": "inside"
             }
            },
            "type": "scatterternary"
           }
          ],
          "surface": [
           {
            "colorbar": {
             "outlinewidth": 0,
             "tickcolor": "rgb(237,237,237)",
             "ticklen": 6,
             "ticks": "inside"
            },
            "colorscale": [
             [
              0,
              "rgb(20,44,66)"
             ],
             [
              1,
              "rgb(90,179,244)"
             ]
            ],
            "type": "surface"
           }
          ],
          "table": [
           {
            "cells": {
             "fill": {
              "color": "rgb(237,237,237)"
             },
             "line": {
              "color": "white"
             }
            },
            "header": {
             "fill": {
              "color": "rgb(217,217,217)"
             },
             "line": {
              "color": "white"
             }
            },
            "type": "table"
           }
          ]
         },
         "layout": {
          "annotationdefaults": {
           "arrowhead": 0,
           "arrowwidth": 1
          },
          "autotypenumbers": "strict",
          "coloraxis": {
           "colorbar": {
            "outlinewidth": 0,
            "tickcolor": "rgb(237,237,237)",
            "ticklen": 6,
            "ticks": "inside"
           }
          },
          "colorscale": {
           "sequential": [
            [
             0,
             "rgb(20,44,66)"
            ],
            [
             1,
             "rgb(90,179,244)"
            ]
           ],
           "sequentialminus": [
            [
             0,
             "rgb(20,44,66)"
            ],
            [
             1,
             "rgb(90,179,244)"
            ]
           ]
          },
          "colorway": [
           "#F8766D",
           "#A3A500",
           "#00BF7D",
           "#00B0F6",
           "#E76BF3"
          ],
          "font": {
           "color": "rgb(51,51,51)"
          },
          "geo": {
           "bgcolor": "white",
           "lakecolor": "white",
           "landcolor": "rgb(237,237,237)",
           "showlakes": true,
           "showland": true,
           "subunitcolor": "white"
          },
          "hoverlabel": {
           "align": "left"
          },
          "hovermode": "closest",
          "paper_bgcolor": "white",
          "plot_bgcolor": "rgb(237,237,237)",
          "polar": {
           "angularaxis": {
            "gridcolor": "white",
            "linecolor": "white",
            "showgrid": true,
            "tickcolor": "rgb(51,51,51)",
            "ticks": "outside"
           },
           "bgcolor": "rgb(237,237,237)",
           "radialaxis": {
            "gridcolor": "white",
            "linecolor": "white",
            "showgrid": true,
            "tickcolor": "rgb(51,51,51)",
            "ticks": "outside"
           }
          },
          "scene": {
           "xaxis": {
            "backgroundcolor": "rgb(237,237,237)",
            "gridcolor": "white",
            "gridwidth": 2,
            "linecolor": "white",
            "showbackground": true,
            "showgrid": true,
            "tickcolor": "rgb(51,51,51)",
            "ticks": "outside",
            "zerolinecolor": "white"
           },
           "yaxis": {
            "backgroundcolor": "rgb(237,237,237)",
            "gridcolor": "white",
            "gridwidth": 2,
            "linecolor": "white",
            "showbackground": true,
            "showgrid": true,
            "tickcolor": "rgb(51,51,51)",
            "ticks": "outside",
            "zerolinecolor": "white"
           },
           "zaxis": {
            "backgroundcolor": "rgb(237,237,237)",
            "gridcolor": "white",
            "gridwidth": 2,
            "linecolor": "white",
            "showbackground": true,
            "showgrid": true,
            "tickcolor": "rgb(51,51,51)",
            "ticks": "outside",
            "zerolinecolor": "white"
           }
          },
          "shapedefaults": {
           "fillcolor": "black",
           "line": {
            "width": 0
           },
           "opacity": 0.3
          },
          "ternary": {
           "aaxis": {
            "gridcolor": "white",
            "linecolor": "white",
            "showgrid": true,
            "tickcolor": "rgb(51,51,51)",
            "ticks": "outside"
           },
           "baxis": {
            "gridcolor": "white",
            "linecolor": "white",
            "showgrid": true,
            "tickcolor": "rgb(51,51,51)",
            "ticks": "outside"
           },
           "bgcolor": "rgb(237,237,237)",
           "caxis": {
            "gridcolor": "white",
            "linecolor": "white",
            "showgrid": true,
            "tickcolor": "rgb(51,51,51)",
            "ticks": "outside"
           }
          },
          "xaxis": {
           "automargin": true,
           "gridcolor": "white",
           "linecolor": "white",
           "showgrid": true,
           "tickcolor": "rgb(51,51,51)",
           "ticks": "outside",
           "title": {
            "standoff": 15
           },
           "zerolinecolor": "white"
          },
          "yaxis": {
           "automargin": true,
           "gridcolor": "white",
           "linecolor": "white",
           "showgrid": true,
           "tickcolor": "rgb(51,51,51)",
           "ticks": "outside",
           "title": {
            "standoff": 15
           },
           "zerolinecolor": "white"
          }
         }
        },
        "title": {
         "x": 0.5
        },
        "width": 2100,
        "xaxis": {
         "anchor": "y",
         "domain": [
          0,
          0.235
         ],
         "tickangle": 45,
         "tickmode": "array",
         "ticktext": [
          "Ene",
          "Feb",
          "Mar",
          "Abr",
          "May",
          "Jun",
          "Jul",
          "Ago",
          "Sep",
          "Oct",
          "Nov",
          "Dic"
         ],
         "tickvals": [
          1,
          2,
          3,
          4,
          5,
          6,
          7,
          8,
          9,
          10,
          11,
          12
         ],
         "title": {
          "text": "Meses"
         }
        },
        "xaxis2": {
         "anchor": "y2",
         "domain": [
          0.255,
          0.49
         ],
         "matches": "x",
         "tickangle": 45,
         "tickmode": "array",
         "ticktext": [
          "Ene",
          "Feb",
          "Mar",
          "Abr",
          "May",
          "Jun",
          "Jul",
          "Ago",
          "Sep",
          "Oct",
          "Nov",
          "Dic"
         ],
         "tickvals": [
          1,
          2,
          3,
          4,
          5,
          6,
          7,
          8,
          9,
          10,
          11,
          12
         ],
         "title": {
          "text": "Meses"
         }
        },
        "xaxis3": {
         "anchor": "y3",
         "domain": [
          0.51,
          0.745
         ],
         "matches": "x",
         "tickangle": 45,
         "tickmode": "array",
         "ticktext": [
          "Ene",
          "Feb",
          "Mar",
          "Abr",
          "May",
          "Jun",
          "Jul",
          "Ago",
          "Sep",
          "Oct",
          "Nov",
          "Dic"
         ],
         "tickvals": [
          1,
          2,
          3,
          4,
          5,
          6,
          7,
          8,
          9,
          10,
          11,
          12
         ],
         "title": {
          "text": "Meses"
         }
        },
        "xaxis4": {
         "anchor": "y4",
         "domain": [
          0.7649999999999999,
          0.9999999999999999
         ],
         "matches": "x",
         "tickangle": 45,
         "tickmode": "array",
         "ticktext": [
          "Ene",
          "Feb",
          "Mar",
          "Abr",
          "May",
          "Jun",
          "Jul",
          "Ago",
          "Sep",
          "Oct",
          "Nov",
          "Dic"
         ],
         "tickvals": [
          1,
          2,
          3,
          4,
          5,
          6,
          7,
          8,
          9,
          10,
          11,
          12
         ],
         "title": {
          "text": "Meses"
         }
        },
        "yaxis": {
         "anchor": "x",
         "domain": [
          0,
          1
         ],
         "title": {
          "text": "Temp_Superficial"
         }
        },
        "yaxis2": {
         "anchor": "x2",
         "domain": [
          0,
          1
         ],
         "matches": "y",
         "showticklabels": false
        },
        "yaxis3": {
         "anchor": "x3",
         "domain": [
          0,
          1
         ],
         "matches": "y",
         "showticklabels": false
        },
        "yaxis4": {
         "anchor": "x4",
         "domain": [
          0,
          1
         ],
         "matches": "y",
         "showticklabels": false
        }
       }
      }
     },
     "metadata": {},
     "output_type": "display_data"
    },
    {
     "data": {
      "application/vnd.jupyter.widget-view+json": {
       "model_id": "d2bbc71e088f4f899d9574bc13ab893b",
       "version_major": 2,
       "version_minor": 0
      },
      "text/plain": [
       "interactive(children=(Dropdown(description='Variable', options=('Temp_Superficial', 'Temp_Superficial_MAX', 'T…"
      ]
     },
     "metadata": {},
     "output_type": "display_data"
    },
    {
     "data": {
      "text/plain": [
       "<function __main__.plotting_plotly(Variable)>"
      ]
     },
     "execution_count": 198,
     "metadata": {},
     "output_type": "execute_result"
    }
   ],
   "source": [
    "def plotting_plotly(Variable):    \n",
    "    fig = px.line(df_estatal, x='Mes', y=Variable, color='Estado', facet_col='Año',\n",
    "                labels={'Mes': 'Meses'}\n",
    "                )\n",
    "\n",
    "    # Ajustar las características del gráfico\n",
    "    fig.update_layout(height=500, width=2100, title_x=0.5)\n",
    "    fig.update_xaxes(tickangle=45, tickmode='array', tickvals=[1,2,3,4,5,6,7,8,9,10,11,12], ticktext=['Ene','Feb','Mar','Abr','May','Jun','Jul','Ago','Sep','Oct','Nov','Dic'])\n",
    "    fig.show()\n",
    "\n",
    "widgets.interact(plotting_plotly, Variable=columnas_numericas)"
   ]
  },
  {
   "cell_type": "markdown",
   "metadata": {},
   "source": [
    "# Outliers"
   ]
  },
  {
   "cell_type": "markdown",
   "metadata": {},
   "source": [
    "### Bloxplot por Variable"
   ]
  },
  {
   "cell_type": "code",
   "execution_count": 216,
   "metadata": {},
   "outputs": [
    {
     "data": {
      "image/png": "[encoded data removed]",
      "text/plain": [
       "<Figure size 800x600 with 1 Axes>"
      ]
     },
     "metadata": {},
     "output_type": "display_data"
    }
   ],
   "source": [
    "plt.figure(figsize=(8, 6))\n",
    "#colores = sns.color_palette(\"husl\", len(columnas_numericas))\n",
    "sns.boxplot(data=df_estatal[columnas_numericas])\n",
    "plt.title('Diagrama de Boxplot de Variables Climáticas')\n",
    "plt.xticks(rotation=45)  # Rotamos las etiquetas del eje x para una mejor visualización\n",
    "plt.show()"
   ]
  },
  {
   "cell_type": "code",
   "execution_count": 208,
   "metadata": {},
   "outputs": [
    {
     "data": {
      "image/png": "[encoded data removed]",
      "text/plain": [
       "<Figure size 1500x1500 with 12 Axes>"
      ]
     },
     "metadata": {},
     "output_type": "display_data"
    }
   ],
   "source": [
    "# Crear la figura y los ejes para los subplots\n",
    "fig, axes = plt.subplots(3, 4, figsize=(15, 15))\n",
    "fig.subplots_adjust(hspace=0.5)  # Ajustar el espaciado vertical entre subplots\n",
    "\n",
    "# Iterar a través de las columnas numéricas y crear un boxplot para cada una en relación con el año\n",
    "for i, column in enumerate(columnas_numericas):\n",
    "    row = i // 4  # Calcular la fila para ubicar el subplot\n",
    "    col = i % 4  # Calcular la columna para ubicar el subplot (de 0 a 3)\n",
    "    sns.boxplot(data=df_estatal, x='Año', y=column, ax=axes[row, col])  # Crear el boxplot en el subplot correspondiente\n",
    "    axes[row, col].set_ylabel(column)  # Establecer el nombre de la variable en el eje y del subplot\n",
    "\n",
    "plt.show()  # Mostrar los subplots"
   ]
  },
  {
   "cell_type": "markdown",
   "metadata": {},
   "source": [
    "### Histograma por Variable"
   ]
  },
  {
   "cell_type": "code",
   "execution_count": 212,
   "metadata": {},
   "outputs": [
    {
     "data": {
      "image/png": "[encoded data removed]",
      "text/plain": [
       "<Figure size 1200x800 with 12 Axes>"
      ]
     },
     "metadata": {},
     "output_type": "display_data"
    }
   ],
   "source": [
    "plt.figure(figsize=(12, 8))\n",
    "\n",
    "# Crear histogramas con colores diferentes para cada variable\n",
    "for i, columna in enumerate(columnas_numericas):\n",
    "    plt.subplot(3, 4, i + 1)  # Ajustar la disposición de los subplots según el número de columnas\n",
    "    sns.histplot(df_estatal[columna], bins=25)\n",
    "    plt.xlabel(columna, fontsize=10)\n",
    "    plt.ylabel('Frecuencia', fontsize=10)\n",
    "\n",
    "plt.tight_layout()\n",
    "plt.show()"
   ]
  },
  {
   "cell_type": "markdown",
   "metadata": {},
   "source": [
    "En el análisis de las variables climáticas se observa que la mayoría de las variables no muestran valores atípicos significativos, lo que sugiere una distribución relativamente homogénea en sus registros. Sin embargo, se destaca que la variable de precipitación presenta valores atípicos, lo cual puede estar relacionado con la ocurrencia de eventos meteorológicos extremos.\n",
    "\n",
    "Estos valores atípicos en la precipitación pueden ser indicativos de eventos climáticos inusuales, como huracanes, tormentas locales severas o cualquier otra forma de precipitación extrema. Estos eventos pueden ser de gran relevancia para el análisis, ya que no siguen el patrón esperado y podrían influir significativamente en el estudio de las condiciones climáticas."
   ]
  },
  {
   "cell_type": "code",
   "execution_count": 211,
   "metadata": {},
   "outputs": [
    {
     "name": "stdout",
     "output_type": "stream",
     "text": [
      "Cantidad de outliers: 11\n"
     ]
    }
   ],
   "source": [
    "clf = LocalOutlierFactor(n_neighbors=20)\n",
    "X = df_estatal[columnas_numericas]\n",
    "estimado_LOF = clf.fit_predict(X)\n",
    "df_clean = df_estatal[columnas_numericas][~(estimado_LOF==-1)]\n",
    "print(f\"Cantidad de outliers: {abs(estimado_LOF[estimado_LOF==-1].sum())}\")"
   ]
  },
  {
   "cell_type": "code",
   "execution_count": 230,
   "metadata": {},
   "outputs": [
    {
     "data": {
      "image/png": "[encoded data removed]",
      "text/plain": [
       "<Figure size 1200x1300 with 24 Axes>"
      ]
     },
     "metadata": {},
     "output_type": "display_data"
    }
   ],
   "source": [
    "n_plots = len(columnas_numericas)\n",
    "fig, axes = plt.subplots(n_plots, 2, figsize=(12, 13))\n",
    "for i, column in enumerate(columnas_numericas):\n",
    "    sns.boxplot(x=df_estatal[columnas_numericas][column], ax=axes[i, 0], color='#FF5733')\n",
    "    sns.boxplot(x=df_clean[column], ax=axes[i, 1], color='#3366FF')\n",
    "\n",
    "plt.suptitle('Comparación de Datos Originales (Rojo) y Limpios (Azul)', fontsize=16, y=1.02)\n",
    "plt.tight_layout()\n",
    "plt.show()"
   ]
  },
  {
   "cell_type": "markdown",
   "metadata": {},
   "source": [
    "# Relacion entre Variables"
   ]
  },
  {
   "cell_type": "code",
   "execution_count": 209,
   "metadata": {},
   "outputs": [
    {
     "data": {
      "text/plain": [
       "<AxesSubplot: >"
      ]
     },
     "execution_count": 209,
     "metadata": {},
     "output_type": "execute_result"
    },
    {
     "data": {
      "image/png": "[encoded data removed]",
      "text/plain": [
       "<Figure size 1000x500 with 2 Axes>"
      ]
     },
     "metadata": {},
     "output_type": "display_data"
    }
   ],
   "source": [
    "plt.figure(figsize = (10,5)) #cambiamos la variable quality_ord a int para calcular correlacion\n",
    "corr_matrix = df_estatal[columnas_numericas].corr()\n",
    "sns.heatmap(corr_matrix, annot=True,cmap='RdBu', fmt = '.2f', vmin=-1, vmax=1)"
   ]
  },
  {
   "cell_type": "code",
   "execution_count": null,
   "metadata": {},
   "outputs": [],
   "source": []
  }
 ],
 "metadata": {
  "kernelspec": {
   "display_name": "base",
   "language": "python",
   "name": "python3"
  },
  "language_info": {
   "codemirror_mode": {
    "name": "ipython",
    "version": 3
   },
   "file_extension": ".py",
   "mimetype": "text/x-python",
   "name": "python",
   "nbconvert_exporter": "python",
   "pygments_lexer": "ipython3",
   "version": "3.11.3"
  }
 },
 "nbformat": 4,
 "nbformat_minor": 2
}
