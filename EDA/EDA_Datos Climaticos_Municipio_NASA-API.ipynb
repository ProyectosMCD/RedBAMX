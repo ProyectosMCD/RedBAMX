{
 "cells": [
  {
   "cell_type": "markdown",
   "metadata": {},
   "source": [
    "### Importación de Librerías"
   ]
  },
  {
   "cell_type": "code",
   "execution_count": 149,
   "metadata": {},
   "outputs": [],
   "source": [
    "import numpy as np\n",
    "import os\n",
    "import pandas as pd\n",
    "import matplotlib.pyplot as plt\n",
    "import seaborn as sns\n",
    "import warnings\n",
    "import plotly.express as px\n",
    "import plotly.graph_objects as go\n",
    "from plotly.subplots import make_subplots\n",
    "import ipywidgets as widgets\n",
    "\n",
    "warnings.filterwarnings(\"ignore\")\n",
    "plt.style.use('seaborn')\n",
    "px.defaults.template = \"ggplot2\"\n",
    "#plt.style.use('seaborn')\n",
    "pd.set_option('display.max_columns', None)"
   ]
  },
  {
   "cell_type": "markdown",
   "metadata": {},
   "source": [
    "### Leer el Dataframe"
   ]
  },
  {
   "cell_type": "code",
   "execution_count": 2,
   "metadata": {},
   "outputs": [],
   "source": [
    "# Obtención de la ruta\n",
    "actual_dir = os.getcwd()\n",
    "ext_dir = os.path.dirname(actual_dir)\n",
    "subdir = '/descarga/data/Municipios/Municipios_Clean/'\n",
    "dir = ext_dir + subdir"
   ]
  },
  {
   "cell_type": "code",
   "execution_count": 63,
   "metadata": {},
   "outputs": [
    {
     "data": {
      "text/html": [
       "<div>\n",
       "<style scoped>\n",
       "    .dataframe tbody tr th:only-of-type {\n",
       "        vertical-align: middle;\n",
       "    }\n",
       "\n",
       "    .dataframe tbody tr th {\n",
       "        vertical-align: top;\n",
       "    }\n",
       "\n",
       "    .dataframe thead th {\n",
       "        text-align: right;\n",
       "    }\n",
       "</style>\n",
       "<table border=\"1\" class=\"dataframe\">\n",
       "  <thead>\n",
       "    <tr style=\"text-align: right;\">\n",
       "      <th></th>\n",
       "      <th>Estado</th>\n",
       "      <th>Municipio</th>\n",
       "      <th>Estado_CVE</th>\n",
       "      <th>Municipio_CVE</th>\n",
       "      <th>Año</th>\n",
       "      <th>Mes</th>\n",
       "      <th>Día</th>\n",
       "      <th>Temp_Superficial</th>\n",
       "      <th>Temp_Superficial_MAX</th>\n",
       "      <th>Temp_Superficial_MIN</th>\n",
       "      <th>Temp_2_Metros</th>\n",
       "      <th>Temp_2_Metros_MAX</th>\n",
       "      <th>Temp_2_Metros_MIN</th>\n",
       "      <th>Temp_2_Metros_Pto_Congelación</th>\n",
       "      <th>Temp_2_Metros_Pto_Húmedo</th>\n",
       "      <th>Presión_Superficial</th>\n",
       "      <th>Velocidad_Viento</th>\n",
       "      <th>Humedad_Relativa</th>\n",
       "      <th>Precipitacion</th>\n",
       "    </tr>\n",
       "  </thead>\n",
       "  <tbody>\n",
       "    <tr>\n",
       "      <th>0</th>\n",
       "      <td>Aguascalientes</td>\n",
       "      <td>Aguascalientes</td>\n",
       "      <td>1</td>\n",
       "      <td>1</td>\n",
       "      <td>2020</td>\n",
       "      <td>1</td>\n",
       "      <td>1</td>\n",
       "      <td>13.37</td>\n",
       "      <td>22.76</td>\n",
       "      <td>6.50</td>\n",
       "      <td>13.30</td>\n",
       "      <td>20.08</td>\n",
       "      <td>7.35</td>\n",
       "      <td>7.12</td>\n",
       "      <td>10.21</td>\n",
       "      <td>79.30</td>\n",
       "      <td>3.91</td>\n",
       "      <td>68.44</td>\n",
       "      <td>6.93</td>\n",
       "    </tr>\n",
       "    <tr>\n",
       "      <th>1</th>\n",
       "      <td>Aguascalientes</td>\n",
       "      <td>Asientos</td>\n",
       "      <td>1</td>\n",
       "      <td>2</td>\n",
       "      <td>2020</td>\n",
       "      <td>1</td>\n",
       "      <td>1</td>\n",
       "      <td>12.91</td>\n",
       "      <td>23.01</td>\n",
       "      <td>6.02</td>\n",
       "      <td>12.88</td>\n",
       "      <td>19.87</td>\n",
       "      <td>7.19</td>\n",
       "      <td>7.03</td>\n",
       "      <td>9.95</td>\n",
       "      <td>78.76</td>\n",
       "      <td>5.12</td>\n",
       "      <td>69.81</td>\n",
       "      <td>13.81</td>\n",
       "    </tr>\n",
       "    <tr>\n",
       "      <th>2</th>\n",
       "      <td>Aguascalientes</td>\n",
       "      <td>Calvillo</td>\n",
       "      <td>1</td>\n",
       "      <td>3</td>\n",
       "      <td>2020</td>\n",
       "      <td>1</td>\n",
       "      <td>1</td>\n",
       "      <td>13.37</td>\n",
       "      <td>22.76</td>\n",
       "      <td>6.50</td>\n",
       "      <td>13.30</td>\n",
       "      <td>20.08</td>\n",
       "      <td>7.35</td>\n",
       "      <td>7.12</td>\n",
       "      <td>10.21</td>\n",
       "      <td>79.30</td>\n",
       "      <td>3.91</td>\n",
       "      <td>68.44</td>\n",
       "      <td>6.93</td>\n",
       "    </tr>\n",
       "    <tr>\n",
       "      <th>3</th>\n",
       "      <td>Aguascalientes</td>\n",
       "      <td>Cosío</td>\n",
       "      <td>1</td>\n",
       "      <td>4</td>\n",
       "      <td>2020</td>\n",
       "      <td>1</td>\n",
       "      <td>1</td>\n",
       "      <td>12.03</td>\n",
       "      <td>21.56</td>\n",
       "      <td>5.61</td>\n",
       "      <td>11.83</td>\n",
       "      <td>18.49</td>\n",
       "      <td>6.46</td>\n",
       "      <td>6.87</td>\n",
       "      <td>9.36</td>\n",
       "      <td>77.65</td>\n",
       "      <td>6.20</td>\n",
       "      <td>73.94</td>\n",
       "      <td>9.15</td>\n",
       "    </tr>\n",
       "    <tr>\n",
       "      <th>4</th>\n",
       "      <td>Aguascalientes</td>\n",
       "      <td>Jesús María</td>\n",
       "      <td>1</td>\n",
       "      <td>5</td>\n",
       "      <td>2020</td>\n",
       "      <td>1</td>\n",
       "      <td>1</td>\n",
       "      <td>13.37</td>\n",
       "      <td>22.76</td>\n",
       "      <td>6.50</td>\n",
       "      <td>13.30</td>\n",
       "      <td>20.08</td>\n",
       "      <td>7.35</td>\n",
       "      <td>7.12</td>\n",
       "      <td>10.21</td>\n",
       "      <td>79.30</td>\n",
       "      <td>3.91</td>\n",
       "      <td>68.44</td>\n",
       "      <td>6.93</td>\n",
       "    </tr>\n",
       "    <tr>\n",
       "      <th>...</th>\n",
       "      <td>...</td>\n",
       "      <td>...</td>\n",
       "      <td>...</td>\n",
       "      <td>...</td>\n",
       "      <td>...</td>\n",
       "      <td>...</td>\n",
       "      <td>...</td>\n",
       "      <td>...</td>\n",
       "      <td>...</td>\n",
       "      <td>...</td>\n",
       "      <td>...</td>\n",
       "      <td>...</td>\n",
       "      <td>...</td>\n",
       "      <td>...</td>\n",
       "      <td>...</td>\n",
       "      <td>...</td>\n",
       "      <td>...</td>\n",
       "      <td>...</td>\n",
       "      <td>...</td>\n",
       "    </tr>\n",
       "    <tr>\n",
       "      <th>3441195</th>\n",
       "      <td>Zacatecas</td>\n",
       "      <td>Villa Hidalgo</td>\n",
       "      <td>32</td>\n",
       "      <td>54</td>\n",
       "      <td>2023</td>\n",
       "      <td>10</td>\n",
       "      <td>31</td>\n",
       "      <td>15.41</td>\n",
       "      <td>26.25</td>\n",
       "      <td>8.85</td>\n",
       "      <td>13.67</td>\n",
       "      <td>20.40</td>\n",
       "      <td>8.55</td>\n",
       "      <td>9.00</td>\n",
       "      <td>11.33</td>\n",
       "      <td>79.10</td>\n",
       "      <td>2.77</td>\n",
       "      <td>75.62</td>\n",
       "      <td>1.87</td>\n",
       "    </tr>\n",
       "    <tr>\n",
       "      <th>3441196</th>\n",
       "      <td>Zacatecas</td>\n",
       "      <td>Villanueva</td>\n",
       "      <td>32</td>\n",
       "      <td>55</td>\n",
       "      <td>2023</td>\n",
       "      <td>10</td>\n",
       "      <td>31</td>\n",
       "      <td>17.53</td>\n",
       "      <td>29.22</td>\n",
       "      <td>9.80</td>\n",
       "      <td>16.14</td>\n",
       "      <td>22.72</td>\n",
       "      <td>9.83</td>\n",
       "      <td>10.43</td>\n",
       "      <td>13.28</td>\n",
       "      <td>79.32</td>\n",
       "      <td>2.34</td>\n",
       "      <td>71.25</td>\n",
       "      <td>3.85</td>\n",
       "    </tr>\n",
       "    <tr>\n",
       "      <th>3441197</th>\n",
       "      <td>Zacatecas</td>\n",
       "      <td>Zacatecas</td>\n",
       "      <td>32</td>\n",
       "      <td>56</td>\n",
       "      <td>2023</td>\n",
       "      <td>10</td>\n",
       "      <td>31</td>\n",
       "      <td>16.23</td>\n",
       "      <td>27.09</td>\n",
       "      <td>9.41</td>\n",
       "      <td>14.58</td>\n",
       "      <td>21.00</td>\n",
       "      <td>9.33</td>\n",
       "      <td>9.26</td>\n",
       "      <td>11.92</td>\n",
       "      <td>78.10</td>\n",
       "      <td>2.77</td>\n",
       "      <td>72.56</td>\n",
       "      <td>4.25</td>\n",
       "    </tr>\n",
       "    <tr>\n",
       "      <th>3441198</th>\n",
       "      <td>Zacatecas</td>\n",
       "      <td>Trancoso</td>\n",
       "      <td>32</td>\n",
       "      <td>57</td>\n",
       "      <td>2023</td>\n",
       "      <td>10</td>\n",
       "      <td>31</td>\n",
       "      <td>15.38</td>\n",
       "      <td>25.62</td>\n",
       "      <td>8.01</td>\n",
       "      <td>13.65</td>\n",
       "      <td>19.69</td>\n",
       "      <td>7.90</td>\n",
       "      <td>8.38</td>\n",
       "      <td>11.02</td>\n",
       "      <td>79.13</td>\n",
       "      <td>3.32</td>\n",
       "      <td>72.31</td>\n",
       "      <td>1.38</td>\n",
       "    </tr>\n",
       "    <tr>\n",
       "      <th>3441199</th>\n",
       "      <td>Zacatecas</td>\n",
       "      <td>Santa María de la Paz</td>\n",
       "      <td>32</td>\n",
       "      <td>58</td>\n",
       "      <td>2023</td>\n",
       "      <td>10</td>\n",
       "      <td>31</td>\n",
       "      <td>19.94</td>\n",
       "      <td>32.85</td>\n",
       "      <td>12.12</td>\n",
       "      <td>18.59</td>\n",
       "      <td>25.87</td>\n",
       "      <td>12.44</td>\n",
       "      <td>12.27</td>\n",
       "      <td>15.43</td>\n",
       "      <td>81.54</td>\n",
       "      <td>1.26</td>\n",
       "      <td>70.38</td>\n",
       "      <td>1.35</td>\n",
       "    </tr>\n",
       "  </tbody>\n",
       "</table>\n",
       "<p>3441200 rows × 19 columns</p>\n",
       "</div>"
      ],
      "text/plain": [
       "                 Estado              Municipio  Estado_CVE  Municipio_CVE  \\\n",
       "0        Aguascalientes         Aguascalientes           1              1   \n",
       "1        Aguascalientes               Asientos           1              2   \n",
       "2        Aguascalientes               Calvillo           1              3   \n",
       "3        Aguascalientes                  Cosío           1              4   \n",
       "4        Aguascalientes            Jesús María           1              5   \n",
       "...                 ...                    ...         ...            ...   \n",
       "3441195       Zacatecas          Villa Hidalgo          32             54   \n",
       "3441196       Zacatecas             Villanueva          32             55   \n",
       "3441197       Zacatecas              Zacatecas          32             56   \n",
       "3441198       Zacatecas               Trancoso          32             57   \n",
       "3441199       Zacatecas  Santa María de la Paz          32             58   \n",
       "\n",
       "          Año  Mes  Día  Temp_Superficial  Temp_Superficial_MAX  \\\n",
       "0        2020    1    1             13.37                 22.76   \n",
       "1        2020    1    1             12.91                 23.01   \n",
       "2        2020    1    1             13.37                 22.76   \n",
       "3        2020    1    1             12.03                 21.56   \n",
       "4        2020    1    1             13.37                 22.76   \n",
       "...       ...  ...  ...               ...                   ...   \n",
       "3441195  2023   10   31             15.41                 26.25   \n",
       "3441196  2023   10   31             17.53                 29.22   \n",
       "3441197  2023   10   31             16.23                 27.09   \n",
       "3441198  2023   10   31             15.38                 25.62   \n",
       "3441199  2023   10   31             19.94                 32.85   \n",
       "\n",
       "         Temp_Superficial_MIN  Temp_2_Metros  Temp_2_Metros_MAX  \\\n",
       "0                        6.50          13.30              20.08   \n",
       "1                        6.02          12.88              19.87   \n",
       "2                        6.50          13.30              20.08   \n",
       "3                        5.61          11.83              18.49   \n",
       "4                        6.50          13.30              20.08   \n",
       "...                       ...            ...                ...   \n",
       "3441195                  8.85          13.67              20.40   \n",
       "3441196                  9.80          16.14              22.72   \n",
       "3441197                  9.41          14.58              21.00   \n",
       "3441198                  8.01          13.65              19.69   \n",
       "3441199                 12.12          18.59              25.87   \n",
       "\n",
       "         Temp_2_Metros_MIN  Temp_2_Metros_Pto_Congelación  \\\n",
       "0                     7.35                           7.12   \n",
       "1                     7.19                           7.03   \n",
       "2                     7.35                           7.12   \n",
       "3                     6.46                           6.87   \n",
       "4                     7.35                           7.12   \n",
       "...                    ...                            ...   \n",
       "3441195               8.55                           9.00   \n",
       "3441196               9.83                          10.43   \n",
       "3441197               9.33                           9.26   \n",
       "3441198               7.90                           8.38   \n",
       "3441199              12.44                          12.27   \n",
       "\n",
       "         Temp_2_Metros_Pto_Húmedo  Presión_Superficial  Velocidad_Viento  \\\n",
       "0                           10.21                79.30              3.91   \n",
       "1                            9.95                78.76              5.12   \n",
       "2                           10.21                79.30              3.91   \n",
       "3                            9.36                77.65              6.20   \n",
       "4                           10.21                79.30              3.91   \n",
       "...                           ...                  ...               ...   \n",
       "3441195                     11.33                79.10              2.77   \n",
       "3441196                     13.28                79.32              2.34   \n",
       "3441197                     11.92                78.10              2.77   \n",
       "3441198                     11.02                79.13              3.32   \n",
       "3441199                     15.43                81.54              1.26   \n",
       "\n",
       "         Humedad_Relativa  Precipitacion  \n",
       "0                   68.44           6.93  \n",
       "1                   69.81          13.81  \n",
       "2                   68.44           6.93  \n",
       "3                   73.94           9.15  \n",
       "4                   68.44           6.93  \n",
       "...                   ...            ...  \n",
       "3441195             75.62           1.87  \n",
       "3441196             71.25           3.85  \n",
       "3441197             72.56           4.25  \n",
       "3441198             72.31           1.38  \n",
       "3441199             70.38           1.35  \n",
       "\n",
       "[3441200 rows x 19 columns]"
      ]
     },
     "execution_count": 63,
     "metadata": {},
     "output_type": "execute_result"
    }
   ],
   "source": [
    "df = pd.read_csv(dir + 'Data_Climatic_Municipios_Clean.csv', low_memory=False)\n",
    "df.sort_values(by=['Año','Mes','Día','Estado_CVE', 'Municipio_CVE'], inplace=True)\n",
    "df.reset_index(drop=True, inplace=True)\n",
    "df"
   ]
  },
  {
   "cell_type": "markdown",
   "metadata": {},
   "source": [
    "### Creacion de DataFrame a nivel Estatal inferido de los datos municipales "
   ]
  },
  {
   "cell_type": "markdown",
   "metadata": {},
   "source": [
    "De acuerdo a las necesidades del cliente, el equipo llego a la conclusion de que la mejor manera de trabajar con los datos climaticos es a nivel estatal, por lo que se creo un DataFrame a nivel estatal con los datos de los municipios."
   ]
  },
  {
   "cell_type": "code",
   "execution_count": 4,
   "metadata": {},
   "outputs": [
    {
     "data": {
      "text/html": [
       "<div>\n",
       "<style scoped>\n",
       "    .dataframe tbody tr th:only-of-type {\n",
       "        vertical-align: middle;\n",
       "    }\n",
       "\n",
       "    .dataframe tbody tr th {\n",
       "        vertical-align: top;\n",
       "    }\n",
       "\n",
       "    .dataframe thead th {\n",
       "        text-align: right;\n",
       "    }\n",
       "</style>\n",
       "<table border=\"1\" class=\"dataframe\">\n",
       "  <thead>\n",
       "    <tr style=\"text-align: right;\">\n",
       "      <th></th>\n",
       "      <th>Año</th>\n",
       "      <th>Mes</th>\n",
       "      <th>Estado</th>\n",
       "      <th>Estado_CVE</th>\n",
       "      <th>Temp_Superficial</th>\n",
       "      <th>Temp_Superficial_MAX</th>\n",
       "      <th>Temp_Superficial_MIN</th>\n",
       "      <th>Temp_2_Metros</th>\n",
       "      <th>Temp_2_Metros_MAX</th>\n",
       "      <th>Temp_2_Metros_MIN</th>\n",
       "      <th>Temp_2_Metros_Pto_Congelación</th>\n",
       "      <th>Temp_2_Metros_Pto_Húmedo</th>\n",
       "      <th>Presión_Superficial</th>\n",
       "      <th>Velocidad_Viento</th>\n",
       "      <th>Humedad_Relativa</th>\n",
       "      <th>Precipitacion</th>\n",
       "    </tr>\n",
       "  </thead>\n",
       "  <tbody>\n",
       "    <tr>\n",
       "      <th>0</th>\n",
       "      <td>2020</td>\n",
       "      <td>1</td>\n",
       "      <td>Aguascalientes</td>\n",
       "      <td>1</td>\n",
       "      <td>11.871672</td>\n",
       "      <td>24.617947</td>\n",
       "      <td>3.252815</td>\n",
       "      <td>11.622434</td>\n",
       "      <td>19.955865</td>\n",
       "      <td>4.849208</td>\n",
       "      <td>2.336100</td>\n",
       "      <td>6.980059</td>\n",
       "      <td>79.269296</td>\n",
       "      <td>2.306334</td>\n",
       "      <td>59.219238</td>\n",
       "      <td>0.836100</td>\n",
       "    </tr>\n",
       "    <tr>\n",
       "      <th>1</th>\n",
       "      <td>2020</td>\n",
       "      <td>1</td>\n",
       "      <td>Baja California</td>\n",
       "      <td>2</td>\n",
       "      <td>11.503548</td>\n",
       "      <td>21.848387</td>\n",
       "      <td>5.296516</td>\n",
       "      <td>12.156581</td>\n",
       "      <td>19.138839</td>\n",
       "      <td>7.561161</td>\n",
       "      <td>3.232000</td>\n",
       "      <td>7.694516</td>\n",
       "      <td>96.414323</td>\n",
       "      <td>2.328968</td>\n",
       "      <td>60.059871</td>\n",
       "      <td>0.225097</td>\n",
       "    </tr>\n",
       "    <tr>\n",
       "      <th>2</th>\n",
       "      <td>2020</td>\n",
       "      <td>1</td>\n",
       "      <td>Baja California Sur</td>\n",
       "      <td>3</td>\n",
       "      <td>18.086452</td>\n",
       "      <td>27.860968</td>\n",
       "      <td>12.222968</td>\n",
       "      <td>17.575806</td>\n",
       "      <td>24.043097</td>\n",
       "      <td>13.045290</td>\n",
       "      <td>10.594581</td>\n",
       "      <td>14.085290</td>\n",
       "      <td>99.619742</td>\n",
       "      <td>2.680968</td>\n",
       "      <td>67.542323</td>\n",
       "      <td>0.050258</td>\n",
       "    </tr>\n",
       "    <tr>\n",
       "      <th>3</th>\n",
       "      <td>2020</td>\n",
       "      <td>1</td>\n",
       "      <td>Campeche</td>\n",
       "      <td>4</td>\n",
       "      <td>24.531466</td>\n",
       "      <td>30.339472</td>\n",
       "      <td>20.069032</td>\n",
       "      <td>24.493050</td>\n",
       "      <td>30.125425</td>\n",
       "      <td>19.977243</td>\n",
       "      <td>18.949589</td>\n",
       "      <td>21.721496</td>\n",
       "      <td>100.730762</td>\n",
       "      <td>0.696833</td>\n",
       "      <td>73.750880</td>\n",
       "      <td>1.040616</td>\n",
       "    </tr>\n",
       "    <tr>\n",
       "      <th>4</th>\n",
       "      <td>2020</td>\n",
       "      <td>1</td>\n",
       "      <td>Chiapas</td>\n",
       "      <td>7</td>\n",
       "      <td>20.458480</td>\n",
       "      <td>27.968901</td>\n",
       "      <td>15.246714</td>\n",
       "      <td>20.349943</td>\n",
       "      <td>26.273483</td>\n",
       "      <td>15.924568</td>\n",
       "      <td>16.362354</td>\n",
       "      <td>18.356055</td>\n",
       "      <td>91.695314</td>\n",
       "      <td>1.527048</td>\n",
       "      <td>80.520960</td>\n",
       "      <td>1.351758</td>\n",
       "    </tr>\n",
       "    <tr>\n",
       "      <th>...</th>\n",
       "      <td>...</td>\n",
       "      <td>...</td>\n",
       "      <td>...</td>\n",
       "      <td>...</td>\n",
       "      <td>...</td>\n",
       "      <td>...</td>\n",
       "      <td>...</td>\n",
       "      <td>...</td>\n",
       "      <td>...</td>\n",
       "      <td>...</td>\n",
       "      <td>...</td>\n",
       "      <td>...</td>\n",
       "      <td>...</td>\n",
       "      <td>...</td>\n",
       "      <td>...</td>\n",
       "      <td>...</td>\n",
       "    </tr>\n",
       "    <tr>\n",
       "      <th>1467</th>\n",
       "      <td>2023</td>\n",
       "      <td>10</td>\n",
       "      <td>Tamaulipas</td>\n",
       "      <td>28</td>\n",
       "      <td>25.542873</td>\n",
       "      <td>35.266069</td>\n",
       "      <td>19.147674</td>\n",
       "      <td>24.547022</td>\n",
       "      <td>30.963188</td>\n",
       "      <td>19.681215</td>\n",
       "      <td>17.522588</td>\n",
       "      <td>21.035079</td>\n",
       "      <td>96.205454</td>\n",
       "      <td>2.576077</td>\n",
       "      <td>68.954276</td>\n",
       "      <td>2.814044</td>\n",
       "    </tr>\n",
       "    <tr>\n",
       "      <th>1468</th>\n",
       "      <td>2023</td>\n",
       "      <td>10</td>\n",
       "      <td>Tlaxcala</td>\n",
       "      <td>29</td>\n",
       "      <td>15.290113</td>\n",
       "      <td>23.650790</td>\n",
       "      <td>9.515000</td>\n",
       "      <td>14.971597</td>\n",
       "      <td>20.815581</td>\n",
       "      <td>10.438403</td>\n",
       "      <td>11.728065</td>\n",
       "      <td>13.349629</td>\n",
       "      <td>76.623823</td>\n",
       "      <td>1.711016</td>\n",
       "      <td>83.134355</td>\n",
       "      <td>10.307129</td>\n",
       "    </tr>\n",
       "    <tr>\n",
       "      <th>1469</th>\n",
       "      <td>2023</td>\n",
       "      <td>10</td>\n",
       "      <td>Veracruz</td>\n",
       "      <td>30</td>\n",
       "      <td>24.580210</td>\n",
       "      <td>31.172556</td>\n",
       "      <td>20.226730</td>\n",
       "      <td>24.134035</td>\n",
       "      <td>28.654913</td>\n",
       "      <td>20.827220</td>\n",
       "      <td>20.242191</td>\n",
       "      <td>22.187728</td>\n",
       "      <td>93.911541</td>\n",
       "      <td>2.264079</td>\n",
       "      <td>80.661794</td>\n",
       "      <td>8.900584</td>\n",
       "    </tr>\n",
       "    <tr>\n",
       "      <th>1470</th>\n",
       "      <td>2023</td>\n",
       "      <td>10</td>\n",
       "      <td>Yucatán</td>\n",
       "      <td>31</td>\n",
       "      <td>27.839565</td>\n",
       "      <td>32.797638</td>\n",
       "      <td>24.157495</td>\n",
       "      <td>27.691656</td>\n",
       "      <td>32.443996</td>\n",
       "      <td>24.111659</td>\n",
       "      <td>23.106765</td>\n",
       "      <td>25.399595</td>\n",
       "      <td>100.892797</td>\n",
       "      <td>0.607775</td>\n",
       "      <td>78.530797</td>\n",
       "      <td>2.573174</td>\n",
       "    </tr>\n",
       "    <tr>\n",
       "      <th>1471</th>\n",
       "      <td>2023</td>\n",
       "      <td>10</td>\n",
       "      <td>Zacatecas</td>\n",
       "      <td>32</td>\n",
       "      <td>18.916952</td>\n",
       "      <td>30.348515</td>\n",
       "      <td>11.531646</td>\n",
       "      <td>17.939727</td>\n",
       "      <td>25.131491</td>\n",
       "      <td>12.307175</td>\n",
       "      <td>11.179894</td>\n",
       "      <td>14.559739</td>\n",
       "      <td>80.038231</td>\n",
       "      <td>2.085445</td>\n",
       "      <td>69.505723</td>\n",
       "      <td>4.207948</td>\n",
       "    </tr>\n",
       "  </tbody>\n",
       "</table>\n",
       "<p>1472 rows × 16 columns</p>\n",
       "</div>"
      ],
      "text/plain": [
       "       Año  Mes               Estado  Estado_CVE  Temp_Superficial  \\\n",
       "0     2020    1       Aguascalientes           1         11.871672   \n",
       "1     2020    1      Baja California           2         11.503548   \n",
       "2     2020    1  Baja California Sur           3         18.086452   \n",
       "3     2020    1             Campeche           4         24.531466   \n",
       "4     2020    1              Chiapas           7         20.458480   \n",
       "...    ...  ...                  ...         ...               ...   \n",
       "1467  2023   10           Tamaulipas          28         25.542873   \n",
       "1468  2023   10             Tlaxcala          29         15.290113   \n",
       "1469  2023   10             Veracruz          30         24.580210   \n",
       "1470  2023   10              Yucatán          31         27.839565   \n",
       "1471  2023   10            Zacatecas          32         18.916952   \n",
       "\n",
       "      Temp_Superficial_MAX  Temp_Superficial_MIN  Temp_2_Metros  \\\n",
       "0                24.617947              3.252815      11.622434   \n",
       "1                21.848387              5.296516      12.156581   \n",
       "2                27.860968             12.222968      17.575806   \n",
       "3                30.339472             20.069032      24.493050   \n",
       "4                27.968901             15.246714      20.349943   \n",
       "...                    ...                   ...            ...   \n",
       "1467             35.266069             19.147674      24.547022   \n",
       "1468             23.650790              9.515000      14.971597   \n",
       "1469             31.172556             20.226730      24.134035   \n",
       "1470             32.797638             24.157495      27.691656   \n",
       "1471             30.348515             11.531646      17.939727   \n",
       "\n",
       "      Temp_2_Metros_MAX  Temp_2_Metros_MIN  Temp_2_Metros_Pto_Congelación  \\\n",
       "0             19.955865           4.849208                       2.336100   \n",
       "1             19.138839           7.561161                       3.232000   \n",
       "2             24.043097          13.045290                      10.594581   \n",
       "3             30.125425          19.977243                      18.949589   \n",
       "4             26.273483          15.924568                      16.362354   \n",
       "...                 ...                ...                            ...   \n",
       "1467          30.963188          19.681215                      17.522588   \n",
       "1468          20.815581          10.438403                      11.728065   \n",
       "1469          28.654913          20.827220                      20.242191   \n",
       "1470          32.443996          24.111659                      23.106765   \n",
       "1471          25.131491          12.307175                      11.179894   \n",
       "\n",
       "      Temp_2_Metros_Pto_Húmedo  Presión_Superficial  Velocidad_Viento  \\\n",
       "0                     6.980059            79.269296          2.306334   \n",
       "1                     7.694516            96.414323          2.328968   \n",
       "2                    14.085290            99.619742          2.680968   \n",
       "3                    21.721496           100.730762          0.696833   \n",
       "4                    18.356055            91.695314          1.527048   \n",
       "...                        ...                  ...               ...   \n",
       "1467                 21.035079            96.205454          2.576077   \n",
       "1468                 13.349629            76.623823          1.711016   \n",
       "1469                 22.187728            93.911541          2.264079   \n",
       "1470                 25.399595           100.892797          0.607775   \n",
       "1471                 14.559739            80.038231          2.085445   \n",
       "\n",
       "      Humedad_Relativa  Precipitacion  \n",
       "0            59.219238       0.836100  \n",
       "1            60.059871       0.225097  \n",
       "2            67.542323       0.050258  \n",
       "3            73.750880       1.040616  \n",
       "4            80.520960       1.351758  \n",
       "...                ...            ...  \n",
       "1467         68.954276       2.814044  \n",
       "1468         83.134355      10.307129  \n",
       "1469         80.661794       8.900584  \n",
       "1470         78.530797       2.573174  \n",
       "1471         69.505723       4.207948  \n",
       "\n",
       "[1472 rows x 16 columns]"
      ]
     },
     "execution_count": 4,
     "metadata": {},
     "output_type": "execute_result"
    }
   ],
   "source": [
    "### Crea Dataframe Estatal inferido a partir del Municipal\n",
    "df_estatal = df.groupby(['Año','Mes','Estado', 'Estado_CVE']).mean().reset_index()\n",
    "df_estatal.drop(columns=['Municipio_CVE','Día'], inplace=True)\n",
    "df_estatal"
   ]
  },
  {
   "cell_type": "code",
   "execution_count": 9,
   "metadata": {},
   "outputs": [
    {
     "data": {
      "text/html": [
       "<div>\n",
       "<style scoped>\n",
       "    .dataframe tbody tr th:only-of-type {\n",
       "        vertical-align: middle;\n",
       "    }\n",
       "\n",
       "    .dataframe tbody tr th {\n",
       "        vertical-align: top;\n",
       "    }\n",
       "\n",
       "    .dataframe thead th {\n",
       "        text-align: right;\n",
       "    }\n",
       "</style>\n",
       "<table border=\"1\" class=\"dataframe\">\n",
       "  <thead>\n",
       "    <tr style=\"text-align: right;\">\n",
       "      <th></th>\n",
       "      <th>Temp_Superficial</th>\n",
       "      <th>Temp_Superficial_MAX</th>\n",
       "      <th>Temp_Superficial_MIN</th>\n",
       "      <th>Temp_2_Metros</th>\n",
       "      <th>Temp_2_Metros_MAX</th>\n",
       "      <th>Temp_2_Metros_MIN</th>\n",
       "      <th>Temp_2_Metros_Pto_Congelación</th>\n",
       "      <th>Temp_2_Metros_Pto_Húmedo</th>\n",
       "      <th>Presión_Superficial</th>\n",
       "      <th>Velocidad_Viento</th>\n",
       "      <th>Humedad_Relativa</th>\n",
       "      <th>Precipitacion</th>\n",
       "    </tr>\n",
       "  </thead>\n",
       "  <tbody>\n",
       "    <tr>\n",
       "      <th>count</th>\n",
       "      <td>1472.000000</td>\n",
       "      <td>1472.000000</td>\n",
       "      <td>1472.000000</td>\n",
       "      <td>1472.000000</td>\n",
       "      <td>1472.000000</td>\n",
       "      <td>1472.000000</td>\n",
       "      <td>1472.000000</td>\n",
       "      <td>1472.000000</td>\n",
       "      <td>1472.000000</td>\n",
       "      <td>1472.000000</td>\n",
       "      <td>1472.000000</td>\n",
       "      <td>1472.000000</td>\n",
       "    </tr>\n",
       "    <tr>\n",
       "      <th>mean</th>\n",
       "      <td>22.013029</td>\n",
       "      <td>32.859709</td>\n",
       "      <td>14.363630</td>\n",
       "      <td>21.124783</td>\n",
       "      <td>28.166155</td>\n",
       "      <td>15.455790</td>\n",
       "      <td>11.776865</td>\n",
       "      <td>16.450818</td>\n",
       "      <td>88.734345</td>\n",
       "      <td>1.847348</td>\n",
       "      <td>62.334582</td>\n",
       "      <td>2.580671</td>\n",
       "    </tr>\n",
       "    <tr>\n",
       "      <th>std</th>\n",
       "      <td>5.073739</td>\n",
       "      <td>5.209239</td>\n",
       "      <td>6.225044</td>\n",
       "      <td>4.753899</td>\n",
       "      <td>4.184188</td>\n",
       "      <td>5.586824</td>\n",
       "      <td>7.225245</td>\n",
       "      <td>5.604649</td>\n",
       "      <td>7.800812</td>\n",
       "      <td>0.611161</td>\n",
       "      <td>15.394474</td>\n",
       "      <td>3.276291</td>\n",
       "    </tr>\n",
       "    <tr>\n",
       "      <th>min</th>\n",
       "      <td>7.305806</td>\n",
       "      <td>18.892065</td>\n",
       "      <td>-1.774579</td>\n",
       "      <td>7.814299</td>\n",
       "      <td>16.196774</td>\n",
       "      <td>0.802412</td>\n",
       "      <td>-9.865272</td>\n",
       "      <td>0.272277</td>\n",
       "      <td>75.433460</td>\n",
       "      <td>0.411409</td>\n",
       "      <td>20.651204</td>\n",
       "      <td>0.000000</td>\n",
       "    </tr>\n",
       "    <tr>\n",
       "      <th>25%</th>\n",
       "      <td>18.519838</td>\n",
       "      <td>29.085022</td>\n",
       "      <td>9.695081</td>\n",
       "      <td>17.776948</td>\n",
       "      <td>25.245562</td>\n",
       "      <td>11.191272</td>\n",
       "      <td>6.314761</td>\n",
       "      <td>12.428520</td>\n",
       "      <td>82.348073</td>\n",
       "      <td>1.418371</td>\n",
       "      <td>50.891138</td>\n",
       "      <td>0.269087</td>\n",
       "    </tr>\n",
       "    <tr>\n",
       "      <th>50%</th>\n",
       "      <td>22.347306</td>\n",
       "      <td>31.934887</td>\n",
       "      <td>14.125348</td>\n",
       "      <td>21.191541</td>\n",
       "      <td>28.139136</td>\n",
       "      <td>15.241894</td>\n",
       "      <td>12.027976</td>\n",
       "      <td>16.527848</td>\n",
       "      <td>89.302300</td>\n",
       "      <td>1.815252</td>\n",
       "      <td>62.217004</td>\n",
       "      <td>1.225591</td>\n",
       "    </tr>\n",
       "    <tr>\n",
       "      <th>75%</th>\n",
       "      <td>25.818232</td>\n",
       "      <td>36.784256</td>\n",
       "      <td>19.421538</td>\n",
       "      <td>24.674445</td>\n",
       "      <td>31.068161</td>\n",
       "      <td>19.970326</td>\n",
       "      <td>17.346413</td>\n",
       "      <td>21.196055</td>\n",
       "      <td>94.741315</td>\n",
       "      <td>2.275370</td>\n",
       "      <td>75.236117</td>\n",
       "      <td>3.886939</td>\n",
       "    </tr>\n",
       "    <tr>\n",
       "      <th>max</th>\n",
       "      <td>33.525097</td>\n",
       "      <td>46.667226</td>\n",
       "      <td>26.960485</td>\n",
       "      <td>31.925758</td>\n",
       "      <td>39.203212</td>\n",
       "      <td>27.030588</td>\n",
       "      <td>25.926727</td>\n",
       "      <td>27.158328</td>\n",
       "      <td>101.463470</td>\n",
       "      <td>3.633549</td>\n",
       "      <td>92.658999</td>\n",
       "      <td>28.186566</td>\n",
       "    </tr>\n",
       "  </tbody>\n",
       "</table>\n",
       "</div>"
      ],
      "text/plain": [
       "       Temp_Superficial  Temp_Superficial_MAX  Temp_Superficial_MIN  \\\n",
       "count       1472.000000           1472.000000           1472.000000   \n",
       "mean          22.013029             32.859709             14.363630   \n",
       "std            5.073739              5.209239              6.225044   \n",
       "min            7.305806             18.892065             -1.774579   \n",
       "25%           18.519838             29.085022              9.695081   \n",
       "50%           22.347306             31.934887             14.125348   \n",
       "75%           25.818232             36.784256             19.421538   \n",
       "max           33.525097             46.667226             26.960485   \n",
       "\n",
       "       Temp_2_Metros  Temp_2_Metros_MAX  Temp_2_Metros_MIN  \\\n",
       "count    1472.000000        1472.000000        1472.000000   \n",
       "mean       21.124783          28.166155          15.455790   \n",
       "std         4.753899           4.184188           5.586824   \n",
       "min         7.814299          16.196774           0.802412   \n",
       "25%        17.776948          25.245562          11.191272   \n",
       "50%        21.191541          28.139136          15.241894   \n",
       "75%        24.674445          31.068161          19.970326   \n",
       "max        31.925758          39.203212          27.030588   \n",
       "\n",
       "       Temp_2_Metros_Pto_Congelación  Temp_2_Metros_Pto_Húmedo  \\\n",
       "count                    1472.000000               1472.000000   \n",
       "mean                       11.776865                 16.450818   \n",
       "std                         7.225245                  5.604649   \n",
       "min                        -9.865272                  0.272277   \n",
       "25%                         6.314761                 12.428520   \n",
       "50%                        12.027976                 16.527848   \n",
       "75%                        17.346413                 21.196055   \n",
       "max                        25.926727                 27.158328   \n",
       "\n",
       "       Presión_Superficial  Velocidad_Viento  Humedad_Relativa  Precipitacion  \n",
       "count          1472.000000       1472.000000       1472.000000    1472.000000  \n",
       "mean             88.734345          1.847348         62.334582       2.580671  \n",
       "std               7.800812          0.611161         15.394474       3.276291  \n",
       "min              75.433460          0.411409         20.651204       0.000000  \n",
       "25%              82.348073          1.418371         50.891138       0.269087  \n",
       "50%              89.302300          1.815252         62.217004       1.225591  \n",
       "75%              94.741315          2.275370         75.236117       3.886939  \n",
       "max             101.463470          3.633549         92.658999      28.186566  "
      ]
     },
     "execution_count": 9,
     "metadata": {},
     "output_type": "execute_result"
    }
   ],
   "source": [
    "columnas_numericas = ['Temp_Superficial','Temp_Superficial_MAX','Temp_Superficial_MIN','Temp_2_Metros','Temp_2_Metros_MAX','Temp_2_Metros_MIN','Temp_2_Metros_Pto_Congelación','Temp_2_Metros_Pto_Húmedo','Presión_Superficial','Velocidad_Viento','Humedad_Relativa','Precipitacion']\n",
    "df_estatal[columnas_numericas].describe()"
   ]
  },
  {
   "cell_type": "code",
   "execution_count": 6,
   "metadata": {},
   "outputs": [
    {
     "name": "stdout",
     "output_type": "stream",
     "text": [
      "<class 'pandas.core.frame.DataFrame'>\n",
      "RangeIndex: 1472 entries, 0 to 1471\n",
      "Data columns (total 16 columns):\n",
      " #   Column                         Non-Null Count  Dtype  \n",
      "---  ------                         --------------  -----  \n",
      " 0   Año                            1472 non-null   int64  \n",
      " 1   Mes                            1472 non-null   int64  \n",
      " 2   Estado                         1472 non-null   object \n",
      " 3   Estado_CVE                     1472 non-null   int64  \n",
      " 4   Temp_Superficial               1472 non-null   float64\n",
      " 5   Temp_Superficial_MAX           1472 non-null   float64\n",
      " 6   Temp_Superficial_MIN           1472 non-null   float64\n",
      " 7   Temp_2_Metros                  1472 non-null   float64\n",
      " 8   Temp_2_Metros_MAX              1472 non-null   float64\n",
      " 9   Temp_2_Metros_MIN              1472 non-null   float64\n",
      " 10  Temp_2_Metros_Pto_Congelación  1472 non-null   float64\n",
      " 11  Temp_2_Metros_Pto_Húmedo       1472 non-null   float64\n",
      " 12  Presión_Superficial            1472 non-null   float64\n",
      " 13  Velocidad_Viento               1472 non-null   float64\n",
      " 14  Humedad_Relativa               1472 non-null   float64\n",
      " 15  Precipitacion                  1472 non-null   float64\n",
      "dtypes: float64(12), int64(3), object(1)\n",
      "memory usage: 184.1+ KB\n"
     ]
    }
   ],
   "source": [
    "df_estatal.info()"
   ]
  },
  {
   "cell_type": "code",
   "execution_count": 150,
   "metadata": {},
   "outputs": [
    {
     "data": {
      "text/plain": [
       "array([[<AxesSubplot: title={'center': 'Temp_Superficial'}>,\n",
       "        <AxesSubplot: title={'center': 'Temp_Superficial_MAX'}>,\n",
       "        <AxesSubplot: title={'center': 'Temp_Superficial_MIN'}>],\n",
       "       [<AxesSubplot: title={'center': 'Temp_2_Metros'}>,\n",
       "        <AxesSubplot: title={'center': 'Temp_2_Metros_MAX'}>,\n",
       "        <AxesSubplot: title={'center': 'Temp_2_Metros_MIN'}>],\n",
       "       [<AxesSubplot: title={'center': 'Temp_2_Metros_Pto_Congelación'}>,\n",
       "        <AxesSubplot: title={'center': 'Temp_2_Metros_Pto_Húmedo'}>,\n",
       "        <AxesSubplot: title={'center': 'Presión_Superficial'}>],\n",
       "       [<AxesSubplot: title={'center': 'Velocidad_Viento'}>,\n",
       "        <AxesSubplot: title={'center': 'Humedad_Relativa'}>,\n",
       "        <AxesSubplot: title={'center': 'Precipitacion'}>]], dtype=object)"
      ]
     },
     "execution_count": 150,
     "metadata": {},
     "output_type": "execute_result"
    },
    {
     "data": {
      "image/png": "[encoded data removed]",
      "text/plain": [
       "<Figure size 1600x2000 with 12 Axes>"
      ]
     },
     "metadata": {},
     "output_type": "display_data"
    }
   ],
   "source": [
    "df_estatal[columnas_numericas].hist(figsize=(16, 20), bins=25, xlabelsize=8, ylabelsize=8)"
   ]
  },
  {
   "cell_type": "code",
   "execution_count": 159,
   "metadata": {},
   "outputs": [],
   "source": [
    "def ploting(Variable):\n",
    "    # Plot each year's time series in its own facet\n",
    "    g = sns.relplot(\n",
    "        data=df_estatal,\n",
    "        x=\"Mes\", y=Variable, col=\"Año\", hue='Estado',\n",
    "        kind=\"line\", palette=\"husl\", linewidth=2, zorder=5,\n",
    "        col_wrap=4, height=5, aspect=2, legend=True,\n",
    "    )\n",
    "\n",
    "    # Iterate over each subplot to customize further\n",
    "    for year, ax in g.axes_dict.items():\n",
    "\n",
    "        # Add the title as an annotation within the plot\n",
    "        ax.text(.9, .85, year, transform=ax.transAxes, fontweight=\"bold\")\n",
    "\n",
    "\n",
    "    # Reduce the frequency of the x axis ticks\n",
    "    ax.set_xticks(ax.get_xticks()[::2])\n",
    "\n",
    "    # Tweak the supporting aspects of the plot\n",
    "    g.set_titles(Variable)\n",
    "    g.set_axis_labels(\"Mes\", \"\")\n",
    "    g.tight_layout()"
   ]
  },
  {
   "cell_type": "code",
   "execution_count": 160,
   "metadata": {},
   "outputs": [
    {
     "data": {
      "application/vnd.jupyter.widget-view+json": {
       "model_id": "1160ee2cdf7748b28c28bc41357c56b4",
       "version_major": 2,
       "version_minor": 0
      },
      "text/plain": [
       "interactive(children=(Dropdown(description='Variable', options=('Temp_Superficial', 'Temp_Superficial_MAX', 'T…"
      ]
     },
     "metadata": {},
     "output_type": "display_data"
    },
    {
     "data": {
      "text/plain": [
       "<function __main__.ploting(Variable)>"
      ]
     },
     "execution_count": 160,
     "metadata": {},
     "output_type": "execute_result"
    }
   ],
   "source": [
    "widgets.interact(ploting, Variable=columnas_numericas)"
   ]
  },
  {
   "cell_type": "code",
   "execution_count": 161,
   "metadata": {},
   "outputs": [
    {
     "data": {
      "application/vnd.plotly.v1+json": {
       "config": {
        "plotlyServerURL": "https://plot.ly"
       },
       "data": [
        {
         "hovertemplate": "Estado=Aguascalientes<br>Año=2020<br>Meses=%{x}<br>Temp_Superficial=%{y}<extra></extra>",
         "legendgroup": "Aguascalientes",
         "line": {
          "color": "#F8766D",
          "dash": "solid"
         },
         "marker": {
          "symbol": "circle"
         },
         "mode": "lines",
         "name": "Aguascalientes",
         "showlegend": true,
         "type": "scattergl",
         "x": [
          1,
          2,
          3,
          4,
          5,
          6,
          7,
          8,
          9,
          10,
          11,
          12
         ],
         "xaxis": "x",
         "y": [
          11.871671554252199,
          14.60153605015674,
          20.3016715542522,
          21.978333333333335,
          22.865395894428154,
          23.88169696969697,
          22.03882697947214,
          20.999853372434018,
          19.887575757575757,
          18.081788856304986,
          15.520333333333333,
          12.67008797653959
         ],
         "yaxis": "y"
        },
        {
         "hovertemplate": "Estado=Aguascalientes<br>Año=2021<br>Meses=%{x}<br>Temp_Superficial=%{y}<extra></extra>",
         "legendgroup": "Aguascalientes",
         "line": {
          "color": "#F8766D",
          "dash": "solid"
         },
         "marker": {
          "symbol": "circle"
         },
         "mode": "lines",
         "name": "Aguascalientes",
         "showlegend": false,
         "type": "scattergl",
         "x": [
          1,
          2,
          3,
          4,
          5,
          6,
          7,
          8,
          9,
          10,
          11,
          12
         ],
         "xaxis": "x2",
         "y": [
          12.467390029325513,
          14.761428571428572,
          19.11615835777126,
          21.727878787878787,
          23.435953079178883,
          21.55630303030303,
          20.128357771260998,
          20.36659824046921,
          18.750757575757575,
          18.17982404692082,
          14.618515151515151,
          13.04724340175953
         ],
         "yaxis": "y2"
        },
        {
         "hovertemplate": "Estado=Aguascalientes<br>Año=2022<br>Meses=%{x}<br>Temp_Superficial=%{y}<extra></extra>",
         "legendgroup": "Aguascalientes",
         "line": {
          "color": "#F8766D",
          "dash": "solid"
         },
         "marker": {
          "symbol": "circle"
         },
         "mode": "lines",
         "name": "Aguascalientes",
         "showlegend": false,
         "type": "scattergl",
         "x": [
          1,
          2,
          3,
          4,
          5,
          6,
          7,
          8,
          9,
          10,
          11,
          12
         ],
         "xaxis": "x3",
         "y": [
          12.609120234604106,
          14.337305194805197,
          16.631085043988268,
          21.255363636363636,
          24.435014662756597,
          23.642848484848486,
          22.27624633431085,
          21.438621700879764,
          19.70148484848485,
          17.808768328445748,
          15.604151515151514,
          12.830117302052786
         ],
         "yaxis": "y3"
        },
        {
         "hovertemplate": "Estado=Aguascalientes<br>Año=2023<br>Meses=%{x}<br>Temp_Superficial=%{y}<extra></extra>",
         "legendgroup": "Aguascalientes",
         "line": {
          "color": "#F8766D",
          "dash": "solid"
         },
         "marker": {
          "symbol": "circle"
         },
         "mode": "lines",
         "name": "Aguascalientes",
         "showlegend": false,
         "type": "scattergl",
         "x": [
          1,
          2,
          3,
          4,
          5,
          6,
          7,
          8,
          9,
          10
         ],
         "xaxis": "x4",
         "y": [
          12.452228739002933,
          15.459577922077923,
          18.721466275659825,
          21.03842424242424,
          22.343636363636364,
          26.011,
          23.258299120234604,
          22.10689149560117,
          22.401363636363637,
          18.888709677419357
         ],
         "yaxis": "y4"
        },
        {
         "hovertemplate": "Estado=Baja California<br>Año=2020<br>Meses=%{x}<br>Temp_Superficial=%{y}<extra></extra>",
         "legendgroup": "Baja California",
         "line": {
          "color": "#A3A500",
          "dash": "solid"
         },
         "marker": {
          "symbol": "circle"
         },
         "mode": "lines",
         "name": "Baja California",
         "showlegend": true,
         "type": "scattergl",
         "x": [
          1,
          2,
          3,
          4,
          5,
          6,
          7,
          8,
          9,
          10,
          11,
          12
         ],
         "xaxis": "x",
         "y": [
          11.503548387096775,
          12.759586206896552,
          14.040322580645162,
          18.074266666666666,
          23.406193548387098,
          24.684866666666668,
          28.890451612903224,
          30.81290322580645,
          28.3384,
          23.408451612903225,
          16.16626666666667,
          11.785677419354839
         ],
         "yaxis": "y"
        },
        {
         "hovertemplate": "Estado=Baja California<br>Año=2021<br>Meses=%{x}<br>Temp_Superficial=%{y}<extra></extra>",
         "legendgroup": "Baja California",
         "line": {
          "color": "#A3A500",
          "dash": "solid"
         },
         "marker": {
          "symbol": "circle"
         },
         "mode": "lines",
         "name": "Baja California",
         "showlegend": false,
         "type": "scattergl",
         "x": [
          1,
          2,
          3,
          4,
          5,
          6,
          7,
          8,
          9,
          10,
          11,
          12
         ],
         "xaxis": "x2",
         "y": [
          11.614774193548387,
          13.001857142857142,
          13.746451612903225,
          19.302466666666668,
          21.571612903225805,
          27.465,
          30.303161290322578,
          29.818516129032258,
          27.382266666666666,
          19.831806451612902,
          18.074266666666666,
          12.33574193548387
         ],
         "yaxis": "y2"
        },
        {
         "hovertemplate": "Estado=Baja California<br>Año=2022<br>Meses=%{x}<br>Temp_Superficial=%{y}<extra></extra>",
         "legendgroup": "Baja California",
         "line": {
          "color": "#A3A500",
          "dash": "solid"
         },
         "marker": {
          "symbol": "circle"
         },
         "mode": "lines",
         "name": "Baja California",
         "showlegend": false,
         "type": "scattergl",
         "x": [
          1,
          2,
          3,
          4,
          5,
          6,
          7,
          8,
          9,
          10,
          11,
          12
         ],
         "xaxis": "x3",
         "y": [
          11.62941935483871,
          11.786428571428571,
          15.888516129032256,
          19.3614,
          21.843225806451613,
          27.7986,
          29.120838709677418,
          30.86509677419355,
          26.94673333333333,
          21.96909677419355,
          13.1384,
          11.446064516129033
         ],
         "yaxis": "y3"
        },
        {
         "hovertemplate": "Estado=Baja California<br>Año=2023<br>Meses=%{x}<br>Temp_Superficial=%{y}<extra></extra>",
         "legendgroup": "Baja California",
         "line": {
          "color": "#A3A500",
          "dash": "solid"
         },
         "marker": {
          "symbol": "circle"
         },
         "mode": "lines",
         "name": "Baja California",
         "showlegend": false,
         "type": "scattergl",
         "x": [
          1,
          2,
          3,
          4,
          5,
          6,
          7,
          8,
          9,
          10
         ],
         "xaxis": "x4",
         "y": [
          10.409161290322581,
          10.051142857142858,
          12.990709677419355,
          17.84626666666667,
          20.180387096774194,
          22.8476,
          30.217225806451612,
          28.747999999999998,
          24.4012,
          21.732129032258065
         ],
         "yaxis": "y4"
        },
        {
         "hovertemplate": "Estado=Baja California Sur<br>Año=2020<br>Meses=%{x}<br>Temp_Superficial=%{y}<extra></extra>",
         "legendgroup": "Baja California Sur",
         "line": {
          "color": "#00BF7D",
          "dash": "solid"
         },
         "marker": {
          "symbol": "circle"
         },
         "mode": "lines",
         "name": "Baja California Sur",
         "showlegend": true,
         "type": "scattergl",
         "x": [
          1,
          2,
          3,
          4,
          5,
          6,
          7,
          8,
          9,
          10,
          11,
          12
         ],
         "xaxis": "x",
         "y": [
          18.086451612903225,
          18.92813793103448,
          20.730967741935483,
          23.893066666666666,
          27.766709677419357,
          30.84933333333333,
          33.482064516129036,
          33.31929032258064,
          32.71273333333333,
          30.066064516129032,
          25.368466666666666,
          19.528580645161288
         ],
         "yaxis": "y"
        },
        {
         "hovertemplate": "Estado=Baja California Sur<br>Año=2021<br>Meses=%{x}<br>Temp_Superficial=%{y}<extra></extra>",
         "legendgroup": "Baja California Sur",
         "line": {
          "color": "#00BF7D",
          "dash": "solid"
         },
         "marker": {
          "symbol": "circle"
         },
         "mode": "lines",
         "name": "Baja California Sur",
         "showlegend": false,
         "type": "scattergl",
         "x": [
          1,
          2,
          3,
          4,
          5,
          6,
          7,
          8,
          9,
          10,
          11,
          12
         ],
         "xaxis": "x2",
         "y": [
          18.283870967741937,
          19.875714285714285,
          21.504709677419356,
          25.162466666666667,
          27.571419354838707,
          30.996866666666666,
          33.190064516129034,
          32.86690322580645,
          30.8454,
          28.128580645161293,
          24.978866666666665,
          21.580000000000002
         ],
         "yaxis": "y2"
        },
        {
         "hovertemplate": "Estado=Baja California Sur<br>Año=2022<br>Meses=%{x}<br>Temp_Superficial=%{y}<extra></extra>",
         "legendgroup": "Baja California Sur",
         "line": {
          "color": "#00BF7D",
          "dash": "solid"
         },
         "marker": {
          "symbol": "circle"
         },
         "mode": "lines",
         "name": "Baja California Sur",
         "showlegend": false,
         "type": "scattergl",
         "x": [
          1,
          2,
          3,
          4,
          5,
          6,
          7,
          8,
          9,
          10,
          11,
          12
         ],
         "xaxis": "x3",
         "y": [
          19.737354838709678,
          19.508928571428573,
          22.294838709677418,
          25.284733333333335,
          27.270774193548387,
          31.09913333333333,
          33.096000000000004,
          32.568387096774195,
          29.687,
          26.888193548387097,
          22.182266666666667,
          20.11716129032258
         ],
         "yaxis": "y3"
        },
        {
         "hovertemplate": "Estado=Baja California Sur<br>Año=2023<br>Meses=%{x}<br>Temp_Superficial=%{y}<extra></extra>",
         "legendgroup": "Baja California Sur",
         "line": {
          "color": "#00BF7D",
          "dash": "solid"
         },
         "marker": {
          "symbol": "circle"
         },
         "mode": "lines",
         "name": "Baja California Sur",
         "showlegend": false,
         "type": "scattergl",
         "x": [
          1,
          2,
          3,
          4,
          5,
          6,
          7,
          8,
          9,
          10
         ],
         "xaxis": "x4",
         "y": [
          18.50632258064516,
          18.345714285714287,
          21.886709677419354,
          24.258,
          25.150129032258064,
          29.837333333333337,
          33.52509677419355,
          33.38129032258065,
          32.1012,
          29.09116129032258
         ],
         "yaxis": "y4"
        },
        {
         "hovertemplate": "Estado=Campeche<br>Año=2020<br>Meses=%{x}<br>Temp_Superficial=%{y}<extra></extra>",
         "legendgroup": "Campeche",
         "line": {
          "color": "#00B0F6",
          "dash": "solid"
         },
         "marker": {
          "symbol": "circle"
         },
         "mode": "lines",
         "name": "Campeche",
         "showlegend": true,
         "type": "scattergl",
         "x": [
          1,
          2,
          3,
          4,
          5,
          6,
          7,
          8,
          9,
          10,
          11,
          12
         ],
         "xaxis": "x",
         "y": [
          24.531466275659824,
          26.24335423197492,
          28.61052785923754,
          32.096090909090904,
          29.537947214076247,
          26.749969696969696,
          26.939882697947215,
          27.107829912023462,
          26.90415151515152,
          25.81765395894428,
          24.515636363636364,
          22.421026392961878
         ],
         "yaxis": "y"
        },
        {
         "hovertemplate": "Estado=Campeche<br>Año=2021<br>Meses=%{x}<br>Temp_Superficial=%{y}<extra></extra>",
         "legendgroup": "Campeche",
         "line": {
          "color": "#00B0F6",
          "dash": "solid"
         },
         "marker": {
          "symbol": "circle"
         },
         "mode": "lines",
         "name": "Campeche",
         "showlegend": false,
         "type": "scattergl",
         "x": [
          1,
          2,
          3,
          4,
          5,
          6,
          7,
          8,
          9,
          10,
          11,
          12
         ],
         "xaxis": "x2",
         "y": [
          23.362287390029326,
          24.987532467532468,
          27.89718475073314,
          30.512424242424242,
          29.535718475073313,
          27.77672727272727,
          27.368944281524925,
          27.594369501466275,
          26.985030303030303,
          26.952140762463344,
          24.662484848484848,
          25.473225806451616
         ],
         "yaxis": "y2"
        },
        {
         "hovertemplate": "Estado=Campeche<br>Año=2022<br>Meses=%{x}<br>Temp_Superficial=%{y}<extra></extra>",
         "legendgroup": "Campeche",
         "line": {
          "color": "#00B0F6",
          "dash": "solid"
         },
         "marker": {
          "symbol": "circle"
         },
         "mode": "lines",
         "name": "Campeche",
         "showlegend": false,
         "type": "scattergl",
         "x": [
          1,
          2,
          3,
          4,
          5,
          6,
          7,
          8,
          9,
          10,
          11,
          12
         ],
         "xaxis": "x3",
         "y": [
          23.83149560117302,
          24.91262987012987,
          27.173460410557183,
          29.392242424242426,
          29.967859237536658,
          26.777848484848487,
          27.141935483870967,
          26.9591495601173,
          26.312212121212124,
          25.527478005865106,
          25.52439393939394,
          24.45093841642229
         ],
         "yaxis": "y3"
        },
        {
         "hovertemplate": "Estado=Campeche<br>Año=2023<br>Meses=%{x}<br>Temp_Superficial=%{y}<extra></extra>",
         "legendgroup": "Campeche",
         "line": {
          "color": "#00B0F6",
          "dash": "solid"
         },
         "marker": {
          "symbol": "circle"
         },
         "mode": "lines",
         "name": "Campeche",
         "showlegend": false,
         "type": "scattergl",
         "x": [
          1,
          2,
          3,
          4,
          5,
          6,
          7,
          8,
          9,
          10
         ],
         "xaxis": "x4",
         "y": [
          24.924868035190613,
          26.16431818181818,
          28.622052785923756,
          30.696757575757577,
          31.74733137829912,
          31.81451515151515,
          30.31043988269795,
          30.516275659824046,
          29.44612121212121,
          27.958797653958946
         ],
         "yaxis": "y4"
        },
        {
         "hovertemplate": "Estado=Chiapas<br>Año=2020<br>Meses=%{x}<br>Temp_Superficial=%{y}<extra></extra>",
         "legendgroup": "Chiapas",
         "line": {
          "color": "#E76BF3",
          "dash": "solid"
         },
         "marker": {
          "symbol": "circle"
         },
         "mode": "lines",
         "name": "Chiapas",
         "showlegend": true,
         "type": "scattergl",
         "x": [
          1,
          2,
          3,
          4,
          5,
          6,
          7,
          8,
          9,
          10,
          11,
          12
         ],
         "xaxis": "x",
         "y": [
          20.458480043739748,
          21.748421975452953,
          23.774907053034447,
          26.750858757062144,
          25.306722252597048,
          23.187375706214688,
          23.17777200656096,
          22.96686987424822,
          22.749830508474574,
          21.786776927282666,
          21.001977401129942,
          19.28907326407873
         ],
         "yaxis": "y"
        },
        {
         "hovertemplate": "Estado=Chiapas<br>Año=2021<br>Meses=%{x}<br>Temp_Superficial=%{y}<extra></extra>",
         "legendgroup": "Chiapas",
         "line": {
          "color": "#E76BF3",
          "dash": "solid"
         },
         "marker": {
          "symbol": "circle"
         },
         "mode": "lines",
         "name": "Chiapas",
         "showlegend": false,
         "type": "scattergl",
         "x": [
          1,
          2,
          3,
          4,
          5,
          6,
          7,
          8,
          9,
          10,
          11,
          12
         ],
         "xaxis": "x2",
         "y": [
          20.217621651175506,
          20.471125907990317,
          22.90476216511755,
          25.235522598870055,
          24.444379442318205,
          23.40650282485876,
          23.11120557681793,
          22.936880809185347,
          23.010209039548023,
          22.62098141060689,
          19.926062146892654,
          20.519926189174413
         ],
         "yaxis": "y2"
        },
        {
         "hovertemplate": "Estado=Chiapas<br>Año=2022<br>Meses=%{x}<br>Temp_Superficial=%{y}<extra></extra>",
         "legendgroup": "Chiapas",
         "line": {
          "color": "#E76BF3",
          "dash": "solid"
         },
         "marker": {
          "symbol": "circle"
         },
         "mode": "lines",
         "name": "Chiapas",
         "showlegend": false,
         "type": "scattergl",
         "x": [
          1,
          2,
          3,
          4,
          5,
          6,
          7,
          8,
          9,
          10,
          11,
          12
         ],
         "xaxis": "x3",
         "y": [
          19.742599781301255,
          20.5727784503632,
          22.81923182066703,
          24.988084745762713,
          24.95491798797157,
          22.60316101694915,
          23.15415527610716,
          22.8724931656643,
          22.51291525423729,
          21.822553307818477,
          21.30982768361582,
          19.92770639693822
         ],
         "yaxis": "y3"
        },
        {
         "hovertemplate": "Estado=Chiapas<br>Año=2023<br>Meses=%{x}<br>Temp_Superficial=%{y}<extra></extra>",
         "legendgroup": "Chiapas",
         "line": {
          "color": "#E76BF3",
          "dash": "solid"
         },
         "marker": {
          "symbol": "circle"
         },
         "mode": "lines",
         "name": "Chiapas",
         "showlegend": false,
         "type": "scattergl",
         "x": [
          1,
          2,
          3,
          4,
          5,
          6,
          7,
          8,
          9,
          10
         ],
         "xaxis": "x4",
         "y": [
          20.17875068343357,
          21.148777239709442,
          23.58755877528704,
          25.623946327683615,
          26.96473482777474,
          26.659200564971755,
          24.110951339529798,
          24.209803171131767,
          23.87672881355932,
          22.790757244395845
         ],
         "yaxis": "y4"
        },
        {
         "hovertemplate": "Estado=Chihuahua<br>Año=2020<br>Meses=%{x}<br>Temp_Superficial=%{y}<extra></extra>",
         "legendgroup": "Chihuahua",
         "line": {
          "color": "#F8766D",
          "dash": "solid"
         },
         "marker": {
          "symbol": "circle"
         },
         "mode": "lines",
         "name": "Chihuahua",
         "showlegend": true,
         "type": "scattergl",
         "x": [
          1,
          2,
          3,
          4,
          5,
          6,
          7,
          8,
          9,
          10,
          11,
          12
         ],
         "xaxis": "x",
         "y": [
          8.274217621569571,
          9.901893978383942,
          14.922623976889746,
          19.0148407960199,
          24.484535387578237,
          27.806358208955224,
          26.701940298507463,
          27.24949446316803,
          21.911572139303484,
          19.181242176215697,
          14.691716417910447,
          7.305806451612903
         ],
         "yaxis": "y"
        },
        {
         "hovertemplate": "Estado=Chihuahua<br>Año=2021<br>Meses=%{x}<br>Temp_Superficial=%{y}<extra></extra>",
         "legendgroup": "Chihuahua",
         "line": {
          "color": "#F8766D",
          "dash": "solid"
         },
         "marker": {
          "symbol": "circle"
         },
         "mode": "lines",
         "name": "Chihuahua",
         "showlegend": false,
         "type": "scattergl",
         "x": [
          1,
          2,
          3,
          4,
          5,
          6,
          7,
          8,
          9,
          10,
          11,
          12
         ],
         "xaxis": "x2",
         "y": [
          7.5905247953779496,
          11.245341151385926,
          13.899855560905152,
          19.462278606965175,
          23.8164756860857,
          27.656437810945274,
          24.41249398170438,
          23.77608570052961,
          22.434810945273632,
          18.771742898411173,
          14.290099502487562,
          11.579128550794413
         ],
         "yaxis": "y2"
        },
        {
         "hovertemplate": "Estado=Chihuahua<br>Año=2022<br>Meses=%{x}<br>Temp_Superficial=%{y}<extra></extra>",
         "legendgroup": "Chihuahua",
         "line": {
          "color": "#F8766D",
          "dash": "solid"
         },
         "marker": {
          "symbol": "circle"
         },
         "mode": "lines",
         "name": "Chihuahua",
         "showlegend": false,
         "type": "scattergl",
         "x": [
          1,
          2,
          3,
          4,
          5,
          6,
          7,
          8,
          9,
          10,
          11,
          12
         ],
         "xaxis": "x3",
         "y": [
          8.833668753009148,
          9.242574626865672,
          13.741829561868078,
          20.551273631840793,
          25.027250842561386,
          27.52952736318408,
          26.825536831969185,
          23.864650938854115,
          21.346701492537314,
          16.496071256620127,
          10.491646766169154,
          9.441545498314877
         ],
         "yaxis": "y3"
        },
        {
         "hovertemplate": "Estado=Chihuahua<br>Año=2023<br>Meses=%{x}<br>Temp_Superficial=%{y}<extra></extra>",
         "legendgroup": "Chihuahua",
         "line": {
          "color": "#F8766D",
          "dash": "solid"
         },
         "marker": {
          "symbol": "circle"
         },
         "mode": "lines",
         "name": "Chihuahua",
         "showlegend": false,
         "type": "scattergl",
         "x": [
          1,
          2,
          3,
          4,
          5,
          6,
          7,
          8,
          9,
          10
         ],
         "xaxis": "x4",
         "y": [
          8.401261434761675,
          9.768843283582088,
          14.059711121810304,
          18.848820895522387,
          22.432725084256138,
          27.849825870646768,
          28.33259990370727,
          26.353312469908523,
          26.034084577114427,
          19.1380982185845
         ],
         "yaxis": "y4"
        },
        {
         "hovertemplate": "Estado=Ciudad de México<br>Año=2020<br>Meses=%{x}<br>Temp_Superficial=%{y}<extra></extra>",
         "legendgroup": "Ciudad de México",
         "line": {
          "color": "#A3A500",
          "dash": "solid"
         },
         "marker": {
          "symbol": "circle"
         },
         "mode": "lines",
         "name": "Ciudad de México",
         "showlegend": true,
         "type": "scattergl",
         "x": [
          1,
          2,
          3,
          4,
          5,
          6,
          7,
          8,
          9,
          10,
          11,
          12
         ],
         "xaxis": "x",
         "y": [
          11.700625,
          14.686206896551724,
          17.953306451612903,
          20.385729166666668,
          19.807116935483872,
          19.103666666666665,
          17.512056451612903,
          16.14491935483871,
          15.3553125,
          13.684133064516129,
          12.766354166666668,
          12.534415322580644
         ],
         "yaxis": "y"
        },
        {
         "hovertemplate": "Estado=Ciudad de México<br>Año=2021<br>Meses=%{x}<br>Temp_Superficial=%{y}<extra></extra>",
         "legendgroup": "Ciudad de México",
         "line": {
          "color": "#A3A500",
          "dash": "solid"
         },
         "marker": {
          "symbol": "circle"
         },
         "mode": "lines",
         "name": "Ciudad de México",
         "showlegend": false,
         "type": "scattergl",
         "x": [
          1,
          2,
          3,
          4,
          5,
          6,
          7,
          8,
          9,
          10,
          11,
          12
         ],
         "xaxis": "x2",
         "y": [
          12.87875,
          13.598147321428572,
          17.64421370967742,
          19.090291666666666,
          18.826995967741937,
          16.627875,
          16.12219758064516,
          15.981774193548388,
          15.128520833333333,
          14.634112903225807,
          11.942,
          11.692520161290322
         ],
         "yaxis": "y2"
        },
        {
         "hovertemplate": "Estado=Ciudad de México<br>Año=2022<br>Meses=%{x}<br>Temp_Superficial=%{y}<extra></extra>",
         "legendgroup": "Ciudad de México",
         "line": {
          "color": "#A3A500",
          "dash": "solid"
         },
         "marker": {
          "symbol": "circle"
         },
         "mode": "lines",
         "name": "Ciudad de México",
         "showlegend": false,
         "type": "scattergl",
         "x": [
          1,
          2,
          3,
          4,
          5,
          6,
          7,
          8,
          9,
          10,
          11,
          12
         ],
         "xaxis": "x3",
         "y": [
          11.968649193548387,
          13.810044642857141,
          16.487540322580646,
          19.679750000000002,
          20.666814516129033,
          18.235145833333334,
          17.640887096774193,
          16.608810483870965,
          15.436791666666666,
          15.23328629032258,
          14.39275,
          11.692721774193549
         ],
         "yaxis": "y3"
        },
        {
         "hovertemplate": "Estado=Ciudad de México<br>Año=2023<br>Meses=%{x}<br>Temp_Superficial=%{y}<extra></extra>",
         "legendgroup": "Ciudad de México",
         "line": {
          "color": "#A3A500",
          "dash": "solid"
         },
         "marker": {
          "symbol": "circle"
         },
         "mode": "lines",
         "name": "Ciudad de México",
         "showlegend": false,
         "type": "scattergl",
         "x": [
          1,
          2,
          3,
          4,
          5,
          6,
          7,
          8,
          9,
          10
         ],
         "xaxis": "x4",
         "y": [
          12.051854838709678,
          14.41734375,
          17.662197580645163,
          19.0828125,
          19.596854838709678,
          21.577166666666667,
          16.41048387096774,
          15.800423387096775,
          15.498041666666667,
          14.869475806451613
         ],
         "yaxis": "y4"
        },
        {
         "hovertemplate": "Estado=Coahuila<br>Año=2020<br>Meses=%{x}<br>Temp_Superficial=%{y}<extra></extra>",
         "legendgroup": "Coahuila",
         "line": {
          "color": "#00BF7D",
          "dash": "solid"
         },
         "marker": {
          "symbol": "circle"
         },
         "mode": "lines",
         "name": "Coahuila",
         "showlegend": true,
         "type": "scattergl",
         "x": [
          1,
          2,
          3,
          4,
          5,
          6,
          7,
          8,
          9,
          10,
          11,
          12
         ],
         "xaxis": "x",
         "y": [
          13.583353140916808,
          15.64423774954628,
          22.668030560271646,
          25.961482456140352,
          29.107156196943976,
          29.69434210526316,
          29.83227504244482,
          30.857444821731747,
          24.81865789473684,
          23.179235993208827,
          19.00880701754386,
          12.039388794567062
         ],
         "yaxis": "y"
        },
        {
         "hovertemplate": "Estado=Coahuila<br>Año=2021<br>Meses=%{x}<br>Temp_Superficial=%{y}<extra></extra>",
         "legendgroup": "Coahuila",
         "line": {
          "color": "#00BF7D",
          "dash": "solid"
         },
         "marker": {
          "symbol": "circle"
         },
         "mode": "lines",
         "name": "Coahuila",
         "showlegend": false,
         "type": "scattergl",
         "x": [
          1,
          2,
          3,
          4,
          5,
          6,
          7,
          8,
          9,
          10,
          11,
          12
         ],
         "xaxis": "x2",
         "y": [
          11.13657894736842,
          14.217988721804511,
          19.84660441426146,
          24.813684210526315,
          27.664252971137522,
          29.836921052631578,
          28.32953310696095,
          29.236196943972832,
          28.557526315789474,
          24.165662139219016,
          17.82219298245614,
          17.433123938879458
         ],
         "yaxis": "y2"
        },
        {
         "hovertemplate": "Estado=Coahuila<br>Año=2022<br>Meses=%{x}<br>Temp_Superficial=%{y}<extra></extra>",
         "legendgroup": "Coahuila",
         "line": {
          "color": "#00BF7D",
          "dash": "solid"
         },
         "marker": {
          "symbol": "circle"
         },
         "mode": "lines",
         "name": "Coahuila",
         "showlegend": false,
         "type": "scattergl",
         "x": [
          1,
          2,
          3,
          4,
          5,
          6,
          7,
          8,
          9,
          10,
          11,
          12
         ],
         "xaxis": "x3",
         "y": [
          12.142894736842106,
          13.624943609022557,
          19.414422750424446,
          26.795333333333332,
          30.56311544991511,
          32.154131578947364,
          32.68350594227504,
          29.31467741935484,
          25.41813157894737,
          21.28299660441426,
          15.619342105263158,
          14.079940577249575
         ],
         "yaxis": "y3"
        },
        {
         "hovertemplate": "Estado=Coahuila<br>Año=2023<br>Meses=%{x}<br>Temp_Superficial=%{y}<extra></extra>",
         "legendgroup": "Coahuila",
         "line": {
          "color": "#00BF7D",
          "dash": "solid"
         },
         "marker": {
          "symbol": "circle"
         },
         "mode": "lines",
         "name": "Coahuila",
         "showlegend": false,
         "type": "scattergl",
         "x": [
          1,
          2,
          3,
          4,
          5,
          6,
          7,
          8,
          9,
          10
         ],
         "xaxis": "x4",
         "y": [
          14.682801358234295,
          16.41748120300752,
          21.488013582342955,
          24.105508771929824,
          26.50730050933786,
          32.073605263157894,
          31.403684210526315,
          31.697724957555177,
          30.23444736842105,
          22.370942275042445
         ],
         "yaxis": "y4"
        },
        {
         "hovertemplate": "Estado=Colima<br>Año=2020<br>Meses=%{x}<br>Temp_Superficial=%{y}<extra></extra>",
         "legendgroup": "Colima",
         "line": {
          "color": "#00B0F6",
          "dash": "solid"
         },
         "marker": {
          "symbol": "circle"
         },
         "mode": "lines",
         "name": "Colima",
         "showlegend": true,
         "type": "scattergl",
         "x": [
          1,
          2,
          3,
          4,
          5,
          6,
          7,
          8,
          9,
          10,
          11,
          12
         ],
         "xaxis": "x",
         "y": [
          21.67632258064516,
          22.144034482758624,
          24.500129032258066,
          25.5693,
          27.66306451612903,
          27.8252,
          26.232225806451613,
          25.386193548387098,
          25.4351,
          24.93641935483871,
          23.607666666666667,
          21.428322580645162
         ],
         "yaxis": "y"
        },
        {
         "hovertemplate": "Estado=Colima<br>Año=2021<br>Meses=%{x}<br>Temp_Superficial=%{y}<extra></extra>",
         "legendgroup": "Colima",
         "line": {
          "color": "#00B0F6",
          "dash": "solid"
         },
         "marker": {
          "symbol": "circle"
         },
         "mode": "lines",
         "name": "Colima",
         "showlegend": false,
         "type": "scattergl",
         "x": [
          1,
          2,
          3,
          4,
          5,
          6,
          7,
          8,
          9,
          10,
          11,
          12
         ],
         "xaxis": "x2",
         "y": [
          21.26574193548387,
          21.70282142857143,
          24.010516129032258,
          26.295566666666666,
          27.50309677419355,
          26.460666666666665,
          25.70732258064516,
          25.460129032258067,
          25.005633333333332,
          24.975161290322582,
          23.522233333333332,
          22.41232258064516
         ],
         "yaxis": "y2"
        },
        {
         "hovertemplate": "Estado=Colima<br>Año=2022<br>Meses=%{x}<br>Temp_Superficial=%{y}<extra></extra>",
         "legendgroup": "Colima",
         "line": {
          "color": "#00B0F6",
          "dash": "solid"
         },
         "marker": {
          "symbol": "circle"
         },
         "mode": "lines",
         "name": "Colima",
         "showlegend": false,
         "type": "scattergl",
         "x": [
          1,
          2,
          3,
          4,
          5,
          6,
          7,
          8,
          9,
          10,
          11,
          12
         ],
         "xaxis": "x3",
         "y": [
          21.86774193548387,
          22.704428571428572,
          23.272516129032258,
          26.00336666666667,
          27.92864516129032,
          26.183366666666668,
          25.80377419354839,
          25.485935483870968,
          25.185,
          24.806451612903224,
          23.640033333333335,
          22.169806451612903
         ],
         "yaxis": "y3"
        },
        {
         "hovertemplate": "Estado=Colima<br>Año=2023<br>Meses=%{x}<br>Temp_Superficial=%{y}<extra></extra>",
         "legendgroup": "Colima",
         "line": {
          "color": "#00B0F6",
          "dash": "solid"
         },
         "marker": {
          "symbol": "circle"
         },
         "mode": "lines",
         "name": "Colima",
         "showlegend": false,
         "type": "scattergl",
         "x": [
          1,
          2,
          3,
          4,
          5,
          6,
          7,
          8,
          9,
          10
         ],
         "xaxis": "x4",
         "y": [
          21.48990322580645,
          23.18867857142857,
          24.560903225806452,
          26.595899999999997,
          28.258193548387098,
          29.200033333333334,
          26.90551612903226,
          26.080290322580645,
          26.156333333333333,
          25.092774193548387
         ],
         "yaxis": "y4"
        },
        {
         "hovertemplate": "Estado=Durango<br>Año=2020<br>Meses=%{x}<br>Temp_Superficial=%{y}<extra></extra>",
         "legendgroup": "Durango",
         "line": {
          "color": "#E76BF3",
          "dash": "solid"
         },
         "marker": {
          "symbol": "circle"
         },
         "mode": "lines",
         "name": "Durango",
         "showlegend": true,
         "type": "scattergl",
         "x": [
          1,
          2,
          3,
          4,
          5,
          6,
          7,
          8,
          9,
          10,
          11,
          12
         ],
         "xaxis": "x",
         "y": [
          10.41206782464847,
          12.827709991158267,
          18.55923076923077,
          20.893521367521366,
          24.115235732009925,
          25.468094017094014,
          23.454152191894128,
          23.631720430107528,
          19.947529914529916,
          18.41575682382134,
          15.531307692307694,
          10.073531844499586
         ],
         "yaxis": "y"
        },
        {
         "hovertemplate": "Estado=Durango<br>Año=2021<br>Meses=%{x}<br>Temp_Superficial=%{y}<extra></extra>",
         "legendgroup": "Durango",
         "line": {
          "color": "#E76BF3",
          "dash": "solid"
         },
         "marker": {
          "symbol": "circle"
         },
         "mode": "lines",
         "name": "Durango",
         "showlegend": false,
         "type": "scattergl",
         "x": [
          1,
          2,
          3,
          4,
          5,
          6,
          7,
          8,
          9,
          10,
          11,
          12
         ],
         "xaxis": "x2",
         "y": [
          10.327493796526054,
          14.21547619047619,
          17.02776674937965,
          20.916324786324786,
          24.15151364764268,
          24.96830769230769,
          22.124234904880065,
          22.35290322580645,
          20.93413675213675,
          18.699545078577337,
          15.29239316239316,
          13.319834574028123
         ],
         "yaxis": "y2"
        },
        {
         "hovertemplate": "Estado=Durango<br>Año=2022<br>Meses=%{x}<br>Temp_Superficial=%{y}<extra></extra>",
         "legendgroup": "Durango",
         "line": {
          "color": "#E76BF3",
          "dash": "solid"
         },
         "marker": {
          "symbol": "circle"
         },
         "mode": "lines",
         "name": "Durango",
         "showlegend": false,
         "type": "scattergl",
         "x": [
          1,
          2,
          3,
          4,
          5,
          6,
          7,
          8,
          9,
          10,
          11,
          12
         ],
         "xaxis": "x3",
         "y": [
          11.409280397022332,
          12.352609890109889,
          15.586559139784947,
          21.452521367521367,
          25.09255583126551,
          25.871358974358976,
          24.969412737799836,
          22.833490488006618,
          20.456931623931624,
          17.38138130686518,
          13.31194017094017,
          11.933664185277088
         ],
         "yaxis": "y3"
        },
        {
         "hovertemplate": "Estado=Durango<br>Año=2023<br>Meses=%{x}<br>Temp_Superficial=%{y}<extra></extra>",
         "legendgroup": "Durango",
         "line": {
          "color": "#E76BF3",
          "dash": "solid"
         },
         "marker": {
          "symbol": "circle"
         },
         "mode": "lines",
         "name": "Durango",
         "showlegend": false,
         "type": "scattergl",
         "x": [
          1,
          2,
          3,
          4,
          5,
          6,
          7,
          8,
          9,
          10
         ],
         "xaxis": "x4",
         "y": [
          11.382985938792391,
          13.36834249084249,
          17.568436724565757,
          20.311504273504273,
          22.399330024813896,
          27.109213675213674,
          24.408296112489662,
          23.20334987593052,
          23.068555555555555,
          17.77684863523573
         ],
         "yaxis": "y4"
        },
        {
         "hovertemplate": "Estado=Guanajuato<br>Año=2020<br>Meses=%{x}<br>Temp_Superficial=%{y}<extra></extra>",
         "legendgroup": "Guanajuato",
         "line": {
          "color": "#F8766D",
          "dash": "solid"
         },
         "marker": {
          "symbol": "circle"
         },
         "mode": "lines",
         "name": "Guanajuato",
         "showlegend": true,
         "type": "scattergl",
         "x": [
          1,
          2,
          3,
          4,
          5,
          6,
          7,
          8,
          9,
          10,
          11,
          12
         ],
         "xaxis": "x",
         "y": [
          14.094368863955118,
          17.13889055472264,
          21.842699859747544,
          24.950275362318838,
          24.30892005610098,
          23.52355072463768,
          22.00976157082749,
          20.539670406732117,
          19.25945652173913,
          18.168702664796633,
          16.521942028985507,
          15.206339410939693
         ],
         "yaxis": "y"
        },
        {
         "hovertemplate": "Estado=Guanajuato<br>Año=2021<br>Meses=%{x}<br>Temp_Superficial=%{y}<extra></extra>",
         "legendgroup": "Guanajuato",
         "line": {
          "color": "#F8766D",
          "dash": "solid"
         },
         "marker": {
          "symbol": "circle"
         },
         "mode": "lines",
         "name": "Guanajuato",
         "showlegend": false,
         "type": "scattergl",
         "x": [
          1,
          2,
          3,
          4,
          5,
          6,
          7,
          8,
          9,
          10,
          11,
          12
         ],
         "xaxis": "x2",
         "y": [
          15.577223001402524,
          17.161405279503104,
          21.350827489481066,
          23.74303623188406,
          24.12951612903226,
          21.39742028985507,
          20.02507012622721,
          19.76927769985975,
          18.624246376811595,
          18.039249649368866,
          14.961166666666667,
          14.638927068723703
         ],
         "yaxis": "y2"
        },
        {
         "hovertemplate": "Estado=Guanajuato<br>Año=2022<br>Meses=%{x}<br>Temp_Superficial=%{y}<extra></extra>",
         "legendgroup": "Guanajuato",
         "line": {
          "color": "#F8766D",
          "dash": "solid"
         },
         "marker": {
          "symbol": "circle"
         },
         "mode": "lines",
         "name": "Guanajuato",
         "showlegend": false,
         "type": "scattergl",
         "x": [
          1,
          2,
          3,
          4,
          5,
          6,
          7,
          8,
          9,
          10,
          11,
          12
         ],
         "xaxis": "x3",
         "y": [
          14.586178120617111,
          16.74503105590062,
          19.818941093969144,
          23.90463768115942,
          26.133639551192147,
          23.33013768115942,
          21.771605890603087,
          20.70780504908836,
          19.065753623188407,
          18.64083450210379,
          17.72177536231884,
          14.905981767180926
         ],
         "yaxis": "y3"
        },
        {
         "hovertemplate": "Estado=Guanajuato<br>Año=2023<br>Meses=%{x}<br>Temp_Superficial=%{y}<extra></extra>",
         "legendgroup": "Guanajuato",
         "line": {
          "color": "#F8766D",
          "dash": "solid"
         },
         "marker": {
          "symbol": "circle"
         },
         "mode": "lines",
         "name": "Guanajuato",
         "showlegend": false,
         "type": "scattergl",
         "x": [
          1,
          2,
          3,
          4,
          5,
          6,
          7,
          8,
          9,
          10
         ],
         "xaxis": "x4",
         "y": [
          14.904095371669005,
          17.650784161490684,
          21.530462833099577,
          23.107311594202898,
          24.17241234221599,
          26.14308695652174,
          22.59095371669004,
          21.02367461430575,
          21.20905072463768,
          18.789417952314164
         ],
         "yaxis": "y4"
        },
        {
         "hovertemplate": "Estado=Guerrero<br>Año=2020<br>Meses=%{x}<br>Temp_Superficial=%{y}<extra></extra>",
         "legendgroup": "Guerrero",
         "line": {
          "color": "#A3A500",
          "dash": "solid"
         },
         "marker": {
          "symbol": "circle"
         },
         "mode": "lines",
         "name": "Guerrero",
         "showlegend": true,
         "type": "scattergl",
         "x": [
          1,
          2,
          3,
          4,
          5,
          6,
          7,
          8,
          9,
          10,
          11,
          12
         ],
         "xaxis": "x",
         "y": [
          22.680195141377936,
          24.734031502767134,
          27.3852767821585,
          29.04749794238683,
          28.785017921146952,
          26.831897119341566,
          24.622126642771807,
          23.623405017921147,
          22.938679012345677,
          22.248562325766628,
          22.401588477366257,
          22.761943448825168
         ],
         "yaxis": "y"
        },
        {
         "hovertemplate": "Estado=Guerrero<br>Año=2021<br>Meses=%{x}<br>Temp_Superficial=%{y}<extra></extra>",
         "legendgroup": "Guerrero",
         "line": {
          "color": "#A3A500",
          "dash": "solid"
         },
         "marker": {
          "symbol": "circle"
         },
         "mode": "lines",
         "name": "Guerrero",
         "showlegend": false,
         "type": "scattergl",
         "x": [
          1,
          2,
          3,
          4,
          5,
          6,
          7,
          8,
          9,
          10,
          11,
          12
         ],
         "xaxis": "x2",
         "y": [
          23.558243727598565,
          23.89640211640212,
          26.554281162883314,
          27.86738683127572,
          27.44131819992035,
          24.031432098765432,
          23.71056551174831,
          23.117244125846277,
          22.91280658436214,
          23.111541218637992,
          21.16340329218107,
          22.486535244922344
         ],
         "yaxis": "y2"
        },
        {
         "hovertemplate": "Estado=Guerrero<br>Año=2022<br>Meses=%{x}<br>Temp_Superficial=%{y}<extra></extra>",
         "legendgroup": "Guerrero",
         "line": {
          "color": "#A3A500",
          "dash": "solid"
         },
         "marker": {
          "symbol": "circle"
         },
         "mode": "lines",
         "name": "Guerrero",
         "showlegend": false,
         "type": "scattergl",
         "x": [
          1,
          2,
          3,
          4,
          5,
          6,
          7,
          8,
          9,
          10,
          11,
          12
         ],
         "xaxis": "x3",
         "y": [
          23.087761847869377,
          24.77887566137566,
          26.450390282755873,
          28.33545679012346,
          28.46541616885703,
          24.808781893004113,
          24.34957387495022,
          23.59289924332935,
          22.80995473251029,
          22.858821186778176,
          22.903267489711936,
          21.72432098765432
         ],
         "yaxis": "y3"
        },
        {
         "hovertemplate": "Estado=Guerrero<br>Año=2023<br>Meses=%{x}<br>Temp_Superficial=%{y}<extra></extra>",
         "legendgroup": "Guerrero",
         "line": {
          "color": "#A3A500",
          "dash": "solid"
         },
         "marker": {
          "symbol": "circle"
         },
         "mode": "lines",
         "name": "Guerrero",
         "showlegend": false,
         "type": "scattergl",
         "x": [
          1,
          2,
          3,
          4,
          5,
          6,
          7,
          8,
          9,
          10
         ],
         "xaxis": "x4",
         "y": [
          23.077379530067702,
          24.791851851851852,
          26.867694145758662,
          28.188563786008235,
          28.602727996814018,
          29.568814814814814,
          24.53299482277977,
          24.18326563122262,
          24.32133744855967,
          23.06330943847073
         ],
         "yaxis": "y4"
        },
        {
         "hovertemplate": "Estado=Hidalgo<br>Año=2020<br>Meses=%{x}<br>Temp_Superficial=%{y}<extra></extra>",
         "legendgroup": "Hidalgo",
         "line": {
          "color": "#00BF7D",
          "dash": "solid"
         },
         "marker": {
          "symbol": "circle"
         },
         "mode": "lines",
         "name": "Hidalgo",
         "showlegend": true,
         "type": "scattergl",
         "x": [
          1,
          2,
          3,
          4,
          5,
          6,
          7,
          8,
          9,
          10,
          11,
          12
         ],
         "xaxis": "x",
         "y": [
          13.914823348694314,
          16.045114942528738,
          20.289158986175117,
          24.39554761904762,
          22.808533026113672,
          21.613646825396824,
          21.5698579109063,
          20.256301843317974,
          18.31376984126984,
          16.327680491551458,
          14.940563492063493,
          13.953056835637481
         ],
         "yaxis": "y"
        },
        {
         "hovertemplate": "Estado=Hidalgo<br>Año=2021<br>Meses=%{x}<br>Temp_Superficial=%{y}<extra></extra>",
         "legendgroup": "Hidalgo",
         "line": {
          "color": "#00BF7D",
          "dash": "solid"
         },
         "marker": {
          "symbol": "circle"
         },
         "mode": "lines",
         "name": "Hidalgo",
         "showlegend": false,
         "type": "scattergl",
         "x": [
          1,
          2,
          3,
          4,
          5,
          6,
          7,
          8,
          9,
          10,
          11,
          12
         ],
         "xaxis": "x2",
         "y": [
          14.837469278033794,
          16.14031462585034,
          19.601144393241167,
          22.505817460317463,
          22.360019201228877,
          20.264376984126987,
          19.55243855606759,
          19.802722734254992,
          18.554269841269843,
          17.67094470046083,
          14.269234126984127,
          14.711324884792628
         ],
         "yaxis": "y2"
        },
        {
         "hovertemplate": "Estado=Hidalgo<br>Año=2022<br>Meses=%{x}<br>Temp_Superficial=%{y}<extra></extra>",
         "legendgroup": "Hidalgo",
         "line": {
          "color": "#00BF7D",
          "dash": "solid"
         },
         "marker": {
          "symbol": "circle"
         },
         "mode": "lines",
         "name": "Hidalgo",
         "showlegend": false,
         "type": "scattergl",
         "x": [
          1,
          2,
          3,
          4,
          5,
          6,
          7,
          8,
          9,
          10,
          11,
          12
         ],
         "xaxis": "x3",
         "y": [
          13.524043778801843,
          14.771789965986395,
          19.004807987711214,
          22.907079365079365,
          24.193168202764976,
          21.582126984126983,
          21.068913210445466,
          20.698778801843318,
          18.43402777777778,
          17.305460829493086,
          16.62631746031746,
          13.839704301075267
         ],
         "yaxis": "y3"
        },
        {
         "hovertemplate": "Estado=Hidalgo<br>Año=2023<br>Meses=%{x}<br>Temp_Superficial=%{y}<extra></extra>",
         "legendgroup": "Hidalgo",
         "line": {
          "color": "#00BF7D",
          "dash": "solid"
         },
         "marker": {
          "symbol": "circle"
         },
         "mode": "lines",
         "name": "Hidalgo",
         "showlegend": false,
         "type": "scattergl",
         "x": [
          1,
          2,
          3,
          4,
          5,
          6,
          7,
          8,
          9,
          10
         ],
         "xaxis": "x4",
         "y": [
          14.880241935483872,
          16.49779761904762,
          20.793283410138248,
          22.07904365079365,
          23.13105222734255,
          25.05174603174603,
          21.2835599078341,
          20.476432411674345,
          20.994440476190476,
          18.52682411674347
         ],
         "yaxis": "y4"
        },
        {
         "hovertemplate": "Estado=Jalisco<br>Año=2020<br>Meses=%{x}<br>Temp_Superficial=%{y}<extra></extra>",
         "legendgroup": "Jalisco",
         "line": {
          "color": "#00B0F6",
          "dash": "solid"
         },
         "marker": {
          "symbol": "circle"
         },
         "mode": "lines",
         "name": "Jalisco",
         "showlegend": true,
         "type": "scattergl",
         "x": [
          1,
          2,
          3,
          4,
          5,
          6,
          7,
          8,
          9,
          10,
          11,
          12
         ],
         "xaxis": "x",
         "y": [
          16.20238193548387,
          18.309329655172416,
          22.844833548387097,
          24.684866666666668,
          25.99167741935484,
          26.223466666666667,
          22.923840000000002,
          22.00861677419355,
          21.560597333333334,
          20.9044,
          19.279189333333335,
          16.810691612903227
         ],
         "yaxis": "y"
        },
        {
         "hovertemplate": "Estado=Jalisco<br>Año=2021<br>Meses=%{x}<br>Temp_Superficial=%{y}<extra></extra>",
         "legendgroup": "Jalisco",
         "line": {
          "color": "#00B0F6",
          "dash": "solid"
         },
         "marker": {
          "symbol": "circle"
         },
         "mode": "lines",
         "name": "Jalisco",
         "showlegend": false,
         "type": "scattergl",
         "x": [
          1,
          2,
          3,
          4,
          5,
          6,
          7,
          8,
          9,
          10,
          11,
          12
         ],
         "xaxis": "x2",
         "y": [
          16.94498322580645,
          18.54355142857143,
          22.374485161290323,
          24.73102666666667,
          25.941249032258064,
          23.998957333333333,
          21.95956387096774,
          21.627894193548386,
          20.929162666666667,
          20.570085161290322,
          17.976749333333334,
          17.19757677419355
         ],
         "yaxis": "y2"
        },
        {
         "hovertemplate": "Estado=Jalisco<br>Año=2022<br>Meses=%{x}<br>Temp_Superficial=%{y}<extra></extra>",
         "legendgroup": "Jalisco",
         "line": {
          "color": "#00B0F6",
          "dash": "solid"
         },
         "marker": {
          "symbol": "circle"
         },
         "mode": "lines",
         "name": "Jalisco",
         "showlegend": false,
         "type": "scattergl",
         "x": [
          1,
          2,
          3,
          4,
          5,
          6,
          7,
          8,
          9,
          10,
          11,
          12
         ],
         "xaxis": "x3",
         "y": [
          17.141489032258065,
          18.74134,
          20.71027870967742,
          24.748648000000003,
          27.077690322580647,
          24.376069333333334,
          22.65938322580645,
          21.80989677419355,
          21.331514666666667,
          20.270069677419357,
          19.109696,
          17.150229677419354
         ],
         "yaxis": "y3"
        },
        {
         "hovertemplate": "Estado=Jalisco<br>Año=2023<br>Meses=%{x}<br>Temp_Superficial=%{y}<extra></extra>",
         "legendgroup": "Jalisco",
         "line": {
          "color": "#00B0F6",
          "dash": "solid"
         },
         "marker": {
          "symbol": "circle"
         },
         "mode": "lines",
         "name": "Jalisco",
         "showlegend": false,
         "type": "scattergl",
         "x": [
          1,
          2,
          3,
          4,
          5,
          6,
          7,
          8,
          9,
          10
         ],
         "xaxis": "x4",
         "y": [
          16.64576,
          19.54034857142857,
          22.06116129032258,
          24.237805333333334,
          25.580774193548386,
          27.98816,
          23.653267096774194,
          22.350975483870968,
          22.697850666666668,
          20.712998709677418
         ],
         "yaxis": "y4"
        },
        {
         "hovertemplate": "Estado=Michoacán<br>Año=2020<br>Meses=%{x}<br>Temp_Superficial=%{y}<extra></extra>",
         "legendgroup": "Michoacán",
         "line": {
          "color": "#E76BF3",
          "dash": "solid"
         },
         "marker": {
          "symbol": "circle"
         },
         "mode": "lines",
         "name": "Michoacán",
         "showlegend": true,
         "type": "scattergl",
         "x": [
          1,
          2,
          3,
          4,
          5,
          6,
          7,
          8,
          9,
          10,
          11,
          12
         ],
         "xaxis": "x",
         "y": [
          17.043402797602056,
          19.58546841623436,
          23.554693120182698,
          25.459604719764013,
          25.954350556665712,
          25.206589970501472,
          22.475121324578932,
          21.461481587210965,
          20.886705014749264,
          20.060576648586924,
          19.290814159292037,
          17.594561804167856
         ],
         "yaxis": "y"
        },
        {
         "hovertemplate": "Estado=Michoacán<br>Año=2021<br>Meses=%{x}<br>Temp_Superficial=%{y}<extra></extra>",
         "legendgroup": "Michoacán",
         "line": {
          "color": "#E76BF3",
          "dash": "solid"
         },
         "marker": {
          "symbol": "circle"
         },
         "mode": "lines",
         "name": "Michoacán",
         "showlegend": false,
         "type": "scattergl",
         "x": [
          1,
          2,
          3,
          4,
          5,
          6,
          7,
          8,
          9,
          10,
          11,
          12
         ],
         "xaxis": "x2",
         "y": [
          18.130922066799886,
          19.136257901390646,
          22.99640308307165,
          24.696439528023596,
          25.444444761632887,
          22.777362831858404,
          21.479534684556093,
          20.79960319725949,
          20.375958702064896,
          20.086051955466743,
          17.99766371681416,
          17.29094204967171
         ],
         "yaxis": "y2"
        },
        {
         "hovertemplate": "Estado=Michoacán<br>Año=2022<br>Meses=%{x}<br>Temp_Superficial=%{y}<extra></extra>",
         "legendgroup": "Michoacán",
         "line": {
          "color": "#E76BF3",
          "dash": "solid"
         },
         "marker": {
          "symbol": "circle"
         },
         "mode": "lines",
         "name": "Michoacán",
         "showlegend": false,
         "type": "scattergl",
         "x": [
          1,
          2,
          3,
          4,
          5,
          6,
          7,
          8,
          9,
          10,
          11,
          12
         ],
         "xaxis": "x3",
         "y": [
          17.59786468741079,
          19.57138432364096,
          21.640185555238368,
          25.124598820058996,
          26.951524407650584,
          23.53056342182891,
          21.990382529260632,
          21.2352383671139,
          20.804613569321535,
          20.724724521838425,
          20.0732005899705,
          17.81563516985441
         ],
         "yaxis": "y3"
        },
        {
         "hovertemplate": "Estado=Michoacán<br>Año=2023<br>Meses=%{x}<br>Temp_Superficial=%{y}<extra></extra>",
         "legendgroup": "Michoacán",
         "line": {
          "color": "#E76BF3",
          "dash": "solid"
         },
         "marker": {
          "symbol": "circle"
         },
         "mode": "lines",
         "name": "Michoacán",
         "showlegend": false,
         "type": "scattergl",
         "x": [
          1,
          2,
          3,
          4,
          5,
          6,
          7,
          8,
          9,
          10
         ],
         "xaxis": "x4",
         "y": [
          17.4458749643163,
          20.133321744627054,
          22.82688552669141,
          24.42461946902655,
          25.538729660291178,
          27.196339233038348,
          22.616768484156434,
          21.644350556665717,
          21.737421828908555,
          20.314256351698543
         ],
         "yaxis": "y4"
        },
        {
         "hovertemplate": "Estado=Morelos<br>Año=2020<br>Meses=%{x}<br>Temp_Superficial=%{y}<extra></extra>",
         "legendgroup": "Morelos",
         "line": {
          "color": "#F8766D",
          "dash": "solid"
         },
         "marker": {
          "symbol": "circle"
         },
         "mode": "lines",
         "name": "Morelos",
         "showlegend": true,
         "type": "scattergl",
         "x": [
          1,
          2,
          3,
          4,
          5,
          6,
          7,
          8,
          9,
          10,
          11,
          12
         ],
         "xaxis": "x",
         "y": [
          17.511534701857283,
          20.430428422152563,
          23.8436265884653,
          26.44041414141414,
          25.494408602150536,
          24.155535353535353,
          21.221515151515153,
          20.034369501466276,
          19.08731313131313,
          17.978690127077225,
          18.266666666666666,
          18.048357771261
         ],
         "yaxis": "y"
        },
        {
         "hovertemplate": "Estado=Morelos<br>Año=2021<br>Meses=%{x}<br>Temp_Superficial=%{y}<extra></extra>",
         "legendgroup": "Morelos",
         "line": {
          "color": "#F8766D",
          "dash": "solid"
         },
         "marker": {
          "symbol": "circle"
         },
         "mode": "lines",
         "name": "Morelos",
         "showlegend": false,
         "type": "scattergl",
         "x": [
          1,
          2,
          3,
          4,
          5,
          6,
          7,
          8,
          9,
          10,
          11,
          12
         ],
         "xaxis": "x2",
         "y": [
          18.629276637341153,
          19.406049783549783,
          22.9897165200391,
          24.7800303030303,
          23.981270772238513,
          20.74541414141414,
          19.8188954056696,
          19.924936461388075,
          18.874333333333333,
          19.06206256109482,
          17.28889898989899,
          17.598836754643205
         ],
         "yaxis": "y2"
        },
        {
         "hovertemplate": "Estado=Morelos<br>Año=2022<br>Meses=%{x}<br>Temp_Superficial=%{y}<extra></extra>",
         "legendgroup": "Morelos",
         "line": {
          "color": "#F8766D",
          "dash": "solid"
         },
         "marker": {
          "symbol": "circle"
         },
         "mode": "lines",
         "name": "Morelos",
         "showlegend": false,
         "type": "scattergl",
         "x": [
          1,
          2,
          3,
          4,
          5,
          6,
          7,
          8,
          9,
          10,
          11,
          12
         ],
         "xaxis": "x3",
         "y": [
          18.135014662756596,
          19.752132034632037,
          22.46173020527859,
          25.363363636363637,
          26.17403714565005,
          22.90657575757576,
          22.214046920821115,
          20.616344086021506,
          19.25280808080808,
          19.454467253176933,
          19.48412121212121,
          17.03507331378299
         ],
         "yaxis": "y3"
        },
        {
         "hovertemplate": "Estado=Morelos<br>Año=2023<br>Meses=%{x}<br>Temp_Superficial=%{y}<extra></extra>",
         "legendgroup": "Morelos",
         "line": {
          "color": "#F8766D",
          "dash": "solid"
         },
         "marker": {
          "symbol": "circle"
         },
         "mode": "lines",
         "name": "Morelos",
         "showlegend": false,
         "type": "scattergl",
         "x": [
          1,
          2,
          3,
          4,
          5,
          6,
          7,
          8,
          9,
          10
         ],
         "xaxis": "x4",
         "y": [
          18.072414467253175,
          20.133073593073593,
          23.509403714565003,
          24.705616161616163,
          25.126881720430106,
          27.264434343434345,
          20.440029325513198,
          20.094701857282505,
          20.197545454545455,
          18.94254154447703
         ],
         "yaxis": "y4"
        },
        {
         "hovertemplate": "Estado=México<br>Año=2020<br>Meses=%{x}<br>Temp_Superficial=%{y}<extra></extra>",
         "legendgroup": "México",
         "line": {
          "color": "#A3A500",
          "dash": "solid"
         },
         "marker": {
          "symbol": "circle"
         },
         "mode": "lines",
         "name": "México",
         "showlegend": true,
         "type": "scattergl",
         "x": [
          1,
          2,
          3,
          4,
          5,
          6,
          7,
          8,
          9,
          10,
          11,
          12
         ],
         "xaxis": "x",
         "y": [
          13.23042064516129,
          16.179387586206897,
          19.651656774193548,
          22.178474666666666,
          21.595280000000002,
          20.69635733333333,
          18.82305032258065,
          17.45673548387097,
          16.63446666666667,
          15.112701935483871,
          14.321002666666667,
          13.968572903225807
         ],
         "yaxis": "y"
        },
        {
         "hovertemplate": "Estado=México<br>Año=2021<br>Meses=%{x}<br>Temp_Superficial=%{y}<extra></extra>",
         "legendgroup": "México",
         "line": {
          "color": "#A3A500",
          "dash": "solid"
         },
         "marker": {
          "symbol": "circle"
         },
         "mode": "lines",
         "name": "México",
         "showlegend": false,
         "type": "scattergl",
         "x": [
          1,
          2,
          3,
          4,
          5,
          6,
          7,
          8,
          9,
          10,
          11,
          12
         ],
         "xaxis": "x2",
         "y": [
          14.432820645161291,
          15.27774,
          19.243501935483874,
          20.828645333333334,
          20.478046451612904,
          18.0204,
          17.446650322580645,
          17.24909935483871,
          16.432530666666665,
          16.0050735483871,
          13.484290666666668,
          13.243282580645161
         ],
         "yaxis": "y2"
        },
        {
         "hovertemplate": "Estado=México<br>Año=2022<br>Meses=%{x}<br>Temp_Superficial=%{y}<extra></extra>",
         "legendgroup": "México",
         "line": {
          "color": "#A3A500",
          "dash": "solid"
         },
         "marker": {
          "symbol": "circle"
         },
         "mode": "lines",
         "name": "México",
         "showlegend": false,
         "type": "scattergl",
         "x": [
          1,
          2,
          3,
          4,
          5,
          6,
          7,
          8,
          9,
          10,
          11,
          12
         ],
         "xaxis": "x3",
         "y": [
          13.586774193548386,
          15.459914285714285,
          18.204454193548386,
          21.3792,
          22.408366451612903,
          19.694749333333334,
          18.959881290322578,
          17.88551741935484,
          16.745861333333334,
          16.55395870967742,
          15.867978666666666,
          13.211685161290323
         ],
         "yaxis": "y3"
        },
        {
         "hovertemplate": "Estado=México<br>Año=2023<br>Meses=%{x}<br>Temp_Superficial=%{y}<extra></extra>",
         "legendgroup": "México",
         "line": {
          "color": "#A3A500",
          "dash": "solid"
         },
         "marker": {
          "symbol": "circle"
         },
         "mode": "lines",
         "name": "México",
         "showlegend": false,
         "type": "scattergl",
         "x": [
          1,
          2,
          3,
          4,
          5,
          6,
          7,
          8,
          9,
          10
         ],
         "xaxis": "x4",
         "y": [
          13.664810322580646,
          16.064922857142857,
          19.37906064516129,
          20.787642666666667,
          21.31594322580645,
          23.238434666666667,
          17.90951741935484,
          17.257357419354836,
          17.079650666666666,
          16.25981677419355
         ],
         "yaxis": "y4"
        },
        {
         "hovertemplate": "Estado=Nayarit<br>Año=2020<br>Meses=%{x}<br>Temp_Superficial=%{y}<extra></extra>",
         "legendgroup": "Nayarit",
         "line": {
          "color": "#00BF7D",
          "dash": "solid"
         },
         "marker": {
          "symbol": "circle"
         },
         "mode": "lines",
         "name": "Nayarit",
         "showlegend": true,
         "type": "scattergl",
         "x": [
          1,
          2,
          3,
          4,
          5,
          6,
          7,
          8,
          9,
          10,
          11,
          12
         ],
         "xaxis": "x",
         "y": [
          19.612645161290324,
          20.55798275862069,
          24.15659677419355,
          25.795883333333336,
          27.740274193548387,
          28.867633333333337,
          26.12191935483871,
          25.392500000000002,
          24.742116666666668,
          24.1173064516129,
          22.609866666666665,
          19.77174193548387
         ],
         "yaxis": "y"
        },
        {
         "hovertemplate": "Estado=Nayarit<br>Año=2021<br>Meses=%{x}<br>Temp_Superficial=%{y}<extra></extra>",
         "legendgroup": "Nayarit",
         "line": {
          "color": "#00BF7D",
          "dash": "solid"
         },
         "marker": {
          "symbol": "circle"
         },
         "mode": "lines",
         "name": "Nayarit",
         "showlegend": false,
         "type": "scattergl",
         "x": [
          1,
          2,
          3,
          4,
          5,
          6,
          7,
          8,
          9,
          10,
          11,
          12
         ],
         "xaxis": "x2",
         "y": [
          19.38533870967742,
          21.13975,
          23.51483870967742,
          26.164716666666667,
          27.847967741935488,
          27.29031666666667,
          25.25717741935484,
          25.186983870967744,
          24.5004,
          24.200467741935487,
          22.162266666666667,
          20.97091935483871
         ],
         "yaxis": "y2"
        },
        {
         "hovertemplate": "Estado=Nayarit<br>Año=2022<br>Meses=%{x}<br>Temp_Superficial=%{y}<extra></extra>",
         "legendgroup": "Nayarit",
         "line": {
          "color": "#00BF7D",
          "dash": "solid"
         },
         "marker": {
          "symbol": "circle"
         },
         "mode": "lines",
         "name": "Nayarit",
         "showlegend": false,
         "type": "scattergl",
         "x": [
          1,
          2,
          3,
          4,
          5,
          6,
          7,
          8,
          9,
          10,
          11,
          12
         ],
         "xaxis": "x3",
         "y": [
          20.854032258064517,
          21.69907142857143,
          22.968,
          25.89875,
          28.038870967741932,
          27.0548,
          25.598693548387097,
          25.03898387096774,
          24.955666666666666,
          23.343370967741933,
          21.3733,
          20.499306451612902
         ],
         "yaxis": "y3"
        },
        {
         "hovertemplate": "Estado=Nayarit<br>Año=2023<br>Meses=%{x}<br>Temp_Superficial=%{y}<extra></extra>",
         "legendgroup": "Nayarit",
         "line": {
          "color": "#00BF7D",
          "dash": "solid"
         },
         "marker": {
          "symbol": "circle"
         },
         "mode": "lines",
         "name": "Nayarit",
         "showlegend": false,
         "type": "scattergl",
         "x": [
          1,
          2,
          3,
          4,
          5,
          6,
          7,
          8,
          9,
          10
         ],
         "xaxis": "x4",
         "y": [
          20.498451612903228,
          22.169035714285712,
          23.33725806451613,
          25.46635,
          27.271274193548386,
          29.2552,
          26.62085483870968,
          25.756451612903227,
          26.008466666666667,
          24.133145161290322
         ],
         "yaxis": "y4"
        },
        {
         "hovertemplate": "Estado=Nuevo León<br>Año=2020<br>Meses=%{x}<br>Temp_Superficial=%{y}<extra></extra>",
         "legendgroup": "Nuevo León",
         "line": {
          "color": "#00B0F6",
          "dash": "solid"
         },
         "marker": {
          "symbol": "circle"
         },
         "mode": "lines",
         "name": "Nuevo León",
         "showlegend": true,
         "type": "scattergl",
         "x": [
          1,
          2,
          3,
          4,
          5,
          6,
          7,
          8,
          9,
          10,
          11,
          12
         ],
         "xaxis": "x",
         "y": [
          15.732125237191651,
          17.015693035835024,
          24.229177735610374,
          27.012405228758173,
          28.636204933586335,
          28.517633986928107,
          29.037197975964578,
          28.636432637571154,
          25.29011764705882,
          23.188494623655917,
          20.09935947712418,
          13.992960151802656
         ],
         "yaxis": "y"
        },
        {
         "hovertemplate": "Estado=Nuevo León<br>Año=2021<br>Meses=%{x}<br>Temp_Superficial=%{y}<extra></extra>",
         "legendgroup": "Nuevo León",
         "line": {
          "color": "#00B0F6",
          "dash": "solid"
         },
         "marker": {
          "symbol": "circle"
         },
         "mode": "lines",
         "name": "Nuevo León",
         "showlegend": false,
         "type": "scattergl",
         "x": [
          1,
          2,
          3,
          4,
          5,
          6,
          7,
          8,
          9,
          10,
          11,
          12
         ],
         "xaxis": "x2",
         "y": [
          14.264516129032259,
          15.873648459383753,
          21.786824794433905,
          25.805065359477123,
          27.60876660341556,
          28.402281045751632,
          26.974060721062617,
          28.27609108159393,
          27.525660130718954,
          24.22294750158128,
          18.427065359477123,
          18.67749525616698
         ],
         "yaxis": "y2"
        },
        {
         "hovertemplate": "Estado=Nuevo León<br>Año=2022<br>Meses=%{x}<br>Temp_Superficial=%{y}<extra></extra>",
         "legendgroup": "Nuevo León",
         "line": {
          "color": "#00B0F6",
          "dash": "solid"
         },
         "marker": {
          "symbol": "circle"
         },
         "mode": "lines",
         "name": "Nuevo León",
         "showlegend": false,
         "type": "scattergl",
         "x": [
          1,
          2,
          3,
          4,
          5,
          6,
          7,
          8,
          9,
          10,
          11,
          12
         ],
         "xaxis": "x3",
         "y": [
          13.201726755218216,
          14.5859593837535,
          20.105983554712207,
          27.013320261437908,
          30.438159392789377,
          30.475078431372552,
          31.30595192915876,
          29.48652118912081,
          25.20285620915033,
          22.217273877292854,
          16.937339869281047,
          15.338918406072107
         ],
         "yaxis": "y3"
        },
        {
         "hovertemplate": "Estado=Nuevo León<br>Año=2023<br>Meses=%{x}<br>Temp_Superficial=%{y}<extra></extra>",
         "legendgroup": "Nuevo León",
         "line": {
          "color": "#00B0F6",
          "dash": "solid"
         },
         "marker": {
          "symbol": "circle"
         },
         "mode": "lines",
         "name": "Nuevo León",
         "showlegend": false,
         "type": "scattergl",
         "x": [
          1,
          2,
          3,
          4,
          5,
          6,
          7,
          8,
          9,
          10
         ],
         "xaxis": "x4",
         "y": [
          16.421878557874763,
          17.88348739495798,
          23.098241619228336,
          24.22154248366013,
          26.69545857052498,
          31.681045751633988,
          31.050512333965845,
          31.009949399114486,
          30.4190522875817,
          23.70595825426945
         ],
         "yaxis": "y4"
        },
        {
         "hovertemplate": "Estado=Oaxaca<br>Año=2020<br>Meses=%{x}<br>Temp_Superficial=%{y}<extra></extra>",
         "legendgroup": "Oaxaca",
         "line": {
          "color": "#E76BF3",
          "dash": "solid"
         },
         "marker": {
          "symbol": "circle"
         },
         "mode": "lines",
         "name": "Oaxaca",
         "showlegend": true,
         "type": "scattergl",
         "x": [
          1,
          2,
          3,
          4,
          5,
          6,
          7,
          8,
          9,
          10,
          11,
          12
         ],
         "xaxis": "x",
         "y": [
          18.19375778155065,
          19.998474289171206,
          22.99503621958121,
          26.023966666666666,
          24.535003961516697,
          22.485281286549707,
          21.322643463497453,
          20.517450481041312,
          19.80210233918129,
          18.45081380871534,
          17.777956140350877,
          17.114102433503113
         ],
         "yaxis": "y"
        },
        {
         "hovertemplate": "Estado=Oaxaca<br>Año=2021<br>Meses=%{x}<br>Temp_Superficial=%{y}<extra></extra>",
         "legendgroup": "Oaxaca",
         "line": {
          "color": "#E76BF3",
          "dash": "solid"
         },
         "marker": {
          "symbol": "circle"
         },
         "mode": "lines",
         "name": "Oaxaca",
         "showlegend": false,
         "type": "scattergl",
         "x": [
          1,
          2,
          3,
          4,
          5,
          6,
          7,
          8,
          9,
          10,
          11,
          12
         ],
         "xaxis": "x2",
         "y": [
          17.99063497453311,
          19.252688596491225,
          22.38221222410866,
          24.46865438596491,
          23.622763440860215,
          20.96868538011696,
          20.63091001697793,
          20.352335031126202,
          20.252648538011695,
          19.769434069043577,
          17.044519883040934,
          18.311465195246182
         ],
         "yaxis": "y2"
        },
        {
         "hovertemplate": "Estado=Oaxaca<br>Año=2022<br>Meses=%{x}<br>Temp_Superficial=%{y}<extra></extra>",
         "legendgroup": "Oaxaca",
         "line": {
          "color": "#E76BF3",
          "dash": "solid"
         },
         "marker": {
          "symbol": "circle"
         },
         "mode": "lines",
         "name": "Oaxaca",
         "showlegend": false,
         "type": "scattergl",
         "x": [
          1,
          2,
          3,
          4,
          5,
          6,
          7,
          8,
          9,
          10,
          11,
          12
         ],
         "xaxis": "x3",
         "y": [
          17.91766270514997,
          19.01268671679198,
          22.057667232597623,
          24.743619883040935,
          25.156782116581777,
          21.267869590643276,
          21.264695529145442,
          20.819361063950197,
          19.625505263157894,
          19.253976796830788,
          19.025492397660816,
          17.4546298811545
         ],
         "yaxis": "y3"
        },
        {
         "hovertemplate": "Estado=Oaxaca<br>Año=2023<br>Meses=%{x}<br>Temp_Superficial=%{y}<extra></extra>",
         "legendgroup": "Oaxaca",
         "line": {
          "color": "#E76BF3",
          "dash": "solid"
         },
         "marker": {
          "symbol": "circle"
         },
         "mode": "lines",
         "name": "Oaxaca",
         "showlegend": false,
         "type": "scattergl",
         "x": [
          1,
          2,
          3,
          4,
          5,
          6,
          7,
          8,
          9,
          10
         ],
         "xaxis": "x4",
         "y": [
          18.470486134691566,
          19.838968045112782,
          23.305929824561407,
          25.15233918128655,
          26.015963214487833,
          24.896323391812867,
          20.878086587436332,
          21.072946802490097,
          20.94493274853801,
          20.10289530277306
         ],
         "yaxis": "y4"
        },
        {
         "hovertemplate": "Estado=Puebla<br>Año=2020<br>Meses=%{x}<br>Temp_Superficial=%{y}<extra></extra>",
         "legendgroup": "Puebla",
         "line": {
          "color": "#F8766D",
          "dash": "solid"
         },
         "marker": {
          "symbol": "circle"
         },
         "mode": "lines",
         "name": "Puebla",
         "showlegend": true,
         "type": "scattergl",
         "x": [
          1,
          2,
          3,
          4,
          5,
          6,
          7,
          8,
          9,
          10,
          11,
          12
         ],
         "xaxis": "x",
         "y": [
          15.3712145086963,
          17.549570951851262,
          20.996522967147314,
          24.545440860215056,
          23.487768693325407,
          21.866078341013825,
          20.596574996283632,
          19.40287052177791,
          18.368125960061445,
          16.571088152222387,
          15.754597542242704,
          15.208938605619146
         ],
         "yaxis": "y"
        },
        {
         "hovertemplate": "Estado=Puebla<br>Año=2021<br>Meses=%{x}<br>Temp_Superficial=%{y}<extra></extra>",
         "legendgroup": "Puebla",
         "line": {
          "color": "#F8766D",
          "dash": "solid"
         },
         "marker": {
          "symbol": "circle"
         },
         "mode": "lines",
         "name": "Puebla",
         "showlegend": false,
         "type": "scattergl",
         "x": [
          1,
          2,
          3,
          4,
          5,
          6,
          7,
          8,
          9,
          10,
          11,
          12
         ],
         "xaxis": "x2",
         "y": [
          15.730955849561468,
          16.966226135615535,
          20.294538427233533,
          22.990033794162827,
          22.298990634755462,
          19.92153609831029,
          19.0626668648729,
          19.15791883454735,
          18.533932411674346,
          18.04763193102423,
          15.009396313364055,
          15.550825033447301
         ],
         "yaxis": "y2"
        },
        {
         "hovertemplate": "Estado=Puebla<br>Año=2022<br>Meses=%{x}<br>Temp_Superficial=%{y}<extra></extra>",
         "legendgroup": "Puebla",
         "line": {
          "color": "#F8766D",
          "dash": "solid"
         },
         "marker": {
          "symbol": "circle"
         },
         "mode": "lines",
         "name": "Puebla",
         "showlegend": false,
         "type": "scattergl",
         "x": [
          1,
          2,
          3,
          4,
          5,
          6,
          7,
          8,
          9,
          10,
          11,
          12
         ],
         "xaxis": "x3",
         "y": [
          15.158024379366731,
          16.105516787360106,
          19.693337297458005,
          23.212225806451613,
          24.299402408205736,
          21.26887250384025,
          20.692748624944254,
          19.844520588672513,
          18.234440860215056,
          18.0082756057678,
          17.532291858678956,
          14.970178385610227
         ],
         "yaxis": "y3"
        },
        {
         "hovertemplate": "Estado=Puebla<br>Año=2023<br>Meses=%{x}<br>Temp_Superficial=%{y}<extra></extra>",
         "legendgroup": "Puebla",
         "line": {
          "color": "#F8766D",
          "dash": "solid"
         },
         "marker": {
          "symbol": "circle"
         },
         "mode": "lines",
         "name": "Puebla",
         "showlegend": false,
         "type": "scattergl",
         "x": [
          1,
          2,
          3,
          4,
          5,
          6,
          7,
          8,
          9,
          10
         ],
         "xaxis": "x4",
         "y": [
          16.101482087111638,
          17.5722646477946,
          21.387230563401218,
          22.850924731182793,
          23.498061543035526,
          25.071482334869433,
          19.95705961052475,
          20.07631485060205,
          20.158818740399386,
          18.784752489965808
         ],
         "yaxis": "y4"
        },
        {
         "hovertemplate": "Estado=Querétaro<br>Año=2020<br>Meses=%{x}<br>Temp_Superficial=%{y}<extra></extra>",
         "legendgroup": "Querétaro",
         "line": {
          "color": "#A3A500",
          "dash": "solid"
         },
         "marker": {
          "symbol": "circle"
         },
         "mode": "lines",
         "name": "Querétaro",
         "showlegend": true,
         "type": "scattergl",
         "x": [
          1,
          2,
          3,
          4,
          5,
          6,
          7,
          8,
          9,
          10,
          11,
          12
         ],
         "xaxis": "x",
         "y": [
          13.993853046594982,
          16.636494252873565,
          21.202974910394264,
          25.39351851851852,
          23.726881720430107,
          22.74398148148148,
          22.227150537634408,
          21.08351254480287,
          18.986537037037035,
          17.519713261648747,
          15.983592592592592,
          14.671559139784945
         ],
         "yaxis": "y"
        },
        {
         "hovertemplate": "Estado=Querétaro<br>Año=2021<br>Meses=%{x}<br>Temp_Superficial=%{y}<extra></extra>",
         "legendgroup": "Querétaro",
         "line": {
          "color": "#A3A500",
          "dash": "solid"
         },
         "marker": {
          "symbol": "circle"
         },
         "mode": "lines",
         "name": "Querétaro",
         "showlegend": false,
         "type": "scattergl",
         "x": [
          1,
          2,
          3,
          4,
          5,
          6,
          7,
          8,
          9,
          10,
          11,
          12
         ],
         "xaxis": "x2",
         "y": [
          15.46937275985663,
          17.224484126984127,
          20.790376344086024,
          23.570425925925928,
          23.342275985663083,
          21.01403703703704,
          19.923906810035845,
          20.22720430107527,
          18.854481481481482,
          17.977526881720433,
          14.611462962962962,
          14.979462365591399
         ],
         "yaxis": "y2"
        },
        {
         "hovertemplate": "Estado=Querétaro<br>Año=2022<br>Meses=%{x}<br>Temp_Superficial=%{y}<extra></extra>",
         "legendgroup": "Querétaro",
         "line": {
          "color": "#A3A500",
          "dash": "solid"
         },
         "marker": {
          "symbol": "circle"
         },
         "mode": "lines",
         "name": "Querétaro",
         "showlegend": false,
         "type": "scattergl",
         "x": [
          1,
          2,
          3,
          4,
          5,
          6,
          7,
          8,
          9,
          10,
          11,
          12
         ],
         "xaxis": "x3",
         "y": [
          14.247598566308243,
          15.740019841269842,
          19.940017921146953,
          23.904314814814814,
          25.626863799283157,
          22.735314814814814,
          22.010017921146954,
          21.41646953405018,
          19.012351851851854,
          18.089068100358425,
          17.290055555555554,
          14.405483870967743
         ],
         "yaxis": "y3"
        },
        {
         "hovertemplate": "Estado=Querétaro<br>Año=2023<br>Meses=%{x}<br>Temp_Superficial=%{y}<extra></extra>",
         "legendgroup": "Querétaro",
         "line": {
          "color": "#A3A500",
          "dash": "solid"
         },
         "marker": {
          "symbol": "circle"
         },
         "mode": "lines",
         "name": "Querétaro",
         "showlegend": false,
         "type": "scattergl",
         "x": [
          1,
          2,
          3,
          4,
          5,
          6,
          7,
          8,
          9,
          10
         ],
         "xaxis": "x4",
         "y": [
          15.022939068100357,
          17.20486111111111,
          21.70068100358423,
          22.81111111111111,
          23.945555555555558,
          25.861592592592594,
          22.52992831541219,
          21.59899641577061,
          21.982092592592593,
          18.78401433691756
         ],
         "yaxis": "y4"
        },
        {
         "hovertemplate": "Estado=Quintana Roo<br>Año=2020<br>Meses=%{x}<br>Temp_Superficial=%{y}<extra></extra>",
         "legendgroup": "Quintana Roo",
         "line": {
          "color": "#00BF7D",
          "dash": "solid"
         },
         "marker": {
          "symbol": "circle"
         },
         "mode": "lines",
         "name": "Quintana Roo",
         "showlegend": true,
         "type": "scattergl",
         "x": [
          1,
          2,
          3,
          4,
          5,
          6,
          7,
          8,
          9,
          10,
          11,
          12
         ],
         "xaxis": "x",
         "y": [
          25.206774193548387,
          25.94702194357367,
          26.88818181818182,
          29.28336363636364,
          28.332873900293254,
          27.066727272727274,
          27.465953079178885,
          27.744281524926684,
          27.67278787878788,
          26.85923753665689,
          25.574121212121216,
          23.44041055718475
         ],
         "yaxis": "y"
        },
        {
         "hovertemplate": "Estado=Quintana Roo<br>Año=2021<br>Meses=%{x}<br>Temp_Superficial=%{y}<extra></extra>",
         "legendgroup": "Quintana Roo",
         "line": {
          "color": "#00BF7D",
          "dash": "solid"
         },
         "marker": {
          "symbol": "circle"
         },
         "mode": "lines",
         "name": "Quintana Roo",
         "showlegend": false,
         "type": "scattergl",
         "x": [
          1,
          2,
          3,
          4,
          5,
          6,
          7,
          8,
          9,
          10,
          11,
          12
         ],
         "xaxis": "x2",
         "y": [
          23.616803519061584,
          25.033311688311688,
          26.38574780058651,
          27.991212121212122,
          28.67281524926686,
          27.658939393939395,
          27.60178885630498,
          27.944398826979473,
          27.271848484848483,
          27.133431085043988,
          24.94190909090909,
          25.52692082111437
         ],
         "yaxis": "y2"
        },
        {
         "hovertemplate": "Estado=Quintana Roo<br>Año=2022<br>Meses=%{x}<br>Temp_Superficial=%{y}<extra></extra>",
         "legendgroup": "Quintana Roo",
         "line": {
          "color": "#00BF7D",
          "dash": "solid"
         },
         "marker": {
          "symbol": "circle"
         },
         "mode": "lines",
         "name": "Quintana Roo",
         "showlegend": false,
         "type": "scattergl",
         "x": [
          1,
          2,
          3,
          4,
          5,
          6,
          7,
          8,
          9,
          10,
          11,
          12
         ],
         "xaxis": "x3",
         "y": [
          24.125219941348977,
          24.871753246753247,
          26.526129032258066,
          27.604606060606063,
          28.585307917888564,
          26.93321212121212,
          27.889325513196482,
          27.55982404692082,
          27.104545454545455,
          26.673695014662755,
          26.436484848484852,
          25.61102639296188
         ],
         "yaxis": "y3"
        },
        {
         "hovertemplate": "Estado=Quintana Roo<br>Año=2023<br>Meses=%{x}<br>Temp_Superficial=%{y}<extra></extra>",
         "legendgroup": "Quintana Roo",
         "line": {
          "color": "#00BF7D",
          "dash": "solid"
         },
         "marker": {
          "symbol": "circle"
         },
         "mode": "lines",
         "name": "Quintana Roo",
         "showlegend": false,
         "type": "scattergl",
         "x": [
          1,
          2,
          3,
          4,
          5,
          6,
          7,
          8,
          9,
          10
         ],
         "xaxis": "x4",
         "y": [
          25.47492668621701,
          25.819967532467533,
          26.945454545454545,
          28.46139393939394,
          29.892668621700878,
          30.27621212121212,
          28.480703812316715,
          28.39618768328446,
          27.883060606060607,
          27.39340175953079
         ],
         "yaxis": "y4"
        },
        {
         "hovertemplate": "Estado=San Luis Potosí<br>Año=2020<br>Meses=%{x}<br>Temp_Superficial=%{y}<extra></extra>",
         "legendgroup": "San Luis Potosí",
         "line": {
          "color": "#00B0F6",
          "dash": "solid"
         },
         "marker": {
          "symbol": "circle"
         },
         "mode": "lines",
         "name": "San Luis Potosí",
         "showlegend": true,
         "type": "scattergl",
         "x": [
          1,
          2,
          3,
          4,
          5,
          6,
          7,
          8,
          9,
          10,
          11,
          12
         ],
         "xaxis": "x",
         "y": [
          15.6128531701891,
          17.913977407847803,
          23.729410456062293,
          27.85101724137931,
          26.394755283648497,
          25.691626436781608,
          25.786579532814237,
          24.566535038932145,
          22.485442528735632,
          20.911907675194662,
          19.001293103448276,
          15.816501668520578
         ],
         "yaxis": "y"
        },
        {
         "hovertemplate": "Estado=San Luis Potosí<br>Año=2021<br>Meses=%{x}<br>Temp_Superficial=%{y}<extra></extra>",
         "legendgroup": "San Luis Potosí",
         "line": {
          "color": "#00B0F6",
          "dash": "solid"
         },
         "marker": {
          "symbol": "circle"
         },
         "mode": "lines",
         "name": "San Luis Potosí",
         "showlegend": false,
         "type": "scattergl",
         "x": [
          1,
          2,
          3,
          4,
          5,
          6,
          7,
          8,
          9,
          10,
          11,
          12
         ],
         "xaxis": "x2",
         "y": [
          16.50360400444939,
          18.659187192118228,
          22.694621802002224,
          26.06253448275862,
          26.36914905450501,
          24.600689655172413,
          23.048854282536148,
          23.859771968854282,
          22.311988505747127,
          21.077897664071187,
          17.8706091954023,
          17.863581757508342
         ],
         "yaxis": "y2"
        },
        {
         "hovertemplate": "Estado=San Luis Potosí<br>Año=2022<br>Meses=%{x}<br>Temp_Superficial=%{y}<extra></extra>",
         "legendgroup": "San Luis Potosí",
         "line": {
          "color": "#00B0F6",
          "dash": "solid"
         },
         "marker": {
          "symbol": "circle"
         },
         "mode": "lines",
         "name": "San Luis Potosí",
         "showlegend": false,
         "type": "scattergl",
         "x": [
          1,
          2,
          3,
          4,
          5,
          6,
          7,
          8,
          9,
          10,
          11,
          12
         ],
         "xaxis": "x3",
         "y": [
          16.036012235817577,
          17.263442118226603,
          21.623309232480533,
          26.23186206896552,
          28.57921023359288,
          26.117643678160917,
          25.71512235817575,
          25.439087875417133,
          22.133867816091954,
          20.25043937708565,
          18.849367816091956,
          16.06222469410456
         ],
         "yaxis": "y3"
        },
        {
         "hovertemplate": "Estado=San Luis Potosí<br>Año=2023<br>Meses=%{x}<br>Temp_Superficial=%{y}<extra></extra>",
         "legendgroup": "San Luis Potosí",
         "line": {
          "color": "#00B0F6",
          "dash": "solid"
         },
         "marker": {
          "symbol": "circle"
         },
         "mode": "lines",
         "name": "San Luis Potosí",
         "showlegend": false,
         "type": "scattergl",
         "x": [
          1,
          2,
          3,
          4,
          5,
          6,
          7,
          8,
          9,
          10
         ],
         "xaxis": "x4",
         "y": [
          17.349894327030032,
          19.179593596059114,
          23.860400444938822,
          24.618810344827587,
          26.330339265850945,
          29.455850574712645,
          26.643448275862067,
          26.714160177975526,
          27.17831609195402,
          22.175984427141266
         ],
         "yaxis": "y4"
        },
        {
         "hovertemplate": "Estado=Sinaloa<br>Año=2020<br>Meses=%{x}<br>Temp_Superficial=%{y}<extra></extra>",
         "legendgroup": "Sinaloa",
         "line": {
          "color": "#E76BF3",
          "dash": "solid"
         },
         "marker": {
          "symbol": "circle"
         },
         "mode": "lines",
         "name": "Sinaloa",
         "showlegend": true,
         "type": "scattergl",
         "x": [
          1,
          2,
          3,
          4,
          5,
          6,
          7,
          8,
          9,
          10,
          11,
          12
         ],
         "xaxis": "x",
         "y": [
          18.73279569892473,
          19.59691570881226,
          23.01353046594982,
          25.333962962962964,
          28.923333333333332,
          31.310092592592593,
          29.34016129032258,
          28.926272401433692,
          27.85537037037037,
          27.18388888888889,
          24.427222222222223,
          19.18100358422939
         ],
         "yaxis": "y"
        },
        {
         "hovertemplate": "Estado=Sinaloa<br>Año=2021<br>Meses=%{x}<br>Temp_Superficial=%{y}<extra></extra>",
         "legendgroup": "Sinaloa",
         "line": {
          "color": "#E76BF3",
          "dash": "solid"
         },
         "marker": {
          "symbol": "circle"
         },
         "mode": "lines",
         "name": "Sinaloa",
         "showlegend": false,
         "type": "scattergl",
         "x": [
          1,
          2,
          3,
          4,
          5,
          6,
          7,
          8,
          9,
          10,
          11,
          12
         ],
         "xaxis": "x2",
         "y": [
          18.51132616487455,
          20.332539682539682,
          22.134283154121864,
          25.866462962962963,
          28.883620071684586,
          30.839814814814815,
          28.654982078853045,
          28.042329749103946,
          26.7765,
          26.326594982078852,
          24.216851851851853,
          21.37853046594982
         ],
         "yaxis": "y2"
        },
        {
         "hovertemplate": "Estado=Sinaloa<br>Año=2022<br>Meses=%{x}<br>Temp_Superficial=%{y}<extra></extra>",
         "legendgroup": "Sinaloa",
         "line": {
          "color": "#E76BF3",
          "dash": "solid"
         },
         "marker": {
          "symbol": "circle"
         },
         "mode": "lines",
         "name": "Sinaloa",
         "showlegend": false,
         "type": "scattergl",
         "x": [
          1,
          2,
          3,
          4,
          5,
          6,
          7,
          8,
          9,
          10,
          11,
          12
         ],
         "xaxis": "x3",
         "y": [
          19.961774193548386,
          20.441468253968253,
          21.760609318996416,
          25.68748148148148,
          28.48600358422939,
          30.011166666666668,
          28.817921146953406,
          27.05505376344086,
          26.85872222222222,
          24.840232974910396,
          21.021574074074074,
          20.26116487455197
         ],
         "yaxis": "y3"
        },
        {
         "hovertemplate": "Estado=Sinaloa<br>Año=2023<br>Meses=%{x}<br>Temp_Superficial=%{y}<extra></extra>",
         "legendgroup": "Sinaloa",
         "line": {
          "color": "#E76BF3",
          "dash": "solid"
         },
         "marker": {
          "symbol": "circle"
         },
         "mode": "lines",
         "name": "Sinaloa",
         "showlegend": false,
         "type": "scattergl",
         "x": [
          1,
          2,
          3,
          4,
          5,
          6,
          7,
          8,
          9,
          10
         ],
         "xaxis": "x4",
         "y": [
          19.53541218637993,
          19.881547619047616,
          22.384695340501793,
          25.15277777777778,
          27.81121863799283,
          31.07059259259259,
          28.98094982078853,
          28.727616487455197,
          29.260296296296296,
          26.613655913978494
         ],
         "yaxis": "y4"
        },
        {
         "hovertemplate": "Estado=Sonora<br>Año=2020<br>Meses=%{x}<br>Temp_Superficial=%{y}<extra></extra>",
         "legendgroup": "Sonora",
         "line": {
          "color": "#F8766D",
          "dash": "solid"
         },
         "marker": {
          "symbol": "circle"
         },
         "mode": "lines",
         "name": "Sonora",
         "showlegend": true,
         "type": "scattergl",
         "x": [
          1,
          2,
          3,
          4,
          5,
          6,
          7,
          8,
          9,
          10,
          11,
          12
         ],
         "xaxis": "x",
         "y": [
          11.430855734767023,
          12.927116858237548,
          15.297329749103943,
          20.41009722222222,
          27.148956093189966,
          31.25213425925926,
          31.19483870967742,
          31.212836021505378,
          29.02313425925926,
          24.95847670250896,
          19.30009259259259,
          11.886693548387097
         ],
         "yaxis": "y"
        },
        {
         "hovertemplate": "Estado=Sonora<br>Año=2021<br>Meses=%{x}<br>Temp_Superficial=%{y}<extra></extra>",
         "legendgroup": "Sonora",
         "line": {
          "color": "#F8766D",
          "dash": "solid"
         },
         "marker": {
          "symbol": "circle"
         },
         "mode": "lines",
         "name": "Sonora",
         "showlegend": false,
         "type": "scattergl",
         "x": [
          1,
          2,
          3,
          4,
          5,
          6,
          7,
          8,
          9,
          10,
          11,
          12
         ],
         "xaxis": "x2",
         "y": [
          11.947549283154123,
          13.784742063492065,
          16.417105734767027,
          22.854208333333332,
          26.287491039426524,
          32.26711574074074,
          28.658490143369175,
          28.49910842293907,
          26.49723611111111,
          21.831854838709678,
          19.038574074074074,
          14.399802867383514
         ],
         "yaxis": "y2"
        },
        {
         "hovertemplate": "Estado=Sonora<br>Año=2022<br>Meses=%{x}<br>Temp_Superficial=%{y}<extra></extra>",
         "legendgroup": "Sonora",
         "line": {
          "color": "#F8766D",
          "dash": "solid"
         },
         "marker": {
          "symbol": "circle"
         },
         "mode": "lines",
         "name": "Sonora",
         "showlegend": false,
         "type": "scattergl",
         "x": [
          1,
          2,
          3,
          4,
          5,
          6,
          7,
          8,
          9,
          10,
          11,
          12
         ],
         "xaxis": "x3",
         "y": [
          12.641653225806452,
          12.98999503968254,
          17.235394265232976,
          23.128300925925924,
          26.747110215053766,
          31.04411111111111,
          29.512567204301078,
          26.881814516129033,
          25.766986111111112,
          21.090636200716848,
          14.231861111111112,
          12.483593189964159
         ],
         "yaxis": "y3"
        },
        {
         "hovertemplate": "Estado=Sonora<br>Año=2023<br>Meses=%{x}<br>Temp_Superficial=%{y}<extra></extra>",
         "legendgroup": "Sonora",
         "line": {
          "color": "#F8766D",
          "dash": "solid"
         },
         "marker": {
          "symbol": "circle"
         },
         "mode": "lines",
         "name": "Sonora",
         "showlegend": false,
         "type": "scattergl",
         "x": [
          1,
          2,
          3,
          4,
          5,
          6,
          7,
          8,
          9,
          10
         ],
         "xaxis": "x4",
         "y": [
          10.993239247311829,
          12.11733134920635,
          16.489193548387096,
          22.004916666666666,
          25.491890681003586,
          30.157597222222222,
          33.18713261648745,
          31.11232526881721,
          29.099777777777778,
          25.346724910394265
         ],
         "yaxis": "y4"
        },
        {
         "hovertemplate": "Estado=Tabasco<br>Año=2020<br>Meses=%{x}<br>Temp_Superficial=%{y}<extra></extra>",
         "legendgroup": "Tabasco",
         "line": {
          "color": "#A3A500",
          "dash": "solid"
         },
         "marker": {
          "symbol": "circle"
         },
         "mode": "lines",
         "name": "Tabasco",
         "showlegend": true,
         "type": "scattergl",
         "x": [
          1,
          2,
          3,
          4,
          5,
          6,
          7,
          8,
          9,
          10,
          11,
          12
         ],
         "xaxis": "x",
         "y": [
          23.25166982922201,
          24.029046653144015,
          26.31527514231499,
          31.739098039215687,
          30.527590132827324,
          27.209745098039214,
          27.26474383301708,
          27.151537001897534,
          26.923862745098038,
          25.667248576850096,
          24.46170588235294,
          22.391062618595825
         ],
         "yaxis": "y"
        },
        {
         "hovertemplate": "Estado=Tabasco<br>Año=2021<br>Meses=%{x}<br>Temp_Superficial=%{y}<extra></extra>",
         "legendgroup": "Tabasco",
         "line": {
          "color": "#A3A500",
          "dash": "solid"
         },
         "marker": {
          "symbol": "circle"
         },
         "mode": "lines",
         "name": "Tabasco",
         "showlegend": false,
         "type": "scattergl",
         "x": [
          1,
          2,
          3,
          4,
          5,
          6,
          7,
          8,
          9,
          10,
          11,
          12
         ],
         "xaxis": "x2",
         "y": [
          22.779601518026567,
          23.03401260504202,
          25.66470588235294,
          29.775549019607844,
          29.881631878557876,
          28.171666666666667,
          27.263472485768503,
          27.441935483870967,
          27.235745098039214,
          26.51777988614801,
          23.510450980392157,
          23.927950664136624
         ],
         "yaxis": "y2"
        },
        {
         "hovertemplate": "Estado=Tabasco<br>Año=2022<br>Meses=%{x}<br>Temp_Superficial=%{y}<extra></extra>",
         "legendgroup": "Tabasco",
         "line": {
          "color": "#A3A500",
          "dash": "solid"
         },
         "marker": {
          "symbol": "circle"
         },
         "mode": "lines",
         "name": "Tabasco",
         "showlegend": false,
         "type": "scattergl",
         "x": [
          1,
          2,
          3,
          4,
          5,
          6,
          7,
          8,
          9,
          10,
          11,
          12
         ],
         "xaxis": "x3",
         "y": [
          22.49876660341556,
          22.81466386554622,
          24.858349146110058,
          28.37627450980392,
          30.639962049335864,
          27.05709803921569,
          27.42789373814042,
          27.31550284629981,
          26.52178431372549,
          25.518007590132825,
          24.998980392156863,
          23.397362428842506
         ],
         "yaxis": "y3"
        },
        {
         "hovertemplate": "Estado=Tabasco<br>Año=2023<br>Meses=%{x}<br>Temp_Superficial=%{y}<extra></extra>",
         "legendgroup": "Tabasco",
         "line": {
          "color": "#A3A500",
          "dash": "solid"
         },
         "marker": {
          "symbol": "circle"
         },
         "mode": "lines",
         "name": "Tabasco",
         "showlegend": false,
         "type": "scattergl",
         "x": [
          1,
          2,
          3,
          4,
          5,
          6,
          7,
          8,
          9,
          10
         ],
         "xaxis": "x4",
         "y": [
          23.188671726755217,
          23.53857142857143,
          25.932732447817834,
          28.341039215686276,
          31.337191650853892,
          32.649,
          30.115863377609106,
          30.32438330170778,
          29.77854901960784,
          27.991537001897534
         ],
         "yaxis": "y4"
        },
        {
         "hovertemplate": "Estado=Tamaulipas<br>Año=2020<br>Meses=%{x}<br>Temp_Superficial=%{y}<extra></extra>",
         "legendgroup": "Tamaulipas",
         "line": {
          "color": "#00BF7D",
          "dash": "solid"
         },
         "marker": {
          "symbol": "circle"
         },
         "mode": "lines",
         "name": "Tamaulipas",
         "showlegend": true,
         "type": "scattergl",
         "x": [
          1,
          2,
          3,
          4,
          5,
          6,
          7,
          8,
          9,
          10,
          11,
          12
         ],
         "xaxis": "x",
         "y": [
          18.050517629407352,
          19.459951884522855,
          25.443870967741937,
          28.764736434108528,
          28.377636909227306,
          28.160372093023256,
          28.904643660915227,
          28.400810202550637,
          25.999891472868217,
          24.20821455363841,
          21.86437984496124,
          16.85873218304576
         ],
         "yaxis": "y"
        },
        {
         "hovertemplate": "Estado=Tamaulipas<br>Año=2021<br>Meses=%{x}<br>Temp_Superficial=%{y}<extra></extra>",
         "legendgroup": "Tamaulipas",
         "line": {
          "color": "#00BF7D",
          "dash": "solid"
         },
         "marker": {
          "symbol": "circle"
         },
         "mode": "lines",
         "name": "Tamaulipas",
         "showlegend": false,
         "type": "scattergl",
         "x": [
          1,
          2,
          3,
          4,
          5,
          6,
          7,
          8,
          9,
          10,
          11,
          12
         ],
         "xaxis": "x2",
         "y": [
          17.37528882220555,
          18.033147840531562,
          23.502078019504875,
          27.09368992248062,
          28.294598649662415,
          27.82781395348837,
          26.468597149287323,
          27.922018004501126,
          27.255713178294577,
          24.379917479369844,
          19.929953488372092,
          20.267989497374344
         ],
         "yaxis": "y2"
        },
        {
         "hovertemplate": "Estado=Tamaulipas<br>Año=2022<br>Meses=%{x}<br>Temp_Superficial=%{y}<extra></extra>",
         "legendgroup": "Tamaulipas",
         "line": {
          "color": "#00BF7D",
          "dash": "solid"
         },
         "marker": {
          "symbol": "circle"
         },
         "mode": "lines",
         "name": "Tamaulipas",
         "showlegend": false,
         "type": "scattergl",
         "x": [
          1,
          2,
          3,
          4,
          5,
          6,
          7,
          8,
          9,
          10,
          11,
          12
         ],
         "xaxis": "x3",
         "y": [
          15.990232558139535,
          16.632225913621262,
          21.97218304576144,
          27.728232558139535,
          30.037141785446362,
          29.7915503875969,
          30.129489872468117,
          29.344073518379595,
          26.20996899224806,
          23.608462115528884,
          19.43282945736434,
          17.32616654163541
         ],
         "yaxis": "y3"
        },
        {
         "hovertemplate": "Estado=Tamaulipas<br>Año=2023<br>Meses=%{x}<br>Temp_Superficial=%{y}<extra></extra>",
         "legendgroup": "Tamaulipas",
         "line": {
          "color": "#00BF7D",
          "dash": "solid"
         },
         "marker": {
          "symbol": "circle"
         },
         "mode": "lines",
         "name": "Tamaulipas",
         "showlegend": false,
         "type": "scattergl",
         "x": [
          1,
          2,
          3,
          4,
          5,
          6,
          7,
          8,
          9,
          10
         ],
         "xaxis": "x4",
         "y": [
          19.07118529632408,
          19.799684385382058,
          24.789819954988747,
          25.723643410852713,
          27.969774943735935,
          31.981906976744185,
          30.41,
          30.57450112528132,
          30.992441860465117,
          25.542873218304578
         ],
         "yaxis": "y4"
        },
        {
         "hovertemplate": "Estado=Tlaxcala<br>Año=2020<br>Meses=%{x}<br>Temp_Superficial=%{y}<extra></extra>",
         "legendgroup": "Tlaxcala",
         "line": {
          "color": "#00B0F6",
          "dash": "solid"
         },
         "marker": {
          "symbol": "circle"
         },
         "mode": "lines",
         "name": "Tlaxcala",
         "showlegend": true,
         "type": "scattergl",
         "x": [
          1,
          2,
          3,
          4,
          5,
          6,
          7,
          8,
          9,
          10,
          11,
          12
         ],
         "xaxis": "x",
         "y": [
          12.063016129032258,
          14.843982758620689,
          18.362483870967743,
          21.301366666666667,
          20.467354838709678,
          18.757416666666664,
          17.571193548387097,
          16.21832258064516,
          15.390883333333333,
          13.313064516129032,
          11.909683333333334,
          12.332048387096775
         ],
         "yaxis": "y"
        },
        {
         "hovertemplate": "Estado=Tlaxcala<br>Año=2021<br>Meses=%{x}<br>Temp_Superficial=%{y}<extra></extra>",
         "legendgroup": "Tlaxcala",
         "line": {
          "color": "#00B0F6",
          "dash": "solid"
         },
         "marker": {
          "symbol": "circle"
         },
         "mode": "lines",
         "name": "Tlaxcala",
         "showlegend": false,
         "type": "scattergl",
         "x": [
          1,
          2,
          3,
          4,
          5,
          6,
          7,
          8,
          9,
          10,
          11,
          12
         ],
         "xaxis": "x2",
         "y": [
          12.41825806451613,
          13.812714285714286,
          17.635564516129033,
          19.848300000000002,
          19.032225806451613,
          16.55291666666667,
          15.85766129032258,
          15.917258064516128,
          15.4528,
          14.741258064516128,
          11.554366666666667,
          11.48656451612903
         ],
         "yaxis": "y2"
        },
        {
         "hovertemplate": "Estado=Tlaxcala<br>Año=2022<br>Meses=%{x}<br>Temp_Superficial=%{y}<extra></extra>",
         "legendgroup": "Tlaxcala",
         "line": {
          "color": "#00B0F6",
          "dash": "solid"
         },
         "marker": {
          "symbol": "circle"
         },
         "mode": "lines",
         "name": "Tlaxcala",
         "showlegend": false,
         "type": "scattergl",
         "x": [
          1,
          2,
          3,
          4,
          5,
          6,
          7,
          8,
          9,
          10,
          11,
          12
         ],
         "xaxis": "x3",
         "y": [
          11.75301612903226,
          13.263857142857143,
          16.648725806451612,
          20.205416666666668,
          21.36932258064516,
          18.396133333333335,
          17.888290322580644,
          16.835596774193547,
          15.148133333333334,
          15.049435483870969,
          14.3964,
          11.66574193548387
         ],
         "yaxis": "y3"
        },
        {
         "hovertemplate": "Estado=Tlaxcala<br>Año=2023<br>Meses=%{x}<br>Temp_Superficial=%{y}<extra></extra>",
         "legendgroup": "Tlaxcala",
         "line": {
          "color": "#00B0F6",
          "dash": "solid"
         },
         "marker": {
          "symbol": "circle"
         },
         "mode": "lines",
         "name": "Tlaxcala",
         "showlegend": false,
         "type": "scattergl",
         "x": [
          1,
          2,
          3,
          4,
          5,
          6,
          7,
          8,
          9,
          10
         ],
         "xaxis": "x4",
         "y": [
          12.560467741935485,
          14.554482142857141,
          18.365000000000002,
          19.757683333333333,
          20.327209677419354,
          21.63675,
          16.18272580645161,
          16.258209677419355,
          15.825133333333333,
          15.290112903225808
         ],
         "yaxis": "y4"
        },
        {
         "hovertemplate": "Estado=Veracruz<br>Año=2020<br>Meses=%{x}<br>Temp_Superficial=%{y}<extra></extra>",
         "legendgroup": "Veracruz",
         "line": {
          "color": "#E76BF3",
          "dash": "solid"
         },
         "marker": {
          "symbol": "circle"
         },
         "mode": "lines",
         "name": "Veracruz",
         "showlegend": true,
         "type": "scattergl",
         "x": [
          1,
          2,
          3,
          4,
          5,
          6,
          7,
          8,
          9,
          10,
          11,
          12
         ],
         "xaxis": "x",
         "y": [
          18.985909920876445,
          20.052421925829538,
          23.686489653073643,
          28.23419182389937,
          26.964421789409617,
          25.33019968553459,
          25.094882836275108,
          24.471822884966524,
          23.42914779874214,
          21.635823189287887,
          20.361970125786165,
          18.04863664029215
         ],
         "yaxis": "y"
        },
        {
         "hovertemplate": "Estado=Veracruz<br>Año=2021<br>Meses=%{x}<br>Temp_Superficial=%{y}<extra></extra>",
         "legendgroup": "Veracruz",
         "line": {
          "color": "#E76BF3",
          "dash": "solid"
         },
         "marker": {
          "symbol": "circle"
         },
         "mode": "lines",
         "name": "Veracruz",
         "showlegend": false,
         "type": "scattergl",
         "x": [
          1,
          2,
          3,
          4,
          5,
          6,
          7,
          8,
          9,
          10,
          11,
          12
         ],
         "xaxis": "x2",
         "y": [
          18.786489653073644,
          19.672252358490567,
          22.77319993913573,
          26.295861635220124,
          26.660809494826538,
          24.925943396226415,
          24.043552951917228,
          24.122617163724893,
          23.76170283018868,
          22.867874315276936,
          19.62571855345912,
          19.795739500912966
         ],
         "yaxis": "y2"
        },
        {
         "hovertemplate": "Estado=Veracruz<br>Año=2022<br>Meses=%{x}<br>Temp_Superficial=%{y}<extra></extra>",
         "legendgroup": "Veracruz",
         "line": {
          "color": "#E76BF3",
          "dash": "solid"
         },
         "marker": {
          "symbol": "circle"
         },
         "mode": "lines",
         "name": "Veracruz",
         "showlegend": false,
         "type": "scattergl",
         "x": [
          1,
          2,
          3,
          4,
          5,
          6,
          7,
          8,
          9,
          10,
          11,
          12
         ],
         "xaxis": "x3",
         "y": [
          18.097408703590993,
          18.449883760107816,
          22.121110772976262,
          26.617721698113208,
          28.464082471089473,
          25.14444496855346,
          24.430672550213025,
          24.404134205721242,
          23.263198113207547,
          21.786269020085207,
          20.856481132075473,
          18.569018563603166
         ],
         "yaxis": "y3"
        },
        {
         "hovertemplate": "Estado=Veracruz<br>Año=2023<br>Meses=%{x}<br>Temp_Superficial=%{y}<extra></extra>",
         "legendgroup": "Veracruz",
         "line": {
          "color": "#E76BF3",
          "dash": "solid"
         },
         "marker": {
          "symbol": "circle"
         },
         "mode": "lines",
         "name": "Veracruz",
         "showlegend": false,
         "type": "scattergl",
         "x": [
          1,
          2,
          3,
          4,
          5,
          6,
          7,
          8,
          9,
          10
         ],
         "xaxis": "x4",
         "y": [
          19.51531801582471,
          20.223020552560648,
          24.133982045039563,
          25.991201257861636,
          27.63401095556908,
          29.09177358490566,
          25.833324710894704,
          25.765092818015827,
          26.500773584905662,
          24.58020998174072
         ],
         "yaxis": "y4"
        },
        {
         "hovertemplate": "Estado=Yucatán<br>Año=2020<br>Meses=%{x}<br>Temp_Superficial=%{y}<extra></extra>",
         "legendgroup": "Yucatán",
         "line": {
          "color": "#F8766D",
          "dash": "solid"
         },
         "marker": {
          "symbol": "circle"
         },
         "mode": "lines",
         "name": "Yucatán",
         "showlegend": true,
         "type": "scattergl",
         "x": [
          1,
          2,
          3,
          4,
          5,
          6,
          7,
          8,
          9,
          10,
          11,
          12
         ],
         "xaxis": "x",
         "y": [
          24.662449786975046,
          25.990110605074822,
          28.21750152160682,
          31.34893710691824,
          29.057678027997564,
          26.771094339622643,
          27.164157029823492,
          27.419245283018867,
          27.451424528301885,
          26.23932136335971,
          24.69772641509434,
          22.340091296409007
         ],
         "yaxis": "y"
        },
        {
         "hovertemplate": "Estado=Yucatán<br>Año=2021<br>Meses=%{x}<br>Temp_Superficial=%{y}<extra></extra>",
         "legendgroup": "Yucatán",
         "line": {
          "color": "#F8766D",
          "dash": "solid"
         },
         "marker": {
          "symbol": "circle"
         },
         "mode": "lines",
         "name": "Yucatán",
         "showlegend": false,
         "type": "scattergl",
         "x": [
          1,
          2,
          3,
          4,
          5,
          6,
          7,
          8,
          9,
          10,
          11,
          12
         ],
         "xaxis": "x2",
         "y": [
          22.95106512477176,
          24.737371967654987,
          27.100763846622034,
          29.608534591194967,
          29.18085514303104,
          27.496106918238993,
          27.516472915398662,
          27.59368837492392,
          27.03723899371069,
          27.318752282410223,
          24.780245283018864,
          25.58534692635423
         ],
         "yaxis": "y2"
        },
        {
         "hovertemplate": "Estado=Yucatán<br>Año=2022<br>Meses=%{x}<br>Temp_Superficial=%{y}<extra></extra>",
         "legendgroup": "Yucatán",
         "line": {
          "color": "#F8766D",
          "dash": "solid"
         },
         "marker": {
          "symbol": "circle"
         },
         "mode": "lines",
         "name": "Yucatán",
         "showlegend": false,
         "type": "scattergl",
         "x": [
          1,
          2,
          3,
          4,
          5,
          6,
          7,
          8,
          9,
          10,
          11,
          12
         ],
         "xaxis": "x3",
         "y": [
          23.661040779062688,
          24.60317385444744,
          26.76070298234936,
          28.771301886792454,
          29.35354534388314,
          27.452427672955974,
          27.712373706634207,
          26.920736457699327,
          26.52080817610063,
          25.873886183810104,
          26.381783018867928,
          25.202032866707246
         ],
         "yaxis": "y3"
        },
        {
         "hovertemplate": "Estado=Yucatán<br>Año=2023<br>Meses=%{x}<br>Temp_Superficial=%{y}<extra></extra>",
         "legendgroup": "Yucatán",
         "line": {
          "color": "#F8766D",
          "dash": "solid"
         },
         "marker": {
          "symbol": "circle"
         },
         "mode": "lines",
         "name": "Yucatán",
         "showlegend": false,
         "type": "scattergl",
         "x": [
          1,
          2,
          3,
          4,
          5,
          6,
          7,
          8,
          9,
          10
         ],
         "xaxis": "x4",
         "y": [
          25.00276628119294,
          25.793429919137463,
          28.10314668289714,
          30.019569182389937,
          31.039278758368834,
          31.354490566037736,
          29.337534996956787,
          29.39619293974437,
          29.091490566037738,
          27.839564820450395
         ],
         "yaxis": "y4"
        },
        {
         "hovertemplate": "Estado=Zacatecas<br>Año=2020<br>Meses=%{x}<br>Temp_Superficial=%{y}<extra></extra>",
         "legendgroup": "Zacatecas",
         "line": {
          "color": "#A3A500",
          "dash": "solid"
         },
         "marker": {
          "symbol": "circle"
         },
         "mode": "lines",
         "name": "Zacatecas",
         "showlegend": true,
         "type": "scattergl",
         "x": [
          1,
          2,
          3,
          4,
          5,
          6,
          7,
          8,
          9,
          10,
          11,
          12
         ],
         "xaxis": "x",
         "y": [
          12.122525027808676,
          14.746985731272295,
          20.64395439377086,
          22.623310344827583,
          23.921946607341493,
          25.05164367816092,
          22.509938820912126,
          21.772313681868745,
          20.346563218390802,
          18.642614015572857,
          16.14351724137931,
          12.866112347052281
         ],
         "yaxis": "y"
        },
        {
         "hovertemplate": "Estado=Zacatecas<br>Año=2021<br>Meses=%{x}<br>Temp_Superficial=%{y}<extra></extra>",
         "legendgroup": "Zacatecas",
         "line": {
          "color": "#A3A500",
          "dash": "solid"
         },
         "marker": {
          "symbol": "circle"
         },
         "mode": "lines",
         "name": "Zacatecas",
         "showlegend": false,
         "type": "scattergl",
         "x": [
          1,
          2,
          3,
          4,
          5,
          6,
          7,
          8,
          9,
          10,
          11,
          12
         ],
         "xaxis": "x2",
         "y": [
          12.69162958843159,
          15.656865763546797,
          19.630773081201333,
          22.189160919540228,
          24.313042269187985,
          22.86692528735632,
          20.773476084538377,
          20.92920467185762,
          19.440936781609196,
          18.52267519466073,
          15.216954022988507,
          13.795923248053393
         ],
         "yaxis": "y2"
        },
        {
         "hovertemplate": "Estado=Zacatecas<br>Año=2022<br>Meses=%{x}<br>Temp_Superficial=%{y}<extra></extra>",
         "legendgroup": "Zacatecas",
         "line": {
          "color": "#A3A500",
          "dash": "solid"
         },
         "marker": {
          "symbol": "circle"
         },
         "mode": "lines",
         "name": "Zacatecas",
         "showlegend": false,
         "type": "scattergl",
         "x": [
          1,
          2,
          3,
          4,
          5,
          6,
          7,
          8,
          9,
          10,
          11,
          12
         ],
         "xaxis": "x3",
         "y": [
          12.964666295884317,
          14.79935960591133,
          17.46963848720801,
          22.386471264367817,
          25.61012235817575,
          24.66305747126437,
          23.24744716351502,
          22.221446051167966,
          20.389086206896554,
          18.21742491657397,
          15.711436781609196,
          13.280812013348166
         ],
         "yaxis": "y3"
        },
        {
         "hovertemplate": "Estado=Zacatecas<br>Año=2023<br>Meses=%{x}<br>Temp_Superficial=%{y}<extra></extra>",
         "legendgroup": "Zacatecas",
         "line": {
          "color": "#A3A500",
          "dash": "solid"
         },
         "marker": {
          "symbol": "circle"
         },
         "mode": "lines",
         "name": "Zacatecas",
         "showlegend": false,
         "type": "scattergl",
         "x": [
          1,
          2,
          3,
          4,
          5,
          6,
          7,
          8,
          9,
          10
         ],
         "xaxis": "x4",
         "y": [
          13.0833426028921,
          16.045775862068965,
          19.316518353726362,
          21.488494252873565,
          22.783125695216906,
          27.00713218390805,
          24.115,
          22.872269187986653,
          22.829327586206897,
          18.91695216907675
         ],
         "yaxis": "y4"
        }
       ],
       "layout": {
        "annotations": [
         {
          "font": {},
          "showarrow": false,
          "text": "Año=2020",
          "x": 0.1175,
          "xanchor": "center",
          "xref": "paper",
          "y": 1,
          "yanchor": "bottom",
          "yref": "paper"
         },
         {
          "font": {},
          "showarrow": false,
          "text": "Año=2021",
          "x": 0.3725,
          "xanchor": "center",
          "xref": "paper",
          "y": 1,
          "yanchor": "bottom",
          "yref": "paper"
         },
         {
          "font": {},
          "showarrow": false,
          "text": "Año=2022",
          "x": 0.6275,
          "xanchor": "center",
          "xref": "paper",
          "y": 1,
          "yanchor": "bottom",
          "yref": "paper"
         },
         {
          "font": {},
          "showarrow": false,
          "text": "Año=2023",
          "x": 0.8824999999999998,
          "xanchor": "center",
          "xref": "paper",
          "y": 1,
          "yanchor": "bottom",
          "yref": "paper"
         }
        ],
        "height": 500,
        "legend": {
         "title": {
          "text": "Estado"
         },
         "tracegroupgap": 0
        },
        "margin": {
         "t": 60
        },
        "template": {
         "data": {
          "bar": [
           {
            "error_x": {
             "color": "rgb(51,51,51)"
            },
            "error_y": {
             "color": "rgb(51,51,51)"
            },
            "marker": {
             "line": {
              "color": "rgb(237,237,237)",
              "width": 0.5
             },
             "pattern": {
              "fillmode": "overlay",
              "size": 10,
              "solidity": 0.2
             }
            },
            "type": "bar"
           }
          ],
          "barpolar": [
           {
            "marker": {
             "line": {
              "color": "rgb(237,237,237)",
              "width": 0.5
             },
             "pattern": {
              "fillmode": "overlay",
              "size": 10,
              "solidity": 0.2
             }
            },
            "type": "barpolar"
           }
          ],
          "carpet": [
           {
            "aaxis": {
             "endlinecolor": "rgb(51,51,51)",
             "gridcolor": "white",
             "linecolor": "white",
             "minorgridcolor": "white",
             "startlinecolor": "rgb(51,51,51)"
            },
            "baxis": {
             "endlinecolor": "rgb(51,51,51)",
             "gridcolor": "white",
             "linecolor": "white",
             "minorgridcolor": "white",
             "startlinecolor": "rgb(51,51,51)"
            },
            "type": "carpet"
           }
          ],
          "choropleth": [
           {
            "colorbar": {
             "outlinewidth": 0,
             "tickcolor": "rgb(237,237,237)",
             "ticklen": 6,
             "ticks": "inside"
            },
            "type": "choropleth"
           }
          ],
          "contour": [
           {
            "colorbar": {
             "outlinewidth": 0,
             "tickcolor": "rgb(237,237,237)",
             "ticklen": 6,
             "ticks": "inside"
            },
            "colorscale": [
             [
              0,
              "rgb(20,44,66)"
             ],
             [
              1,
              "rgb(90,179,244)"
             ]
            ],
            "type": "contour"
           }
          ],
          "contourcarpet": [
           {
            "colorbar": {
             "outlinewidth": 0,
             "tickcolor": "rgb(237,237,237)",
             "ticklen": 6,
             "ticks": "inside"
            },
            "type": "contourcarpet"
           }
          ],
          "heatmap": [
           {
            "colorbar": {
             "outlinewidth": 0,
             "tickcolor": "rgb(237,237,237)",
             "ticklen": 6,
             "ticks": "inside"
            },
            "colorscale": [
             [
              0,
              "rgb(20,44,66)"
             ],
             [
              1,
              "rgb(90,179,244)"
             ]
            ],
            "type": "heatmap"
           }
          ],
          "heatmapgl": [
           {
            "colorbar": {
             "outlinewidth": 0,
             "tickcolor": "rgb(237,237,237)",
             "ticklen": 6,
             "ticks": "inside"
            },
            "colorscale": [
             [
              0,
              "rgb(20,44,66)"
             ],
             [
              1,
              "rgb(90,179,244)"
             ]
            ],
            "type": "heatmapgl"
           }
          ],
          "histogram": [
           {
            "marker": {
             "pattern": {
              "fillmode": "overlay",
              "size": 10,
              "solidity": 0.2
             }
            },
            "type": "histogram"
           }
          ],
          "histogram2d": [
           {
            "colorbar": {
             "outlinewidth": 0,
             "tickcolor": "rgb(237,237,237)",
             "ticklen": 6,
             "ticks": "inside"
            },
            "colorscale": [
             [
              0,
              "rgb(20,44,66)"
             ],
             [
              1,
              "rgb(90,179,244)"
             ]
            ],
            "type": "histogram2d"
           }
          ],
          "histogram2dcontour": [
           {
            "colorbar": {
             "outlinewidth": 0,
             "tickcolor": "rgb(237,237,237)",
             "ticklen": 6,
             "ticks": "inside"
            },
            "colorscale": [
             [
              0,
              "rgb(20,44,66)"
             ],
             [
              1,
              "rgb(90,179,244)"
             ]
            ],
            "type": "histogram2dcontour"
           }
          ],
          "mesh3d": [
           {
            "colorbar": {
             "outlinewidth": 0,
             "tickcolor": "rgb(237,237,237)",
             "ticklen": 6,
             "ticks": "inside"
            },
            "type": "mesh3d"
           }
          ],
          "parcoords": [
           {
            "line": {
             "colorbar": {
              "outlinewidth": 0,
              "tickcolor": "rgb(237,237,237)",
              "ticklen": 6,
              "ticks": "inside"
             }
            },
            "type": "parcoords"
           }
          ],
          "pie": [
           {
            "automargin": true,
            "type": "pie"
           }
          ],
          "scatter": [
           {
            "fillpattern": {
             "fillmode": "overlay",
             "size": 10,
             "solidity": 0.2
            },
            "type": "scatter"
           }
          ],
          "scatter3d": [
           {
            "line": {
             "colorbar": {
              "outlinewidth": 0,
              "tickcolor": "rgb(237,237,237)",
              "ticklen": 6,
              "ticks": "inside"
             }
            },
            "marker": {
             "colorbar": {
              "outlinewidth": 0,
              "tickcolor": "rgb(237,237,237)",
              "ticklen": 6,
              "ticks": "inside"
             }
            },
            "type": "scatter3d"
           }
          ],
          "scattercarpet": [
           {
            "marker": {
             "colorbar": {
              "outlinewidth": 0,
              "tickcolor": "rgb(237,237,237)",
              "ticklen": 6,
              "ticks": "inside"
             }
            },
            "type": "scattercarpet"
           }
          ],
          "scattergeo": [
           {
            "marker": {
             "colorbar": {
              "outlinewidth": 0,
              "tickcolor": "rgb(237,237,237)",
              "ticklen": 6,
              "ticks": "inside"
             }
            },
            "type": "scattergeo"
           }
          ],
          "scattergl": [
           {
            "marker": {
             "colorbar": {
              "outlinewidth": 0,
              "tickcolor": "rgb(237,237,237)",
              "ticklen": 6,
              "ticks": "inside"
             }
            },
            "type": "scattergl"
           }
          ],
          "scattermapbox": [
           {
            "marker": {
             "colorbar": {
              "outlinewidth": 0,
              "tickcolor": "rgb(237,237,237)",
              "ticklen": 6,
              "ticks": "inside"
             }
            },
            "type": "scattermapbox"
           }
          ],
          "scatterpolar": [
           {
            "marker": {
             "colorbar": {
              "outlinewidth": 0,
              "tickcolor": "rgb(237,237,237)",
              "ticklen": 6,
              "ticks": "inside"
             }
            },
            "type": "scatterpolar"
           }
          ],
          "scatterpolargl": [
           {
            "marker": {
             "colorbar": {
              "outlinewidth": 0,
              "tickcolor": "rgb(237,237,237)",
              "ticklen": 6,
              "ticks": "inside"
             }
            },
            "type": "scatterpolargl"
           }
          ],
          "scatterternary": [
           {
            "marker": {
             "colorbar": {
              "outlinewidth": 0,
              "tickcolor": "rgb(237,237,237)",
              "ticklen": 6,
              "ticks": "inside"
             }
            },
            "type": "scatterternary"
           }
          ],
          "surface": [
           {
            "colorbar": {
             "outlinewidth": 0,
             "tickcolor": "rgb(237,237,237)",
             "ticklen": 6,
             "ticks": "inside"
            },
            "colorscale": [
             [
              0,
              "rgb(20,44,66)"
             ],
             [
              1,
              "rgb(90,179,244)"
             ]
            ],
            "type": "surface"
           }
          ],
          "table": [
           {
            "cells": {
             "fill": {
              "color": "rgb(237,237,237)"
             },
             "line": {
              "color": "white"
             }
            },
            "header": {
             "fill": {
              "color": "rgb(217,217,217)"
             },
             "line": {
              "color": "white"
             }
            },
            "type": "table"
           }
          ]
         },
         "layout": {
          "annotationdefaults": {
           "arrowhead": 0,
           "arrowwidth": 1
          },
          "autotypenumbers": "strict",
          "coloraxis": {
           "colorbar": {
            "outlinewidth": 0,
            "tickcolor": "rgb(237,237,237)",
            "ticklen": 6,
            "ticks": "inside"
           }
          },
          "colorscale": {
           "sequential": [
            [
             0,
             "rgb(20,44,66)"
            ],
            [
             1,
             "rgb(90,179,244)"
            ]
           ],
           "sequentialminus": [
            [
             0,
             "rgb(20,44,66)"
            ],
            [
             1,
             "rgb(90,179,244)"
            ]
           ]
          },
          "colorway": [
           "#F8766D",
           "#A3A500",
           "#00BF7D",
           "#00B0F6",
           "#E76BF3"
          ],
          "font": {
           "color": "rgb(51,51,51)"
          },
          "geo": {
           "bgcolor": "white",
           "lakecolor": "white",
           "landcolor": "rgb(237,237,237)",
           "showlakes": true,
           "showland": true,
           "subunitcolor": "white"
          },
          "hoverlabel": {
           "align": "left"
          },
          "hovermode": "closest",
          "paper_bgcolor": "white",
          "plot_bgcolor": "rgb(237,237,237)",
          "polar": {
           "angularaxis": {
            "gridcolor": "white",
            "linecolor": "white",
            "showgrid": true,
            "tickcolor": "rgb(51,51,51)",
            "ticks": "outside"
           },
           "bgcolor": "rgb(237,237,237)",
           "radialaxis": {
            "gridcolor": "white",
            "linecolor": "white",
            "showgrid": true,
            "tickcolor": "rgb(51,51,51)",
            "ticks": "outside"
           }
          },
          "scene": {
           "xaxis": {
            "backgroundcolor": "rgb(237,237,237)",
            "gridcolor": "white",
            "gridwidth": 2,
            "linecolor": "white",
            "showbackground": true,
            "showgrid": true,
            "tickcolor": "rgb(51,51,51)",
            "ticks": "outside",
            "zerolinecolor": "white"
           },
           "yaxis": {
            "backgroundcolor": "rgb(237,237,237)",
            "gridcolor": "white",
            "gridwidth": 2,
            "linecolor": "white",
            "showbackground": true,
            "showgrid": true,
            "tickcolor": "rgb(51,51,51)",
            "ticks": "outside",
            "zerolinecolor": "white"
           },
           "zaxis": {
            "backgroundcolor": "rgb(237,237,237)",
            "gridcolor": "white",
            "gridwidth": 2,
            "linecolor": "white",
            "showbackground": true,
            "showgrid": true,
            "tickcolor": "rgb(51,51,51)",
            "ticks": "outside",
            "zerolinecolor": "white"
           }
          },
          "shapedefaults": {
           "fillcolor": "black",
           "line": {
            "width": 0
           },
           "opacity": 0.3
          },
          "ternary": {
           "aaxis": {
            "gridcolor": "white",
            "linecolor": "white",
            "showgrid": true,
            "tickcolor": "rgb(51,51,51)",
            "ticks": "outside"
           },
           "baxis": {
            "gridcolor": "white",
            "linecolor": "white",
            "showgrid": true,
            "tickcolor": "rgb(51,51,51)",
            "ticks": "outside"
           },
           "bgcolor": "rgb(237,237,237)",
           "caxis": {
            "gridcolor": "white",
            "linecolor": "white",
            "showgrid": true,
            "tickcolor": "rgb(51,51,51)",
            "ticks": "outside"
           }
          },
          "xaxis": {
           "automargin": true,
           "gridcolor": "white",
           "linecolor": "white",
           "showgrid": true,
           "tickcolor": "rgb(51,51,51)",
           "ticks": "outside",
           "title": {
            "standoff": 15
           },
           "zerolinecolor": "white"
          },
          "yaxis": {
           "automargin": true,
           "gridcolor": "white",
           "linecolor": "white",
           "showgrid": true,
           "tickcolor": "rgb(51,51,51)",
           "ticks": "outside",
           "title": {
            "standoff": 15
           },
           "zerolinecolor": "white"
          }
         }
        },
        "title": {
         "x": 0.5
        },
        "width": 2100,
        "xaxis": {
         "anchor": "y",
         "domain": [
          0,
          0.235
         ],
         "tickangle": 45,
         "tickmode": "array",
         "ticktext": [
          "Ene",
          "Feb",
          "Mar",
          "Abr",
          "May",
          "Jun",
          "Jul",
          "Ago",
          "Sep",
          "Oct",
          "Nov",
          "Dic"
         ],
         "tickvals": [
          1,
          2,
          3,
          4,
          5,
          6,
          7,
          8,
          9,
          10,
          11,
          12
         ],
         "title": {
          "text": "Meses"
         }
        },
        "xaxis2": {
         "anchor": "y2",
         "domain": [
          0.255,
          0.49
         ],
         "matches": "x",
         "tickangle": 45,
         "tickmode": "array",
         "ticktext": [
          "Ene",
          "Feb",
          "Mar",
          "Abr",
          "May",
          "Jun",
          "Jul",
          "Ago",
          "Sep",
          "Oct",
          "Nov",
          "Dic"
         ],
         "tickvals": [
          1,
          2,
          3,
          4,
          5,
          6,
          7,
          8,
          9,
          10,
          11,
          12
         ],
         "title": {
          "text": "Meses"
         }
        },
        "xaxis3": {
         "anchor": "y3",
         "domain": [
          0.51,
          0.745
         ],
         "matches": "x",
         "tickangle": 45,
         "tickmode": "array",
         "ticktext": [
          "Ene",
          "Feb",
          "Mar",
          "Abr",
          "May",
          "Jun",
          "Jul",
          "Ago",
          "Sep",
          "Oct",
          "Nov",
          "Dic"
         ],
         "tickvals": [
          1,
          2,
          3,
          4,
          5,
          6,
          7,
          8,
          9,
          10,
          11,
          12
         ],
         "title": {
          "text": "Meses"
         }
        },
        "xaxis4": {
         "anchor": "y4",
         "domain": [
          0.7649999999999999,
          0.9999999999999999
         ],
         "matches": "x",
         "tickangle": 45,
         "tickmode": "array",
         "ticktext": [
          "Ene",
          "Feb",
          "Mar",
          "Abr",
          "May",
          "Jun",
          "Jul",
          "Ago",
          "Sep",
          "Oct",
          "Nov",
          "Dic"
         ],
         "tickvals": [
          1,
          2,
          3,
          4,
          5,
          6,
          7,
          8,
          9,
          10,
          11,
          12
         ],
         "title": {
          "text": "Meses"
         }
        },
        "yaxis": {
         "anchor": "x",
         "domain": [
          0,
          1
         ],
         "title": {
          "text": "Temp_Superficial"
         }
        },
        "yaxis2": {
         "anchor": "x2",
         "domain": [
          0,
          1
         ],
         "matches": "y",
         "showticklabels": false
        },
        "yaxis3": {
         "anchor": "x3",
         "domain": [
          0,
          1
         ],
         "matches": "y",
         "showticklabels": false
        },
        "yaxis4": {
         "anchor": "x4",
         "domain": [
          0,
          1
         ],
         "matches": "y",
         "showticklabels": false
        }
       }
      }
     },
     "metadata": {},
     "output_type": "display_data"
    },
    {
     "data": {
      "application/vnd.jupyter.widget-view+json": {
       "model_id": "b9966a93c79c491995d832975034b8f5",
       "version_major": 2,
       "version_minor": 0
      },
      "text/plain": [
       "interactive(children=(Dropdown(description='Variable', options=('Temp_Superficial', 'Temp_Superficial_MAX', 'T…"
      ]
     },
     "metadata": {},
     "output_type": "display_data"
    },
    {
     "data": {
      "application/vnd.plotly.v1+json": {
       "config": {
        "plotlyServerURL": "https://plot.ly"
       },
       "data": [
        {
         "hovertemplate": "Estado=Aguascalientes<br>Año=2020<br>Meses=%{x}<br>Temp_Superficial_MAX=%{y}<extra></extra>",
         "legendgroup": "Aguascalientes",
         "line": {
          "color": "#F8766D",
          "dash": "solid"
         },
         "marker": {
          "symbol": "circle"
         },
         "mode": "lines",
         "name": "Aguascalientes",
         "showlegend": true,
         "type": "scattergl",
         "x": [
          1,
          2,
          3,
          4,
          5,
          6,
          7,
          8,
          9,
          10,
          11,
          12
         ],
         "xaxis": "x",
         "y": [
          24.617947214076246,
          28.57592476489028,
          35.93782991202346,
          38.155,
          38.77093841642228,
          36.84539393939394,
          33.58123167155426,
          32.61727272727273,
          31.973636363636363,
          32.267184750733136,
          30.30572727272727,
          26.093988269794718
         ],
         "yaxis": "y"
        },
        {
         "hovertemplate": "Estado=Aguascalientes<br>Año=2021<br>Meses=%{x}<br>Temp_Superficial_MAX=%{y}<extra></extra>",
         "legendgroup": "Aguascalientes",
         "line": {
          "color": "#F8766D",
          "dash": "solid"
         },
         "marker": {
          "symbol": "circle"
         },
         "mode": "lines",
         "name": "Aguascalientes",
         "showlegend": false,
         "type": "scattergl",
         "x": [
          1,
          2,
          3,
          4,
          5,
          6,
          7,
          8,
          9,
          10,
          11,
          12
         ],
         "xaxis": "x2",
         "y": [
          27.0392082111437,
          31.11551948051948,
          36.34366568914956,
          38.38072727272727,
          39.313607038123166,
          33.12742424242424,
          30.777038123167152,
          31.5366568914956,
          28.643878787878787,
          30.1508504398827,
          27.901606060606063,
          27.16882697947214
         ],
         "yaxis": "y2"
        },
        {
         "hovertemplate": "Estado=Aguascalientes<br>Año=2022<br>Meses=%{x}<br>Temp_Superficial_MAX=%{y}<extra></extra>",
         "legendgroup": "Aguascalientes",
         "line": {
          "color": "#F8766D",
          "dash": "solid"
         },
         "marker": {
          "symbol": "circle"
         },
         "mode": "lines",
         "name": "Aguascalientes",
         "showlegend": false,
         "type": "scattergl",
         "x": [
          1,
          2,
          3,
          4,
          5,
          6,
          7,
          8,
          9,
          10,
          11,
          12
         ],
         "xaxis": "x3",
         "y": [
          26.469794721407627,
          29.4462012987013,
          33.40346041055719,
          37.89642424242424,
          41.06422287390029,
          36.936424242424245,
          34.75818181818182,
          33.651085043988274,
          31.603272727272728,
          30.802668621700878,
          29.50136363636364,
          27.271876832844576
         ],
         "yaxis": "y3"
        },
        {
         "hovertemplate": "Estado=Aguascalientes<br>Año=2023<br>Meses=%{x}<br>Temp_Superficial_MAX=%{y}<extra></extra>",
         "legendgroup": "Aguascalientes",
         "line": {
          "color": "#F8766D",
          "dash": "solid"
         },
         "marker": {
          "symbol": "circle"
         },
         "mode": "lines",
         "name": "Aguascalientes",
         "showlegend": false,
         "type": "scattergl",
         "x": [
          1,
          2,
          3,
          4,
          5,
          6,
          7,
          8,
          9,
          10
         ],
         "xaxis": "x4",
         "y": [
          27.465278592375366,
          31.369805194805192,
          35.539032258064516,
          36.69148484848485,
          37.172873900293254,
          41.714787878787874,
          36.28299120234604,
          34.18782991202346,
          35.99148484848485,
          30.45431085043988
         ],
         "yaxis": "y4"
        },
        {
         "hovertemplate": "Estado=Baja California<br>Año=2020<br>Meses=%{x}<br>Temp_Superficial_MAX=%{y}<extra></extra>",
         "legendgroup": "Baja California",
         "line": {
          "color": "#A3A500",
          "dash": "solid"
         },
         "marker": {
          "symbol": "circle"
         },
         "mode": "lines",
         "name": "Baja California",
         "showlegend": true,
         "type": "scattergl",
         "x": [
          1,
          2,
          3,
          4,
          5,
          6,
          7,
          8,
          9,
          10,
          11,
          12
         ],
         "xaxis": "x",
         "y": [
          21.848387096774193,
          23.798758620689657,
          23.628258064516128,
          29.0664,
          35.94135483870968,
          37.205866666666665,
          42.12645161290323,
          43.70774193548387,
          42.017266666666664,
          35.90232258064516,
          27.704066666666666,
          22.06741935483871
         ],
         "yaxis": "y"
        },
        {
         "hovertemplate": "Estado=Baja California<br>Año=2021<br>Meses=%{x}<br>Temp_Superficial_MAX=%{y}<extra></extra>",
         "legendgroup": "Baja California",
         "line": {
          "color": "#A3A500",
          "dash": "solid"
         },
         "marker": {
          "symbol": "circle"
         },
         "mode": "lines",
         "name": "Baja California",
         "showlegend": false,
         "type": "scattergl",
         "x": [
          1,
          2,
          3,
          4,
          5,
          6,
          7,
          8,
          9,
          10,
          11,
          12
         ],
         "xaxis": "x2",
         "y": [
          21.711870967741937,
          24.320071428571428,
          25.018967741935484,
          31.865399999999998,
          34.83554838709678,
          40.870533333333334,
          42.511870967741935,
          42.70548387096775,
          40.24706666666667,
          31.751999999999995,
          30.141733333333335,
          21.62322580645161
         ],
         "yaxis": "y2"
        },
        {
         "hovertemplate": "Estado=Baja California<br>Año=2022<br>Meses=%{x}<br>Temp_Superficial_MAX=%{y}<extra></extra>",
         "legendgroup": "Baja California",
         "line": {
          "color": "#A3A500",
          "dash": "solid"
         },
         "marker": {
          "symbol": "circle"
         },
         "mode": "lines",
         "name": "Baja California",
         "showlegend": false,
         "type": "scattergl",
         "x": [
          1,
          2,
          3,
          4,
          5,
          6,
          7,
          8,
          9,
          10,
          11,
          12
         ],
         "xaxis": "x3",
         "y": [
          21.73941935483871,
          22.791214285714286,
          27.97574193548387,
          32.02113333333333,
          35.131354838709676,
          41.09413333333333,
          42.003290322580646,
          43.41632258064516,
          37.72626666666667,
          33.76070967741936,
          23.951733333333333,
          21.382516129032258
         ],
         "yaxis": "y3"
        },
        {
         "hovertemplate": "Estado=Baja California<br>Año=2023<br>Meses=%{x}<br>Temp_Superficial_MAX=%{y}<extra></extra>",
         "legendgroup": "Baja California",
         "line": {
          "color": "#A3A500",
          "dash": "solid"
         },
         "marker": {
          "symbol": "circle"
         },
         "mode": "lines",
         "name": "Baja California",
         "showlegend": false,
         "type": "scattergl",
         "x": [
          1,
          2,
          3,
          4,
          5,
          6,
          7,
          8,
          9,
          10
         ],
         "xaxis": "x4",
         "y": [
          18.892064516129032,
          19.50635714285714,
          22.822774193548387,
          30.348666666666666,
          32.2018064516129,
          35.33373333333333,
          42.843806451612906,
          40.879677419354834,
          36.14646666666667,
          33.93032258064516
         ],
         "yaxis": "y4"
        },
        {
         "hovertemplate": "Estado=Baja California Sur<br>Año=2020<br>Meses=%{x}<br>Temp_Superficial_MAX=%{y}<extra></extra>",
         "legendgroup": "Baja California Sur",
         "line": {
          "color": "#00BF7D",
          "dash": "solid"
         },
         "marker": {
          "symbol": "circle"
         },
         "mode": "lines",
         "name": "Baja California Sur",
         "showlegend": true,
         "type": "scattergl",
         "x": [
          1,
          2,
          3,
          4,
          5,
          6,
          7,
          8,
          9,
          10,
          11,
          12
         ],
         "xaxis": "x",
         "y": [
          27.860967741935482,
          29.197517241379312,
          31.362709677419357,
          36.70786666666667,
          42.32025806451613,
          45.02753333333333,
          46.66722580645161,
          44.85503225806451,
          43.84193333333333,
          42.20167741935484,
          37.249066666666664,
          30.83451612903226
         ],
         "yaxis": "y"
        },
        {
         "hovertemplate": "Estado=Baja California Sur<br>Año=2021<br>Meses=%{x}<br>Temp_Superficial_MAX=%{y}<extra></extra>",
         "legendgroup": "Baja California Sur",
         "line": {
          "color": "#00BF7D",
          "dash": "solid"
         },
         "marker": {
          "symbol": "circle"
         },
         "mode": "lines",
         "name": "Baja California Sur",
         "showlegend": false,
         "type": "scattergl",
         "x": [
          1,
          2,
          3,
          4,
          5,
          6,
          7,
          8,
          9,
          10,
          11,
          12
         ],
         "xaxis": "x2",
         "y": [
          29.49509677419355,
          32.07214285714286,
          34.610516129032256,
          39.3928,
          42.30193548387097,
          45.02233333333333,
          45.705290322580645,
          43.64535483870968,
          41.196200000000005,
          39.122258064516124,
          36.13413333333333,
          31.843935483870972
         ],
         "yaxis": "y2"
        },
        {
         "hovertemplate": "Estado=Baja California Sur<br>Año=2022<br>Meses=%{x}<br>Temp_Superficial_MAX=%{y}<extra></extra>",
         "legendgroup": "Baja California Sur",
         "line": {
          "color": "#00BF7D",
          "dash": "solid"
         },
         "marker": {
          "symbol": "circle"
         },
         "mode": "lines",
         "name": "Baja California Sur",
         "showlegend": false,
         "type": "scattergl",
         "x": [
          1,
          2,
          3,
          4,
          5,
          6,
          7,
          8,
          9,
          10,
          11,
          12
         ],
         "xaxis": "x3",
         "y": [
          29.886,
          31.502142857142857,
          36.12916129032258,
          39.701,
          42.150774193548386,
          44.887,
          45.74535483870967,
          43.25032258064516,
          38.379666666666665,
          37.365870967741934,
          32.77393333333333,
          30.738709677419354
         ],
         "yaxis": "y3"
        },
        {
         "hovertemplate": "Estado=Baja California Sur<br>Año=2023<br>Meses=%{x}<br>Temp_Superficial_MAX=%{y}<extra></extra>",
         "legendgroup": "Baja California Sur",
         "line": {
          "color": "#00BF7D",
          "dash": "solid"
         },
         "marker": {
          "symbol": "circle"
         },
         "mode": "lines",
         "name": "Baja California Sur",
         "showlegend": false,
         "type": "scattergl",
         "x": [
          1,
          2,
          3,
          4,
          5,
          6,
          7,
          8,
          9,
          10
         ],
         "xaxis": "x4",
         "y": [
          29.591741935483874,
          29.226,
          34.81916129032258,
          38.57286666666667,
          38.59729032258065,
          43.614000000000004,
          45.5898064516129,
          43.47541935483871,
          43.39253333333333,
          39.60341935483871
         ],
         "yaxis": "y4"
        },
        {
         "hovertemplate": "Estado=Campeche<br>Año=2020<br>Meses=%{x}<br>Temp_Superficial_MAX=%{y}<extra></extra>",
         "legendgroup": "Campeche",
         "line": {
          "color": "#00B0F6",
          "dash": "solid"
         },
         "marker": {
          "symbol": "circle"
         },
         "mode": "lines",
         "name": "Campeche",
         "showlegend": true,
         "type": "scattergl",
         "x": [
          1,
          2,
          3,
          4,
          5,
          6,
          7,
          8,
          9,
          10,
          11,
          12
         ],
         "xaxis": "x",
         "y": [
          30.339472140762464,
          32.91796238244514,
          35.94460410557185,
          39.79260606060606,
          35.511994134897364,
          29.520757575757578,
          29.868299120234603,
          30.21392961876833,
          30.0590303030303,
          28.698328445747798,
          27.835696969696972,
          26.61014662756598
         ],
         "yaxis": "y"
        },
        {
         "hovertemplate": "Estado=Campeche<br>Año=2021<br>Meses=%{x}<br>Temp_Superficial_MAX=%{y}<extra></extra>",
         "legendgroup": "Campeche",
         "line": {
          "color": "#00B0F6",
          "dash": "solid"
         },
         "marker": {
          "symbol": "circle"
         },
         "mode": "lines",
         "name": "Campeche",
         "showlegend": false,
         "type": "scattergl",
         "x": [
          1,
          2,
          3,
          4,
          5,
          6,
          7,
          8,
          9,
          10,
          11,
          12
         ],
         "xaxis": "x2",
         "y": [
          28.371818181818185,
          31.443181818181817,
          35.10387096774193,
          37.69945454545454,
          35.69618768328446,
          31.809757575757573,
          31.30390029325513,
          31.862228739002934,
          30.51527272727273,
          31.480586510263926,
          30.44751515151515,
          31.587947214076245
         ],
         "yaxis": "y2"
        },
        {
         "hovertemplate": "Estado=Campeche<br>Año=2022<br>Meses=%{x}<br>Temp_Superficial_MAX=%{y}<extra></extra>",
         "legendgroup": "Campeche",
         "line": {
          "color": "#00B0F6",
          "dash": "solid"
         },
         "marker": {
          "symbol": "circle"
         },
         "mode": "lines",
         "name": "Campeche",
         "showlegend": false,
         "type": "scattergl",
         "x": [
          1,
          2,
          3,
          4,
          5,
          6,
          7,
          8,
          9,
          10,
          11,
          12
         ],
         "xaxis": "x3",
         "y": [
          29.670117302052788,
          31.01974025974026,
          34.17090909090909,
          36.726181818181814,
          36.3849560117302,
          30.519151515151513,
          30.993431085043987,
          30.437390029325513,
          29.322757575757578,
          29.444633431085045,
          30.02887878787879,
          29.58524926686217
         ],
         "yaxis": "y3"
        },
        {
         "hovertemplate": "Estado=Campeche<br>Año=2023<br>Meses=%{x}<br>Temp_Superficial_MAX=%{y}<extra></extra>",
         "legendgroup": "Campeche",
         "line": {
          "color": "#00B0F6",
          "dash": "solid"
         },
         "marker": {
          "symbol": "circle"
         },
         "mode": "lines",
         "name": "Campeche",
         "showlegend": false,
         "type": "scattergl",
         "x": [
          1,
          2,
          3,
          4,
          5,
          6,
          7,
          8,
          9,
          10
         ],
         "xaxis": "x4",
         "y": [
          30.930234604105568,
          32.66214285714286,
          35.5958357771261,
          37.794090909090905,
          38.5833724340176,
          38.49012121212121,
          35.90982404692082,
          36.738680351906154,
          35.45693939393939,
          33.06492668621701
         ],
         "yaxis": "y4"
        },
        {
         "hovertemplate": "Estado=Chiapas<br>Año=2020<br>Meses=%{x}<br>Temp_Superficial_MAX=%{y}<extra></extra>",
         "legendgroup": "Chiapas",
         "line": {
          "color": "#E76BF3",
          "dash": "solid"
         },
         "marker": {
          "symbol": "circle"
         },
         "mode": "lines",
         "name": "Chiapas",
         "showlegend": true,
         "type": "scattergl",
         "x": [
          1,
          2,
          3,
          4,
          5,
          6,
          7,
          8,
          9,
          10,
          11,
          12
         ],
         "xaxis": "x",
         "y": [
          27.968901038819027,
          30.55771770894214,
          34.03140787315473,
          36.96050564971751,
          33.04896118097321,
          28.260700564971753,
          28.766607435757244,
          28.118745215965006,
          27.829084745762714,
          26.81032531437944,
          26.078564971751412,
          25.678944778567523
         ],
         "yaxis": "y"
        },
        {
         "hovertemplate": "Estado=Chiapas<br>Año=2021<br>Meses=%{x}<br>Temp_Superficial_MAX=%{y}<extra></extra>",
         "legendgroup": "Chiapas",
         "line": {
          "color": "#E76BF3",
          "dash": "solid"
         },
         "marker": {
          "symbol": "circle"
         },
         "mode": "lines",
         "name": "Chiapas",
         "showlegend": false,
         "type": "scattergl",
         "x": [
          1,
          2,
          3,
          4,
          5,
          6,
          7,
          8,
          9,
          10,
          11,
          12
         ],
         "xaxis": "x2",
         "y": [
          27.131582832148716,
          29.157466707021793,
          32.23177692728267,
          34.758324858757064,
          31.72949425915801,
          28.95382768361582,
          28.734584472389283,
          28.468816293056314,
          28.404251412429378,
          28.145751776927284,
          26.124618644067795,
          27.859404045926734
         ],
         "yaxis": "y2"
        },
        {
         "hovertemplate": "Estado=Chiapas<br>Año=2022<br>Meses=%{x}<br>Temp_Superficial_MAX=%{y}<extra></extra>",
         "legendgroup": "Chiapas",
         "line": {
          "color": "#E76BF3",
          "dash": "solid"
         },
         "marker": {
          "symbol": "circle"
         },
         "mode": "lines",
         "name": "Chiapas",
         "showlegend": false,
         "type": "scattergl",
         "x": [
          1,
          2,
          3,
          4,
          5,
          6,
          7,
          8,
          9,
          10,
          11,
          12
         ],
         "xaxis": "x3",
         "y": [
          27.298816293056312,
          28.957406174334142,
          32.2421897211591,
          34.600771186440674,
          32.99688080918535,
          28.20016384180791,
          29.13244669218152,
          28.739395844723894,
          27.62780790960452,
          27.222933296883543,
          27.06448870056497,
          26.45257791142701
         ],
         "yaxis": "y3"
        },
        {
         "hovertemplate": "Estado=Chiapas<br>Año=2023<br>Meses=%{x}<br>Temp_Superficial_MAX=%{y}<extra></extra>",
         "legendgroup": "Chiapas",
         "line": {
          "color": "#E76BF3",
          "dash": "solid"
         },
         "marker": {
          "symbol": "circle"
         },
         "mode": "lines",
         "name": "Chiapas",
         "showlegend": false,
         "type": "scattergl",
         "x": [
          1,
          2,
          3,
          4,
          5,
          6,
          7,
          8,
          9,
          10
         ],
         "xaxis": "x4",
         "y": [
          27.992463094587205,
          29.7128299031477,
          33.05177966101695,
          35.7200790960452,
          36.76585292509568,
          34.97461299435028,
          29.854718425369054,
          30.339917987971567,
          29.96214124293785,
          28.064696555494805
         ],
         "yaxis": "y4"
        },
        {
         "hovertemplate": "Estado=Chihuahua<br>Año=2020<br>Meses=%{x}<br>Temp_Superficial_MAX=%{y}<extra></extra>",
         "legendgroup": "Chihuahua",
         "line": {
          "color": "#F8766D",
          "dash": "solid"
         },
         "marker": {
          "symbol": "circle"
         },
         "mode": "lines",
         "name": "Chihuahua",
         "showlegend": true,
         "type": "scattergl",
         "x": [
          1,
          2,
          3,
          4,
          5,
          6,
          7,
          8,
          9,
          10,
          11,
          12
         ],
         "xaxis": "x",
         "y": [
          21.257072701011076,
          22.79154915079774,
          28.086673086181992,
          33.582482587064675,
          40.02137698603755,
          41.87424378109453,
          38.18628310062591,
          39.72068367838228,
          33.55355223880597,
          33.79044294655753,
          28.827701492537315,
          21.287520462205105
         ],
         "yaxis": "y"
        },
        {
         "hovertemplate": "Estado=Chihuahua<br>Año=2021<br>Meses=%{x}<br>Temp_Superficial_MAX=%{y}<extra></extra>",
         "legendgroup": "Chihuahua",
         "line": {
          "color": "#F8766D",
          "dash": "solid"
         },
         "marker": {
          "symbol": "circle"
         },
         "mode": "lines",
         "name": "Chihuahua",
         "showlegend": false,
         "type": "scattergl",
         "x": [
          1,
          2,
          3,
          4,
          5,
          6,
          7,
          8,
          9,
          10,
          11,
          12
         ],
         "xaxis": "x2",
         "y": [
          21.69777082330284,
          25.958192963752666,
          29.117862301396247,
          34.69842786069652,
          39.12155031295138,
          41.00938805970149,
          34.60937891189215,
          33.61383726528647,
          33.66985074626865,
          31.756422725084253,
          27.63597512437811,
          23.905743861338472
         ],
         "yaxis": "y2"
        },
        {
         "hovertemplate": "Estado=Chihuahua<br>Año=2022<br>Meses=%{x}<br>Temp_Superficial_MAX=%{y}<extra></extra>",
         "legendgroup": "Chihuahua",
         "line": {
          "color": "#F8766D",
          "dash": "solid"
         },
         "marker": {
          "symbol": "circle"
         },
         "mode": "lines",
         "name": "Chihuahua",
         "showlegend": false,
         "type": "scattergl",
         "x": [
          1,
          2,
          3,
          4,
          5,
          6,
          7,
          8,
          9,
          10,
          11,
          12
         ],
         "xaxis": "x3",
         "y": [
          22.60270582571016,
          24.17655117270789,
          29.866547905633123,
          36.71967661691542,
          41.31445835339432,
          40.63929850746269,
          37.940529610014444,
          33.30052479537795,
          31.560308457711443,
          28.556230139624457,
          23.61044776119403,
          22.29524795377949
         ],
         "yaxis": "y3"
        },
        {
         "hovertemplate": "Estado=Chihuahua<br>Año=2023<br>Meses=%{x}<br>Temp_Superficial_MAX=%{y}<extra></extra>",
         "legendgroup": "Chihuahua",
         "line": {
          "color": "#F8766D",
          "dash": "solid"
         },
         "marker": {
          "symbol": "circle"
         },
         "mode": "lines",
         "name": "Chihuahua",
         "showlegend": false,
         "type": "scattergl",
         "x": [
          1,
          2,
          3,
          4,
          5,
          6,
          7,
          8,
          9,
          10
         ],
         "xaxis": "x4",
         "y": [
          21.77651420317766,
          23.28743603411514,
          28.224992778045255,
          34.75470646766169,
          36.90965816080886,
          42.561467661691545,
          41.027717862301394,
          38.210577756379394,
          39.3741592039801,
          31.221805488685604
         ],
         "yaxis": "y4"
        },
        {
         "hovertemplate": "Estado=Ciudad de México<br>Año=2020<br>Meses=%{x}<br>Temp_Superficial_MAX=%{y}<extra></extra>",
         "legendgroup": "Ciudad de México",
         "line": {
          "color": "#A3A500",
          "dash": "solid"
         },
         "marker": {
          "symbol": "circle"
         },
         "mode": "lines",
         "name": "Ciudad de México",
         "showlegend": true,
         "type": "scattergl",
         "x": [
          1,
          2,
          3,
          4,
          5,
          6,
          7,
          8,
          9,
          10,
          11,
          12
         ],
         "xaxis": "x",
         "y": [
          24.26546370967742,
          28.924870689655172,
          33.42697580645161,
          35.22743749999999,
          33.934677419354834,
          30.657958333333333,
          27.249233870967743,
          24.31709677419355,
          23.435541666666666,
          25.168387096774193,
          26.020854166666666,
          24.857056451612905
         ],
         "yaxis": "y"
        },
        {
         "hovertemplate": "Estado=Ciudad de México<br>Año=2021<br>Meses=%{x}<br>Temp_Superficial_MAX=%{y}<extra></extra>",
         "legendgroup": "Ciudad de México",
         "line": {
          "color": "#A3A500",
          "dash": "solid"
         },
         "marker": {
          "symbol": "circle"
         },
         "mode": "lines",
         "name": "Ciudad de México",
         "showlegend": false,
         "type": "scattergl",
         "x": [
          1,
          2,
          3,
          4,
          5,
          6,
          7,
          8,
          9,
          10,
          11,
          12
         ],
         "xaxis": "x2",
         "y": [
          25.81671370967742,
          29.10529017857143,
          33.38409274193548,
          34.43697916666667,
          31.627661290322582,
          25.56066666666667,
          24.72909274193548,
          23.966209677419354,
          22.494500000000002,
          23.58131048387097,
          23.369500000000002,
          25.44
         ],
         "yaxis": "y2"
        },
        {
         "hovertemplate": "Estado=Ciudad de México<br>Año=2022<br>Meses=%{x}<br>Temp_Superficial_MAX=%{y}<extra></extra>",
         "legendgroup": "Ciudad de México",
         "line": {
          "color": "#A3A500",
          "dash": "solid"
         },
         "marker": {
          "symbol": "circle"
         },
         "mode": "lines",
         "name": "Ciudad de México",
         "showlegend": false,
         "type": "scattergl",
         "x": [
          1,
          2,
          3,
          4,
          5,
          6,
          7,
          8,
          9,
          10,
          11,
          12
         ],
         "xaxis": "x3",
         "y": [
          24.92570564516129,
          28.07738839285714,
          32.33697580645161,
          34.72122916666667,
          35.5503629032258,
          30.0338125,
          28.078205645161294,
          25.993689516129034,
          24.501416666666668,
          25.362459677419356,
          26.1463125,
          24.522842741935484
         ],
         "yaxis": "y3"
        },
        {
         "hovertemplate": "Estado=Ciudad de México<br>Año=2023<br>Meses=%{x}<br>Temp_Superficial_MAX=%{y}<extra></extra>",
         "legendgroup": "Ciudad de México",
         "line": {
          "color": "#A3A500",
          "dash": "solid"
         },
         "marker": {
          "symbol": "circle"
         },
         "mode": "lines",
         "name": "Ciudad de México",
         "showlegend": false,
         "type": "scattergl",
         "x": [
          1,
          2,
          3,
          4,
          5,
          6,
          7,
          8,
          9,
          10
         ],
         "xaxis": "x4",
         "y": [
          26.536875000000002,
          29.947031250000002,
          33.20352822580645,
          33.462354166666664,
          31.847923387096774,
          34.82729166666666,
          24.23772177419355,
          23.215,
          24.180666666666664,
          22.634294354838712
         ],
         "yaxis": "y4"
        },
        {
         "hovertemplate": "Estado=Coahuila<br>Año=2020<br>Meses=%{x}<br>Temp_Superficial_MAX=%{y}<extra></extra>",
         "legendgroup": "Coahuila",
         "line": {
          "color": "#00BF7D",
          "dash": "solid"
         },
         "marker": {
          "symbol": "circle"
         },
         "mode": "lines",
         "name": "Coahuila",
         "showlegend": true,
         "type": "scattergl",
         "x": [
          1,
          2,
          3,
          4,
          5,
          6,
          7,
          8,
          9,
          10,
          11,
          12
         ],
         "xaxis": "x",
         "y": [
          26.28823429541596,
          29.711624319419236,
          36.60413412563667,
          40.962429824561404,
          43.060398981324276,
          41.92186842105263,
          41.31921901528013,
          43.827198641765705,
          36.22042105263158,
          37.793200339558574,
          32.541333333333334,
          26.270008488964347
         ],
         "yaxis": "y"
        },
        {
         "hovertemplate": "Estado=Coahuila<br>Año=2021<br>Meses=%{x}<br>Temp_Superficial_MAX=%{y}<extra></extra>",
         "legendgroup": "Coahuila",
         "line": {
          "color": "#00BF7D",
          "dash": "solid"
         },
         "marker": {
          "symbol": "circle"
         },
         "mode": "lines",
         "name": "Coahuila",
         "showlegend": false,
         "type": "scattergl",
         "x": [
          1,
          2,
          3,
          4,
          5,
          6,
          7,
          8,
          9,
          10,
          11,
          12
         ],
         "xaxis": "x2",
         "y": [
          24.609804753820033,
          29.021475563909775,
          35.3261714770798,
          39.903999999999996,
          40.89935483870968,
          42.19726315789473,
          39.199499151103566,
          40.6255857385399,
          41.17485087719298,
          37.07780984719864,
          30.716763157894736,
          30.736460101867575
         ],
         "yaxis": "y2"
        },
        {
         "hovertemplate": "Estado=Coahuila<br>Año=2022<br>Meses=%{x}<br>Temp_Superficial_MAX=%{y}<extra></extra>",
         "legendgroup": "Coahuila",
         "line": {
          "color": "#00BF7D",
          "dash": "solid"
         },
         "marker": {
          "symbol": "circle"
         },
         "mode": "lines",
         "name": "Coahuila",
         "showlegend": false,
         "type": "scattergl",
         "x": [
          1,
          2,
          3,
          4,
          5,
          6,
          7,
          8,
          9,
          10,
          11,
          12
         ],
         "xaxis": "x3",
         "y": [
          25.98637521222411,
          28.886795112781954,
          36.03502546689304,
          41.91895614035088,
          45.49087436332768,
          45.51940350877193,
          45.440127334465195,
          39.87940577249576,
          36.331754385964906,
          33.8755687606112,
          28.234043859649123,
          27.655797962648556
         ],
         "yaxis": "y3"
        },
        {
         "hovertemplate": "Estado=Coahuila<br>Año=2023<br>Meses=%{x}<br>Temp_Superficial_MAX=%{y}<extra></extra>",
         "legendgroup": "Coahuila",
         "line": {
          "color": "#00BF7D",
          "dash": "solid"
         },
         "marker": {
          "symbol": "circle"
         },
         "mode": "lines",
         "name": "Coahuila",
         "showlegend": false,
         "type": "scattergl",
         "x": [
          1,
          2,
          3,
          4,
          5,
          6,
          7,
          8,
          9,
          10
         ],
         "xaxis": "x4",
         "y": [
          28.98581494057725,
          31.599295112781956,
          36.60146859083192,
          38.567482456140354,
          38.98491511035653,
          45.84705263157895,
          43.50009337860781,
          44.53061969439728,
          43.764210526315786,
          33.33216468590832
         ],
         "yaxis": "y4"
        },
        {
         "hovertemplate": "Estado=Colima<br>Año=2020<br>Meses=%{x}<br>Temp_Superficial_MAX=%{y}<extra></extra>",
         "legendgroup": "Colima",
         "line": {
          "color": "#00B0F6",
          "dash": "solid"
         },
         "marker": {
          "symbol": "circle"
         },
         "mode": "lines",
         "name": "Colima",
         "showlegend": true,
         "type": "scattergl",
         "x": [
          1,
          2,
          3,
          4,
          5,
          6,
          7,
          8,
          9,
          10,
          11,
          12
         ],
         "xaxis": "x",
         "y": [
          30.47609677419355,
          31.56568965517241,
          35.01883870967742,
          37.69063333333334,
          40.089677419354835,
          37.5869,
          33.16345161290322,
          31.1356129032258,
          31.604533333333336,
          31.97416129032258,
          32.770466666666664,
          30.34864516129032
         ],
         "yaxis": "y"
        },
        {
         "hovertemplate": "Estado=Colima<br>Año=2021<br>Meses=%{x}<br>Temp_Superficial_MAX=%{y}<extra></extra>",
         "legendgroup": "Colima",
         "line": {
          "color": "#00B0F6",
          "dash": "solid"
         },
         "marker": {
          "symbol": "circle"
         },
         "mode": "lines",
         "name": "Colima",
         "showlegend": false,
         "type": "scattergl",
         "x": [
          1,
          2,
          3,
          4,
          5,
          6,
          7,
          8,
          9,
          10,
          11,
          12
         ],
         "xaxis": "x2",
         "y": [
          30.95241935483871,
          32.91828571428571,
          36.71793548387097,
          39.19563333333333,
          39.39829032258064,
          33.80936666666666,
          32.08009677419355,
          31.505903225806453,
          30.932000000000002,
          31.200645161290325,
          31.99383333333333,
          31.560741935483872
         ],
         "yaxis": "y2"
        },
        {
         "hovertemplate": "Estado=Colima<br>Año=2022<br>Meses=%{x}<br>Temp_Superficial_MAX=%{y}<extra></extra>",
         "legendgroup": "Colima",
         "line": {
          "color": "#00B0F6",
          "dash": "solid"
         },
         "marker": {
          "symbol": "circle"
         },
         "mode": "lines",
         "name": "Colima",
         "showlegend": false,
         "type": "scattergl",
         "x": [
          1,
          2,
          3,
          4,
          5,
          6,
          7,
          8,
          9,
          10,
          11,
          12
         ],
         "xaxis": "x3",
         "y": [
          31.26461290322581,
          33.678607142857146,
          35.799354838709675,
          39.02403333333333,
          40.56448387096774,
          34.035333333333334,
          32.62358064516129,
          31.647870967741937,
          31.123366666666666,
          31.453580645161292,
          32.25483333333334,
          31.11483870967742
         ],
         "yaxis": "y3"
        },
        {
         "hovertemplate": "Estado=Colima<br>Año=2023<br>Meses=%{x}<br>Temp_Superficial_MAX=%{y}<extra></extra>",
         "legendgroup": "Colima",
         "line": {
          "color": "#00B0F6",
          "dash": "solid"
         },
         "marker": {
          "symbol": "circle"
         },
         "mode": "lines",
         "name": "Colima",
         "showlegend": false,
         "type": "scattergl",
         "x": [
          1,
          2,
          3,
          4,
          5,
          6,
          7,
          8,
          9,
          10
         ],
         "xaxis": "x4",
         "y": [
          32.078806451612905,
          34.42017857142857,
          36.33374193548387,
          38.64646666666667,
          39.52248387096774,
          40.0131,
          33.81064516129032,
          31.900806451612905,
          31.936566666666664,
          30.944129032258065
         ],
         "yaxis": "y4"
        },
        {
         "hovertemplate": "Estado=Durango<br>Año=2020<br>Meses=%{x}<br>Temp_Superficial_MAX=%{y}<extra></extra>",
         "legendgroup": "Durango",
         "line": {
          "color": "#E76BF3",
          "dash": "solid"
         },
         "marker": {
          "symbol": "circle"
         },
         "mode": "lines",
         "name": "Durango",
         "showlegend": true,
         "type": "scattergl",
         "x": [
          1,
          2,
          3,
          4,
          5,
          6,
          7,
          8,
          9,
          10,
          11,
          12
         ],
         "xaxis": "x",
         "y": [
          23.376815550041357,
          26.643519009725907,
          33.22808105872622,
          36.65362393162393,
          39.99232423490488,
          38.419444444444444,
          33.825434243176176,
          34.98164598842018,
          30.228752136752135,
          32.50092638544252,
          29.7804188034188,
          24.368271298593882
         ],
         "yaxis": "y"
        },
        {
         "hovertemplate": "Estado=Durango<br>Año=2021<br>Meses=%{x}<br>Temp_Superficial_MAX=%{y}<extra></extra>",
         "legendgroup": "Durango",
         "line": {
          "color": "#E76BF3",
          "dash": "solid"
         },
         "marker": {
          "symbol": "circle"
         },
         "mode": "lines",
         "name": "Durango",
         "showlegend": false,
         "type": "scattergl",
         "x": [
          1,
          2,
          3,
          4,
          5,
          6,
          7,
          8,
          9,
          10,
          11,
          12
         ],
         "xaxis": "x2",
         "y": [
          25.17290322580645,
          29.8729304029304,
          33.28963606286187,
          37.2641282051282,
          39.88844499586435,
          37.2627094017094,
          31.555616211745242,
          32.068337468982634,
          31.18340170940171,
          30.515053763440857,
          28.390128205128203,
          26.57779983457403
         ],
         "yaxis": "y2"
        },
        {
         "hovertemplate": "Estado=Durango<br>Año=2022<br>Meses=%{x}<br>Temp_Superficial_MAX=%{y}<extra></extra>",
         "legendgroup": "Durango",
         "line": {
          "color": "#E76BF3",
          "dash": "solid"
         },
         "marker": {
          "symbol": "circle"
         },
         "mode": "lines",
         "name": "Durango",
         "showlegend": false,
         "type": "scattergl",
         "x": [
          1,
          2,
          3,
          4,
          5,
          6,
          7,
          8,
          9,
          10,
          11,
          12
         ],
         "xaxis": "x3",
         "y": [
          25.45872622001654,
          27.305064102564103,
          32.64605459057072,
          37.89223931623931,
          41.581604631927206,
          38.481923076923074,
          35.86717121588089,
          32.480827129859385,
          30.605965811965813,
          29.964094292803967,
          27.657837606837607,
          26.328238213399505
         ],
         "yaxis": "y3"
        },
        {
         "hovertemplate": "Estado=Durango<br>Año=2023<br>Meses=%{x}<br>Temp_Superficial_MAX=%{y}<extra></extra>",
         "legendgroup": "Durango",
         "line": {
          "color": "#E76BF3",
          "dash": "solid"
         },
         "marker": {
          "symbol": "circle"
         },
         "mode": "lines",
         "name": "Durango",
         "showlegend": false,
         "type": "scattergl",
         "x": [
          1,
          2,
          3,
          4,
          5,
          6,
          7,
          8,
          9,
          10
         ],
         "xaxis": "x4",
         "y": [
          25.802613730355667,
          27.889441391941393,
          34.15430934656741,
          36.02064957264957,
          36.938478081058726,
          41.87123076923076,
          34.968767576509514,
          33.82562448304384,
          35.07476068376069,
          27.971439205955335
         ],
         "yaxis": "y4"
        },
        {
         "hovertemplate": "Estado=Guanajuato<br>Año=2020<br>Meses=%{x}<br>Temp_Superficial_MAX=%{y}<extra></extra>",
         "legendgroup": "Guanajuato",
         "line": {
          "color": "#F8766D",
          "dash": "solid"
         },
         "marker": {
          "symbol": "circle"
         },
         "mode": "lines",
         "name": "Guanajuato",
         "showlegend": true,
         "type": "scattergl",
         "x": [
          1,
          2,
          3,
          4,
          5,
          6,
          7,
          8,
          9,
          10,
          11,
          12
         ],
         "xaxis": "x",
         "y": [
          27.25749649368864,
          31.788680659670163,
          37.86523141654979,
          41.608659420289854,
          39.89321178120617,
          36.34647826086957,
          33.319249649368864,
          31.100967741935484,
          29.85355797101449,
          31.756598877980363,
          30.96055797101449,
          29.4825175315568
         ],
         "yaxis": "y"
        },
        {
         "hovertemplate": "Estado=Guanajuato<br>Año=2021<br>Meses=%{x}<br>Temp_Superficial_MAX=%{y}<extra></extra>",
         "legendgroup": "Guanajuato",
         "line": {
          "color": "#F8766D",
          "dash": "solid"
         },
         "marker": {
          "symbol": "circle"
         },
         "mode": "lines",
         "name": "Guanajuato",
         "showlegend": false,
         "type": "scattergl",
         "x": [
          1,
          2,
          3,
          4,
          5,
          6,
          7,
          8,
          9,
          10,
          11,
          12
         ],
         "xaxis": "x2",
         "y": [
          30.45852734922861,
          34.10054347826087,
          39.15805750350631,
          40.82034782608696,
          39.05067321178121,
          32.19760144927536,
          29.326185133239832,
          29.13818373071529,
          27.49290579710145,
          28.742131837307152,
          27.77115942028985,
          29.141542776998595
         ],
         "yaxis": "y2"
        },
        {
         "hovertemplate": "Estado=Guanajuato<br>Año=2022<br>Meses=%{x}<br>Temp_Superficial_MAX=%{y}<extra></extra>",
         "legendgroup": "Guanajuato",
         "line": {
          "color": "#F8766D",
          "dash": "solid"
         },
         "marker": {
          "symbol": "circle"
         },
         "mode": "lines",
         "name": "Guanajuato",
         "showlegend": false,
         "type": "scattergl",
         "x": [
          1,
          2,
          3,
          4,
          5,
          6,
          7,
          8,
          9,
          10,
          11,
          12
         ],
         "xaxis": "x3",
         "y": [
          28.99330294530154,
          32.650395962732915,
          37.250462833099576,
          40.76805797101449,
          42.930385694249644,
          36.391333333333336,
          33.510876577840115,
          31.43314866760168,
          29.629188405797102,
          31.134628330995795,
          31.345652173913045,
          28.931444600280503
         ],
         "yaxis": "y3"
        },
        {
         "hovertemplate": "Estado=Guanajuato<br>Año=2023<br>Meses=%{x}<br>Temp_Superficial_MAX=%{y}<extra></extra>",
         "legendgroup": "Guanajuato",
         "line": {
          "color": "#F8766D",
          "dash": "solid"
         },
         "marker": {
          "symbol": "circle"
         },
         "mode": "lines",
         "name": "Guanajuato",
         "showlegend": false,
         "type": "scattergl",
         "x": [
          1,
          2,
          3,
          4,
          5,
          6,
          7,
          8,
          9,
          10
         ],
         "xaxis": "x4",
         "y": [
          30.635042075736326,
          34.21301242236025,
          38.52031556802244,
          39.03743478260869,
          38.74056802244039,
          41.24074637681159,
          34.37932678821879,
          31.69563113604488,
          33.538376811594205,
          28.902531556802245
         ],
         "yaxis": "y4"
        },
        {
         "hovertemplate": "Estado=Guerrero<br>Año=2020<br>Meses=%{x}<br>Temp_Superficial_MAX=%{y}<extra></extra>",
         "legendgroup": "Guerrero",
         "line": {
          "color": "#A3A500",
          "dash": "solid"
         },
         "marker": {
          "symbol": "circle"
         },
         "mode": "lines",
         "name": "Guerrero",
         "showlegend": true,
         "type": "scattergl",
         "x": [
          1,
          2,
          3,
          4,
          5,
          6,
          7,
          8,
          9,
          10,
          11,
          12
         ],
         "xaxis": "x",
         "y": [
          34.60137793707686,
          38.35386973180077,
          42.33968936678614,
          44.09696296296296,
          42.80216646754281,
          37.04021810699588,
          32.20403823178017,
          29.98274790919952,
          28.81132510288066,
          29.841664675428117,
          32.952650205761316,
          34.02857825567503
         ],
         "yaxis": "y"
        },
        {
         "hovertemplate": "Estado=Guerrero<br>Año=2021<br>Meses=%{x}<br>Temp_Superficial_MAX=%{y}<extra></extra>",
         "legendgroup": "Guerrero",
         "line": {
          "color": "#A3A500",
          "dash": "solid"
         },
         "marker": {
          "symbol": "circle"
         },
         "mode": "lines",
         "name": "Guerrero",
         "showlegend": false,
         "type": "scattergl",
         "x": [
          1,
          2,
          3,
          4,
          5,
          6,
          7,
          8,
          9,
          10,
          11,
          12
         ],
         "xaxis": "x2",
         "y": [
          35.8516248506571,
          38.28430776014109,
          41.67986061330148,
          42.98513991769547,
          39.64227797690163,
          30.86241563786008,
          30.3141935483871,
          28.965240939864596,
          28.917263374485596,
          29.76216248506571,
          30.70320576131687,
          34.30353245718837
         ],
         "yaxis": "y2"
        },
        {
         "hovertemplate": "Estado=Guerrero<br>Año=2022<br>Meses=%{x}<br>Temp_Superficial_MAX=%{y}<extra></extra>",
         "legendgroup": "Guerrero",
         "line": {
          "color": "#A3A500",
          "dash": "solid"
         },
         "marker": {
          "symbol": "circle"
         },
         "mode": "lines",
         "name": "Guerrero",
         "showlegend": false,
         "type": "scattergl",
         "x": [
          1,
          2,
          3,
          4,
          5,
          6,
          7,
          8,
          9,
          10,
          11,
          12
         ],
         "xaxis": "x3",
         "y": [
          35.290911987256074,
          38.38897266313933,
          41.66204699322979,
          43.389,
          42.05224611708483,
          33.300152263374486,
          31.50388291517324,
          30.16935085623258,
          28.719444444444445,
          29.575671047391474,
          31.799666666666667,
          32.95493030665074
         ],
         "yaxis": "y3"
        },
        {
         "hovertemplate": "Estado=Guerrero<br>Año=2023<br>Meses=%{x}<br>Temp_Superficial_MAX=%{y}<extra></extra>",
         "legendgroup": "Guerrero",
         "line": {
          "color": "#A3A500",
          "dash": "solid"
         },
         "marker": {
          "symbol": "circle"
         },
         "mode": "lines",
         "name": "Guerrero",
         "showlegend": false,
         "type": "scattergl",
         "x": [
          1,
          2,
          3,
          4,
          5,
          6,
          7,
          8,
          9,
          10
         ],
         "xaxis": "x4",
         "y": [
          36.35973317403425,
          39.1767151675485,
          41.80079649542015,
          42.56366666666666,
          40.74297491039427,
          41.62181069958848,
          31.058920748705695,
          30.357622461170852,
          30.834403292181072,
          28.880394265232976
         ],
         "yaxis": "y4"
        },
        {
         "hovertemplate": "Estado=Hidalgo<br>Año=2020<br>Meses=%{x}<br>Temp_Superficial_MAX=%{y}<extra></extra>",
         "legendgroup": "Hidalgo",
         "line": {
          "color": "#00BF7D",
          "dash": "solid"
         },
         "marker": {
          "symbol": "circle"
         },
         "mode": "lines",
         "name": "Hidalgo",
         "showlegend": true,
         "type": "scattergl",
         "x": [
          1,
          2,
          3,
          4,
          5,
          6,
          7,
          8,
          9,
          10,
          11,
          12
         ],
         "xaxis": "x",
         "y": [
          26.180426267281106,
          29.478148604269297,
          35.298659754224275,
          39.346265873015874,
          36.18021505376344,
          32.40075793650794,
          32.02850614439324,
          29.782772657450074,
          26.478892857142856,
          27.24738095238095,
          26.88363888888889,
          26.55841013824885
         ],
         "yaxis": "y"
        },
        {
         "hovertemplate": "Estado=Hidalgo<br>Año=2021<br>Meses=%{x}<br>Temp_Superficial_MAX=%{y}<extra></extra>",
         "legendgroup": "Hidalgo",
         "line": {
          "color": "#00BF7D",
          "dash": "solid"
         },
         "marker": {
          "symbol": "circle"
         },
         "mode": "lines",
         "name": "Hidalgo",
         "showlegend": false,
         "type": "scattergl",
         "x": [
          1,
          2,
          3,
          4,
          5,
          6,
          7,
          8,
          9,
          10,
          11,
          12
         ],
         "xaxis": "x2",
         "y": [
          27.69756528417819,
          31.477117346938773,
          35.15715437788018,
          37.435900793650795,
          34.8997619047619,
          29.286702380952384,
          28.02880184331797,
          28.53772273425499,
          26.145285714285713,
          26.842499999999998,
          25.17297222222222,
          28.015633640553
         ],
         "yaxis": "y2"
        },
        {
         "hovertemplate": "Estado=Hidalgo<br>Año=2022<br>Meses=%{x}<br>Temp_Superficial_MAX=%{y}<extra></extra>",
         "legendgroup": "Hidalgo",
         "line": {
          "color": "#00BF7D",
          "dash": "solid"
         },
         "marker": {
          "symbol": "circle"
         },
         "mode": "lines",
         "name": "Hidalgo",
         "showlegend": false,
         "type": "scattergl",
         "x": [
          1,
          2,
          3,
          4,
          5,
          6,
          7,
          8,
          9,
          10,
          11,
          12
         ],
         "xaxis": "x3",
         "y": [
          26.18812980030722,
          28.740484693877548,
          35.29548003072196,
          38.10898809523809,
          38.92857142857143,
          33.37268650793651,
          31.950902457757294,
          31.16100998463902,
          27.298170634920634,
          27.265161290322578,
          27.972373015873018,
          25.94673579109063
         ],
         "yaxis": "y3"
        },
        {
         "hovertemplate": "Estado=Hidalgo<br>Año=2023<br>Meses=%{x}<br>Temp_Superficial_MAX=%{y}<extra></extra>",
         "legendgroup": "Hidalgo",
         "line": {
          "color": "#00BF7D",
          "dash": "solid"
         },
         "marker": {
          "symbol": "circle"
         },
         "mode": "lines",
         "name": "Hidalgo",
         "showlegend": false,
         "type": "scattergl",
         "x": [
          1,
          2,
          3,
          4,
          5,
          6,
          7,
          8,
          9,
          10
         ],
         "xaxis": "x4",
         "y": [
          29.080272657450077,
          32.18255527210884,
          36.26533026113671,
          35.93373412698413,
          35.83143241167435,
          38.455357142857146,
          31.2503955453149,
          29.876075268817207,
          32.35863888888889,
          27.24278801843318
         ],
         "yaxis": "y4"
        },
        {
         "hovertemplate": "Estado=Jalisco<br>Año=2020<br>Meses=%{x}<br>Temp_Superficial_MAX=%{y}<extra></extra>",
         "legendgroup": "Jalisco",
         "line": {
          "color": "#00B0F6",
          "dash": "solid"
         },
         "marker": {
          "symbol": "circle"
         },
         "mode": "lines",
         "name": "Jalisco",
         "showlegend": true,
         "type": "scattergl",
         "x": [
          1,
          2,
          3,
          4,
          5,
          6,
          7,
          8,
          9,
          10,
          11,
          12
         ],
         "xaxis": "x",
         "y": [
          27.965692903225804,
          31.20010482758621,
          37.49033032258065,
          40.41104266666667,
          41.63404129032258,
          38.412016,
          31.78049548387097,
          30.035251612903227,
          30.01712,
          32.07278193548387,
          32.496055999999996,
          29.227411612903225
         ],
         "yaxis": "y"
        },
        {
         "hovertemplate": "Estado=Jalisco<br>Año=2021<br>Meses=%{x}<br>Temp_Superficial_MAX=%{y}<extra></extra>",
         "legendgroup": "Jalisco",
         "line": {
          "color": "#00B0F6",
          "dash": "solid"
         },
         "marker": {
          "symbol": "circle"
         },
         "mode": "lines",
         "name": "Jalisco",
         "showlegend": false,
         "type": "scattergl",
         "x": [
          1,
          2,
          3,
          4,
          5,
          6,
          7,
          8,
          9,
          10,
          11,
          12
         ],
         "xaxis": "x2",
         "y": [
          30.669388387096774,
          34.096468571428574,
          39.24331870967742,
          41.07258933333333,
          41.35797677419355,
          34.290584,
          29.830224516129032,
          29.419236129032257,
          28.515274666666667,
          29.555083870967742,
          29.61561866666667,
          30.272350967741936
         ],
         "yaxis": "y2"
        },
        {
         "hovertemplate": "Estado=Jalisco<br>Año=2022<br>Meses=%{x}<br>Temp_Superficial_MAX=%{y}<extra></extra>",
         "legendgroup": "Jalisco",
         "line": {
          "color": "#00B0F6",
          "dash": "solid"
         },
         "marker": {
          "symbol": "circle"
         },
         "mode": "lines",
         "name": "Jalisco",
         "showlegend": false,
         "type": "scattergl",
         "x": [
          1,
          2,
          3,
          4,
          5,
          6,
          7,
          8,
          9,
          10,
          11,
          12
         ],
         "xaxis": "x3",
         "y": [
          30.275135483870965,
          33.423454285714286,
          37.27035612903226,
          41.384890666666664,
          43.14357419354839,
          35.06967733333334,
          31.23929548387097,
          29.689308387096776,
          29.747456000000003,
          29.96382193548387,
          31.490186666666666,
          29.980121290322582
         ],
         "yaxis": "y3"
        },
        {
         "hovertemplate": "Estado=Jalisco<br>Año=2023<br>Meses=%{x}<br>Temp_Superficial_MAX=%{y}<extra></extra>",
         "legendgroup": "Jalisco",
         "line": {
          "color": "#00B0F6",
          "dash": "solid"
         },
         "marker": {
          "symbol": "circle"
         },
         "mode": "lines",
         "name": "Jalisco",
         "showlegend": false,
         "type": "scattergl",
         "x": [
          1,
          2,
          3,
          4,
          5,
          6,
          7,
          8,
          9,
          10
         ],
         "xaxis": "x4",
         "y": [
          30.99655741935484,
          34.669154285714285,
          38.09356387096774,
          39.789128000000005,
          39.962036129032256,
          42.62705866666667,
          32.526449032258064,
          30.26130064516129,
          31.372074666666666,
          28.94436387096774
         ],
         "yaxis": "y4"
        },
        {
         "hovertemplate": "Estado=Michoacán<br>Año=2020<br>Meses=%{x}<br>Temp_Superficial_MAX=%{y}<extra></extra>",
         "legendgroup": "Michoacán",
         "line": {
          "color": "#E76BF3",
          "dash": "solid"
         },
         "marker": {
          "symbol": "circle"
         },
         "mode": "lines",
         "name": "Michoacán",
         "showlegend": true,
         "type": "scattergl",
         "x": [
          1,
          2,
          3,
          4,
          5,
          6,
          7,
          8,
          9,
          10,
          11,
          12
         ],
         "xaxis": "x",
         "y": [
          29.469974307736223,
          33.16881293866341,
          38.27819012275193,
          41.027377581120945,
          41.03079075078504,
          37.179117994100295,
          31.91165001427348,
          29.950202683414215,
          29.730769911504424,
          31.45411932629175,
          32.2828790560472,
          30.026896945475308
         ],
         "yaxis": "y"
        },
        {
         "hovertemplate": "Estado=Michoacán<br>Año=2021<br>Meses=%{x}<br>Temp_Superficial_MAX=%{y}<extra></extra>",
         "legendgroup": "Michoacán",
         "line": {
          "color": "#E76BF3",
          "dash": "solid"
         },
         "marker": {
          "symbol": "circle"
         },
         "mode": "lines",
         "name": "Michoacán",
         "showlegend": false,
         "type": "scattergl",
         "x": [
          1,
          2,
          3,
          4,
          5,
          6,
          7,
          8,
          9,
          10,
          11,
          12
         ],
         "xaxis": "x2",
         "y": [
          31.54424207821867,
          34.63044247787611,
          39.30679988581216,
          40.6306401179941,
          39.69560662289466,
          32.56455457227138,
          29.73861261775621,
          28.58664858692549,
          28.487961651917406,
          29.054196403083072,
          29.78654867256637,
          30.367579217813304
         ],
         "yaxis": "y2"
        },
        {
         "hovertemplate": "Estado=Michoacán<br>Año=2022<br>Meses=%{x}<br>Temp_Superficial_MAX=%{y}<extra></extra>",
         "legendgroup": "Michoacán",
         "line": {
          "color": "#E76BF3",
          "dash": "solid"
         },
         "marker": {
          "symbol": "circle"
         },
         "mode": "lines",
         "name": "Michoacán",
         "showlegend": false,
         "type": "scattergl",
         "x": [
          1,
          2,
          3,
          4,
          5,
          6,
          7,
          8,
          9,
          10,
          11,
          12
         ],
         "xaxis": "x3",
         "y": [
          30.6712389380531,
          33.97972503160556,
          37.720019982871825,
          41.11545722713864,
          42.50915786468741,
          34.21157522123894,
          30.797567799029405,
          29.69438481301741,
          29.967587020648967,
          30.9587838995147,
          32.03061061946903,
          30.499623180131316
         ],
         "yaxis": "y3"
        },
        {
         "hovertemplate": "Estado=Michoacán<br>Año=2023<br>Meses=%{x}<br>Temp_Superficial_MAX=%{y}<extra></extra>",
         "legendgroup": "Michoacán",
         "line": {
          "color": "#E76BF3",
          "dash": "solid"
         },
         "marker": {
          "symbol": "circle"
         },
         "mode": "lines",
         "name": "Michoacán",
         "showlegend": false,
         "type": "scattergl",
         "x": [
          1,
          2,
          3,
          4,
          5,
          6,
          7,
          8,
          9,
          10
         ],
         "xaxis": "x4",
         "y": [
          31.84816157579218,
          35.20114412136536,
          38.30029403368541,
          39.48525663716814,
          39.00504995717956,
          40.76528908554572,
          31.514119326291752,
          29.882380816443046,
          30.91955162241888,
          28.38266057664859
         ],
         "yaxis": "y4"
        },
        {
         "hovertemplate": "Estado=Morelos<br>Año=2020<br>Meses=%{x}<br>Temp_Superficial_MAX=%{y}<extra></extra>",
         "legendgroup": "Morelos",
         "line": {
          "color": "#F8766D",
          "dash": "solid"
         },
         "marker": {
          "symbol": "circle"
         },
         "mode": "lines",
         "name": "Morelos",
         "showlegend": true,
         "type": "scattergl",
         "x": [
          1,
          2,
          3,
          4,
          5,
          6,
          7,
          8,
          9,
          10,
          11,
          12
         ],
         "xaxis": "x",
         "y": [
          30.798641251221895,
          35.42850574712644,
          40.20632453567937,
          42.05771717171717,
          40.13139784946237,
          35.85795959595959,
          30.298866080156404,
          27.716246334310853,
          26.135191919191918,
          28.618387096774192,
          32.007444444444445,
          30.941251221896383
         ],
         "yaxis": "y"
        },
        {
         "hovertemplate": "Estado=Morelos<br>Año=2021<br>Meses=%{x}<br>Temp_Superficial_MAX=%{y}<extra></extra>",
         "legendgroup": "Morelos",
         "line": {
          "color": "#F8766D",
          "dash": "solid"
         },
         "marker": {
          "symbol": "circle"
         },
         "mode": "lines",
         "name": "Morelos",
         "showlegend": false,
         "type": "scattergl",
         "x": [
          1,
          2,
          3,
          4,
          5,
          6,
          7,
          8,
          9,
          10,
          11,
          12
         ],
         "xaxis": "x2",
         "y": [
          32.137331378299116,
          35.41188311688312,
          39.419589442815244,
          40.91108080808081,
          36.97979472140763,
          29.373444444444445,
          27.86531769305963,
          27.960342130987293,
          25.690868686868686,
          27.857947214076248,
          29.73209090909091,
          32.07815249266862
         ],
         "yaxis": "y2"
        },
        {
         "hovertemplate": "Estado=Morelos<br>Año=2022<br>Meses=%{x}<br>Temp_Superficial_MAX=%{y}<extra></extra>",
         "legendgroup": "Morelos",
         "line": {
          "color": "#F8766D",
          "dash": "solid"
         },
         "marker": {
          "symbol": "circle"
         },
         "mode": "lines",
         "name": "Morelos",
         "showlegend": false,
         "type": "scattergl",
         "x": [
          1,
          2,
          3,
          4,
          5,
          6,
          7,
          8,
          9,
          10,
          11,
          12
         ],
         "xaxis": "x3",
         "y": [
          32.01600195503421,
          34.97569264069264,
          38.97279569892473,
          41.09056565656565,
          41.53395894428152,
          34.54920202020202,
          32.90261974584555,
          29.691251221896383,
          27.259404040404043,
          29.085454545454542,
          31.51778787878788,
          30.306725317693058
         ],
         "yaxis": "y3"
        },
        {
         "hovertemplate": "Estado=Morelos<br>Año=2023<br>Meses=%{x}<br>Temp_Superficial_MAX=%{y}<extra></extra>",
         "legendgroup": "Morelos",
         "line": {
          "color": "#F8766D",
          "dash": "solid"
         },
         "marker": {
          "symbol": "circle"
         },
         "mode": "lines",
         "name": "Morelos",
         "showlegend": false,
         "type": "scattergl",
         "x": [
          1,
          2,
          3,
          4,
          5,
          6,
          7,
          8,
          9,
          10
         ],
         "xaxis": "x4",
         "y": [
          33.18481915933529,
          36.129675324675325,
          39.632297165200384,
          39.64311111111111,
          37.773763440860215,
          40.93107070707071,
          27.83993157380254,
          27.236148582600197,
          28.29690909090909,
          26.217966764418378
         ],
         "yaxis": "y4"
        },
        {
         "hovertemplate": "Estado=México<br>Año=2020<br>Meses=%{x}<br>Temp_Superficial_MAX=%{y}<extra></extra>",
         "legendgroup": "México",
         "line": {
          "color": "#A3A500",
          "dash": "solid"
         },
         "marker": {
          "symbol": "circle"
         },
         "mode": "lines",
         "name": "México",
         "showlegend": true,
         "type": "scattergl",
         "x": [
          1,
          2,
          3,
          4,
          5,
          6,
          7,
          8,
          9,
          10,
          11,
          12
         ],
         "xaxis": "x",
         "y": [
          26.18051870967742,
          30.77374344827586,
          35.570157419354835,
          37.682738666666665,
          36.3048,
          32.748826666666666,
          28.87784258064516,
          25.975930322580645,
          24.990445333333334,
          26.78432258064516,
          27.790605333333335,
          26.67616
         ],
         "yaxis": "y"
        },
        {
         "hovertemplate": "Estado=México<br>Año=2021<br>Meses=%{x}<br>Temp_Superficial_MAX=%{y}<extra></extra>",
         "legendgroup": "México",
         "line": {
          "color": "#A3A500",
          "dash": "solid"
         },
         "marker": {
          "symbol": "circle"
         },
         "mode": "lines",
         "name": "México",
         "showlegend": false,
         "type": "scattergl",
         "x": [
          1,
          2,
          3,
          4,
          5,
          6,
          7,
          8,
          9,
          10,
          11,
          12
         ],
         "xaxis": "x2",
         "y": [
          27.874010322580645,
          31.22108857142857,
          35.56010838709677,
          36.778479999999995,
          33.793566451612904,
          27.258552,
          26.29433806451613,
          25.61407741935484,
          24.1892,
          25.26099870967742,
          25.326346666666666,
          27.230214193548388
         ],
         "yaxis": "y2"
        },
        {
         "hovertemplate": "Estado=México<br>Año=2022<br>Meses=%{x}<br>Temp_Superficial_MAX=%{y}<extra></extra>",
         "legendgroup": "México",
         "line": {
          "color": "#A3A500",
          "dash": "solid"
         },
         "marker": {
          "symbol": "circle"
         },
         "mode": "lines",
         "name": "México",
         "showlegend": false,
         "type": "scattergl",
         "x": [
          1,
          2,
          3,
          4,
          5,
          6,
          7,
          8,
          9,
          10,
          11,
          12
         ],
         "xaxis": "x3",
         "y": [
          26.96824258064516,
          30.26107142857143,
          34.61356129032258,
          37.05932,
          37.83969548387097,
          31.764301333333336,
          29.696072258064515,
          27.53410322580645,
          26.059949333333332,
          26.971615483870966,
          27.882274666666667,
          26.323047741935483
         ],
         "yaxis": "y3"
        },
        {
         "hovertemplate": "Estado=México<br>Año=2023<br>Meses=%{x}<br>Temp_Superficial_MAX=%{y}<extra></extra>",
         "legendgroup": "México",
         "line": {
          "color": "#A3A500",
          "dash": "solid"
         },
         "marker": {
          "symbol": "circle"
         },
         "mode": "lines",
         "name": "México",
         "showlegend": false,
         "type": "scattergl",
         "x": [
          1,
          2,
          3,
          4,
          5,
          6,
          7,
          8,
          9,
          10
         ],
         "xaxis": "x4",
         "y": [
          28.561512258064518,
          32.05728,
          35.44203612903225,
          35.71891733333334,
          34.12124129032258,
          36.98970933333334,
          26.275974193548386,
          25.15148387096774,
          26.233402666666667,
          24.414423225806452
         ],
         "yaxis": "y4"
        },
        {
         "hovertemplate": "Estado=Nayarit<br>Año=2020<br>Meses=%{x}<br>Temp_Superficial_MAX=%{y}<extra></extra>",
         "legendgroup": "Nayarit",
         "line": {
          "color": "#00BF7D",
          "dash": "solid"
         },
         "marker": {
          "symbol": "circle"
         },
         "mode": "lines",
         "name": "Nayarit",
         "showlegend": true,
         "type": "scattergl",
         "x": [
          1,
          2,
          3,
          4,
          5,
          6,
          7,
          8,
          9,
          10,
          11,
          12
         ],
         "xaxis": "x",
         "y": [
          29.083725806451614,
          30.553844827586207,
          36.21020967741935,
          39.17156666666666,
          40.89277419354839,
          39.735216666666666,
          32.94877419354839,
          30.792548387096776,
          29.997883333333334,
          31.82838709677419,
          33.239666666666665,
          29.957241935483875
         ],
         "yaxis": "y"
        },
        {
         "hovertemplate": "Estado=Nayarit<br>Año=2021<br>Meses=%{x}<br>Temp_Superficial_MAX=%{y}<extra></extra>",
         "legendgroup": "Nayarit",
         "line": {
          "color": "#00BF7D",
          "dash": "solid"
         },
         "marker": {
          "symbol": "circle"
         },
         "mode": "lines",
         "name": "Nayarit",
         "showlegend": false,
         "type": "scattergl",
         "x": [
          1,
          2,
          3,
          4,
          5,
          6,
          7,
          8,
          9,
          10,
          11,
          12
         ],
         "xaxis": "x2",
         "y": [
          31.22448387096774,
          34.049839285714285,
          37.66729032258065,
          39.72246666666667,
          40.76572580645161,
          35.81203333333333,
          30.692612903225804,
          30.438000000000002,
          29.512566666666668,
          30.658741935483867,
          30.944816666666664,
          31.577935483870966
         ],
         "yaxis": "y2"
        },
        {
         "hovertemplate": "Estado=Nayarit<br>Año=2022<br>Meses=%{x}<br>Temp_Superficial_MAX=%{y}<extra></extra>",
         "legendgroup": "Nayarit",
         "line": {
          "color": "#00BF7D",
          "dash": "solid"
         },
         "marker": {
          "symbol": "circle"
         },
         "mode": "lines",
         "name": "Nayarit",
         "showlegend": false,
         "type": "scattergl",
         "x": [
          1,
          2,
          3,
          4,
          5,
          6,
          7,
          8,
          9,
          10,
          11,
          12
         ],
         "xaxis": "x3",
         "y": [
          32.113596774193546,
          34.451660714285715,
          37.27751612903226,
          39.782849999999996,
          41.19862903225807,
          35.7578,
          31.303,
          30.196838709677422,
          30.4661,
          30.22377419354839,
          30.846933333333332,
          31.188225806451616
         ],
         "yaxis": "y3"
        },
        {
         "hovertemplate": "Estado=Nayarit<br>Año=2023<br>Meses=%{x}<br>Temp_Superficial_MAX=%{y}<extra></extra>",
         "legendgroup": "Nayarit",
         "line": {
          "color": "#00BF7D",
          "dash": "solid"
         },
         "marker": {
          "symbol": "circle"
         },
         "mode": "lines",
         "name": "Nayarit",
         "showlegend": false,
         "type": "scattergl",
         "x": [
          1,
          2,
          3,
          4,
          5,
          6,
          7,
          8,
          9,
          10
         ],
         "xaxis": "x4",
         "y": [
          32.3731129032258,
          34.99985714285714,
          37.036112903225806,
          38.5461,
          38.96035483870968,
          40.656299999999995,
          32.90693548387097,
          30.983064516129033,
          31.251283333333333,
          29.936629032258065
         ],
         "yaxis": "y4"
        },
        {
         "hovertemplate": "Estado=Nuevo León<br>Año=2020<br>Meses=%{x}<br>Temp_Superficial_MAX=%{y}<extra></extra>",
         "legendgroup": "Nuevo León",
         "line": {
          "color": "#00B0F6",
          "dash": "solid"
         },
         "marker": {
          "symbol": "circle"
         },
         "mode": "lines",
         "name": "Nuevo León",
         "showlegend": true,
         "type": "scattergl",
         "x": [
          1,
          2,
          3,
          4,
          5,
          6,
          7,
          8,
          9,
          10,
          11,
          12
         ],
         "xaxis": "x",
         "y": [
          27.3426944971537,
          30.03528059499662,
          37.44772928526249,
          40.50015032679738,
          40.80428209993675,
          39.205588235294115,
          39.36516129032258,
          39.561511701454776,
          35.46524183006536,
          35.985762175838076,
          32.31158823529412,
          27.318912080961415
         ],
         "yaxis": "y"
        },
        {
         "hovertemplate": "Estado=Nuevo León<br>Año=2021<br>Meses=%{x}<br>Temp_Superficial_MAX=%{y}<extra></extra>",
         "legendgroup": "Nuevo León",
         "line": {
          "color": "#00B0F6",
          "dash": "solid"
         },
         "marker": {
          "symbol": "circle"
         },
         "mode": "lines",
         "name": "Nuevo León",
         "showlegend": false,
         "type": "scattergl",
         "x": [
          1,
          2,
          3,
          4,
          5,
          6,
          7,
          8,
          9,
          10,
          11,
          12
         ],
         "xaxis": "x2",
         "y": [
          27.540031625553446,
          29.981190476190477,
          36.2414358001265,
          39.59208496732026,
          39.509139784946235,
          39.082947712418296,
          36.00003795066414,
          38.682618595825424,
          38.65494117647059,
          35.4995192915876,
          29.718575163398693,
          31.25260594560405
         ],
         "yaxis": "y2"
        },
        {
         "hovertemplate": "Estado=Nuevo León<br>Año=2022<br>Meses=%{x}<br>Temp_Superficial_MAX=%{y}<extra></extra>",
         "legendgroup": "Nuevo León",
         "line": {
          "color": "#00B0F6",
          "dash": "solid"
         },
         "marker": {
          "symbol": "circle"
         },
         "mode": "lines",
         "name": "Nuevo León",
         "showlegend": false,
         "type": "scattergl",
         "x": [
          1,
          2,
          3,
          4,
          5,
          6,
          7,
          8,
          9,
          10,
          11,
          12
         ],
         "xaxis": "x3",
         "y": [
          25.333535736875394,
          28.209572829131652,
          35.55153067678685,
          40.82947058823529,
          43.95992409867173,
          42.798346405228756,
          43.42944339025933,
          40.253074003795064,
          34.60018300653595,
          33.563984819734344,
          28.140437908496732,
          27.69554712207464
         ],
         "yaxis": "y3"
        },
        {
         "hovertemplate": "Estado=Nuevo León<br>Año=2023<br>Meses=%{x}<br>Temp_Superficial_MAX=%{y}<extra></extra>",
         "legendgroup": "Nuevo León",
         "line": {
          "color": "#00B0F6",
          "dash": "solid"
         },
         "marker": {
          "symbol": "circle"
         },
         "mode": "lines",
         "name": "Nuevo León",
         "showlegend": false,
         "type": "scattergl",
         "x": [
          1,
          2,
          3,
          4,
          5,
          6,
          7,
          8,
          9,
          10
         ],
         "xaxis": "x4",
         "y": [
          29.643706514864007,
          31.982100840336138,
          37.17400379506641,
          36.69292810457517,
          37.648823529411764,
          44.40303267973856,
          42.789266287160025,
          42.8932321315623,
          43.047483660130716,
          34.057558507273875
         ],
         "yaxis": "y4"
        },
        {
         "hovertemplate": "Estado=Oaxaca<br>Año=2020<br>Meses=%{x}<br>Temp_Superficial_MAX=%{y}<extra></extra>",
         "legendgroup": "Oaxaca",
         "line": {
          "color": "#E76BF3",
          "dash": "solid"
         },
         "marker": {
          "symbol": "circle"
         },
         "mode": "lines",
         "name": "Oaxaca",
         "showlegend": true,
         "type": "scattergl",
         "x": [
          1,
          2,
          3,
          4,
          5,
          6,
          7,
          8,
          9,
          10,
          11,
          12
         ],
         "xaxis": "x",
         "y": [
          29.241308432371248,
          32.766745916515426,
          37.65853933220147,
          40.22224970760234,
          36.51708658743634,
          31.752181871345027,
          28.852991511035654,
          27.16963440860215,
          26.229469590643273,
          25.986490096208264,
          26.040857894736842,
          27.283919637804185
         ],
         "yaxis": "y"
        },
        {
         "hovertemplate": "Estado=Oaxaca<br>Año=2021<br>Meses=%{x}<br>Temp_Superficial_MAX=%{y}<extra></extra>",
         "legendgroup": "Oaxaca",
         "line": {
          "color": "#E76BF3",
          "dash": "solid"
         },
         "marker": {
          "symbol": "circle"
         },
         "mode": "lines",
         "name": "Oaxaca",
         "showlegend": false,
         "type": "scattergl",
         "x": [
          1,
          2,
          3,
          4,
          5,
          6,
          7,
          8,
          9,
          10,
          11,
          12
         ],
         "xaxis": "x2",
         "y": [
          28.663016411997738,
          32.72281954887218,
          36.97612563667233,
          38.55061812865497,
          34.73994793435201,
          27.787333918128652,
          27.567647990945105,
          26.849187889077534,
          26.837830409356727,
          26.98839558573854,
          26.072338596491228,
          29.458504244482175
         ],
         "yaxis": "y2"
        },
        {
         "hovertemplate": "Estado=Oaxaca<br>Año=2022<br>Meses=%{x}<br>Temp_Superficial_MAX=%{y}<extra></extra>",
         "legendgroup": "Oaxaca",
         "line": {
          "color": "#E76BF3",
          "dash": "solid"
         },
         "marker": {
          "symbol": "circle"
         },
         "mode": "lines",
         "name": "Oaxaca",
         "showlegend": false,
         "type": "scattergl",
         "x": [
          1,
          2,
          3,
          4,
          5,
          6,
          7,
          8,
          9,
          10,
          11,
          12
         ],
         "xaxis": "x3",
         "y": [
          29.3077311827957,
          31.808643483709275,
          36.74298754951896,
          39.30427543859649,
          38.598166383701184,
          29.638104093567254,
          29.419098471986416,
          28.54571194114318,
          25.81475438596491,
          26.71731182795699,
          27.765720467836257,
          27.622558007923033
         ],
         "yaxis": "y3"
        },
        {
         "hovertemplate": "Estado=Oaxaca<br>Año=2023<br>Meses=%{x}<br>Temp_Superficial_MAX=%{y}<extra></extra>",
         "legendgroup": "Oaxaca",
         "line": {
          "color": "#E76BF3",
          "dash": "solid"
         },
         "marker": {
          "symbol": "circle"
         },
         "mode": "lines",
         "name": "Oaxaca",
         "showlegend": false,
         "type": "scattergl",
         "x": [
          1,
          2,
          3,
          4,
          5,
          6,
          7,
          8,
          9,
          10
         ],
         "xaxis": "x4",
         "y": [
          30.64542614601019,
          33.206349624060145,
          37.73941029994341,
          39.22126900584795,
          38.87323316355405,
          35.50996315789474,
          27.21809337860781,
          28.027746462931525,
          28.49537894736842,
          27.27616298811545
         ],
         "yaxis": "y4"
        },
        {
         "hovertemplate": "Estado=Puebla<br>Año=2020<br>Meses=%{x}<br>Temp_Superficial_MAX=%{y}<extra></extra>",
         "legendgroup": "Puebla",
         "line": {
          "color": "#F8766D",
          "dash": "solid"
         },
         "marker": {
          "symbol": "circle"
         },
         "mode": "lines",
         "name": "Puebla",
         "showlegend": true,
         "type": "scattergl",
         "x": [
          1,
          2,
          3,
          4,
          5,
          6,
          7,
          8,
          9,
          10,
          11,
          12
         ],
         "xaxis": "x",
         "y": [
          26.943743124721273,
          30.524862545685682,
          35.938746841088154,
          38.47651766513057,
          36.442744165304,
          32.517377880184334,
          29.983187156236063,
          27.519765125613198,
          25.418468509984642,
          26.27719191318567,
          26.844907834101384,
          26.644522075219268
         ],
         "yaxis": "y"
        },
        {
         "hovertemplate": "Estado=Puebla<br>Año=2021<br>Meses=%{x}<br>Temp_Superficial_MAX=%{y}<extra></extra>",
         "legendgroup": "Puebla",
         "line": {
          "color": "#F8766D",
          "dash": "solid"
         },
         "marker": {
          "symbol": "circle"
         },
         "mode": "lines",
         "name": "Puebla",
         "showlegend": false,
         "type": "scattergl",
         "x": [
          1,
          2,
          3,
          4,
          5,
          6,
          7,
          8,
          9,
          10,
          11,
          12
         ],
         "xaxis": "x2",
         "y": [
          27.205840642188196,
          30.954409150757076,
          35.118085327783554,
          37.31802304147465,
          33.972002378474805,
          27.987663594470046,
          27.23045339675933,
          27.437716664189086,
          25.782652841781875,
          26.63955106288093,
          25.299877112135178,
          27.841956295525495
         ],
         "yaxis": "y2"
        },
        {
         "hovertemplate": "Estado=Puebla<br>Año=2022<br>Meses=%{x}<br>Temp_Superficial_MAX=%{y}<extra></extra>",
         "legendgroup": "Puebla",
         "line": {
          "color": "#F8766D",
          "dash": "solid"
         },
         "marker": {
          "symbol": "circle"
         },
         "mode": "lines",
         "name": "Puebla",
         "showlegend": false,
         "type": "scattergl",
         "x": [
          1,
          2,
          3,
          4,
          5,
          6,
          7,
          8,
          9,
          10,
          11,
          12
         ],
         "xaxis": "x3",
         "y": [
          26.898373717853424,
          29.236632653061225,
          34.622018730489074,
          37.648542242703535,
          38.45696744462613,
          32.14388786482335,
          31.344406124572618,
          29.2279232941876,
          25.980831029185868,
          27.071397353946782,
          28.191274961597543,
          26.341844804519102
         ],
         "yaxis": "y3"
        },
        {
         "hovertemplate": "Estado=Puebla<br>Año=2023<br>Meses=%{x}<br>Temp_Superficial_MAX=%{y}<extra></extra>",
         "legendgroup": "Puebla",
         "line": {
          "color": "#F8766D",
          "dash": "solid"
         },
         "marker": {
          "symbol": "circle"
         },
         "mode": "lines",
         "name": "Puebla",
         "showlegend": false,
         "type": "scattergl",
         "x": [
          1,
          2,
          3,
          4,
          5,
          6,
          7,
          8,
          9,
          10
         ],
         "xaxis": "x4",
         "y": [
          29.3049784450721,
          31.918681698485848,
          35.90838412368069,
          36.33685407066052,
          35.68826668648729,
          37.653399385560675,
          28.30983499331054,
          28.705729151181806,
          29.688026113671274,
          26.829053069719045
         ],
         "yaxis": "y4"
        },
        {
         "hovertemplate": "Estado=Querétaro<br>Año=2020<br>Meses=%{x}<br>Temp_Superficial_MAX=%{y}<extra></extra>",
         "legendgroup": "Querétaro",
         "line": {
          "color": "#A3A500",
          "dash": "solid"
         },
         "marker": {
          "symbol": "circle"
         },
         "mode": "lines",
         "name": "Querétaro",
         "showlegend": true,
         "type": "scattergl",
         "x": [
          1,
          2,
          3,
          4,
          5,
          6,
          7,
          8,
          9,
          10,
          11,
          12
         ],
         "xaxis": "x",
         "y": [
          26.75668458781362,
          30.79001915708812,
          37.03399641577061,
          41.635999999999996,
          38.20584229390681,
          34.81924074074074,
          33.68980286738351,
          31.98826164874552,
          28.80009259259259,
          30.091505376344088,
          29.327277777777777,
          28.68132616487455
         ],
         "yaxis": "y"
        },
        {
         "hovertemplate": "Estado=Querétaro<br>Año=2021<br>Meses=%{x}<br>Temp_Superficial_MAX=%{y}<extra></extra>",
         "legendgroup": "Querétaro",
         "line": {
          "color": "#A3A500",
          "dash": "solid"
         },
         "marker": {
          "symbol": "circle"
         },
         "mode": "lines",
         "name": "Querétaro",
         "showlegend": false,
         "type": "scattergl",
         "x": [
          1,
          2,
          3,
          4,
          5,
          6,
          7,
          8,
          9,
          10,
          11,
          12
         ],
         "xaxis": "x2",
         "y": [
          29.708996415770606,
          33.896190476190476,
          38.03173835125448,
          39.95490740740741,
          36.962759856630825,
          31.17962962962963,
          28.734229390681005,
          29.839462365591395,
          27.272444444444446,
          28.157921146953406,
          26.567759259259258,
          29.32716845878136
         ],
         "yaxis": "y2"
        },
        {
         "hovertemplate": "Estado=Querétaro<br>Año=2022<br>Meses=%{x}<br>Temp_Superficial_MAX=%{y}<extra></extra>",
         "legendgroup": "Querétaro",
         "line": {
          "color": "#A3A500",
          "dash": "solid"
         },
         "marker": {
          "symbol": "circle"
         },
         "mode": "lines",
         "name": "Querétaro",
         "showlegend": false,
         "type": "scattergl",
         "x": [
          1,
          2,
          3,
          4,
          5,
          6,
          7,
          8,
          9,
          10,
          11,
          12
         ],
         "xaxis": "x3",
         "y": [
          28.195017921146952,
          31.054980158730157,
          37.26358422939068,
          40.239629629629626,
          41.71229390681003,
          35.509462962962964,
          34.04021505376344,
          32.63810035842294,
          28.882648148148146,
          29.76639784946237,
          29.903537037037037,
          27.608888888888888
         ],
         "yaxis": "y3"
        },
        {
         "hovertemplate": "Estado=Querétaro<br>Año=2023<br>Meses=%{x}<br>Temp_Superficial_MAX=%{y}<extra></extra>",
         "legendgroup": "Querétaro",
         "line": {
          "color": "#A3A500",
          "dash": "solid"
         },
         "marker": {
          "symbol": "circle"
         },
         "mode": "lines",
         "name": "Querétaro",
         "showlegend": false,
         "type": "scattergl",
         "x": [
          1,
          2,
          3,
          4,
          5,
          6,
          7,
          8,
          9,
          10
         ],
         "xaxis": "x4",
         "y": [
          30.239211469534048,
          33.6715873015873,
          38.33897849462366,
          37.84533333333333,
          37.80672043010753,
          40.24666666666667,
          34.14584229390681,
          32.57397849462365,
          34.89774074074074,
          28.606577060931897
         ],
         "yaxis": "y4"
        },
        {
         "hovertemplate": "Estado=Quintana Roo<br>Año=2020<br>Meses=%{x}<br>Temp_Superficial_MAX=%{y}<extra></extra>",
         "legendgroup": "Quintana Roo",
         "line": {
          "color": "#00BF7D",
          "dash": "solid"
         },
         "marker": {
          "symbol": "circle"
         },
         "mode": "lines",
         "name": "Quintana Roo",
         "showlegend": true,
         "type": "scattergl",
         "x": [
          1,
          2,
          3,
          4,
          5,
          6,
          7,
          8,
          9,
          10,
          11,
          12
         ],
         "xaxis": "x",
         "y": [
          29.466070381231674,
          30.510877742946708,
          31.79434017595308,
          34.59345454545455,
          32.20926686217009,
          28.956818181818182,
          29.645307917888562,
          30.18348973607038,
          30.123909090909088,
          29.06524926686217,
          27.922363636363634,
          26.36439882697947
         ],
         "yaxis": "y"
        },
        {
         "hovertemplate": "Estado=Quintana Roo<br>Año=2021<br>Meses=%{x}<br>Temp_Superficial_MAX=%{y}<extra></extra>",
         "legendgroup": "Quintana Roo",
         "line": {
          "color": "#00BF7D",
          "dash": "solid"
         },
         "marker": {
          "symbol": "circle"
         },
         "mode": "lines",
         "name": "Quintana Roo",
         "showlegend": false,
         "type": "scattergl",
         "x": [
          1,
          2,
          3,
          4,
          5,
          6,
          7,
          8,
          9,
          10,
          11,
          12
         ],
         "xaxis": "x2",
         "y": [
          26.628885630498537,
          29.21262987012987,
          31.0358357771261,
          32.77281818181818,
          32.76906158357771,
          30.282363636363637,
          30.328093841642225,
          30.947126099706743,
          29.71512121212121,
          30.125043988269795,
          28.52018181818182,
          29.41768328445748
         ],
         "yaxis": "y2"
        },
        {
         "hovertemplate": "Estado=Quintana Roo<br>Año=2022<br>Meses=%{x}<br>Temp_Superficial_MAX=%{y}<extra></extra>",
         "legendgroup": "Quintana Roo",
         "line": {
          "color": "#00BF7D",
          "dash": "solid"
         },
         "marker": {
          "symbol": "circle"
         },
         "mode": "lines",
         "name": "Quintana Roo",
         "showlegend": false,
         "type": "scattergl",
         "x": [
          1,
          2,
          3,
          4,
          5,
          6,
          7,
          8,
          9,
          10,
          11,
          12
         ],
         "xaxis": "x3",
         "y": [
          28.16985337243402,
          28.803376623376625,
          31.233870967741936,
          32.28230303030303,
          32.90354838709678,
          29.562242424242427,
          31.013460410557187,
          30.155395894428153,
          29.327242424242424,
          29.980234604105572,
          29.885787878787877,
          29.58574780058651
         ],
         "yaxis": "y3"
        },
        {
         "hovertemplate": "Estado=Quintana Roo<br>Año=2023<br>Meses=%{x}<br>Temp_Superficial_MAX=%{y}<extra></extra>",
         "legendgroup": "Quintana Roo",
         "line": {
          "color": "#00BF7D",
          "dash": "solid"
         },
         "marker": {
          "symbol": "circle"
         },
         "mode": "lines",
         "name": "Quintana Roo",
         "showlegend": false,
         "type": "scattergl",
         "x": [
          1,
          2,
          3,
          4,
          5,
          6,
          7,
          8,
          9,
          10
         ],
         "xaxis": "x4",
         "y": [
          29.755249266862172,
          30.233246753246753,
          31.707683284457477,
          33.42615151515151,
          34.83090909090909,
          34.65818181818182,
          31.041114369501468,
          31.06589442815249,
          30.28060606060606,
          30.176363636363636
         ],
         "yaxis": "y4"
        },
        {
         "hovertemplate": "Estado=San Luis Potosí<br>Año=2020<br>Meses=%{x}<br>Temp_Superficial_MAX=%{y}<extra></extra>",
         "legendgroup": "San Luis Potosí",
         "line": {
          "color": "#00B0F6",
          "dash": "solid"
         },
         "marker": {
          "symbol": "circle"
         },
         "mode": "lines",
         "name": "San Luis Potosí",
         "showlegend": true,
         "type": "scattergl",
         "x": [
          1,
          2,
          3,
          4,
          5,
          6,
          7,
          8,
          9,
          10,
          11,
          12
         ],
         "xaxis": "x",
         "y": [
          27.201874304783093,
          31.054797859690844,
          38.76318131256952,
          43.22019540229885,
          39.78060066740824,
          36.79762643678161,
          36.77979977753059,
          35.00325361512792,
          32.33019540229885,
          33.069332591768635,
          31.796568965517242,
          29.080489432703004
         ],
         "yaxis": "y"
        },
        {
         "hovertemplate": "Estado=San Luis Potosí<br>Año=2021<br>Meses=%{x}<br>Temp_Superficial_MAX=%{y}<extra></extra>",
         "legendgroup": "San Luis Potosí",
         "line": {
          "color": "#00B0F6",
          "dash": "solid"
         },
         "marker": {
          "symbol": "circle"
         },
         "mode": "lines",
         "name": "San Luis Potosí",
         "showlegend": false,
         "type": "scattergl",
         "x": [
          1,
          2,
          3,
          4,
          5,
          6,
          7,
          8,
          9,
          10,
          11,
          12
         ],
         "xaxis": "x2",
         "y": [
          29.979460511679644,
          34.29119458128079,
          38.96821468298109,
          41.54440229885057,
          39.664199110122354,
          34.715448275862066,
          31.371551724137934,
          33.54508342602892,
          30.88514367816092,
          31.176073414905453,
          29.794793103448278,
          31.57402113459399
         ],
         "yaxis": "y2"
        },
        {
         "hovertemplate": "Estado=San Luis Potosí<br>Año=2022<br>Meses=%{x}<br>Temp_Superficial_MAX=%{y}<extra></extra>",
         "legendgroup": "San Luis Potosí",
         "line": {
          "color": "#00B0F6",
          "dash": "solid"
         },
         "marker": {
          "symbol": "circle"
         },
         "mode": "lines",
         "name": "San Luis Potosí",
         "showlegend": false,
         "type": "scattergl",
         "x": [
          1,
          2,
          3,
          4,
          5,
          6,
          7,
          8,
          9,
          10,
          11,
          12
         ],
         "xaxis": "x3",
         "y": [
          29.400889877641827,
          31.8521921182266,
          38.3227085650723,
          41.93060344827586,
          43.83449388209121,
          38.15964367816092,
          37.29623470522803,
          36.810122358175754,
          31.302827586206895,
          31.032397107897665,
          30.829971264367817,
          28.63647385984427
         ],
         "yaxis": "y3"
        },
        {
         "hovertemplate": "Estado=San Luis Potosí<br>Año=2023<br>Meses=%{x}<br>Temp_Superficial_MAX=%{y}<extra></extra>",
         "legendgroup": "San Luis Potosí",
         "line": {
          "color": "#00B0F6",
          "dash": "solid"
         },
         "marker": {
          "symbol": "circle"
         },
         "mode": "lines",
         "name": "San Luis Potosí",
         "showlegend": false,
         "type": "scattergl",
         "x": [
          1,
          2,
          3,
          4,
          5,
          6,
          7,
          8,
          9,
          10
         ],
         "xaxis": "x4",
         "y": [
          31.599065628476087,
          34.67754926108374,
          39.92950500556174,
          38.55354022988506,
          39.53209121245828,
          43.34479885057471,
          38.283581757508344,
          38.69917686318131,
          40.224488505747125,
          32.12615684093437
         ],
         "yaxis": "y4"
        },
        {
         "hovertemplate": "Estado=Sinaloa<br>Año=2020<br>Meses=%{x}<br>Temp_Superficial_MAX=%{y}<extra></extra>",
         "legendgroup": "Sinaloa",
         "line": {
          "color": "#E76BF3",
          "dash": "solid"
         },
         "marker": {
          "symbol": "circle"
         },
         "mode": "lines",
         "name": "Sinaloa",
         "showlegend": true,
         "type": "scattergl",
         "x": [
          1,
          2,
          3,
          4,
          5,
          6,
          7,
          8,
          9,
          10,
          11,
          12
         ],
         "xaxis": "x",
         "y": [
          28.37442652329749,
          29.12691570881226,
          33.809659498207886,
          36.98401851851852,
          40.439516129032256,
          41.06862962962963,
          36.43912186379928,
          34.83032258064516,
          33.686425925925924,
          35.81706093189964,
          34.77066666666666,
          29.78057347670251
         ],
         "yaxis": "y"
        },
        {
         "hovertemplate": "Estado=Sinaloa<br>Año=2021<br>Meses=%{x}<br>Temp_Superficial_MAX=%{y}<extra></extra>",
         "legendgroup": "Sinaloa",
         "line": {
          "color": "#E76BF3",
          "dash": "solid"
         },
         "marker": {
          "symbol": "circle"
         },
         "mode": "lines",
         "name": "Sinaloa",
         "showlegend": false,
         "type": "scattergl",
         "x": [
          1,
          2,
          3,
          4,
          5,
          6,
          7,
          8,
          9,
          10,
          11,
          12
         ],
         "xaxis": "x2",
         "y": [
          29.539516129032258,
          31.629007936507936,
          34.76331541218638,
          37.784333333333336,
          40.322598566308244,
          40.06012962962963,
          35.15878136200717,
          33.007347670250894,
          31.537111111111113,
          33.604354838709675,
          33.69555555555555,
          31.30931899641577
         ],
         "yaxis": "y2"
        },
        {
         "hovertemplate": "Estado=Sinaloa<br>Año=2022<br>Meses=%{x}<br>Temp_Superficial_MAX=%{y}<extra></extra>",
         "legendgroup": "Sinaloa",
         "line": {
          "color": "#E76BF3",
          "dash": "solid"
         },
         "marker": {
          "symbol": "circle"
         },
         "mode": "lines",
         "name": "Sinaloa",
         "showlegend": false,
         "type": "scattergl",
         "x": [
          1,
          2,
          3,
          4,
          5,
          6,
          7,
          8,
          9,
          10,
          11,
          12
         ],
         "xaxis": "x3",
         "y": [
          30.403870967741938,
          31.84952380952381,
          34.7086917562724,
          37.677055555555555,
          40.242222222222225,
          38.785629629629625,
          34.90818996415771,
          31.076039426523298,
          31.195740740740742,
          31.911111111111115,
          30.86105555555556,
          30.76010752688172
         ],
         "yaxis": "y3"
        },
        {
         "hovertemplate": "Estado=Sinaloa<br>Año=2023<br>Meses=%{x}<br>Temp_Superficial_MAX=%{y}<extra></extra>",
         "legendgroup": "Sinaloa",
         "line": {
          "color": "#E76BF3",
          "dash": "solid"
         },
         "marker": {
          "symbol": "circle"
         },
         "mode": "lines",
         "name": "Sinaloa",
         "showlegend": false,
         "type": "scattergl",
         "x": [
          1,
          2,
          3,
          4,
          5,
          6,
          7,
          8,
          9,
          10
         ],
         "xaxis": "x4",
         "y": [
          30.376326164874556,
          30.905079365079366,
          34.27324372759857,
          37.12562962962963,
          38.78858422939068,
          41.20027777777778,
          34.133584229390685,
          33.725465949820794,
          35.22207407407407,
          32.959211469534054
         ],
         "yaxis": "y4"
        },
        {
         "hovertemplate": "Estado=Sonora<br>Año=2020<br>Meses=%{x}<br>Temp_Superficial_MAX=%{y}<extra></extra>",
         "legendgroup": "Sonora",
         "line": {
          "color": "#F8766D",
          "dash": "solid"
         },
         "marker": {
          "symbol": "circle"
         },
         "mode": "lines",
         "name": "Sonora",
         "showlegend": true,
         "type": "scattergl",
         "x": [
          1,
          2,
          3,
          4,
          5,
          6,
          7,
          8,
          9,
          10,
          11,
          12
         ],
         "xaxis": "x",
         "y": [
          23.56051523297491,
          25.203989463601534,
          26.785990143369176,
          34.321416666666664,
          41.97739695340502,
          45.39863425925926,
          42.28698924731183,
          42.3056541218638,
          41.74587037037037,
          39.311362007168455,
          33.3079537037037,
          25.35833781362007
         ],
         "yaxis": "y"
        },
        {
         "hovertemplate": "Estado=Sonora<br>Año=2021<br>Meses=%{x}<br>Temp_Superficial_MAX=%{y}<extra></extra>",
         "legendgroup": "Sonora",
         "line": {
          "color": "#F8766D",
          "dash": "solid"
         },
         "marker": {
          "symbol": "circle"
         },
         "mode": "lines",
         "name": "Sonora",
         "showlegend": false,
         "type": "scattergl",
         "x": [
          1,
          2,
          3,
          4,
          5,
          6,
          7,
          8,
          9,
          10,
          11,
          12
         ],
         "xaxis": "x2",
         "y": [
          25.25272401433692,
          27.75900793650794,
          31.088839605734766,
          37.66065277777778,
          41.245636200716845,
          46.41063888888889,
          37.6811335125448,
          37.78075268817204,
          36.38221296296297,
          34.859986559139784,
          32.36808796296296,
          26.215098566308242
         ],
         "yaxis": "y2"
        },
        {
         "hovertemplate": "Estado=Sonora<br>Año=2022<br>Meses=%{x}<br>Temp_Superficial_MAX=%{y}<extra></extra>",
         "legendgroup": "Sonora",
         "line": {
          "color": "#F8766D",
          "dash": "solid"
         },
         "marker": {
          "symbol": "circle"
         },
         "mode": "lines",
         "name": "Sonora",
         "showlegend": false,
         "type": "scattergl",
         "x": [
          1,
          2,
          3,
          4,
          5,
          6,
          7,
          8,
          9,
          10,
          11,
          12
         ],
         "xaxis": "x3",
         "y": [
          25.54659946236559,
          27.509459325396826,
          32.68664426523297,
          38.935435185185185,
          42.230779569892476,
          43.89670370370371,
          39.39490143369176,
          34.61650537634409,
          34.37872222222222,
          32.23846774193548,
          27.045074074074073,
          24.77464605734767
         ],
         "yaxis": "y3"
        },
        {
         "hovertemplate": "Estado=Sonora<br>Año=2023<br>Meses=%{x}<br>Temp_Superficial_MAX=%{y}<extra></extra>",
         "legendgroup": "Sonora",
         "line": {
          "color": "#F8766D",
          "dash": "solid"
         },
         "marker": {
          "symbol": "circle"
         },
         "mode": "lines",
         "name": "Sonora",
         "showlegend": false,
         "type": "scattergl",
         "x": [
          1,
          2,
          3,
          4,
          5,
          6,
          7,
          8,
          9,
          10
         ],
         "xaxis": "x4",
         "y": [
          23.656308243727597,
          24.430064484126984,
          30.097065412186378,
          38.05821759259259,
          39.90662634408602,
          44.32552777777778,
          45.31617383512545,
          42.06826164874552,
          41.66378240740741,
          38.379793906810036
         ],
         "yaxis": "y4"
        },
        {
         "hovertemplate": "Estado=Tabasco<br>Año=2020<br>Meses=%{x}<br>Temp_Superficial_MAX=%{y}<extra></extra>",
         "legendgroup": "Tabasco",
         "line": {
          "color": "#A3A500",
          "dash": "solid"
         },
         "marker": {
          "symbol": "circle"
         },
         "mode": "lines",
         "name": "Tabasco",
         "showlegend": true,
         "type": "scattergl",
         "x": [
          1,
          2,
          3,
          4,
          5,
          6,
          7,
          8,
          9,
          10,
          11,
          12
         ],
         "xaxis": "x",
         "y": [
          28.321688804554082,
          30.055131845841785,
          34.1457495256167,
          41.38627450980392,
          38.25254269449715,
          31.162901960784314,
          31.388500948766605,
          31.00032258064516,
          30.70650980392157,
          29.35796963946869,
          28.32256862745098,
          27.03715370018975
         ],
         "yaxis": "y"
        },
        {
         "hovertemplate": "Estado=Tabasco<br>Año=2021<br>Meses=%{x}<br>Temp_Superficial_MAX=%{y}<extra></extra>",
         "legendgroup": "Tabasco",
         "line": {
          "color": "#A3A500",
          "dash": "solid"
         },
         "marker": {
          "symbol": "circle"
         },
         "mode": "lines",
         "name": "Tabasco",
         "showlegend": false,
         "type": "scattergl",
         "x": [
          1,
          2,
          3,
          4,
          5,
          6,
          7,
          8,
          9,
          10,
          11,
          12
         ],
         "xaxis": "x2",
         "y": [
          27.466774193548385,
          28.874390756302518,
          32.69550284629981,
          38.63117647058824,
          37.317210626185954,
          33.207941176470584,
          31.4877229601518,
          32.05468690702087,
          31.604235294117647,
          30.977153700189753,
          28.544078431372547,
          29.371745730550284
         ],
         "yaxis": "y2"
        },
        {
         "hovertemplate": "Estado=Tabasco<br>Año=2022<br>Meses=%{x}<br>Temp_Superficial_MAX=%{y}<extra></extra>",
         "legendgroup": "Tabasco",
         "line": {
          "color": "#A3A500",
          "dash": "solid"
         },
         "marker": {
          "symbol": "circle"
         },
         "mode": "lines",
         "name": "Tabasco",
         "showlegend": false,
         "type": "scattergl",
         "x": [
          1,
          2,
          3,
          4,
          5,
          6,
          7,
          8,
          9,
          10,
          11,
          12
         ],
         "xaxis": "x3",
         "y": [
          27.622637571157494,
          28.125126050420167,
          31.360872865275145,
          36.381137254901965,
          39.23098671726755,
          31.901666666666667,
          32.12070208728653,
          32.212618595825425,
          30.394588235294115,
          29.84776091081594,
          29.386117647058825,
          27.966394686907023
         ],
         "yaxis": "y3"
        },
        {
         "hovertemplate": "Estado=Tabasco<br>Año=2023<br>Meses=%{x}<br>Temp_Superficial_MAX=%{y}<extra></extra>",
         "legendgroup": "Tabasco",
         "line": {
          "color": "#A3A500",
          "dash": "solid"
         },
         "marker": {
          "symbol": "circle"
         },
         "mode": "lines",
         "name": "Tabasco",
         "showlegend": false,
         "type": "scattergl",
         "x": [
          1,
          2,
          3,
          4,
          5,
          6,
          7,
          8,
          9,
          10
         ],
         "xaxis": "x4",
         "y": [
          28.315464895635674,
          28.78552521008403,
          32.23557874762809,
          36.1124705882353,
          40.825806451612905,
          41.345431372549015,
          36.500151802656546,
          37.509487666034154,
          36.9155294117647,
          33.69339658444022
         ],
         "yaxis": "y4"
        },
        {
         "hovertemplate": "Estado=Tamaulipas<br>Año=2020<br>Meses=%{x}<br>Temp_Superficial_MAX=%{y}<extra></extra>",
         "legendgroup": "Tamaulipas",
         "line": {
          "color": "#00BF7D",
          "dash": "solid"
         },
         "marker": {
          "symbol": "circle"
         },
         "mode": "lines",
         "name": "Tamaulipas",
         "showlegend": true,
         "type": "scattergl",
         "x": [
          1,
          2,
          3,
          4,
          5,
          6,
          7,
          8,
          9,
          10,
          11,
          12
         ],
         "xaxis": "x",
         "y": [
          28.277966991747935,
          31.239486768243786,
          38.15825206301575,
          41.34878294573643,
          38.86840210052513,
          37.25601550387597,
          38.10093023255814,
          37.58857464366091,
          34.774,
          35.100270067516874,
          32.940976744186045,
          28.67369092273068
         ],
         "yaxis": "y"
        },
        {
         "hovertemplate": "Estado=Tamaulipas<br>Año=2021<br>Meses=%{x}<br>Temp_Superficial_MAX=%{y}<extra></extra>",
         "legendgroup": "Tamaulipas",
         "line": {
          "color": "#00BF7D",
          "dash": "solid"
         },
         "marker": {
          "symbol": "circle"
         },
         "mode": "lines",
         "name": "Tamaulipas",
         "showlegend": false,
         "type": "scattergl",
         "x": [
          1,
          2,
          3,
          4,
          5,
          6,
          7,
          8,
          9,
          10,
          11,
          12
         ],
         "xaxis": "x2",
         "y": [
          29.265056264066015,
          30.958837209302327,
          36.922453113278316,
          39.91102325581395,
          39.05880720180045,
          36.51061240310078,
          33.443683420855216,
          36.672085521380346,
          36.38888372093023,
          33.42126031507877,
          29.91550387596899,
          31.42369092273068
         ],
         "yaxis": "y2"
        },
        {
         "hovertemplate": "Estado=Tamaulipas<br>Año=2022<br>Meses=%{x}<br>Temp_Superficial_MAX=%{y}<extra></extra>",
         "legendgroup": "Tamaulipas",
         "line": {
          "color": "#00BF7D",
          "dash": "solid"
         },
         "marker": {
          "symbol": "circle"
         },
         "mode": "lines",
         "name": "Tamaulipas",
         "showlegend": false,
         "type": "scattergl",
         "x": [
          1,
          2,
          3,
          4,
          5,
          6,
          7,
          8,
          9,
          10,
          11,
          12
         ],
         "xaxis": "x3",
         "y": [
          27.023945986496624,
          28.849186046511626,
          36.28879969992498,
          40.835302325581395,
          42.2506976744186,
          40.811736434108525,
          40.696301575393846,
          39.216714178544635,
          34.64333333333334,
          33.68825956489122,
          29.134720930232557,
          27.93646661665416
         ],
         "yaxis": "y3"
        },
        {
         "hovertemplate": "Estado=Tamaulipas<br>Año=2023<br>Meses=%{x}<br>Temp_Superficial_MAX=%{y}<extra></extra>",
         "legendgroup": "Tamaulipas",
         "line": {
          "color": "#00BF7D",
          "dash": "solid"
         },
         "marker": {
          "symbol": "circle"
         },
         "mode": "lines",
         "name": "Tamaulipas",
         "showlegend": false,
         "type": "scattergl",
         "x": [
          1,
          2,
          3,
          4,
          5,
          6,
          7,
          8,
          9,
          10
         ],
         "xaxis": "x4",
         "y": [
          31.1268192048012,
          32.49455980066445,
          37.73528132033008,
          37.31705426356589,
          38.441162790697675,
          43.92542635658915,
          40.6594223555889,
          41.168244561140284,
          42.87538759689922,
          35.26606901725431
         ],
         "yaxis": "y4"
        },
        {
         "hovertemplate": "Estado=Tlaxcala<br>Año=2020<br>Meses=%{x}<br>Temp_Superficial_MAX=%{y}<extra></extra>",
         "legendgroup": "Tlaxcala",
         "line": {
          "color": "#00B0F6",
          "dash": "solid"
         },
         "marker": {
          "symbol": "circle"
         },
         "mode": "lines",
         "name": "Tlaxcala",
         "showlegend": true,
         "type": "scattergl",
         "x": [
          1,
          2,
          3,
          4,
          5,
          6,
          7,
          8,
          9,
          10,
          11,
          12
         ],
         "xaxis": "x",
         "y": [
          24.47824193548387,
          28.95853448275862,
          34.6626935483871,
          36.40585,
          34.726129032258065,
          30.39885,
          27.96133870967742,
          24.87024193548387,
          23.079533333333334,
          24.11116129032258,
          23.807683333333333,
          24.262564516129032
         ],
         "yaxis": "y"
        },
        {
         "hovertemplate": "Estado=Tlaxcala<br>Año=2021<br>Meses=%{x}<br>Temp_Superficial_MAX=%{y}<extra></extra>",
         "legendgroup": "Tlaxcala",
         "line": {
          "color": "#00B0F6",
          "dash": "solid"
         },
         "marker": {
          "symbol": "circle"
         },
         "mode": "lines",
         "name": "Tlaxcala",
         "showlegend": false,
         "type": "scattergl",
         "x": [
          1,
          2,
          3,
          4,
          5,
          6,
          7,
          8,
          9,
          10,
          11,
          12
         ],
         "xaxis": "x2",
         "y": [
          24.589145161290322,
          28.77644642857143,
          33.79182258064516,
          35.34963333333333,
          31.57941935483871,
          24.953233333333333,
          24.740725806451614,
          24.83475806451613,
          23.327783333333336,
          24.026258064516128,
          22.493833333333335,
          24.29648387096774
         ],
         "yaxis": "y2"
        },
        {
         "hovertemplate": "Estado=Tlaxcala<br>Año=2022<br>Meses=%{x}<br>Temp_Superficial_MAX=%{y}<extra></extra>",
         "legendgroup": "Tlaxcala",
         "line": {
          "color": "#00B0F6",
          "dash": "solid"
         },
         "marker": {
          "symbol": "circle"
         },
         "mode": "lines",
         "name": "Tlaxcala",
         "showlegend": false,
         "type": "scattergl",
         "x": [
          1,
          2,
          3,
          4,
          5,
          6,
          7,
          8,
          9,
          10,
          11,
          12
         ],
         "xaxis": "x3",
         "y": [
          24.08433870967742,
          27.222928571428568,
          32.38525806451613,
          35.85535,
          37.088661290322584,
          30.478466666666666,
          29.782951612903226,
          27.12182258064516,
          23.86385,
          24.933596774193546,
          25.833266666666667,
          24.079435483870967
         ],
         "yaxis": "y3"
        },
        {
         "hovertemplate": "Estado=Tlaxcala<br>Año=2023<br>Meses=%{x}<br>Temp_Superficial_MAX=%{y}<extra></extra>",
         "legendgroup": "Tlaxcala",
         "line": {
          "color": "#00B0F6",
          "dash": "solid"
         },
         "marker": {
          "symbol": "circle"
         },
         "mode": "lines",
         "name": "Tlaxcala",
         "showlegend": false,
         "type": "scattergl",
         "x": [
          1,
          2,
          3,
          4,
          5,
          6,
          7,
          8,
          9,
          10
         ],
         "xaxis": "x4",
         "y": [
          26.8141935483871,
          30.188035714285714,
          34.04396774193548,
          34.20343333333334,
          33.39059677419355,
          35.17863333333333,
          24.916,
          25.117903225806455,
          25.58655,
          23.650790322580647
         ],
         "yaxis": "y4"
        },
        {
         "hovertemplate": "Estado=Veracruz<br>Año=2020<br>Meses=%{x}<br>Temp_Superficial_MAX=%{y}<extra></extra>",
         "legendgroup": "Veracruz",
         "line": {
          "color": "#E76BF3",
          "dash": "solid"
         },
         "marker": {
          "symbol": "circle"
         },
         "mode": "lines",
         "name": "Veracruz",
         "showlegend": true,
         "type": "scattergl",
         "x": [
          1,
          2,
          3,
          4,
          5,
          6,
          7,
          8,
          9,
          10,
          11,
          12
         ],
         "xaxis": "x",
         "y": [
          26.637653682288498,
          28.558038386467146,
          34.594188983566646,
          39.223839622641506,
          36.34823645769933,
          32.13358018867925,
          31.29031801582471,
          30.177416311625077,
          28.374514150943398,
          27.946002738892272,
          26.97120283018868,
          25.47217133292757
         ],
         "yaxis": "y"
        },
        {
         "hovertemplate": "Estado=Veracruz<br>Año=2021<br>Meses=%{x}<br>Temp_Superficial_MAX=%{y}<extra></extra>",
         "legendgroup": "Veracruz",
         "line": {
          "color": "#E76BF3",
          "dash": "solid"
         },
         "marker": {
          "symbol": "circle"
         },
         "mode": "lines",
         "name": "Veracruz",
         "showlegend": false,
         "type": "scattergl",
         "x": [
          1,
          2,
          3,
          4,
          5,
          6,
          7,
          8,
          9,
          10,
          11,
          12
         ],
         "xaxis": "x2",
         "y": [
          26.03365185636032,
          28.82135107816712,
          33.22498326232501,
          37.09753144654088,
          35.78040474741327,
          30.86775,
          29.537562385879486,
          29.601813755325622,
          28.774127358490567,
          28.538832927571516,
          26.11116823899371,
          27.648123858794886
         ],
         "yaxis": "y2"
        },
        {
         "hovertemplate": "Estado=Veracruz<br>Año=2022<br>Meses=%{x}<br>Temp_Superficial_MAX=%{y}<extra></extra>",
         "legendgroup": "Veracruz",
         "line": {
          "color": "#E76BF3",
          "dash": "solid"
         },
         "marker": {
          "symbol": "circle"
         },
         "mode": "lines",
         "name": "Veracruz",
         "showlegend": false,
         "type": "scattergl",
         "x": [
          1,
          2,
          3,
          4,
          5,
          6,
          7,
          8,
          9,
          10,
          11,
          12
         ],
         "xaxis": "x3",
         "y": [
          25.807270237370663,
          27.309787735849056,
          33.27122032866707,
          38.196751572327045,
          39.61467589774802,
          32.637691823899374,
          30.581066646378574,
          30.381466828971394,
          28.30002830188679,
          27.555369750456485,
          27.16426100628931,
          25.45774345709069
         ],
         "yaxis": "y3"
        },
        {
         "hovertemplate": "Estado=Veracruz<br>Año=2023<br>Meses=%{x}<br>Temp_Superficial_MAX=%{y}<extra></extra>",
         "legendgroup": "Veracruz",
         "line": {
          "color": "#E76BF3",
          "dash": "solid"
         },
         "marker": {
          "symbol": "circle"
         },
         "mode": "lines",
         "name": "Veracruz",
         "showlegend": false,
         "type": "scattergl",
         "x": [
          1,
          2,
          3,
          4,
          5,
          6,
          7,
          8,
          9,
          10
         ],
         "xaxis": "x4",
         "y": [
          28.016075776019477,
          29.90558456873315,
          34.66798995739501,
          36.227022012578615,
          37.81926810712112,
          38.61998742138365,
          32.46600273889227,
          32.61797626293366,
          34.673949685534595,
          31.17255629945222
         ],
         "yaxis": "y4"
        },
        {
         "hovertemplate": "Estado=Yucatán<br>Año=2020<br>Meses=%{x}<br>Temp_Superficial_MAX=%{y}<extra></extra>",
         "legendgroup": "Yucatán",
         "line": {
          "color": "#F8766D",
          "dash": "solid"
         },
         "marker": {
          "symbol": "circle"
         },
         "mode": "lines",
         "name": "Yucatán",
         "showlegend": true,
         "type": "scattergl",
         "x": [
          1,
          2,
          3,
          4,
          5,
          6,
          7,
          8,
          9,
          10,
          11,
          12
         ],
         "xaxis": "x",
         "y": [
          30.63436396835058,
          32.46067989590111,
          35.41350882531953,
          38.85952830188679,
          34.689430919050515,
          29.423305031446542,
          29.945511259890445,
          30.75026780279976,
          30.860669811320754,
          28.83632988435788,
          27.858877358490563,
          26.55625989044431
         ],
         "yaxis": "y"
        },
        {
         "hovertemplate": "Estado=Yucatán<br>Año=2021<br>Meses=%{x}<br>Temp_Superficial_MAX=%{y}<extra></extra>",
         "legendgroup": "Yucatán",
         "line": {
          "color": "#F8766D",
          "dash": "solid"
         },
         "marker": {
          "symbol": "circle"
         },
         "mode": "lines",
         "name": "Yucatán",
         "showlegend": false,
         "type": "scattergl",
         "x": [
          1,
          2,
          3,
          4,
          5,
          6,
          7,
          8,
          9,
          10,
          11,
          12
         ],
         "xaxis": "x2",
         "y": [
          27.834102251978088,
          31.051469002695416,
          33.90509129640901,
          36.46893396226415,
          34.98451308581863,
          31.286817610062894,
          31.360849056603772,
          31.568137553256236,
          30.5572893081761,
          32.11432136335971,
          30.436053459119496,
          31.67286975045648
         ],
         "yaxis": "y2"
        },
        {
         "hovertemplate": "Estado=Yucatán<br>Año=2022<br>Meses=%{x}<br>Temp_Superficial_MAX=%{y}<extra></extra>",
         "legendgroup": "Yucatán",
         "line": {
          "color": "#F8766D",
          "dash": "solid"
         },
         "marker": {
          "symbol": "circle"
         },
         "mode": "lines",
         "name": "Yucatán",
         "showlegend": false,
         "type": "scattergl",
         "x": [
          1,
          2,
          3,
          4,
          5,
          6,
          7,
          8,
          9,
          10,
          11,
          12
         ],
         "xaxis": "x3",
         "y": [
          29.312553256238587,
          30.39513140161725,
          33.63172245891661,
          35.91620125786164,
          35.83891965916008,
          32.14428616352201,
          31.93320754716981,
          30.151059038344492,
          29.49311320754717,
          30.27726719415703,
          31.51531132075472,
          30.79892574558734
         ],
         "yaxis": "y3"
        },
        {
         "hovertemplate": "Estado=Yucatán<br>Año=2023<br>Meses=%{x}<br>Temp_Superficial_MAX=%{y}<extra></extra>",
         "legendgroup": "Yucatán",
         "line": {
          "color": "#F8766D",
          "dash": "solid"
         },
         "marker": {
          "symbol": "circle"
         },
         "mode": "lines",
         "name": "Yucatán",
         "showlegend": false,
         "type": "scattergl",
         "x": [
          1,
          2,
          3,
          4,
          5,
          6,
          7,
          8,
          9,
          10
         ],
         "xaxis": "x4",
         "y": [
          30.975748630553863,
          32.109595687331534,
          34.89132988435788,
          37.01203144654088,
          37.75092818015825,
          37.95620440251572,
          34.109336579427875,
          34.4500365185636,
          34.301125786163524,
          32.79763846622033
         ],
         "yaxis": "y4"
        },
        {
         "hovertemplate": "Estado=Zacatecas<br>Año=2020<br>Meses=%{x}<br>Temp_Superficial_MAX=%{y}<extra></extra>",
         "legendgroup": "Zacatecas",
         "line": {
          "color": "#A3A500",
          "dash": "solid"
         },
         "marker": {
          "symbol": "circle"
         },
         "mode": "lines",
         "name": "Zacatecas",
         "showlegend": true,
         "type": "scattergl",
         "x": [
          1,
          2,
          3,
          4,
          5,
          6,
          7,
          8,
          9,
          10,
          11,
          12
         ],
         "xaxis": "x",
         "y": [
          25.24496662958843,
          29.158133174791917,
          36.639783092324805,
          39.49935632183908,
          40.5480255839822,
          38.775241379310344,
          34.0208787541713,
          33.331173526140155,
          32.24943103448276,
          33.0943381535039,
          31.269086206896553,
          26.998642936596216
         ],
         "yaxis": "y"
        },
        {
         "hovertemplate": "Estado=Zacatecas<br>Año=2021<br>Meses=%{x}<br>Temp_Superficial_MAX=%{y}<extra></extra>",
         "legendgroup": "Zacatecas",
         "line": {
          "color": "#A3A500",
          "dash": "solid"
         },
         "marker": {
          "symbol": "circle"
         },
         "mode": "lines",
         "name": "Zacatecas",
         "showlegend": false,
         "type": "scattergl",
         "x": [
          1,
          2,
          3,
          4,
          5,
          6,
          7,
          8,
          9,
          10,
          11,
          12
         ],
         "xaxis": "x2",
         "y": [
          28.049749721913237,
          32.555899014778326,
          37.49743604004449,
          39.315528735632185,
          40.9459232480534,
          35.14202298850575,
          31.098203559510566,
          31.886818687430477,
          29.48307471264368,
          30.470711902113457,
          28.794867816091955,
          28.227725250278084
         ],
         "yaxis": "y2"
        },
        {
         "hovertemplate": "Estado=Zacatecas<br>Año=2022<br>Meses=%{x}<br>Temp_Superficial_MAX=%{y}<extra></extra>",
         "legendgroup": "Zacatecas",
         "line": {
          "color": "#A3A500",
          "dash": "solid"
         },
         "marker": {
          "symbol": "circle"
         },
         "mode": "lines",
         "name": "Zacatecas",
         "showlegend": false,
         "type": "scattergl",
         "x": [
          1,
          2,
          3,
          4,
          5,
          6,
          7,
          8,
          9,
          10,
          11,
          12
         ],
         "xaxis": "x3",
         "y": [
          27.30359844271413,
          30.666477832512317,
          35.125867630700775,
          39.86167816091954,
          42.95797552836485,
          38.27801724137931,
          35.58083426028921,
          34.1120745272525,
          32.12445977011494,
          31.32567296996663,
          30.127298850574714,
          28.14987764182425
         ],
         "yaxis": "y3"
        },
        {
         "hovertemplate": "Estado=Zacatecas<br>Año=2023<br>Meses=%{x}<br>Temp_Superficial_MAX=%{y}<extra></extra>",
         "legendgroup": "Zacatecas",
         "line": {
          "color": "#A3A500",
          "dash": "solid"
         },
         "marker": {
          "symbol": "circle"
         },
         "mode": "lines",
         "name": "Zacatecas",
         "showlegend": false,
         "type": "scattergl",
         "x": [
          1,
          2,
          3,
          4,
          5,
          6,
          7,
          8,
          9,
          10
         ],
         "xaxis": "x4",
         "y": [
          28.50411568409344,
          32.50583128078818,
          36.9084872080089,
          37.71514367816092,
          38.021457174638485,
          43.077241379310344,
          36.84108453837597,
          34.90923248053393,
          35.90769540229885,
          30.348515016685205
         ],
         "yaxis": "y4"
        }
       ],
       "layout": {
        "annotations": [
         {
          "font": {},
          "showarrow": false,
          "text": "Año=2020",
          "x": 0.1175,
          "xanchor": "center",
          "xref": "paper",
          "y": 1,
          "yanchor": "bottom",
          "yref": "paper"
         },
         {
          "font": {},
          "showarrow": false,
          "text": "Año=2021",
          "x": 0.3725,
          "xanchor": "center",
          "xref": "paper",
          "y": 1,
          "yanchor": "bottom",
          "yref": "paper"
         },
         {
          "font": {},
          "showarrow": false,
          "text": "Año=2022",
          "x": 0.6275,
          "xanchor": "center",
          "xref": "paper",
          "y": 1,
          "yanchor": "bottom",
          "yref": "paper"
         },
         {
          "font": {},
          "showarrow": false,
          "text": "Año=2023",
          "x": 0.8824999999999998,
          "xanchor": "center",
          "xref": "paper",
          "y": 1,
          "yanchor": "bottom",
          "yref": "paper"
         }
        ],
        "height": 500,
        "legend": {
         "title": {
          "text": "Estado"
         },
         "tracegroupgap": 0
        },
        "margin": {
         "t": 60
        },
        "template": {
         "data": {
          "bar": [
           {
            "error_x": {
             "color": "rgb(51,51,51)"
            },
            "error_y": {
             "color": "rgb(51,51,51)"
            },
            "marker": {
             "line": {
              "color": "rgb(237,237,237)",
              "width": 0.5
             },
             "pattern": {
              "fillmode": "overlay",
              "size": 10,
              "solidity": 0.2
             }
            },
            "type": "bar"
           }
          ],
          "barpolar": [
           {
            "marker": {
             "line": {
              "color": "rgb(237,237,237)",
              "width": 0.5
             },
             "pattern": {
              "fillmode": "overlay",
              "size": 10,
              "solidity": 0.2
             }
            },
            "type": "barpolar"
           }
          ],
          "carpet": [
           {
            "aaxis": {
             "endlinecolor": "rgb(51,51,51)",
             "gridcolor": "white",
             "linecolor": "white",
             "minorgridcolor": "white",
             "startlinecolor": "rgb(51,51,51)"
            },
            "baxis": {
             "endlinecolor": "rgb(51,51,51)",
             "gridcolor": "white",
             "linecolor": "white",
             "minorgridcolor": "white",
             "startlinecolor": "rgb(51,51,51)"
            },
            "type": "carpet"
           }
          ],
          "choropleth": [
           {
            "colorbar": {
             "outlinewidth": 0,
             "tickcolor": "rgb(237,237,237)",
             "ticklen": 6,
             "ticks": "inside"
            },
            "type": "choropleth"
           }
          ],
          "contour": [
           {
            "colorbar": {
             "outlinewidth": 0,
             "tickcolor": "rgb(237,237,237)",
             "ticklen": 6,
             "ticks": "inside"
            },
            "colorscale": [
             [
              0,
              "rgb(20,44,66)"
             ],
             [
              1,
              "rgb(90,179,244)"
             ]
            ],
            "type": "contour"
           }
          ],
          "contourcarpet": [
           {
            "colorbar": {
             "outlinewidth": 0,
             "tickcolor": "rgb(237,237,237)",
             "ticklen": 6,
             "ticks": "inside"
            },
            "type": "contourcarpet"
           }
          ],
          "heatmap": [
           {
            "colorbar": {
             "outlinewidth": 0,
             "tickcolor": "rgb(237,237,237)",
             "ticklen": 6,
             "ticks": "inside"
            },
            "colorscale": [
             [
              0,
              "rgb(20,44,66)"
             ],
             [
              1,
              "rgb(90,179,244)"
             ]
            ],
            "type": "heatmap"
           }
          ],
          "heatmapgl": [
           {
            "colorbar": {
             "outlinewidth": 0,
             "tickcolor": "rgb(237,237,237)",
             "ticklen": 6,
             "ticks": "inside"
            },
            "colorscale": [
             [
              0,
              "rgb(20,44,66)"
             ],
             [
              1,
              "rgb(90,179,244)"
             ]
            ],
            "type": "heatmapgl"
           }
          ],
          "histogram": [
           {
            "marker": {
             "pattern": {
              "fillmode": "overlay",
              "size": 10,
              "solidity": 0.2
             }
            },
            "type": "histogram"
           }
          ],
          "histogram2d": [
           {
            "colorbar": {
             "outlinewidth": 0,
             "tickcolor": "rgb(237,237,237)",
             "ticklen": 6,
             "ticks": "inside"
            },
            "colorscale": [
             [
              0,
              "rgb(20,44,66)"
             ],
             [
              1,
              "rgb(90,179,244)"
             ]
            ],
            "type": "histogram2d"
           }
          ],
          "histogram2dcontour": [
           {
            "colorbar": {
             "outlinewidth": 0,
             "tickcolor": "rgb(237,237,237)",
             "ticklen": 6,
             "ticks": "inside"
            },
            "colorscale": [
             [
              0,
              "rgb(20,44,66)"
             ],
             [
              1,
              "rgb(90,179,244)"
             ]
            ],
            "type": "histogram2dcontour"
           }
          ],
          "mesh3d": [
           {
            "colorbar": {
             "outlinewidth": 0,
             "tickcolor": "rgb(237,237,237)",
             "ticklen": 6,
             "ticks": "inside"
            },
            "type": "mesh3d"
           }
          ],
          "parcoords": [
           {
            "line": {
             "colorbar": {
              "outlinewidth": 0,
              "tickcolor": "rgb(237,237,237)",
              "ticklen": 6,
              "ticks": "inside"
             }
            },
            "type": "parcoords"
           }
          ],
          "pie": [
           {
            "automargin": true,
            "type": "pie"
           }
          ],
          "scatter": [
           {
            "fillpattern": {
             "fillmode": "overlay",
             "size": 10,
             "solidity": 0.2
            },
            "type": "scatter"
           }
          ],
          "scatter3d": [
           {
            "line": {
             "colorbar": {
              "outlinewidth": 0,
              "tickcolor": "rgb(237,237,237)",
              "ticklen": 6,
              "ticks": "inside"
             }
            },
            "marker": {
             "colorbar": {
              "outlinewidth": 0,
              "tickcolor": "rgb(237,237,237)",
              "ticklen": 6,
              "ticks": "inside"
             }
            },
            "type": "scatter3d"
           }
          ],
          "scattercarpet": [
           {
            "marker": {
             "colorbar": {
              "outlinewidth": 0,
              "tickcolor": "rgb(237,237,237)",
              "ticklen": 6,
              "ticks": "inside"
             }
            },
            "type": "scattercarpet"
           }
          ],
          "scattergeo": [
           {
            "marker": {
             "colorbar": {
              "outlinewidth": 0,
              "tickcolor": "rgb(237,237,237)",
              "ticklen": 6,
              "ticks": "inside"
             }
            },
            "type": "scattergeo"
           }
          ],
          "scattergl": [
           {
            "marker": {
             "colorbar": {
              "outlinewidth": 0,
              "tickcolor": "rgb(237,237,237)",
              "ticklen": 6,
              "ticks": "inside"
             }
            },
            "type": "scattergl"
           }
          ],
          "scattermapbox": [
           {
            "marker": {
             "colorbar": {
              "outlinewidth": 0,
              "tickcolor": "rgb(237,237,237)",
              "ticklen": 6,
              "ticks": "inside"
             }
            },
            "type": "scattermapbox"
           }
          ],
          "scatterpolar": [
           {
            "marker": {
             "colorbar": {
              "outlinewidth": 0,
              "tickcolor": "rgb(237,237,237)",
              "ticklen": 6,
              "ticks": "inside"
             }
            },
            "type": "scatterpolar"
           }
          ],
          "scatterpolargl": [
           {
            "marker": {
             "colorbar": {
              "outlinewidth": 0,
              "tickcolor": "rgb(237,237,237)",
              "ticklen": 6,
              "ticks": "inside"
             }
            },
            "type": "scatterpolargl"
           }
          ],
          "scatterternary": [
           {
            "marker": {
             "colorbar": {
              "outlinewidth": 0,
              "tickcolor": "rgb(237,237,237)",
              "ticklen": 6,
              "ticks": "inside"
             }
            },
            "type": "scatterternary"
           }
          ],
          "surface": [
           {
            "colorbar": {
             "outlinewidth": 0,
             "tickcolor": "rgb(237,237,237)",
             "ticklen": 6,
             "ticks": "inside"
            },
            "colorscale": [
             [
              0,
              "rgb(20,44,66)"
             ],
             [
              1,
              "rgb(90,179,244)"
             ]
            ],
            "type": "surface"
           }
          ],
          "table": [
           {
            "cells": {
             "fill": {
              "color": "rgb(237,237,237)"
             },
             "line": {
              "color": "white"
             }
            },
            "header": {
             "fill": {
              "color": "rgb(217,217,217)"
             },
             "line": {
              "color": "white"
             }
            },
            "type": "table"
           }
          ]
         },
         "layout": {
          "annotationdefaults": {
           "arrowhead": 0,
           "arrowwidth": 1
          },
          "autotypenumbers": "strict",
          "coloraxis": {
           "colorbar": {
            "outlinewidth": 0,
            "tickcolor": "rgb(237,237,237)",
            "ticklen": 6,
            "ticks": "inside"
           }
          },
          "colorscale": {
           "sequential": [
            [
             0,
             "rgb(20,44,66)"
            ],
            [
             1,
             "rgb(90,179,244)"
            ]
           ],
           "sequentialminus": [
            [
             0,
             "rgb(20,44,66)"
            ],
            [
             1,
             "rgb(90,179,244)"
            ]
           ]
          },
          "colorway": [
           "#F8766D",
           "#A3A500",
           "#00BF7D",
           "#00B0F6",
           "#E76BF3"
          ],
          "font": {
           "color": "rgb(51,51,51)"
          },
          "geo": {
           "bgcolor": "white",
           "lakecolor": "white",
           "landcolor": "rgb(237,237,237)",
           "showlakes": true,
           "showland": true,
           "subunitcolor": "white"
          },
          "hoverlabel": {
           "align": "left"
          },
          "hovermode": "closest",
          "paper_bgcolor": "white",
          "plot_bgcolor": "rgb(237,237,237)",
          "polar": {
           "angularaxis": {
            "gridcolor": "white",
            "linecolor": "white",
            "showgrid": true,
            "tickcolor": "rgb(51,51,51)",
            "ticks": "outside"
           },
           "bgcolor": "rgb(237,237,237)",
           "radialaxis": {
            "gridcolor": "white",
            "linecolor": "white",
            "showgrid": true,
            "tickcolor": "rgb(51,51,51)",
            "ticks": "outside"
           }
          },
          "scene": {
           "xaxis": {
            "backgroundcolor": "rgb(237,237,237)",
            "gridcolor": "white",
            "gridwidth": 2,
            "linecolor": "white",
            "showbackground": true,
            "showgrid": true,
            "tickcolor": "rgb(51,51,51)",
            "ticks": "outside",
            "zerolinecolor": "white"
           },
           "yaxis": {
            "backgroundcolor": "rgb(237,237,237)",
            "gridcolor": "white",
            "gridwidth": 2,
            "linecolor": "white",
            "showbackground": true,
            "showgrid": true,
            "tickcolor": "rgb(51,51,51)",
            "ticks": "outside",
            "zerolinecolor": "white"
           },
           "zaxis": {
            "backgroundcolor": "rgb(237,237,237)",
            "gridcolor": "white",
            "gridwidth": 2,
            "linecolor": "white",
            "showbackground": true,
            "showgrid": true,
            "tickcolor": "rgb(51,51,51)",
            "ticks": "outside",
            "zerolinecolor": "white"
           }
          },
          "shapedefaults": {
           "fillcolor": "black",
           "line": {
            "width": 0
           },
           "opacity": 0.3
          },
          "ternary": {
           "aaxis": {
            "gridcolor": "white",
            "linecolor": "white",
            "showgrid": true,
            "tickcolor": "rgb(51,51,51)",
            "ticks": "outside"
           },
           "baxis": {
            "gridcolor": "white",
            "linecolor": "white",
            "showgrid": true,
            "tickcolor": "rgb(51,51,51)",
            "ticks": "outside"
           },
           "bgcolor": "rgb(237,237,237)",
           "caxis": {
            "gridcolor": "white",
            "linecolor": "white",
            "showgrid": true,
            "tickcolor": "rgb(51,51,51)",
            "ticks": "outside"
           }
          },
          "xaxis": {
           "automargin": true,
           "gridcolor": "white",
           "linecolor": "white",
           "showgrid": true,
           "tickcolor": "rgb(51,51,51)",
           "ticks": "outside",
           "title": {
            "standoff": 15
           },
           "zerolinecolor": "white"
          },
          "yaxis": {
           "automargin": true,
           "gridcolor": "white",
           "linecolor": "white",
           "showgrid": true,
           "tickcolor": "rgb(51,51,51)",
           "ticks": "outside",
           "title": {
            "standoff": 15
           },
           "zerolinecolor": "white"
          }
         }
        },
        "title": {
         "x": 0.5
        },
        "width": 2100,
        "xaxis": {
         "anchor": "y",
         "domain": [
          0,
          0.235
         ],
         "tickangle": 45,
         "tickmode": "array",
         "ticktext": [
          "Ene",
          "Feb",
          "Mar",
          "Abr",
          "May",
          "Jun",
          "Jul",
          "Ago",
          "Sep",
          "Oct",
          "Nov",
          "Dic"
         ],
         "tickvals": [
          1,
          2,
          3,
          4,
          5,
          6,
          7,
          8,
          9,
          10,
          11,
          12
         ],
         "title": {
          "text": "Meses"
         }
        },
        "xaxis2": {
         "anchor": "y2",
         "domain": [
          0.255,
          0.49
         ],
         "matches": "x",
         "tickangle": 45,
         "tickmode": "array",
         "ticktext": [
          "Ene",
          "Feb",
          "Mar",
          "Abr",
          "May",
          "Jun",
          "Jul",
          "Ago",
          "Sep",
          "Oct",
          "Nov",
          "Dic"
         ],
         "tickvals": [
          1,
          2,
          3,
          4,
          5,
          6,
          7,
          8,
          9,
          10,
          11,
          12
         ],
         "title": {
          "text": "Meses"
         }
        },
        "xaxis3": {
         "anchor": "y3",
         "domain": [
          0.51,
          0.745
         ],
         "matches": "x",
         "tickangle": 45,
         "tickmode": "array",
         "ticktext": [
          "Ene",
          "Feb",
          "Mar",
          "Abr",
          "May",
          "Jun",
          "Jul",
          "Ago",
          "Sep",
          "Oct",
          "Nov",
          "Dic"
         ],
         "tickvals": [
          1,
          2,
          3,
          4,
          5,
          6,
          7,
          8,
          9,
          10,
          11,
          12
         ],
         "title": {
          "text": "Meses"
         }
        },
        "xaxis4": {
         "anchor": "y4",
         "domain": [
          0.7649999999999999,
          0.9999999999999999
         ],
         "matches": "x",
         "tickangle": 45,
         "tickmode": "array",
         "ticktext": [
          "Ene",
          "Feb",
          "Mar",
          "Abr",
          "May",
          "Jun",
          "Jul",
          "Ago",
          "Sep",
          "Oct",
          "Nov",
          "Dic"
         ],
         "tickvals": [
          1,
          2,
          3,
          4,
          5,
          6,
          7,
          8,
          9,
          10,
          11,
          12
         ],
         "title": {
          "text": "Meses"
         }
        },
        "yaxis": {
         "anchor": "x",
         "domain": [
          0,
          1
         ],
         "title": {
          "text": "Temp_Superficial_MAX"
         }
        },
        "yaxis2": {
         "anchor": "x2",
         "domain": [
          0,
          1
         ],
         "matches": "y",
         "showticklabels": false
        },
        "yaxis3": {
         "anchor": "x3",
         "domain": [
          0,
          1
         ],
         "matches": "y",
         "showticklabels": false
        },
        "yaxis4": {
         "anchor": "x4",
         "domain": [
          0,
          1
         ],
         "matches": "y",
         "showticklabels": false
        }
       }
      }
     },
     "metadata": {},
     "output_type": "display_data"
    },
    {
     "data": {
      "text/plain": [
       "<function __main__.plotting_plotly(Variable)>"
      ]
     },
     "execution_count": 161,
     "metadata": {},
     "output_type": "execute_result"
    }
   ],
   "source": [
    "def plotting_plotly(Variable):    \n",
    "    fig = px.line(df_estatal, x='Mes', y=Variable, color='Estado', facet_col='Año',\n",
    "                labels={'Mes': 'Meses'}\n",
    "                )\n",
    "\n",
    "    # Ajustar las características del gráfico\n",
    "    fig.update_layout(height=500, width=2100, title_x=0.5)\n",
    "    fig.update_xaxes(tickangle=45, tickmode='array', tickvals=[1,2,3,4,5,6,7,8,9,10,11,12], ticktext=['Ene','Feb','Mar','Abr','May','Jun','Jul','Ago','Sep','Oct','Nov','Dic'])\n",
    "    fig.show()\n",
    "\n",
    "widgets.interact(plotting_plotly, Variable=columnas_numericas)"
   ]
  },
  {
   "cell_type": "markdown",
   "metadata": {},
   "source": []
  },
  {
   "cell_type": "code",
   "execution_count": null,
   "metadata": {},
   "outputs": [],
   "source": [
    "columnas_numericas = df_estatal.select_dtypes(include=[np.number]).columns # Seleccionar solo las columnas numéricas\n",
    "df_estatal[columnas_numericas] = df_estatal[columnas_numericas].round(2) # Redondear las columnas numéricas a dos decimales\n",
    "\n",
    "print(df_estatal.shape)\n",
    "#df_estatal1.to_csv('data/Estados/Data_Climatic_Estados_Inferido.csv', index=False)\n",
    "df_estatal\n"
   ]
  }
 ],
 "metadata": {
  "kernelspec": {
   "display_name": "base",
   "language": "python",
   "name": "python3"
  },
  "language_info": {
   "codemirror_mode": {
    "name": "ipython",
    "version": 3
   },
   "file_extension": ".py",
   "mimetype": "text/x-python",
   "name": "python",
   "nbconvert_exporter": "python",
   "pygments_lexer": "ipython3",
   "version": "3.11.3"
  }
 },
 "nbformat": 4,
 "nbformat_minor": 2
}
