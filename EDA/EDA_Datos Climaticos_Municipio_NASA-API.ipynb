{
 "cells": [
  {
   "cell_type": "code",
   "execution_count": 1,
   "metadata": {},
   "outputs": [],
   "source": [
    "import pandas as pd"
   ]
  },
  {
   "cell_type": "code",
   "execution_count": null,
   "metadata": {},
   "outputs": [],
   "source": [
    "### Crea Dataframe Estatal inferido a partir del Municipal\n",
    "df_estatal1 = df_combinado.groupby(['Año','Mes','Estado', 'Estado_CVE']).mean().reset_index()\n",
    "df_estatal1.drop(columns=['Día','Municipio_CVE'], inplace=True)\n"
   ]
  },
  {
   "cell_type": "code",
   "execution_count": null,
   "metadata": {},
   "outputs": [],
   "source": [
    "columnas_numericas = df_estatal1.select_dtypes(include=[np.number]).columns # Seleccionar solo las columnas numéricas\n",
    "df_estatal1[columnas_numericas] = df_estatal1[columnas_numericas].round(2) # Redondear las columnas numéricas a dos decimales\n",
    "\n",
    "print(df_estatal1.shape)\n",
    "#df_estatal1.to_csv('data/Estados/Data_Climatic_Estados_Inferido.csv', index=False)\n",
    "df_estatal1\n"
   ]
  },
  {
   "cell_type": "markdown",
   "metadata": {},
   "source": [
    "'sum': Suma de los valores.\n",
    "'mean': Media aritmética.\n",
    "'median': Mediana.\n",
    "'min': Valor mínimo.\n",
    "'max': Valor máximo.\n",
    "'count': Número de elementos no nulos.\n",
    "'nunique': Número de valores únicos.\n",
    "'first': Primer valor no nulo.\n",
    "'last': Último valor no nulo.\n",
    "'std': Desviación estándar.\n",
    "'var': Varianza.\n",
    "'prod': Producto de los valores.\n",
    "'sem': Error estándar de la media.\n",
    "'mode': Moda.\n",
    "'size': Número total de elementos."
   ]
  },
  {
   "cell_type": "markdown",
   "metadata": {},
   "source": [
    "### Funciones de Agregacion especificas"
   ]
  },
  {
   "cell_type": "code",
   "execution_count": null,
   "metadata": {},
   "outputs": [],
   "source": [
    "# Diccionario de funciones de agregación por columna\n",
    "aggregation_functions = {\n",
    "    'Temp_Superficial': 'mean',\n",
    "    'Temp_Superficial_MAX': 'mean',\n",
    "    'Temp_Superficial_MIN': 'mean', \n",
    "    'Temp_2_Metros': 'mean', \n",
    "    'Temp_2_Metros_MAX': 'mean', \n",
    "    'Temp_2_Metros_MIN': 'mean',\n",
    "    'Temp_2_Metros_Pto_Congelación': 'mean', \n",
    "    'Temp_2_Metros_Pto_Húmedo': 'mean', \n",
    "    'Presión_Superficial': 'mean',\n",
    "    'Velocidad_Viento': 'mean', \n",
    "    'Humedad_Relativa': 'mean', \n",
    "    'Flujo_Evapotranspiración': 'mean', \n",
    "    'Perfil_Humedad_Suelo': 'mean',\n",
    "    'Dias_Sin_Nubosidad': 'mean', \n",
    "    'Precipitacion': 'mean', \n",
    "    'Horas_De_Sol': 'mean', \n",
    "    'Insolacion_Mediodia': 'mean'\n",
    "}"
   ]
  },
  {
   "cell_type": "code",
   "execution_count": null,
   "metadata": {},
   "outputs": [],
   "source": [
    "# Agrupar por Estado y aplicar las funciones de agregación especificadas\n",
    "df_estatal = df_combinado.groupby(['Año','Mes','Estado', 'Estado_CVE']).agg(aggregation_functions).reset_index()\n",
    "\n",
    "columnas_numericas = df_estatal1.select_dtypes(include=[np.number]).columns # Seleccionar solo las columnas numéricas\n",
    "df_estatal1[columnas_numericas] = df_estatal1[columnas_numericas].round(2) # Redondear las columnas numéricas a dos decimales\n",
    "\n",
    "#df_estatal.drop(columns=['Día','Municipio_CVE'], inplace=True)\n",
    "df_estatal"
   ]
  }
 ],
 "metadata": {
  "kernelspec": {
   "display_name": "base",
   "language": "python",
   "name": "python3"
  },
  "language_info": {
   "codemirror_mode": {
    "name": "ipython",
    "version": 3
   },
   "file_extension": ".py",
   "mimetype": "text/x-python",
   "name": "python",
   "nbconvert_exporter": "python",
   "pygments_lexer": "ipython3",
   "version": "3.11.3"
  }
 },
 "nbformat": 4,
 "nbformat_minor": 2
}
