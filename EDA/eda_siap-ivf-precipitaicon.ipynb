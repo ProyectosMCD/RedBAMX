{
 "cells": [
  {
   "cell_type": "code",
   "execution_count": 42,
   "metadata": {},
   "outputs": [],
   "source": [
    "import os\n",
    "import urllib.request\n",
    "import datetime\n",
    "import pandas as pd\n",
    "import numpy as np\n",
    "import missingno as msno\n",
    "from sklearn import preprocessing\n",
    "import numpy as np\n",
    "from sklearn.preprocessing import OneHotEncoder\n",
    "import sys\n",
    "import tabula\n",
    "import pandas as pd\n",
    "import seaborn as sns\n",
    "import matplotlib.pyplot as plt\n",
    "import numpy as np\n",
    "from sklearn.metrics import  ConfusionMatrixDisplay\n",
    "from sklearn.metrics import multilabel_confusion_matrix\n",
    "from sklearn import preprocessing\n",
    "import plotly.express as px\n",
    "import plotly.graph_objects as go"
   ]
  },
  {
   "cell_type": "markdown",
   "metadata": {},
   "source": [
    "#Carga de archivos\n",
    "\n",
    "Se inicia con la carga de los CSV y se hacen correcciones simples y rapidas porque mio no ortografia"
   ]
  },
  {
   "cell_type": "code",
   "execution_count": 2,
   "metadata": {},
   "outputs": [
    {
     "name": "stdout",
     "output_type": "stream",
     "text": [
      "    Año  Mes      Cultivo               Estado        Distrito Municipio  \\\n",
      "0  2020    1  Tomate rojo       Aguascalientes  Aguascalientes  Calvillo   \n",
      "1  2020    1  Tomate rojo      Baja California        Ensenada  Ensenada   \n",
      "2  2020    1  Tomate rojo  Baja California Sur          Mulegé    Mulegé   \n",
      "3  2020    1  Tomate rojo  Baja California Sur         Comondú   Comondú   \n",
      "4  2020    1  Tomate rojo  Baja California Sur          La Paz    La Paz   \n",
      "\n",
      "   Superficie(ha)_Sembrada  Superficie(ha)_Cosechada  \\\n",
      "0                     16.0                       6.0   \n",
      "1                     19.5                       0.0   \n",
      "2                     80.0                       0.0   \n",
      "3                    127.0                       0.0   \n",
      "4                    611.0                     106.0   \n",
      "\n",
      "   Superficie(ha)_Siniestrada  Producción  Rendimiento(udm/ha)  \n",
      "0                         0.0       90.00                15.00  \n",
      "1                         0.0        0.00                 0.00  \n",
      "2                         0.0        0.00                 0.00  \n",
      "3                         0.0        0.00                 0.00  \n",
      "4                         0.0     4429.76                41.79  \n"
     ]
    }
   ],
   "source": [
    "siap = pd.read_csv('limpieza\\SIAP.csv')\n",
    "print(siap.head())"
   ]
  },
  {
   "cell_type": "code",
   "execution_count": 3,
   "metadata": {},
   "outputs": [
    {
     "data": {
      "text/plain": [
       "array(['Tomate rojo', 'Chile verde', 'Limón', 'Plátano', 'Mango',\n",
       "       'Brócoli', 'Cebolla', 'Sandía', 'Papaya', 'Lechuga', 'Nopal',\n",
       "       'Nuez', 'Fresa', 'Toronja', 'Piña', 'Berenjena', 'Uva', 'Naranja',\n",
       "       'Papa', 'Melón', 'Manzana', 'Pera', 'Durazno', 'Espárrago',\n",
       "       'Zarzamora', 'Coliflor', 'Guayaba', 'Tomate verde', 'Frijol',\n",
       "       'Garbanzo grano', 'Frambuesa', 'Pepino', 'Calabacita'],\n",
       "      dtype=object)"
      ]
     },
     "execution_count": 3,
     "metadata": {},
     "output_type": "execute_result"
    }
   ],
   "source": [
    "siap[\"Cultivo\"].unique()"
   ]
  },
  {
   "cell_type": "code",
   "execution_count": 4,
   "metadata": {},
   "outputs": [],
   "source": [
    "import pandas as pd\n",
    "\n",
    "# Suponiendo que el DataFrame se llama df y la columna es 'Estado'\n",
    "siap['Estado'] = siap['Estado'].apply(lambda x: x.title())\n"
   ]
  },
  {
   "cell_type": "code",
   "execution_count": 5,
   "metadata": {},
   "outputs": [
    {
     "data": {
      "text/plain": [
       "array(['Aguascalientes', 'Baja California', 'Baja California Sur',\n",
       "       'Campeche', 'Colima', 'Chiapas', 'Guanajuato', 'Guerrero',\n",
       "       'Jalisco', 'Estado De México', 'Michoacán', 'Morelos', 'Nayarit',\n",
       "       'Oaxaca', 'Puebla', 'Querétaro', 'Quintana Roo', 'San Luis Potosí',\n",
       "       'Sinaloa', 'Sonora', 'Tabasco', 'Tamaulipas', 'Veracruz',\n",
       "       'Yucatán', 'Coahuila', 'Nuevo León', 'Zacatecas', 'Durango',\n",
       "       'Hidalgo', 'Ciudad De México', 'Tlaxcala', 'Chihuahua'],\n",
       "      dtype=object)"
      ]
     },
     "execution_count": 5,
     "metadata": {},
     "output_type": "execute_result"
    }
   ],
   "source": [
    "siap[\"Estado\"].unique()"
   ]
  },
  {
   "cell_type": "code",
   "execution_count": 6,
   "metadata": {},
   "outputs": [
    {
     "name": "stdout",
     "output_type": "stream",
     "text": [
      "                     Cultivo   Año  Mes     Ivf\n",
      "0                  Berenjena  2015   12    3.88\n",
      "1                    Brocolí  2015   12   39.05\n",
      "2                 Calabacita  2015   12  109.13\n",
      "3                    Cebolla  2015   12   86.09\n",
      "4                Chile verde  2015   12  134.97\n",
      "...                      ...   ...  ...     ...\n",
      "3163  Tomate rojo (jitomate)  2022    1   163.5\n",
      "3164            Tomate verde  2022    1    75.8\n",
      "3165        Toronja (pomelo)  2022    1    73.9\n",
      "3166                     Uva  2022    1       0\n",
      "3167               Zarzamora  2022    1   229.1\n",
      "\n",
      "[3168 rows x 4 columns]\n"
     ]
    }
   ],
   "source": [
    "ivf = pd.read_csv('limpieza\\ivf_15-22.csv')\n",
    "print(ivf)"
   ]
  },
  {
   "cell_type": "code",
   "execution_count": 7,
   "metadata": {},
   "outputs": [],
   "source": [
    "# Reemplazo en la columna 'Cultivo' del DataFrame 'ivf'\n",
    "ivf['Cultivo'].replace({'EspÃ¡rrago': 'Espárrago', 'PiÃ±a': 'Piña', 'PlÃ¡tano': 'Plátano', 'SandÃ\\xada': 'Sandía', \"Brocolí\": \"Brócoli\"}, inplace=True)\n"
   ]
  },
  {
   "cell_type": "code",
   "execution_count": 8,
   "metadata": {},
   "outputs": [],
   "source": [
    "# Reemplazo en la columna 'Cultivo' del DataFrame 'ivf'\n",
    "reemplazos = {\n",
    "    'EspÃ¡rrago': 'Espárrago',\n",
    "    'PiÃ±a': 'Piña',\n",
    "    'PlÃ¡tano': 'Plátano',\n",
    "    'SandÃ\\xada': 'Sandía',\n",
    "    'Brocolí': 'Brócoli',\n",
    "    'Nopalitos': 'Nopal',\n",
    "    'Toronja (pomelo)': 'Toronja',\n",
    "    'Pepino': 'Pepino',\n",
    "    'Tomate rojo (jitomate)': 'Tomate rojo',\n",
    "    'Tomate verde': 'Tomate verde'\n",
    "}\n",
    "\n",
    "ivf['Cultivo'].replace(reemplazos, inplace=True)\n"
   ]
  },
  {
   "cell_type": "code",
   "execution_count": 9,
   "metadata": {},
   "outputs": [
    {
     "data": {
      "text/plain": [
       "array(['Berenjena', 'Brócoli', 'Calabacita', 'Cebolla', 'Chile verde',\n",
       "       'Coliflor', 'Durazno', 'Espárrago', 'Frambuesa', 'Fresa', 'Frijol',\n",
       "       'Garbanzo grano', 'Guayaba', 'Lechuga', 'Limón', 'Mango',\n",
       "       'Manzana', 'Melón', 'Naranja', 'Nopal', 'Nuez', 'Papa', 'Papaya',\n",
       "       'Pepino', 'Pera', 'Piña', 'Plátano', 'Sandía', 'Tomate rojo',\n",
       "       'Tomate verde', 'Toronja', 'Uva', 'Zarzamora'], dtype=object)"
      ]
     },
     "execution_count": 9,
     "metadata": {},
     "output_type": "execute_result"
    }
   ],
   "source": [
    "ivf[\"Cultivo\"].unique()"
   ]
  },
  {
   "cell_type": "code",
   "execution_count": 10,
   "metadata": {},
   "outputs": [
    {
     "name": "stdout",
     "output_type": "stream",
     "text": [
      "   Unnamed: 0               Estado   Año  Mes  Precipitacion\n",
      "0           0       Aguascalientes  2015    1            7.1\n",
      "1           1      Baja california  2015    1           21.7\n",
      "2           2  Baja california sur  2015    1           26.0\n",
      "3           3             Campeche  2015    1           90.1\n",
      "4           4             Coahuila  2015    1           26.4\n"
     ]
    }
   ],
   "source": [
    "df = pd.read_csv('csv\\precip2_1.csv')\n",
    "print(df.head())"
   ]
  },
  {
   "cell_type": "code",
   "execution_count": 11,
   "metadata": {},
   "outputs": [],
   "source": [
    "# Eliminar las filas que contienen 'Nacional' en la columna 'Estado'\n",
    "df = df[df['Estado'] != 'Nacional']\n"
   ]
  },
  {
   "cell_type": "code",
   "execution_count": 12,
   "metadata": {},
   "outputs": [],
   "source": [
    "import pandas as pd\n",
    "\n",
    "# Suponiendo que el DataFrame se llama df y la columna es 'Estado'\n",
    "\n",
    "# Diccionario de reemplazo\n",
    "reemplazo = {\n",
    "    'Nuevo Leon': 'Nuevo León',\n",
    "    'Yucatan': 'Yucatán',\n",
    "    'Ciudad De Mexico': 'Ciudad De México',\n",
    "    'San Luis Potosi': 'San Luis Potosí',\n",
    "    'Michoacan': 'Michoacán',\n",
    "    \"Queretaro\": \"Querétaro\",\n",
    "}\n",
    "\n",
    "# Aplicar reemplazo a la columna 'Estado'\n",
    "df['Estado'] = df['Estado'].replace(reemplazo)\n"
   ]
  },
  {
   "cell_type": "code",
   "execution_count": 13,
   "metadata": {},
   "outputs": [],
   "source": [
    "import pandas as pd\n",
    "\n",
    "# Suponiendo que el DataFrame se llama df y la columna es 'Estado'\n",
    "df['Estado'] = df['Estado'].apply(lambda x: x.title())\n"
   ]
  },
  {
   "cell_type": "code",
   "execution_count": 14,
   "metadata": {},
   "outputs": [
    {
     "data": {
      "text/plain": [
       "array(['Aguascalientes', 'Baja California', 'Baja California Sur',\n",
       "       'Campeche', 'Coahuila', 'Colima', 'Chiapas', 'Chihuahua',\n",
       "       'Ciudad De Mexico', 'Durango', 'Guanajuato', 'Guerrero', 'Hidalgo',\n",
       "       'Jalisco', 'Estado De México', 'Michoacán', 'Morelos', 'Nayarit',\n",
       "       'Nuevo Leon', 'Oaxaca', 'Puebla', 'Querétaro', 'Quintana Roo',\n",
       "       'San Luis Potosi', 'Sinaloa', 'Sonora', 'Tabasco', 'Tamaulipas',\n",
       "       'Tlaxcala', 'Veracruz', 'Yucatán', 'Zacatecas'], dtype=object)"
      ]
     },
     "execution_count": 14,
     "metadata": {},
     "output_type": "execute_result"
    }
   ],
   "source": [
    "df[\"Estado\"].unique()"
   ]
  },
  {
   "cell_type": "code",
   "execution_count": 15,
   "metadata": {},
   "outputs": [],
   "source": [
    "df = df.drop(['Unnamed: 0'], axis=1)"
   ]
  },
  {
   "cell_type": "code",
   "execution_count": 16,
   "metadata": {},
   "outputs": [
    {
     "name": "stdout",
     "output_type": "stream",
     "text": [
      "                Estado   Año  Mes  Precipitacion\n",
      "0       Aguascalientes  2015    1            7.1\n",
      "1      Baja California  2015    1           21.7\n",
      "2  Baja California Sur  2015    1           26.0\n",
      "3             Campeche  2015    1           90.1\n",
      "4             Coahuila  2015    1           26.4\n"
     ]
    }
   ],
   "source": [
    "print(df.head())"
   ]
  },
  {
   "cell_type": "markdown",
   "metadata": {},
   "source": [
    "# Merge\n",
    "\n",
    "Se inicia con el proceso de fusion de dataframes"
   ]
  },
  {
   "cell_type": "markdown",
   "metadata": {},
   "source": [
    "## SIAP e IVF\n",
    "Se inicia con el Merge de SIAP con IVF"
   ]
  },
  {
   "cell_type": "code",
   "execution_count": 17,
   "metadata": {},
   "outputs": [
    {
     "name": "stdout",
     "output_type": "stream",
     "text": [
      "         Año  Mes      Cultivo               Estado        Distrito  \\\n",
      "0       2020    1  Tomate rojo       Aguascalientes  Aguascalientes   \n",
      "1       2020    1  Tomate rojo      Baja California        Ensenada   \n",
      "2       2020    1  Tomate rojo  Baja California Sur          Mulegé   \n",
      "3       2020    1  Tomate rojo  Baja California Sur         Comondú   \n",
      "4       2020    1  Tomate rojo  Baja California Sur          La Paz   \n",
      "...      ...  ...          ...                  ...             ...   \n",
      "276422  2022   12    Frambuesa               Puebla         Cholula   \n",
      "276423  2022   12    Frambuesa               Puebla         Cholula   \n",
      "276424  2022   12    Frambuesa               Puebla         Cholula   \n",
      "276425  2022   12    Frambuesa               Puebla         Cholula   \n",
      "276426  2022   12    Frambuesa             Tlaxcala       Huamantla   \n",
      "\n",
      "             Municipio  Superficie(ha)_Sembrada  Superficie(ha)_Cosechada  \\\n",
      "0             Calvillo                     16.0                       6.0   \n",
      "1             Ensenada                     19.5                       0.0   \n",
      "2               Mulegé                     80.0                       0.0   \n",
      "3              Comondú                    127.0                       0.0   \n",
      "4               La Paz                    611.0                     106.0   \n",
      "...                ...                      ...                       ...   \n",
      "276422     Chiautzingo                      5.5                       4.5   \n",
      "276423  Domingo Arenas                     47.0                      46.0   \n",
      "276424     Huejotzingo                     29.0                      27.5   \n",
      "276425      Tochimilco                      3.0                       2.0   \n",
      "276426     Atltzayanca                      1.0                       1.0   \n",
      "\n",
      "        Superficie(ha)_Siniestrada  Producción  Rendimiento(udm/ha)       Ivf  \n",
      "0                              0.0       90.00                15.00       173  \n",
      "1                              0.0        0.00                 0.00       173  \n",
      "2                              0.0        0.00                 0.00       173  \n",
      "3                              0.0        0.00                 0.00       173  \n",
      "4                              0.0     4429.76                41.79       173  \n",
      "...                            ...         ...                  ...       ...  \n",
      "276422                         0.0       86.00                19.11  1,024.80  \n",
      "276423                         0.0      675.00                14.67  1,024.80  \n",
      "276424                         0.0      483.80                17.59  1,024.80  \n",
      "276425                         0.0       19.50                 9.75  1,024.80  \n",
      "276426                         0.0       17.30                17.30  1,024.80  \n",
      "\n",
      "[276427 rows x 12 columns]\n"
     ]
    }
   ],
   "source": [
    "# Código para fusionar los DataFrames\n",
    "merged_df = pd.merge(siap, ivf, on=['Año', 'Mes', 'Cultivo'])\n",
    "\n",
    "# Imprimir el DataFrame fusionado\n",
    "print(merged_df)\n"
   ]
  },
  {
   "cell_type": "code",
   "execution_count": 18,
   "metadata": {},
   "outputs": [
    {
     "data": {
      "text/plain": [
       "Index(['Año', 'Mes', 'Cultivo', 'Estado', 'Distrito', 'Municipio',\n",
       "       'Superficie(ha)_Sembrada', 'Superficie(ha)_Cosechada',\n",
       "       'Superficie(ha)_Siniestrada', 'Producción', 'Rendimiento(udm/ha)',\n",
       "       'Ivf'],\n",
       "      dtype='object')"
      ]
     },
     "execution_count": 18,
     "metadata": {},
     "output_type": "execute_result"
    }
   ],
   "source": [
    "merged_df.columns"
   ]
  },
  {
   "cell_type": "code",
   "execution_count": 19,
   "metadata": {},
   "outputs": [
    {
     "data": {
      "text/plain": [
       "array(['Tomate rojo', 'Chile verde', 'Limón', 'Plátano', 'Mango',\n",
       "       'Brócoli', 'Cebolla', 'Sandía', 'Papaya', 'Lechuga', 'Nopal',\n",
       "       'Nuez', 'Fresa', 'Toronja', 'Piña', 'Berenjena', 'Uva', 'Naranja',\n",
       "       'Papa', 'Melón', 'Manzana', 'Pera', 'Durazno', 'Espárrago',\n",
       "       'Zarzamora', 'Coliflor', 'Guayaba', 'Tomate verde', 'Frijol',\n",
       "       'Garbanzo grano', 'Frambuesa', 'Pepino', 'Calabacita'],\n",
       "      dtype=object)"
      ]
     },
     "execution_count": 19,
     "metadata": {},
     "output_type": "execute_result"
    }
   ],
   "source": [
    "merged_df[\"Cultivo\"].unique()"
   ]
  },
  {
   "cell_type": "code",
   "execution_count": 20,
   "metadata": {},
   "outputs": [
    {
     "data": {
      "text/plain": [
       "array(['Aguascalientes', 'Baja California', 'Baja California Sur',\n",
       "       'Campeche', 'Colima', 'Chiapas', 'Guanajuato', 'Guerrero',\n",
       "       'Jalisco', 'Estado De México', 'Michoacán', 'Morelos', 'Nayarit',\n",
       "       'Oaxaca', 'Puebla', 'Querétaro', 'Quintana Roo', 'San Luis Potosí',\n",
       "       'Sinaloa', 'Sonora', 'Tabasco', 'Tamaulipas', 'Veracruz',\n",
       "       'Yucatán', 'Coahuila', 'Nuevo León', 'Zacatecas', 'Durango',\n",
       "       'Hidalgo', 'Ciudad De México', 'Tlaxcala', 'Chihuahua'],\n",
       "      dtype=object)"
      ]
     },
     "execution_count": 20,
     "metadata": {},
     "output_type": "execute_result"
    }
   ],
   "source": [
    "merged_df[\"Estado\"].unique()"
   ]
  },
  {
   "cell_type": "markdown",
   "metadata": {},
   "source": [
    "## df con precipitacion \n",
    "Aqui se hace merge del anterior merged_df con precipitacion"
   ]
  },
  {
   "cell_type": "code",
   "execution_count": 21,
   "metadata": {},
   "outputs": [
    {
     "name": "stdout",
     "output_type": "stream",
     "text": [
      "         Año  Mes      Cultivo          Estado        Distrito  \\\n",
      "0       2020    1  Tomate rojo  Aguascalientes  Aguascalientes   \n",
      "1       2020    1        Limón  Aguascalientes  Aguascalientes   \n",
      "2       2020    1      Brócoli  Aguascalientes  Aguascalientes   \n",
      "3       2020    1      Brócoli  Aguascalientes  Aguascalientes   \n",
      "4       2020    1      Brócoli  Aguascalientes  Aguascalientes   \n",
      "...      ...  ...          ...             ...             ...   \n",
      "266310  2022   12      Durazno       Chihuahua   Casas Grandes   \n",
      "266311  2022   12      Durazno       Chihuahua          Madera   \n",
      "266312  2022   12      Durazno       Chihuahua      Cuauhtémoc   \n",
      "266313  2022   12      Durazno       Chihuahua      Cuauhtémoc   \n",
      "266314  2022   12    Espárrago       Chihuahua   Casas Grandes   \n",
      "\n",
      "                  Municipio  Superficie(ha)_Sembrada  \\\n",
      "0                  Calvillo                     16.0   \n",
      "1                  Calvillo                     94.2   \n",
      "2            Aguascalientes                     15.0   \n",
      "3                  Asientos                     50.0   \n",
      "4                     Cosío                     44.0   \n",
      "...                     ...                      ...   \n",
      "266310  Nuevo Casas Grandes                    840.0   \n",
      "266311            Namiquipa                     16.0   \n",
      "266312            Bachíniva                      5.0   \n",
      "266313           Cuauhtémoc                     13.0   \n",
      "266314  Nuevo Casas Grandes                     50.0   \n",
      "\n",
      "        Superficie(ha)_Cosechada  Superficie(ha)_Siniestrada  Producción  \\\n",
      "0                            6.0                         0.0        90.0   \n",
      "1                            0.0                         0.0         0.0   \n",
      "2                            0.0                         0.0         0.0   \n",
      "3                            0.0                         0.0         0.0   \n",
      "4                            0.0                         0.0         0.0   \n",
      "...                          ...                         ...         ...   \n",
      "266310                     720.0                         0.0      7200.0   \n",
      "266311                      16.0                         0.0       184.0   \n",
      "266312                       5.0                         0.0        55.0   \n",
      "266313                      13.0                         0.0       169.0   \n",
      "266314                      50.0                         0.0       400.0   \n",
      "\n",
      "        Rendimiento(udm/ha)    Ivf  Precipitacion  \n",
      "0                      15.0    173           38.5  \n",
      "1                       0.0  152.1           38.5  \n",
      "2                       0.0  138.1           38.5  \n",
      "3                       0.0  138.1           38.5  \n",
      "4                       0.0  138.1           38.5  \n",
      "...                     ...    ...            ...  \n",
      "266310                 10.0   27.9            6.3  \n",
      "266311                 11.5   27.9            6.3  \n",
      "266312                 11.0   27.9            6.3  \n",
      "266313                 13.0   27.9            6.3  \n",
      "266314                  8.0  240.4            6.3  \n",
      "\n",
      "[266315 rows x 13 columns]\n"
     ]
    }
   ],
   "source": [
    "# Código para fusionar el nuevo DataFrame con el anterior\n",
    "merged_df = pd.merge(merged_df, df, on=['Año', 'Mes', 'Estado'])\n",
    "\n",
    "# Imprimir el nuevo DataFrame fusionado\n",
    "print(merged_df)"
   ]
  },
  {
   "cell_type": "code",
   "execution_count": 22,
   "metadata": {},
   "outputs": [
    {
     "data": {
      "text/plain": [
       "array(['Aguascalientes', 'Baja California', 'Baja California Sur',\n",
       "       'Campeche', 'Colima', 'Chiapas', 'Guanajuato', 'Guerrero',\n",
       "       'Jalisco', 'Estado De México', 'Michoacán', 'Morelos', 'Nayarit',\n",
       "       'Oaxaca', 'Puebla', 'Querétaro', 'Quintana Roo', 'Sinaloa',\n",
       "       'Sonora', 'Tabasco', 'Tamaulipas', 'Veracruz', 'Yucatán',\n",
       "       'Coahuila', 'Zacatecas', 'Durango', 'Hidalgo', 'Tlaxcala',\n",
       "       'Chihuahua'], dtype=object)"
      ]
     },
     "execution_count": 22,
     "metadata": {},
     "output_type": "execute_result"
    }
   ],
   "source": [
    "merged_df[\"Estado\"].unique()"
   ]
  },
  {
   "cell_type": "code",
   "execution_count": 23,
   "metadata": {},
   "outputs": [
    {
     "data": {
      "text/plain": [
       "array(['Tomate rojo', 'Limón', 'Brócoli', 'Cebolla', 'Lechuga', 'Nopal',\n",
       "       'Nuez', 'Uva', 'Naranja', 'Manzana', 'Durazno', 'Espárrago',\n",
       "       'Coliflor', 'Guayaba', 'Chile verde', 'Fresa', 'Toronja', 'Pera',\n",
       "       'Zarzamora', 'Tomate verde', 'Frambuesa', 'Mango', 'Sandía',\n",
       "       'Papaya', 'Berenjena', 'Papa', 'Melón', 'Frijol', 'Garbanzo grano',\n",
       "       'Plátano', 'Piña', 'Calabacita', 'Pepino'], dtype=object)"
      ]
     },
     "execution_count": 23,
     "metadata": {},
     "output_type": "execute_result"
    }
   ],
   "source": [
    "merged_df[\"Cultivo\"].unique()"
   ]
  },
  {
   "cell_type": "code",
   "execution_count": 24,
   "metadata": {},
   "outputs": [],
   "source": [
    "eda = merged_df"
   ]
  },
  {
   "cell_type": "code",
   "execution_count": 25,
   "metadata": {},
   "outputs": [
    {
     "data": {
      "text/plain": [
       "Index(['Año', 'Mes', 'Cultivo', 'Estado', 'Distrito', 'Municipio',\n",
       "       'Superficie(ha)_Sembrada', 'Superficie(ha)_Cosechada',\n",
       "       'Superficie(ha)_Siniestrada', 'Producción', 'Rendimiento(udm/ha)',\n",
       "       'Ivf', 'Precipitacion'],\n",
       "      dtype='object')"
      ]
     },
     "execution_count": 25,
     "metadata": {},
     "output_type": "execute_result"
    }
   ],
   "source": [
    "eda.columns"
   ]
  },
  {
   "cell_type": "code",
   "execution_count": 26,
   "metadata": {},
   "outputs": [
    {
     "data": {
      "text/plain": [
       "array(['Tomate rojo', 'Limón', 'Brócoli', 'Cebolla', 'Lechuga', 'Nopal',\n",
       "       'Nuez', 'Uva', 'Naranja', 'Manzana', 'Durazno', 'Espárrago',\n",
       "       'Coliflor', 'Guayaba', 'Chile verde', 'Fresa', 'Toronja', 'Pera',\n",
       "       'Zarzamora', 'Tomate verde', 'Frambuesa', 'Mango', 'Sandía',\n",
       "       'Papaya', 'Berenjena', 'Papa', 'Melón', 'Frijol', 'Garbanzo grano',\n",
       "       'Plátano', 'Piña', 'Calabacita', 'Pepino'], dtype=object)"
      ]
     },
     "execution_count": 26,
     "metadata": {},
     "output_type": "execute_result"
    }
   ],
   "source": [
    "eda[\"Cultivo\"].unique()"
   ]
  },
  {
   "cell_type": "markdown",
   "metadata": {},
   "source": [
    "# Preprocesamiento \n",
    "Se inicia con un preprocesamiento para las columnas de cultivos y estados de la republica"
   ]
  },
  {
   "cell_type": "markdown",
   "metadata": {},
   "source": [
    "## OHE Cultivo\n",
    "\n",
    "En la columna de Cultivo, debido a que son texto y no numericas, no podremos utilizarlos para la realizacion de una correlacion ni hacer un analis, entonces se hace un One Hot Encoding ya que hay una importancia en cada cultivo"
   ]
  },
  {
   "cell_type": "code",
   "execution_count": 27,
   "metadata": {},
   "outputs": [
    {
     "name": "stdout",
     "output_type": "stream",
     "text": [
      "    Año  Mes      Cultivo          Estado        Distrito       Municipio  \\\n",
      "0  2020    1  Tomate rojo  Aguascalientes  Aguascalientes        Calvillo   \n",
      "1  2020    1        Limón  Aguascalientes  Aguascalientes        Calvillo   \n",
      "2  2020    1      Brócoli  Aguascalientes  Aguascalientes  Aguascalientes   \n",
      "3  2020    1      Brócoli  Aguascalientes  Aguascalientes        Asientos   \n",
      "4  2020    1      Brócoli  Aguascalientes  Aguascalientes           Cosío   \n",
      "\n",
      "   Superficie(ha)_Sembrada  Superficie(ha)_Cosechada  \\\n",
      "0                     16.0                       6.0   \n",
      "1                     94.2                       0.0   \n",
      "2                     15.0                       0.0   \n",
      "3                     50.0                       0.0   \n",
      "4                     44.0                       0.0   \n",
      "\n",
      "   Superficie(ha)_Siniestrada  Producción  ...  Pepino Pera  Piña  Plátano  \\\n",
      "0                         0.0        90.0  ...       0    0     0        0   \n",
      "1                         0.0         0.0  ...       0    0     0        0   \n",
      "2                         0.0         0.0  ...       0    0     0        0   \n",
      "3                         0.0         0.0  ...       0    0     0        0   \n",
      "4                         0.0         0.0  ...       0    0     0        0   \n",
      "\n",
      "   Sandía  Tomate rojo  Tomate verde  Toronja  Uva  Zarzamora  \n",
      "0       0            1             0        0    0          0  \n",
      "1       0            0             0        0    0          0  \n",
      "2       0            0             0        0    0          0  \n",
      "3       0            0             0        0    0          0  \n",
      "4       0            0             0        0    0          0  \n",
      "\n",
      "[5 rows x 46 columns]\n"
     ]
    }
   ],
   "source": [
    "# Aplicar one-hot encoding a la columna 'Cultivo'\n",
    "cultivo_encoded = pd.get_dummies(eda['Cultivo'], prefix='', prefix_sep='').groupby(level=0, axis=1).sum()\n",
    "cultivo_encoded.columns = [f'{col}' for col in cultivo_encoded.columns]\n",
    "\n",
    "# Concatenar el DataFrame original con el nuevo DataFrame codificado\n",
    "eda_1 = pd.concat([eda, cultivo_encoded], axis=1)\n",
    "\n",
    "# Verificar el resultado\n",
    "print(eda_1.head())\n"
   ]
  },
  {
   "cell_type": "code",
   "execution_count": 28,
   "metadata": {},
   "outputs": [
    {
     "data": {
      "text/html": [
       "<div>\n",
       "<style scoped>\n",
       "    .dataframe tbody tr th:only-of-type {\n",
       "        vertical-align: middle;\n",
       "    }\n",
       "\n",
       "    .dataframe tbody tr th {\n",
       "        vertical-align: top;\n",
       "    }\n",
       "\n",
       "    .dataframe thead th {\n",
       "        text-align: right;\n",
       "    }\n",
       "</style>\n",
       "<table border=\"1\" class=\"dataframe\">\n",
       "  <thead>\n",
       "    <tr style=\"text-align: right;\">\n",
       "      <th></th>\n",
       "      <th>Año</th>\n",
       "      <th>Mes</th>\n",
       "      <th>Superficie(ha)_Sembrada</th>\n",
       "      <th>Superficie(ha)_Cosechada</th>\n",
       "      <th>Superficie(ha)_Siniestrada</th>\n",
       "      <th>Producción</th>\n",
       "      <th>Rendimiento(udm/ha)</th>\n",
       "      <th>Precipitacion</th>\n",
       "      <th>Berenjena</th>\n",
       "      <th>Brócoli</th>\n",
       "      <th>...</th>\n",
       "      <th>Pepino</th>\n",
       "      <th>Pera</th>\n",
       "      <th>Piña</th>\n",
       "      <th>Plátano</th>\n",
       "      <th>Sandía</th>\n",
       "      <th>Tomate rojo</th>\n",
       "      <th>Tomate verde</th>\n",
       "      <th>Toronja</th>\n",
       "      <th>Uva</th>\n",
       "      <th>Zarzamora</th>\n",
       "    </tr>\n",
       "  </thead>\n",
       "  <tbody>\n",
       "    <tr>\n",
       "      <th>count</th>\n",
       "      <td>266315.000000</td>\n",
       "      <td>266315.000000</td>\n",
       "      <td>266315.000000</td>\n",
       "      <td>266315.000000</td>\n",
       "      <td>266315.000000</td>\n",
       "      <td>266315.000000</td>\n",
       "      <td>266315.000000</td>\n",
       "      <td>266315.000000</td>\n",
       "      <td>266315.000000</td>\n",
       "      <td>266315.000000</td>\n",
       "      <td>...</td>\n",
       "      <td>266315.000000</td>\n",
       "      <td>266315.000000</td>\n",
       "      <td>266315.000000</td>\n",
       "      <td>266315.000000</td>\n",
       "      <td>266315.000000</td>\n",
       "      <td>266315.000000</td>\n",
       "      <td>266315.000000</td>\n",
       "      <td>266315.000000</td>\n",
       "      <td>266315.000000</td>\n",
       "      <td>266315.000000</td>\n",
       "    </tr>\n",
       "    <tr>\n",
       "      <th>mean</th>\n",
       "      <td>2021.030092</td>\n",
       "      <td>6.373929</td>\n",
       "      <td>282.333975</td>\n",
       "      <td>149.702932</td>\n",
       "      <td>1.341980</td>\n",
       "      <td>1978.033957</td>\n",
       "      <td>9.988692</td>\n",
       "      <td>98.491824</td>\n",
       "      <td>0.002324</td>\n",
       "      <td>0.014303</td>\n",
       "      <td>...</td>\n",
       "      <td>0.017547</td>\n",
       "      <td>0.019195</td>\n",
       "      <td>0.006353</td>\n",
       "      <td>0.028793</td>\n",
       "      <td>0.032905</td>\n",
       "      <td>0.065975</td>\n",
       "      <td>0.043250</td>\n",
       "      <td>0.012391</td>\n",
       "      <td>0.012076</td>\n",
       "      <td>0.008156</td>\n",
       "    </tr>\n",
       "    <tr>\n",
       "      <th>std</th>\n",
       "      <td>0.810992</td>\n",
       "      <td>3.185770</td>\n",
       "      <td>1570.268266</td>\n",
       "      <td>928.689893</td>\n",
       "      <td>157.263057</td>\n",
       "      <td>12720.445636</td>\n",
       "      <td>22.526595</td>\n",
       "      <td>103.711652</td>\n",
       "      <td>0.048155</td>\n",
       "      <td>0.118735</td>\n",
       "      <td>...</td>\n",
       "      <td>0.131298</td>\n",
       "      <td>0.137211</td>\n",
       "      <td>0.079455</td>\n",
       "      <td>0.167225</td>\n",
       "      <td>0.178387</td>\n",
       "      <td>0.248238</td>\n",
       "      <td>0.203419</td>\n",
       "      <td>0.110625</td>\n",
       "      <td>0.109225</td>\n",
       "      <td>0.089940</td>\n",
       "    </tr>\n",
       "    <tr>\n",
       "      <th>min</th>\n",
       "      <td>2020.000000</td>\n",
       "      <td>1.000000</td>\n",
       "      <td>0.000000</td>\n",
       "      <td>0.000000</td>\n",
       "      <td>0.000000</td>\n",
       "      <td>0.000000</td>\n",
       "      <td>0.000000</td>\n",
       "      <td>0.000000</td>\n",
       "      <td>0.000000</td>\n",
       "      <td>0.000000</td>\n",
       "      <td>...</td>\n",
       "      <td>0.000000</td>\n",
       "      <td>0.000000</td>\n",
       "      <td>0.000000</td>\n",
       "      <td>0.000000</td>\n",
       "      <td>0.000000</td>\n",
       "      <td>0.000000</td>\n",
       "      <td>0.000000</td>\n",
       "      <td>0.000000</td>\n",
       "      <td>0.000000</td>\n",
       "      <td>0.000000</td>\n",
       "    </tr>\n",
       "    <tr>\n",
       "      <th>25%</th>\n",
       "      <td>2020.000000</td>\n",
       "      <td>4.000000</td>\n",
       "      <td>7.000000</td>\n",
       "      <td>0.000000</td>\n",
       "      <td>0.000000</td>\n",
       "      <td>0.000000</td>\n",
       "      <td>0.000000</td>\n",
       "      <td>10.100000</td>\n",
       "      <td>0.000000</td>\n",
       "      <td>0.000000</td>\n",
       "      <td>...</td>\n",
       "      <td>0.000000</td>\n",
       "      <td>0.000000</td>\n",
       "      <td>0.000000</td>\n",
       "      <td>0.000000</td>\n",
       "      <td>0.000000</td>\n",
       "      <td>0.000000</td>\n",
       "      <td>0.000000</td>\n",
       "      <td>0.000000</td>\n",
       "      <td>0.000000</td>\n",
       "      <td>0.000000</td>\n",
       "    </tr>\n",
       "    <tr>\n",
       "      <th>50%</th>\n",
       "      <td>2021.000000</td>\n",
       "      <td>6.000000</td>\n",
       "      <td>23.000000</td>\n",
       "      <td>3.000000</td>\n",
       "      <td>0.000000</td>\n",
       "      <td>17.670000</td>\n",
       "      <td>1.750000</td>\n",
       "      <td>57.500000</td>\n",
       "      <td>0.000000</td>\n",
       "      <td>0.000000</td>\n",
       "      <td>...</td>\n",
       "      <td>0.000000</td>\n",
       "      <td>0.000000</td>\n",
       "      <td>0.000000</td>\n",
       "      <td>0.000000</td>\n",
       "      <td>0.000000</td>\n",
       "      <td>0.000000</td>\n",
       "      <td>0.000000</td>\n",
       "      <td>0.000000</td>\n",
       "      <td>0.000000</td>\n",
       "      <td>0.000000</td>\n",
       "    </tr>\n",
       "    <tr>\n",
       "      <th>75%</th>\n",
       "      <td>2022.000000</td>\n",
       "      <td>9.000000</td>\n",
       "      <td>96.000000</td>\n",
       "      <td>32.000000</td>\n",
       "      <td>0.000000</td>\n",
       "      <td>307.200000</td>\n",
       "      <td>12.420000</td>\n",
       "      <td>167.400000</td>\n",
       "      <td>0.000000</td>\n",
       "      <td>0.000000</td>\n",
       "      <td>...</td>\n",
       "      <td>0.000000</td>\n",
       "      <td>0.000000</td>\n",
       "      <td>0.000000</td>\n",
       "      <td>0.000000</td>\n",
       "      <td>0.000000</td>\n",
       "      <td>0.000000</td>\n",
       "      <td>0.000000</td>\n",
       "      <td>0.000000</td>\n",
       "      <td>0.000000</td>\n",
       "      <td>0.000000</td>\n",
       "    </tr>\n",
       "    <tr>\n",
       "      <th>max</th>\n",
       "      <td>2022.000000</td>\n",
       "      <td>12.000000</td>\n",
       "      <td>120900.000000</td>\n",
       "      <td>43772.000000</td>\n",
       "      <td>28372.000000</td>\n",
       "      <td>722238.000000</td>\n",
       "      <td>587.060000</td>\n",
       "      <td>705.100000</td>\n",
       "      <td>1.000000</td>\n",
       "      <td>1.000000</td>\n",
       "      <td>...</td>\n",
       "      <td>1.000000</td>\n",
       "      <td>1.000000</td>\n",
       "      <td>1.000000</td>\n",
       "      <td>1.000000</td>\n",
       "      <td>1.000000</td>\n",
       "      <td>1.000000</td>\n",
       "      <td>1.000000</td>\n",
       "      <td>1.000000</td>\n",
       "      <td>1.000000</td>\n",
       "      <td>1.000000</td>\n",
       "    </tr>\n",
       "  </tbody>\n",
       "</table>\n",
       "<p>8 rows × 41 columns</p>\n",
       "</div>"
      ],
      "text/plain": [
       "                 Año            Mes  Superficie(ha)_Sembrada  \\\n",
       "count  266315.000000  266315.000000            266315.000000   \n",
       "mean     2021.030092       6.373929               282.333975   \n",
       "std         0.810992       3.185770              1570.268266   \n",
       "min      2020.000000       1.000000                 0.000000   \n",
       "25%      2020.000000       4.000000                 7.000000   \n",
       "50%      2021.000000       6.000000                23.000000   \n",
       "75%      2022.000000       9.000000                96.000000   \n",
       "max      2022.000000      12.000000            120900.000000   \n",
       "\n",
       "       Superficie(ha)_Cosechada  Superficie(ha)_Siniestrada     Producción  \\\n",
       "count             266315.000000               266315.000000  266315.000000   \n",
       "mean                 149.702932                    1.341980    1978.033957   \n",
       "std                  928.689893                  157.263057   12720.445636   \n",
       "min                    0.000000                    0.000000       0.000000   \n",
       "25%                    0.000000                    0.000000       0.000000   \n",
       "50%                    3.000000                    0.000000      17.670000   \n",
       "75%                   32.000000                    0.000000     307.200000   \n",
       "max                43772.000000                28372.000000  722238.000000   \n",
       "\n",
       "       Rendimiento(udm/ha)  Precipitacion      Berenjena        Brócoli  ...  \\\n",
       "count        266315.000000  266315.000000  266315.000000  266315.000000  ...   \n",
       "mean              9.988692      98.491824       0.002324       0.014303  ...   \n",
       "std              22.526595     103.711652       0.048155       0.118735  ...   \n",
       "min               0.000000       0.000000       0.000000       0.000000  ...   \n",
       "25%               0.000000      10.100000       0.000000       0.000000  ...   \n",
       "50%               1.750000      57.500000       0.000000       0.000000  ...   \n",
       "75%              12.420000     167.400000       0.000000       0.000000  ...   \n",
       "max             587.060000     705.100000       1.000000       1.000000  ...   \n",
       "\n",
       "              Pepino           Pera           Piña        Plátano  \\\n",
       "count  266315.000000  266315.000000  266315.000000  266315.000000   \n",
       "mean        0.017547       0.019195       0.006353       0.028793   \n",
       "std         0.131298       0.137211       0.079455       0.167225   \n",
       "min         0.000000       0.000000       0.000000       0.000000   \n",
       "25%         0.000000       0.000000       0.000000       0.000000   \n",
       "50%         0.000000       0.000000       0.000000       0.000000   \n",
       "75%         0.000000       0.000000       0.000000       0.000000   \n",
       "max         1.000000       1.000000       1.000000       1.000000   \n",
       "\n",
       "              Sandía    Tomate rojo   Tomate verde        Toronja  \\\n",
       "count  266315.000000  266315.000000  266315.000000  266315.000000   \n",
       "mean        0.032905       0.065975       0.043250       0.012391   \n",
       "std         0.178387       0.248238       0.203419       0.110625   \n",
       "min         0.000000       0.000000       0.000000       0.000000   \n",
       "25%         0.000000       0.000000       0.000000       0.000000   \n",
       "50%         0.000000       0.000000       0.000000       0.000000   \n",
       "75%         0.000000       0.000000       0.000000       0.000000   \n",
       "max         1.000000       1.000000       1.000000       1.000000   \n",
       "\n",
       "                 Uva      Zarzamora  \n",
       "count  266315.000000  266315.000000  \n",
       "mean        0.012076       0.008156  \n",
       "std         0.109225       0.089940  \n",
       "min         0.000000       0.000000  \n",
       "25%         0.000000       0.000000  \n",
       "50%         0.000000       0.000000  \n",
       "75%         0.000000       0.000000  \n",
       "max         1.000000       1.000000  \n",
       "\n",
       "[8 rows x 41 columns]"
      ]
     },
     "execution_count": 28,
     "metadata": {},
     "output_type": "execute_result"
    }
   ],
   "source": [
    "eda_1.describe()"
   ]
  },
  {
   "cell_type": "code",
   "execution_count": 29,
   "metadata": {},
   "outputs": [
    {
     "data": {
      "text/plain": [
       "Index(['Año', 'Mes', 'Cultivo', 'Estado', 'Distrito', 'Municipio',\n",
       "       'Superficie(ha)_Sembrada', 'Superficie(ha)_Cosechada',\n",
       "       'Superficie(ha)_Siniestrada', 'Producción', 'Rendimiento(udm/ha)',\n",
       "       'Ivf', 'Precipitacion', 'Berenjena', 'Brócoli', 'Calabacita', 'Cebolla',\n",
       "       'Chile verde', 'Coliflor', 'Durazno', 'Espárrago', 'Frambuesa', 'Fresa',\n",
       "       'Frijol', 'Garbanzo grano', 'Guayaba', 'Lechuga', 'Limón', 'Mango',\n",
       "       'Manzana', 'Melón', 'Naranja', 'Nopal', 'Nuez', 'Papa', 'Papaya',\n",
       "       'Pepino', 'Pera', 'Piña', 'Plátano', 'Sandía', 'Tomate rojo',\n",
       "       'Tomate verde', 'Toronja', 'Uva', 'Zarzamora'],\n",
       "      dtype='object')"
      ]
     },
     "execution_count": 29,
     "metadata": {},
     "output_type": "execute_result"
    }
   ],
   "source": [
    "eda_1.columns"
   ]
  },
  {
   "cell_type": "code",
   "execution_count": 30,
   "metadata": {},
   "outputs": [
    {
     "data": {
      "text/plain": [
       "array(['Aguascalientes', 'Baja California', 'Baja California Sur',\n",
       "       'Campeche', 'Colima', 'Chiapas', 'Guanajuato', 'Guerrero',\n",
       "       'Jalisco', 'Estado De México', 'Michoacán', 'Morelos', 'Nayarit',\n",
       "       'Oaxaca', 'Puebla', 'Querétaro', 'Quintana Roo', 'Sinaloa',\n",
       "       'Sonora', 'Tabasco', 'Tamaulipas', 'Veracruz', 'Yucatán',\n",
       "       'Coahuila', 'Zacatecas', 'Durango', 'Hidalgo', 'Tlaxcala',\n",
       "       'Chihuahua'], dtype=object)"
      ]
     },
     "execution_count": 30,
     "metadata": {},
     "output_type": "execute_result"
    }
   ],
   "source": [
    "eda[\"Estado\"].unique()"
   ]
  },
  {
   "cell_type": "markdown",
   "metadata": {},
   "source": [
    "## OHE Estados\n",
    "\n",
    "En la columna de Estado, debido a que son texto y no numericas, no podremos utilizarlos para la realizacion de una correlacion ni hacer un analis, entonces se hace un One Hot Encoding ya que hay una importancia en cada cultivo"
   ]
  },
  {
   "cell_type": "code",
   "execution_count": 31,
   "metadata": {},
   "outputs": [
    {
     "name": "stdout",
     "output_type": "stream",
     "text": [
      "    Año  Mes      Cultivo          Estado        Distrito       Municipio  \\\n",
      "0  2020    1  Tomate rojo  Aguascalientes  Aguascalientes        Calvillo   \n",
      "1  2020    1        Limón  Aguascalientes  Aguascalientes        Calvillo   \n",
      "2  2020    1      Brócoli  Aguascalientes  Aguascalientes  Aguascalientes   \n",
      "3  2020    1      Brócoli  Aguascalientes  Aguascalientes        Asientos   \n",
      "4  2020    1      Brócoli  Aguascalientes  Aguascalientes           Cosío   \n",
      "\n",
      "   Superficie(ha)_Sembrada  Superficie(ha)_Cosechada  \\\n",
      "0                     16.0                       6.0   \n",
      "1                     94.2                       0.0   \n",
      "2                     15.0                       0.0   \n",
      "3                     50.0                       0.0   \n",
      "4                     44.0                       0.0   \n",
      "\n",
      "   Superficie(ha)_Siniestrada  Producción  ...  Querétaro Quintana Roo  \\\n",
      "0                         0.0        90.0  ...          0            0   \n",
      "1                         0.0         0.0  ...          0            0   \n",
      "2                         0.0         0.0  ...          0            0   \n",
      "3                         0.0         0.0  ...          0            0   \n",
      "4                         0.0         0.0  ...          0            0   \n",
      "\n",
      "   Sinaloa  Sonora  Tabasco  Tamaulipas  Tlaxcala  Veracruz  Yucatán  \\\n",
      "0        0       0        0           0         0         0        0   \n",
      "1        0       0        0           0         0         0        0   \n",
      "2        0       0        0           0         0         0        0   \n",
      "3        0       0        0           0         0         0        0   \n",
      "4        0       0        0           0         0         0        0   \n",
      "\n",
      "   Zacatecas  \n",
      "0          0  \n",
      "1          0  \n",
      "2          0  \n",
      "3          0  \n",
      "4          0  \n",
      "\n",
      "[5 rows x 75 columns]\n"
     ]
    }
   ],
   "source": [
    "# Aplicar one-hot encoding a la columna 'Estado'\n",
    "estado_encoded = pd.get_dummies(eda_1['Estado'], prefix='', prefix_sep='').groupby(level=0, axis=1).sum()\n",
    "estado_encoded.columns = [f'{col}' for col in estado_encoded.columns]\n",
    "\n",
    "# Crear un nuevo DataFrame 'eda_2' con las columnas codificadas\n",
    "eda_2 = pd.concat([eda_1, estado_encoded], axis=1)\n",
    "\n",
    "# Verificar el resultado\n",
    "print(eda_2.head())\n"
   ]
  },
  {
   "cell_type": "code",
   "execution_count": 32,
   "metadata": {},
   "outputs": [
    {
     "data": {
      "text/plain": [
       "Index(['Año', 'Mes', 'Cultivo', 'Estado', 'Distrito', 'Municipio',\n",
       "       'Superficie(ha)_Sembrada', 'Superficie(ha)_Cosechada',\n",
       "       'Superficie(ha)_Siniestrada', 'Producción', 'Rendimiento(udm/ha)',\n",
       "       'Ivf', 'Precipitacion', 'Berenjena', 'Brócoli', 'Calabacita', 'Cebolla',\n",
       "       'Chile verde', 'Coliflor', 'Durazno', 'Espárrago', 'Frambuesa', 'Fresa',\n",
       "       'Frijol', 'Garbanzo grano', 'Guayaba', 'Lechuga', 'Limón', 'Mango',\n",
       "       'Manzana', 'Melón', 'Naranja', 'Nopal', 'Nuez', 'Papa', 'Papaya',\n",
       "       'Pepino', 'Pera', 'Piña', 'Plátano', 'Sandía', 'Tomate rojo',\n",
       "       'Tomate verde', 'Toronja', 'Uva', 'Zarzamora', 'Aguascalientes',\n",
       "       'Baja California', 'Baja California Sur', 'Campeche', 'Chiapas',\n",
       "       'Chihuahua', 'Coahuila', 'Colima', 'Durango', 'Estado De México',\n",
       "       'Guanajuato', 'Guerrero', 'Hidalgo', 'Jalisco', 'Michoacán', 'Morelos',\n",
       "       'Nayarit', 'Oaxaca', 'Puebla', 'Querétaro', 'Quintana Roo', 'Sinaloa',\n",
       "       'Sonora', 'Tabasco', 'Tamaulipas', 'Tlaxcala', 'Veracruz', 'Yucatán',\n",
       "       'Zacatecas'],\n",
       "      dtype='object')"
      ]
     },
     "execution_count": 32,
     "metadata": {},
     "output_type": "execute_result"
    }
   ],
   "source": [
    "eda_2.columns"
   ]
  },
  {
   "cell_type": "markdown",
   "metadata": {},
   "source": [
    "# EDA"
   ]
  },
  {
   "cell_type": "code",
   "execution_count": 33,
   "metadata": {},
   "outputs": [
    {
     "data": {
      "text/plain": [
       "Index(['Año', 'Mes', 'Cultivo', 'Estado', 'Distrito', 'Municipio',\n",
       "       'Superficie(ha)_Sembrada', 'Superficie(ha)_Cosechada',\n",
       "       'Superficie(ha)_Siniestrada', 'Producción', 'Rendimiento(udm/ha)',\n",
       "       'Ivf', 'Precipitacion', 'Berenjena', 'Brócoli', 'Calabacita', 'Cebolla',\n",
       "       'Chile verde', 'Coliflor', 'Durazno', 'Espárrago', 'Frambuesa', 'Fresa',\n",
       "       'Frijol', 'Garbanzo grano', 'Guayaba', 'Lechuga', 'Limón', 'Mango',\n",
       "       'Manzana', 'Melón', 'Naranja', 'Nopal', 'Nuez', 'Papa', 'Papaya',\n",
       "       'Pepino', 'Pera', 'Piña', 'Plátano', 'Sandía', 'Tomate rojo',\n",
       "       'Tomate verde', 'Toronja', 'Uva', 'Zarzamora', 'Aguascalientes',\n",
       "       'Baja California', 'Baja California Sur', 'Campeche', 'Chiapas',\n",
       "       'Chihuahua', 'Coahuila', 'Colima', 'Durango', 'Estado De México',\n",
       "       'Guanajuato', 'Guerrero', 'Hidalgo', 'Jalisco', 'Michoacán', 'Morelos',\n",
       "       'Nayarit', 'Oaxaca', 'Puebla', 'Querétaro', 'Quintana Roo', 'Sinaloa',\n",
       "       'Sonora', 'Tabasco', 'Tamaulipas', 'Tlaxcala', 'Veracruz', 'Yucatán',\n",
       "       'Zacatecas'],\n",
       "      dtype='object')"
      ]
     },
     "execution_count": 33,
     "metadata": {},
     "output_type": "execute_result"
    }
   ],
   "source": [
    "eda_2.columns"
   ]
  },
  {
   "cell_type": "code",
   "execution_count": 34,
   "metadata": {},
   "outputs": [],
   "source": [
    "df = eda_2"
   ]
  },
  {
   "cell_type": "code",
   "execution_count": 35,
   "metadata": {},
   "outputs": [
    {
     "data": {
      "image/png": "[encoded data removed]",
      "text/plain": [
       "<Figure size 2000x1500 with 2 Axes>"
      ]
     },
     "metadata": {},
     "output_type": "display_data"
    }
   ],
   "source": [
    "# Seleccionar las columnas relevantes\n",
    "columnas_cultivo = ['Berenjena', 'Brócoli', 'Calabacita', 'Cebolla',\n",
    "                   'Chile verde', 'Coliflor', 'Durazno', 'Espárrago', 'Frambuesa', 'Fresa',\n",
    "                   'Frijol', 'Garbanzo grano', 'Guayaba', 'Lechuga', 'Limón', 'Mango',\n",
    "                   'Manzana', 'Melón', 'Naranja', 'Nopal', 'Nuez', 'Papa', 'Papaya',\n",
    "                   'Pepino', 'Pera', 'Piña', 'Plátano', 'Sandía', 'Tomate rojo',\n",
    "                   'Tomate verde', 'Toronja', 'Uva', 'Zarzamora']\n",
    "\n",
    "columnas_relacionadas = ['Superficie(ha)_Sembrada', 'Superficie(ha)_Cosechada',\n",
    "                         'Superficie(ha)_Siniestrada', 'Producción', 'Rendimiento(udm/ha)']\n",
    "\n",
    "# Crear un nuevo DataFrame con estas columnas\n",
    "df_cultivos = df[columnas_cultivo + columnas_relacionadas]\n",
    "\n",
    "# Calcular la matriz de correlación\n",
    "correlation_matrix = df_cultivos.corr()\n",
    "\n",
    "# Visualizar la matriz de correlación con un mapa de calor de Seaborn\n",
    "plt.figure(figsize=(20, 15))\n",
    "sns.heatmap(correlation_matrix, annot=False, cmap='coolwarm', fmt='.2f')\n",
    "plt.title('Matriz de correlación entre cultivos y datos relacionados')\n",
    "plt.show()\n"
   ]
  },
  {
   "cell_type": "code",
   "execution_count": 36,
   "metadata": {},
   "outputs": [
    {
     "data": {
      "image/png": "[encoded data removed]",
      "text/plain": [
       "<Figure size 2000x1500 with 2 Axes>"
      ]
     },
     "metadata": {},
     "output_type": "display_data"
    },
    {
     "data": {
      "image/png": "[encoded data removed]",
      "text/plain": [
       "<Figure size 1200x800 with 2 Axes>"
      ]
     },
     "metadata": {},
     "output_type": "display_data"
    }
   ],
   "source": [
    "# Seleccionar las columnas relevantes\n",
    "columnas_cultivo = ['Berenjena', 'Brócoli', 'Calabacita', 'Cebolla',\n",
    "                   'Chile verde', 'Coliflor', 'Durazno', 'Espárrago', 'Frambuesa', 'Fresa',\n",
    "                   'Frijol', 'Garbanzo grano', 'Guayaba', 'Lechuga', 'Limón', 'Mango',\n",
    "                   'Manzana', 'Melón', 'Naranja', 'Nopal', 'Nuez', 'Papa', 'Papaya',\n",
    "                   'Pepino', 'Pera', 'Piña', 'Plátano', 'Sandía', 'Tomate rojo',\n",
    "                   'Tomate verde', 'Toronja', 'Uva', 'Zarzamora']\n",
    "\n",
    "columnas_relacionadas = ['Superficie(ha)_Sembrada', 'Superficie(ha)_Cosechada',\n",
    "                         'Superficie(ha)_Siniestrada', 'Producción', 'Rendimiento(udm/ha)']\n",
    "\n",
    "# Crear un nuevo DataFrame con estas columnas\n",
    "df_cultivos = df[columnas_cultivo + columnas_relacionadas]\n",
    "\n",
    "# Calcular la matriz de correlación\n",
    "correlation_matrix = df_cultivos.corr()\n",
    "\n",
    "# Visualizar la matriz de correlación con un mapa de calor de Seaborn\n",
    "plt.figure(figsize=(20, 15))\n",
    "sns.heatmap(correlation_matrix, annot=False, cmap='coolwarm', fmt='.2f')\n",
    "plt.title('Matriz de correlación entre cultivos y datos relacionados')\n",
    "plt.show()\n",
    "\n",
    "# Filtrar las correlaciones superiores a 0.4\n",
    "corr = correlation_matrix\n",
    "kot = corr[corr >= 0.40]  # Filtrar pares de correlación mayores a 0.4\n",
    "\n",
    "plt.figure(figsize=(12, 8))\n",
    "sns.heatmap(kot, cmap=\"RdPu\")\n",
    "plt.title('Pares de correlación mayor a 0.9')\n",
    "plt.show()\n"
   ]
  },
  {
   "cell_type": "markdown",
   "metadata": {},
   "source": [
    "# EDA 2.0\n",
    "\n",
    "Se inicia con un nuevo EDA"
   ]
  },
  {
   "cell_type": "code",
   "execution_count": 39,
   "metadata": {},
   "outputs": [
    {
     "data": {
      "text/plain": [
       "Index(['Año', 'Mes', 'Cultivo', 'Estado', 'Distrito', 'Municipio',\n",
       "       'Superficie(ha)_Sembrada', 'Superficie(ha)_Cosechada',\n",
       "       'Superficie(ha)_Siniestrada', 'Producción', 'Rendimiento(udm/ha)',\n",
       "       'Ivf', 'Precipitacion'],\n",
       "      dtype='object')"
      ]
     },
     "execution_count": 39,
     "metadata": {},
     "output_type": "execute_result"
    }
   ],
   "source": [
    "eda.columns"
   ]
  },
  {
   "cell_type": "code",
   "execution_count": 40,
   "metadata": {},
   "outputs": [
    {
     "data": {
      "text/html": [
       "<div>\n",
       "<style scoped>\n",
       "    .dataframe tbody tr th:only-of-type {\n",
       "        vertical-align: middle;\n",
       "    }\n",
       "\n",
       "    .dataframe tbody tr th {\n",
       "        vertical-align: top;\n",
       "    }\n",
       "\n",
       "    .dataframe thead th {\n",
       "        text-align: right;\n",
       "    }\n",
       "</style>\n",
       "<table border=\"1\" class=\"dataframe\">\n",
       "  <thead>\n",
       "    <tr style=\"text-align: right;\">\n",
       "      <th></th>\n",
       "      <th>Año</th>\n",
       "      <th>Mes</th>\n",
       "      <th>Superficie(ha)_Sembrada</th>\n",
       "      <th>Superficie(ha)_Cosechada</th>\n",
       "      <th>Superficie(ha)_Siniestrada</th>\n",
       "      <th>Producción</th>\n",
       "      <th>Rendimiento(udm/ha)</th>\n",
       "      <th>Precipitacion</th>\n",
       "    </tr>\n",
       "  </thead>\n",
       "  <tbody>\n",
       "    <tr>\n",
       "      <th>count</th>\n",
       "      <td>266315.000000</td>\n",
       "      <td>266315.000000</td>\n",
       "      <td>266315.000000</td>\n",
       "      <td>266315.000000</td>\n",
       "      <td>266315.000000</td>\n",
       "      <td>266315.000000</td>\n",
       "      <td>266315.000000</td>\n",
       "      <td>266315.000000</td>\n",
       "    </tr>\n",
       "    <tr>\n",
       "      <th>mean</th>\n",
       "      <td>2021.030092</td>\n",
       "      <td>6.373929</td>\n",
       "      <td>282.333975</td>\n",
       "      <td>149.702932</td>\n",
       "      <td>1.341980</td>\n",
       "      <td>1978.033957</td>\n",
       "      <td>9.988692</td>\n",
       "      <td>98.491824</td>\n",
       "    </tr>\n",
       "    <tr>\n",
       "      <th>std</th>\n",
       "      <td>0.810992</td>\n",
       "      <td>3.185770</td>\n",
       "      <td>1570.268266</td>\n",
       "      <td>928.689893</td>\n",
       "      <td>157.263057</td>\n",
       "      <td>12720.445636</td>\n",
       "      <td>22.526595</td>\n",
       "      <td>103.711652</td>\n",
       "    </tr>\n",
       "    <tr>\n",
       "      <th>min</th>\n",
       "      <td>2020.000000</td>\n",
       "      <td>1.000000</td>\n",
       "      <td>0.000000</td>\n",
       "      <td>0.000000</td>\n",
       "      <td>0.000000</td>\n",
       "      <td>0.000000</td>\n",
       "      <td>0.000000</td>\n",
       "      <td>0.000000</td>\n",
       "    </tr>\n",
       "    <tr>\n",
       "      <th>25%</th>\n",
       "      <td>2020.000000</td>\n",
       "      <td>4.000000</td>\n",
       "      <td>7.000000</td>\n",
       "      <td>0.000000</td>\n",
       "      <td>0.000000</td>\n",
       "      <td>0.000000</td>\n",
       "      <td>0.000000</td>\n",
       "      <td>10.100000</td>\n",
       "    </tr>\n",
       "    <tr>\n",
       "      <th>50%</th>\n",
       "      <td>2021.000000</td>\n",
       "      <td>6.000000</td>\n",
       "      <td>23.000000</td>\n",
       "      <td>3.000000</td>\n",
       "      <td>0.000000</td>\n",
       "      <td>17.670000</td>\n",
       "      <td>1.750000</td>\n",
       "      <td>57.500000</td>\n",
       "    </tr>\n",
       "    <tr>\n",
       "      <th>75%</th>\n",
       "      <td>2022.000000</td>\n",
       "      <td>9.000000</td>\n",
       "      <td>96.000000</td>\n",
       "      <td>32.000000</td>\n",
       "      <td>0.000000</td>\n",
       "      <td>307.200000</td>\n",
       "      <td>12.420000</td>\n",
       "      <td>167.400000</td>\n",
       "    </tr>\n",
       "    <tr>\n",
       "      <th>max</th>\n",
       "      <td>2022.000000</td>\n",
       "      <td>12.000000</td>\n",
       "      <td>120900.000000</td>\n",
       "      <td>43772.000000</td>\n",
       "      <td>28372.000000</td>\n",
       "      <td>722238.000000</td>\n",
       "      <td>587.060000</td>\n",
       "      <td>705.100000</td>\n",
       "    </tr>\n",
       "  </tbody>\n",
       "</table>\n",
       "</div>"
      ],
      "text/plain": [
       "                 Año            Mes  Superficie(ha)_Sembrada  \\\n",
       "count  266315.000000  266315.000000            266315.000000   \n",
       "mean     2021.030092       6.373929               282.333975   \n",
       "std         0.810992       3.185770              1570.268266   \n",
       "min      2020.000000       1.000000                 0.000000   \n",
       "25%      2020.000000       4.000000                 7.000000   \n",
       "50%      2021.000000       6.000000                23.000000   \n",
       "75%      2022.000000       9.000000                96.000000   \n",
       "max      2022.000000      12.000000            120900.000000   \n",
       "\n",
       "       Superficie(ha)_Cosechada  Superficie(ha)_Siniestrada     Producción  \\\n",
       "count             266315.000000               266315.000000  266315.000000   \n",
       "mean                 149.702932                    1.341980    1978.033957   \n",
       "std                  928.689893                  157.263057   12720.445636   \n",
       "min                    0.000000                    0.000000       0.000000   \n",
       "25%                    0.000000                    0.000000       0.000000   \n",
       "50%                    3.000000                    0.000000      17.670000   \n",
       "75%                   32.000000                    0.000000     307.200000   \n",
       "max                43772.000000                28372.000000  722238.000000   \n",
       "\n",
       "       Rendimiento(udm/ha)  Precipitacion  \n",
       "count        266315.000000  266315.000000  \n",
       "mean              9.988692      98.491824  \n",
       "std              22.526595     103.711652  \n",
       "min               0.000000       0.000000  \n",
       "25%               0.000000      10.100000  \n",
       "50%               1.750000      57.500000  \n",
       "75%              12.420000     167.400000  \n",
       "max             587.060000     705.100000  "
      ]
     },
     "execution_count": 40,
     "metadata": {},
     "output_type": "execute_result"
    }
   ],
   "source": [
    "eda.describe()"
   ]
  },
  {
   "cell_type": "code",
   "execution_count": 45,
   "metadata": {},
   "outputs": [
    {
     "name": "stderr",
     "output_type": "stream",
     "text": [
      "C:\\Users\\him_6\\AppData\\Local\\Temp\\ipykernel_25548\\2914936320.py:2: FutureWarning:\n",
      "\n",
      "The default value of numeric_only in DataFrame.corr is deprecated. In a future version, it will default to False. Select only valid columns or specify the value of numeric_only to silence this warning.\n",
      "\n"
     ]
    },
    {
     "data": {
      "application/vnd.plotly.v1+json": {
       "config": {
        "plotlyServerURL": "https://plot.ly"
       },
       "data": [
        {
         "colorscale": [
          [
           0,
           "rgb(255,247,236)"
          ],
          [
           0.125,
           "rgb(254,232,200)"
          ],
          [
           0.25,
           "rgb(253,212,158)"
          ],
          [
           0.375,
           "rgb(253,187,132)"
          ],
          [
           0.5,
           "rgb(252,141,89)"
          ],
          [
           0.625,
           "rgb(239,101,72)"
          ],
          [
           0.75,
           "rgb(215,48,31)"
          ],
          [
           0.875,
           "rgb(179,0,0)"
          ],
          [
           1,
           "rgb(127,0,0)"
          ]
         ],
         "type": "heatmap",
         "x": [
          "Año",
          "Mes",
          "Superficie(ha)_Sembrada",
          "Superficie(ha)_Cosechada",
          "Superficie(ha)_Siniestrada",
          "Producción",
          "Rendimiento(udm/ha)",
          "Precipitacion"
         ],
         "y": [
          "Año",
          "Mes",
          "Superficie(ha)_Sembrada",
          "Superficie(ha)_Cosechada",
          "Superficie(ha)_Siniestrada",
          "Producción",
          "Rendimiento(udm/ha)",
          "Precipitacion"
         ],
         "z": [
          [
           1,
           -0.003146057713975727,
           -0.006553557923584553,
           -0.003068451601065145,
           -0.009340945407999925,
           -0.002357770931264333,
           -0.0012608924829112845,
           -0.011911395787559424
          ],
          [
           -0.003146057713975727,
           1,
           0.01266720567060167,
           0.040134271592808406,
           -0.0009301168806734695,
           0.06707958550402006,
           0.12370743790127699,
           0.30455130862979773
          ],
          [
           -0.006553557923584553,
           0.01266720567060167,
           1,
           0.6412729917429146,
           0.11232349343508541,
           0.47864992388295924,
           -0.00842084393974993,
           -0.003437574125992994
          ],
          [
           -0.003068451601065145,
           0.040134271592808406,
           0.6412729917429146,
           1,
           0.01653438036759673,
           0.7391792749771638,
           0.023073818549764466,
           0.029719780912531392
          ],
          [
           -0.009340945407999925,
           -0.0009301168806734695,
           0.11232349343508541,
           0.01653438036759673,
           1,
           0.0030086445042533886,
           -0.0005643404998855402,
           0.0029183021181380764
          ],
          [
           -0.002357770931264333,
           0.06707958550402006,
           0.47864992388295924,
           0.7391792749771638,
           0.0030086445042533886,
           1,
           0.13567016294439213,
           0.03225276549851358
          ],
          [
           -0.0012608924829112845,
           0.12370743790127699,
           -0.00842084393974993,
           0.023073818549764466,
           -0.0005643404998855402,
           0.13567016294439213,
           1,
           0.13102713865111584
          ],
          [
           -0.011911395787559424,
           0.30455130862979773,
           -0.003437574125992994,
           0.029719780912531392,
           0.0029183021181380764,
           0.03225276549851358,
           0.13102713865111584,
           1
          ]
         ]
        }
       ],
       "layout": {
        "height": 800,
        "template": {
         "data": {
          "bar": [
           {
            "error_x": {
             "color": "#2a3f5f"
            },
            "error_y": {
             "color": "#2a3f5f"
            },
            "marker": {
             "line": {
              "color": "#E5ECF6",
              "width": 0.5
             },
             "pattern": {
              "fillmode": "overlay",
              "size": 10,
              "solidity": 0.2
             }
            },
            "type": "bar"
           }
          ],
          "barpolar": [
           {
            "marker": {
             "line": {
              "color": "#E5ECF6",
              "width": 0.5
             },
             "pattern": {
              "fillmode": "overlay",
              "size": 10,
              "solidity": 0.2
             }
            },
            "type": "barpolar"
           }
          ],
          "carpet": [
           {
            "aaxis": {
             "endlinecolor": "#2a3f5f",
             "gridcolor": "white",
             "linecolor": "white",
             "minorgridcolor": "white",
             "startlinecolor": "#2a3f5f"
            },
            "baxis": {
             "endlinecolor": "#2a3f5f",
             "gridcolor": "white",
             "linecolor": "white",
             "minorgridcolor": "white",
             "startlinecolor": "#2a3f5f"
            },
            "type": "carpet"
           }
          ],
          "choropleth": [
           {
            "colorbar": {
             "outlinewidth": 0,
             "ticks": ""
            },
            "type": "choropleth"
           }
          ],
          "contour": [
           {
            "colorbar": {
             "outlinewidth": 0,
             "ticks": ""
            },
            "colorscale": [
             [
              0,
              "#0d0887"
             ],
             [
              0.1111111111111111,
              "#46039f"
             ],
             [
              0.2222222222222222,
              "#7201a8"
             ],
             [
              0.3333333333333333,
              "#9c179e"
             ],
             [
              0.4444444444444444,
              "#bd3786"
             ],
             [
              0.5555555555555556,
              "#d8576b"
             ],
             [
              0.6666666666666666,
              "#ed7953"
             ],
             [
              0.7777777777777778,
              "#fb9f3a"
             ],
             [
              0.8888888888888888,
              "#fdca26"
             ],
             [
              1,
              "#f0f921"
             ]
            ],
            "type": "contour"
           }
          ],
          "contourcarpet": [
           {
            "colorbar": {
             "outlinewidth": 0,
             "ticks": ""
            },
            "type": "contourcarpet"
           }
          ],
          "heatmap": [
           {
            "colorbar": {
             "outlinewidth": 0,
             "ticks": ""
            },
            "colorscale": [
             [
              0,
              "#0d0887"
             ],
             [
              0.1111111111111111,
              "#46039f"
             ],
             [
              0.2222222222222222,
              "#7201a8"
             ],
             [
              0.3333333333333333,
              "#9c179e"
             ],
             [
              0.4444444444444444,
              "#bd3786"
             ],
             [
              0.5555555555555556,
              "#d8576b"
             ],
             [
              0.6666666666666666,
              "#ed7953"
             ],
             [
              0.7777777777777778,
              "#fb9f3a"
             ],
             [
              0.8888888888888888,
              "#fdca26"
             ],
             [
              1,
              "#f0f921"
             ]
            ],
            "type": "heatmap"
           }
          ],
          "heatmapgl": [
           {
            "colorbar": {
             "outlinewidth": 0,
             "ticks": ""
            },
            "colorscale": [
             [
              0,
              "#0d0887"
             ],
             [
              0.1111111111111111,
              "#46039f"
             ],
             [
              0.2222222222222222,
              "#7201a8"
             ],
             [
              0.3333333333333333,
              "#9c179e"
             ],
             [
              0.4444444444444444,
              "#bd3786"
             ],
             [
              0.5555555555555556,
              "#d8576b"
             ],
             [
              0.6666666666666666,
              "#ed7953"
             ],
             [
              0.7777777777777778,
              "#fb9f3a"
             ],
             [
              0.8888888888888888,
              "#fdca26"
             ],
             [
              1,
              "#f0f921"
             ]
            ],
            "type": "heatmapgl"
           }
          ],
          "histogram": [
           {
            "marker": {
             "pattern": {
              "fillmode": "overlay",
              "size": 10,
              "solidity": 0.2
             }
            },
            "type": "histogram"
           }
          ],
          "histogram2d": [
           {
            "colorbar": {
             "outlinewidth": 0,
             "ticks": ""
            },
            "colorscale": [
             [
              0,
              "#0d0887"
             ],
             [
              0.1111111111111111,
              "#46039f"
             ],
             [
              0.2222222222222222,
              "#7201a8"
             ],
             [
              0.3333333333333333,
              "#9c179e"
             ],
             [
              0.4444444444444444,
              "#bd3786"
             ],
             [
              0.5555555555555556,
              "#d8576b"
             ],
             [
              0.6666666666666666,
              "#ed7953"
             ],
             [
              0.7777777777777778,
              "#fb9f3a"
             ],
             [
              0.8888888888888888,
              "#fdca26"
             ],
             [
              1,
              "#f0f921"
             ]
            ],
            "type": "histogram2d"
           }
          ],
          "histogram2dcontour": [
           {
            "colorbar": {
             "outlinewidth": 0,
             "ticks": ""
            },
            "colorscale": [
             [
              0,
              "#0d0887"
             ],
             [
              0.1111111111111111,
              "#46039f"
             ],
             [
              0.2222222222222222,
              "#7201a8"
             ],
             [
              0.3333333333333333,
              "#9c179e"
             ],
             [
              0.4444444444444444,
              "#bd3786"
             ],
             [
              0.5555555555555556,
              "#d8576b"
             ],
             [
              0.6666666666666666,
              "#ed7953"
             ],
             [
              0.7777777777777778,
              "#fb9f3a"
             ],
             [
              0.8888888888888888,
              "#fdca26"
             ],
             [
              1,
              "#f0f921"
             ]
            ],
            "type": "histogram2dcontour"
           }
          ],
          "mesh3d": [
           {
            "colorbar": {
             "outlinewidth": 0,
             "ticks": ""
            },
            "type": "mesh3d"
           }
          ],
          "parcoords": [
           {
            "line": {
             "colorbar": {
              "outlinewidth": 0,
              "ticks": ""
             }
            },
            "type": "parcoords"
           }
          ],
          "pie": [
           {
            "automargin": true,
            "type": "pie"
           }
          ],
          "scatter": [
           {
            "fillpattern": {
             "fillmode": "overlay",
             "size": 10,
             "solidity": 0.2
            },
            "type": "scatter"
           }
          ],
          "scatter3d": [
           {
            "line": {
             "colorbar": {
              "outlinewidth": 0,
              "ticks": ""
             }
            },
            "marker": {
             "colorbar": {
              "outlinewidth": 0,
              "ticks": ""
             }
            },
            "type": "scatter3d"
           }
          ],
          "scattercarpet": [
           {
            "marker": {
             "colorbar": {
              "outlinewidth": 0,
              "ticks": ""
             }
            },
            "type": "scattercarpet"
           }
          ],
          "scattergeo": [
           {
            "marker": {
             "colorbar": {
              "outlinewidth": 0,
              "ticks": ""
             }
            },
            "type": "scattergeo"
           }
          ],
          "scattergl": [
           {
            "marker": {
             "colorbar": {
              "outlinewidth": 0,
              "ticks": ""
             }
            },
            "type": "scattergl"
           }
          ],
          "scattermapbox": [
           {
            "marker": {
             "colorbar": {
              "outlinewidth": 0,
              "ticks": ""
             }
            },
            "type": "scattermapbox"
           }
          ],
          "scatterpolar": [
           {
            "marker": {
             "colorbar": {
              "outlinewidth": 0,
              "ticks": ""
             }
            },
            "type": "scatterpolar"
           }
          ],
          "scatterpolargl": [
           {
            "marker": {
             "colorbar": {
              "outlinewidth": 0,
              "ticks": ""
             }
            },
            "type": "scatterpolargl"
           }
          ],
          "scatterternary": [
           {
            "marker": {
             "colorbar": {
              "outlinewidth": 0,
              "ticks": ""
             }
            },
            "type": "scatterternary"
           }
          ],
          "surface": [
           {
            "colorbar": {
             "outlinewidth": 0,
             "ticks": ""
            },
            "colorscale": [
             [
              0,
              "#0d0887"
             ],
             [
              0.1111111111111111,
              "#46039f"
             ],
             [
              0.2222222222222222,
              "#7201a8"
             ],
             [
              0.3333333333333333,
              "#9c179e"
             ],
             [
              0.4444444444444444,
              "#bd3786"
             ],
             [
              0.5555555555555556,
              "#d8576b"
             ],
             [
              0.6666666666666666,
              "#ed7953"
             ],
             [
              0.7777777777777778,
              "#fb9f3a"
             ],
             [
              0.8888888888888888,
              "#fdca26"
             ],
             [
              1,
              "#f0f921"
             ]
            ],
            "type": "surface"
           }
          ],
          "table": [
           {
            "cells": {
             "fill": {
              "color": "#EBF0F8"
             },
             "line": {
              "color": "white"
             }
            },
            "header": {
             "fill": {
              "color": "#C8D4E3"
             },
             "line": {
              "color": "white"
             }
            },
            "type": "table"
           }
          ]
         },
         "layout": {
          "annotationdefaults": {
           "arrowcolor": "#2a3f5f",
           "arrowhead": 0,
           "arrowwidth": 1
          },
          "autotypenumbers": "strict",
          "coloraxis": {
           "colorbar": {
            "outlinewidth": 0,
            "ticks": ""
           }
          },
          "colorscale": {
           "diverging": [
            [
             0,
             "#8e0152"
            ],
            [
             0.1,
             "#c51b7d"
            ],
            [
             0.2,
             "#de77ae"
            ],
            [
             0.3,
             "#f1b6da"
            ],
            [
             0.4,
             "#fde0ef"
            ],
            [
             0.5,
             "#f7f7f7"
            ],
            [
             0.6,
             "#e6f5d0"
            ],
            [
             0.7,
             "#b8e186"
            ],
            [
             0.8,
             "#7fbc41"
            ],
            [
             0.9,
             "#4d9221"
            ],
            [
             1,
             "#276419"
            ]
           ],
           "sequential": [
            [
             0,
             "#0d0887"
            ],
            [
             0.1111111111111111,
             "#46039f"
            ],
            [
             0.2222222222222222,
             "#7201a8"
            ],
            [
             0.3333333333333333,
             "#9c179e"
            ],
            [
             0.4444444444444444,
             "#bd3786"
            ],
            [
             0.5555555555555556,
             "#d8576b"
            ],
            [
             0.6666666666666666,
             "#ed7953"
            ],
            [
             0.7777777777777778,
             "#fb9f3a"
            ],
            [
             0.8888888888888888,
             "#fdca26"
            ],
            [
             1,
             "#f0f921"
            ]
           ],
           "sequentialminus": [
            [
             0,
             "#0d0887"
            ],
            [
             0.1111111111111111,
             "#46039f"
            ],
            [
             0.2222222222222222,
             "#7201a8"
            ],
            [
             0.3333333333333333,
             "#9c179e"
            ],
            [
             0.4444444444444444,
             "#bd3786"
            ],
            [
             0.5555555555555556,
             "#d8576b"
            ],
            [
             0.6666666666666666,
             "#ed7953"
            ],
            [
             0.7777777777777778,
             "#fb9f3a"
            ],
            [
             0.8888888888888888,
             "#fdca26"
            ],
            [
             1,
             "#f0f921"
            ]
           ]
          },
          "colorway": [
           "#636efa",
           "#EF553B",
           "#00cc96",
           "#ab63fa",
           "#FFA15A",
           "#19d3f3",
           "#FF6692",
           "#B6E880",
           "#FF97FF",
           "#FECB52"
          ],
          "font": {
           "color": "#2a3f5f"
          },
          "geo": {
           "bgcolor": "white",
           "lakecolor": "white",
           "landcolor": "#E5ECF6",
           "showlakes": true,
           "showland": true,
           "subunitcolor": "white"
          },
          "hoverlabel": {
           "align": "left"
          },
          "hovermode": "closest",
          "mapbox": {
           "style": "light"
          },
          "paper_bgcolor": "white",
          "plot_bgcolor": "#E5ECF6",
          "polar": {
           "angularaxis": {
            "gridcolor": "white",
            "linecolor": "white",
            "ticks": ""
           },
           "bgcolor": "#E5ECF6",
           "radialaxis": {
            "gridcolor": "white",
            "linecolor": "white",
            "ticks": ""
           }
          },
          "scene": {
           "xaxis": {
            "backgroundcolor": "#E5ECF6",
            "gridcolor": "white",
            "gridwidth": 2,
            "linecolor": "white",
            "showbackground": true,
            "ticks": "",
            "zerolinecolor": "white"
           },
           "yaxis": {
            "backgroundcolor": "#E5ECF6",
            "gridcolor": "white",
            "gridwidth": 2,
            "linecolor": "white",
            "showbackground": true,
            "ticks": "",
            "zerolinecolor": "white"
           },
           "zaxis": {
            "backgroundcolor": "#E5ECF6",
            "gridcolor": "white",
            "gridwidth": 2,
            "linecolor": "white",
            "showbackground": true,
            "ticks": "",
            "zerolinecolor": "white"
           }
          },
          "shapedefaults": {
           "line": {
            "color": "#2a3f5f"
           }
          },
          "ternary": {
           "aaxis": {
            "gridcolor": "white",
            "linecolor": "white",
            "ticks": ""
           },
           "baxis": {
            "gridcolor": "white",
            "linecolor": "white",
            "ticks": ""
           },
           "bgcolor": "#E5ECF6",
           "caxis": {
            "gridcolor": "white",
            "linecolor": "white",
            "ticks": ""
           }
          },
          "title": {
           "x": 0.05
          },
          "xaxis": {
           "automargin": true,
           "gridcolor": "white",
           "linecolor": "white",
           "ticks": "",
           "title": {
            "standoff": 15
           },
           "zerolinecolor": "white",
           "zerolinewidth": 2
          },
          "yaxis": {
           "automargin": true,
           "gridcolor": "white",
           "linecolor": "white",
           "ticks": "",
           "title": {
            "standoff": 15
           },
           "zerolinecolor": "white",
           "zerolinewidth": 2
          }
         }
        },
        "title": {
         "text": "Matriz de Correlación"
        },
        "width": 800
       }
      }
     },
     "metadata": {},
     "output_type": "display_data"
    }
   ],
   "source": [
    "# Crear una matriz de correlación\n",
    "correlation_matrix = eda.corr()\n",
    "\n",
    "# Crear el heatmap con Plotly\n",
    "fig = go.Figure(data=go.Heatmap(\n",
    "        z=correlation_matrix.values,\n",
    "        x=correlation_matrix.columns,\n",
    "        y=correlation_matrix.columns,\n",
    "        colorscale='OrRd'))\n",
    "\n",
    "fig.update_layout(title='Matriz de Correlación',\n",
    "                  width=800, height=800)\n",
    "\n",
    "fig.show()\n"
   ]
  },
  {
   "cell_type": "code",
   "execution_count": 49,
   "metadata": {},
   "outputs": [
    {
     "name": "stderr",
     "output_type": "stream",
     "text": [
      "C:\\Users\\him_6\\AppData\\Local\\Temp\\ipykernel_25548\\996208545.py:2: FutureWarning:\n",
      "\n",
      "The default value of numeric_only in DataFrame.corr is deprecated. In a future version, it will default to False. Select only valid columns or specify the value of numeric_only to silence this warning.\n",
      "\n"
     ]
    },
    {
     "data": {
      "application/vnd.plotly.v1+json": {
       "config": {
        "plotlyServerURL": "https://plot.ly"
       },
       "data": [
        {
         "colorscale": [
          [
           0,
           "rgb(255,247,236)"
          ],
          [
           0.125,
           "rgb(254,232,200)"
          ],
          [
           0.25,
           "rgb(253,212,158)"
          ],
          [
           0.375,
           "rgb(253,187,132)"
          ],
          [
           0.5,
           "rgb(252,141,89)"
          ],
          [
           0.625,
           "rgb(239,101,72)"
          ],
          [
           0.75,
           "rgb(215,48,31)"
          ],
          [
           0.875,
           "rgb(179,0,0)"
          ],
          [
           1,
           "rgb(127,0,0)"
          ]
         ],
         "type": "heatmap",
         "x": [
          "Año",
          "Mes",
          "Superficie(ha)_Sembrada",
          "Superficie(ha)_Cosechada",
          "Superficie(ha)_Siniestrada",
          "Producción",
          "Rendimiento(udm/ha)",
          "Precipitacion"
         ],
         "y": [
          "Año",
          "Mes",
          "Superficie(ha)_Sembrada",
          "Superficie(ha)_Cosechada",
          "Superficie(ha)_Siniestrada",
          "Producción",
          "Rendimiento(udm/ha)",
          "Precipitacion"
         ],
         "z": [
          [
           1,
           -0.003146057713975727,
           -0.006553557923584553,
           -0.003068451601065145,
           -0.009340945407999925,
           -0.002357770931264333,
           -0.0012608924829112845,
           -0.011911395787559424
          ],
          [
           -0.003146057713975727,
           1,
           0.01266720567060167,
           0.040134271592808406,
           -0.0009301168806734695,
           0.06707958550402006,
           0.12370743790127699,
           0.30455130862979773
          ],
          [
           -0.006553557923584553,
           0.01266720567060167,
           1,
           0.6412729917429146,
           0.11232349343508541,
           0.47864992388295924,
           -0.00842084393974993,
           -0.003437574125992994
          ],
          [
           -0.003068451601065145,
           0.040134271592808406,
           0.6412729917429146,
           1,
           0.01653438036759673,
           0.7391792749771638,
           0.023073818549764466,
           0.029719780912531392
          ],
          [
           -0.009340945407999925,
           -0.0009301168806734695,
           0.11232349343508541,
           0.01653438036759673,
           1,
           0.0030086445042533886,
           -0.0005643404998855402,
           0.0029183021181380764
          ],
          [
           -0.002357770931264333,
           0.06707958550402006,
           0.47864992388295924,
           0.7391792749771638,
           0.0030086445042533886,
           1,
           0.13567016294439213,
           0.03225276549851358
          ],
          [
           -0.0012608924829112845,
           0.12370743790127699,
           -0.00842084393974993,
           0.023073818549764466,
           -0.0005643404998855402,
           0.13567016294439213,
           1,
           0.13102713865111584
          ],
          [
           -0.011911395787559424,
           0.30455130862979773,
           -0.003437574125992994,
           0.029719780912531392,
           0.0029183021181380764,
           0.03225276549851358,
           0.13102713865111584,
           1
          ]
         ]
        }
       ],
       "layout": {
        "annotations": [
         {
          "showarrow": false,
          "text": "1.0",
          "x": "Año",
          "xref": "x",
          "y": "Año",
          "yref": "y"
         },
         {
          "showarrow": false,
          "text": "-0.0",
          "x": "Mes",
          "xref": "x",
          "y": "Año",
          "yref": "y"
         },
         {
          "showarrow": false,
          "text": "-0.01",
          "x": "Superficie(ha)_Sembrada",
          "xref": "x",
          "y": "Año",
          "yref": "y"
         },
         {
          "showarrow": false,
          "text": "-0.0",
          "x": "Superficie(ha)_Cosechada",
          "xref": "x",
          "y": "Año",
          "yref": "y"
         },
         {
          "showarrow": false,
          "text": "-0.01",
          "x": "Superficie(ha)_Siniestrada",
          "xref": "x",
          "y": "Año",
          "yref": "y"
         },
         {
          "showarrow": false,
          "text": "-0.0",
          "x": "Producción",
          "xref": "x",
          "y": "Año",
          "yref": "y"
         },
         {
          "showarrow": false,
          "text": "-0.0",
          "x": "Rendimiento(udm/ha)",
          "xref": "x",
          "y": "Año",
          "yref": "y"
         },
         {
          "showarrow": false,
          "text": "-0.01",
          "x": "Precipitacion",
          "xref": "x",
          "y": "Año",
          "yref": "y"
         },
         {
          "showarrow": false,
          "text": "-0.0",
          "x": "Año",
          "xref": "x",
          "y": "Mes",
          "yref": "y"
         },
         {
          "showarrow": false,
          "text": "1.0",
          "x": "Mes",
          "xref": "x",
          "y": "Mes",
          "yref": "y"
         },
         {
          "showarrow": false,
          "text": "0.01",
          "x": "Superficie(ha)_Sembrada",
          "xref": "x",
          "y": "Mes",
          "yref": "y"
         },
         {
          "showarrow": false,
          "text": "0.04",
          "x": "Superficie(ha)_Cosechada",
          "xref": "x",
          "y": "Mes",
          "yref": "y"
         },
         {
          "showarrow": false,
          "text": "-0.0",
          "x": "Superficie(ha)_Siniestrada",
          "xref": "x",
          "y": "Mes",
          "yref": "y"
         },
         {
          "showarrow": false,
          "text": "0.07",
          "x": "Producción",
          "xref": "x",
          "y": "Mes",
          "yref": "y"
         },
         {
          "showarrow": false,
          "text": "0.12",
          "x": "Rendimiento(udm/ha)",
          "xref": "x",
          "y": "Mes",
          "yref": "y"
         },
         {
          "showarrow": false,
          "text": "0.3",
          "x": "Precipitacion",
          "xref": "x",
          "y": "Mes",
          "yref": "y"
         },
         {
          "showarrow": false,
          "text": "-0.01",
          "x": "Año",
          "xref": "x",
          "y": "Superficie(ha)_Sembrada",
          "yref": "y"
         },
         {
          "showarrow": false,
          "text": "0.01",
          "x": "Mes",
          "xref": "x",
          "y": "Superficie(ha)_Sembrada",
          "yref": "y"
         },
         {
          "showarrow": false,
          "text": "1.0",
          "x": "Superficie(ha)_Sembrada",
          "xref": "x",
          "y": "Superficie(ha)_Sembrada",
          "yref": "y"
         },
         {
          "showarrow": false,
          "text": "0.64",
          "x": "Superficie(ha)_Cosechada",
          "xref": "x",
          "y": "Superficie(ha)_Sembrada",
          "yref": "y"
         },
         {
          "showarrow": false,
          "text": "0.11",
          "x": "Superficie(ha)_Siniestrada",
          "xref": "x",
          "y": "Superficie(ha)_Sembrada",
          "yref": "y"
         },
         {
          "showarrow": false,
          "text": "0.48",
          "x": "Producción",
          "xref": "x",
          "y": "Superficie(ha)_Sembrada",
          "yref": "y"
         },
         {
          "showarrow": false,
          "text": "-0.01",
          "x": "Rendimiento(udm/ha)",
          "xref": "x",
          "y": "Superficie(ha)_Sembrada",
          "yref": "y"
         },
         {
          "showarrow": false,
          "text": "-0.0",
          "x": "Precipitacion",
          "xref": "x",
          "y": "Superficie(ha)_Sembrada",
          "yref": "y"
         },
         {
          "showarrow": false,
          "text": "-0.0",
          "x": "Año",
          "xref": "x",
          "y": "Superficie(ha)_Cosechada",
          "yref": "y"
         },
         {
          "showarrow": false,
          "text": "0.04",
          "x": "Mes",
          "xref": "x",
          "y": "Superficie(ha)_Cosechada",
          "yref": "y"
         },
         {
          "showarrow": false,
          "text": "0.64",
          "x": "Superficie(ha)_Sembrada",
          "xref": "x",
          "y": "Superficie(ha)_Cosechada",
          "yref": "y"
         },
         {
          "showarrow": false,
          "text": "1.0",
          "x": "Superficie(ha)_Cosechada",
          "xref": "x",
          "y": "Superficie(ha)_Cosechada",
          "yref": "y"
         },
         {
          "showarrow": false,
          "text": "0.02",
          "x": "Superficie(ha)_Siniestrada",
          "xref": "x",
          "y": "Superficie(ha)_Cosechada",
          "yref": "y"
         },
         {
          "showarrow": false,
          "text": "0.74",
          "x": "Producción",
          "xref": "x",
          "y": "Superficie(ha)_Cosechada",
          "yref": "y"
         },
         {
          "showarrow": false,
          "text": "0.02",
          "x": "Rendimiento(udm/ha)",
          "xref": "x",
          "y": "Superficie(ha)_Cosechada",
          "yref": "y"
         },
         {
          "showarrow": false,
          "text": "0.03",
          "x": "Precipitacion",
          "xref": "x",
          "y": "Superficie(ha)_Cosechada",
          "yref": "y"
         },
         {
          "showarrow": false,
          "text": "-0.01",
          "x": "Año",
          "xref": "x",
          "y": "Superficie(ha)_Siniestrada",
          "yref": "y"
         },
         {
          "showarrow": false,
          "text": "-0.0",
          "x": "Mes",
          "xref": "x",
          "y": "Superficie(ha)_Siniestrada",
          "yref": "y"
         },
         {
          "showarrow": false,
          "text": "0.11",
          "x": "Superficie(ha)_Sembrada",
          "xref": "x",
          "y": "Superficie(ha)_Siniestrada",
          "yref": "y"
         },
         {
          "showarrow": false,
          "text": "0.02",
          "x": "Superficie(ha)_Cosechada",
          "xref": "x",
          "y": "Superficie(ha)_Siniestrada",
          "yref": "y"
         },
         {
          "showarrow": false,
          "text": "1.0",
          "x": "Superficie(ha)_Siniestrada",
          "xref": "x",
          "y": "Superficie(ha)_Siniestrada",
          "yref": "y"
         },
         {
          "showarrow": false,
          "text": "0.0",
          "x": "Producción",
          "xref": "x",
          "y": "Superficie(ha)_Siniestrada",
          "yref": "y"
         },
         {
          "showarrow": false,
          "text": "-0.0",
          "x": "Rendimiento(udm/ha)",
          "xref": "x",
          "y": "Superficie(ha)_Siniestrada",
          "yref": "y"
         },
         {
          "showarrow": false,
          "text": "0.0",
          "x": "Precipitacion",
          "xref": "x",
          "y": "Superficie(ha)_Siniestrada",
          "yref": "y"
         },
         {
          "showarrow": false,
          "text": "-0.0",
          "x": "Año",
          "xref": "x",
          "y": "Producción",
          "yref": "y"
         },
         {
          "showarrow": false,
          "text": "0.07",
          "x": "Mes",
          "xref": "x",
          "y": "Producción",
          "yref": "y"
         },
         {
          "showarrow": false,
          "text": "0.48",
          "x": "Superficie(ha)_Sembrada",
          "xref": "x",
          "y": "Producción",
          "yref": "y"
         },
         {
          "showarrow": false,
          "text": "0.74",
          "x": "Superficie(ha)_Cosechada",
          "xref": "x",
          "y": "Producción",
          "yref": "y"
         },
         {
          "showarrow": false,
          "text": "0.0",
          "x": "Superficie(ha)_Siniestrada",
          "xref": "x",
          "y": "Producción",
          "yref": "y"
         },
         {
          "showarrow": false,
          "text": "1.0",
          "x": "Producción",
          "xref": "x",
          "y": "Producción",
          "yref": "y"
         },
         {
          "showarrow": false,
          "text": "0.14",
          "x": "Rendimiento(udm/ha)",
          "xref": "x",
          "y": "Producción",
          "yref": "y"
         },
         {
          "showarrow": false,
          "text": "0.03",
          "x": "Precipitacion",
          "xref": "x",
          "y": "Producción",
          "yref": "y"
         },
         {
          "showarrow": false,
          "text": "-0.0",
          "x": "Año",
          "xref": "x",
          "y": "Rendimiento(udm/ha)",
          "yref": "y"
         },
         {
          "showarrow": false,
          "text": "0.12",
          "x": "Mes",
          "xref": "x",
          "y": "Rendimiento(udm/ha)",
          "yref": "y"
         },
         {
          "showarrow": false,
          "text": "-0.01",
          "x": "Superficie(ha)_Sembrada",
          "xref": "x",
          "y": "Rendimiento(udm/ha)",
          "yref": "y"
         },
         {
          "showarrow": false,
          "text": "0.02",
          "x": "Superficie(ha)_Cosechada",
          "xref": "x",
          "y": "Rendimiento(udm/ha)",
          "yref": "y"
         },
         {
          "showarrow": false,
          "text": "-0.0",
          "x": "Superficie(ha)_Siniestrada",
          "xref": "x",
          "y": "Rendimiento(udm/ha)",
          "yref": "y"
         },
         {
          "showarrow": false,
          "text": "0.14",
          "x": "Producción",
          "xref": "x",
          "y": "Rendimiento(udm/ha)",
          "yref": "y"
         },
         {
          "showarrow": false,
          "text": "1.0",
          "x": "Rendimiento(udm/ha)",
          "xref": "x",
          "y": "Rendimiento(udm/ha)",
          "yref": "y"
         },
         {
          "showarrow": false,
          "text": "0.13",
          "x": "Precipitacion",
          "xref": "x",
          "y": "Rendimiento(udm/ha)",
          "yref": "y"
         },
         {
          "showarrow": false,
          "text": "-0.01",
          "x": "Año",
          "xref": "x",
          "y": "Precipitacion",
          "yref": "y"
         },
         {
          "showarrow": false,
          "text": "0.3",
          "x": "Mes",
          "xref": "x",
          "y": "Precipitacion",
          "yref": "y"
         },
         {
          "showarrow": false,
          "text": "-0.0",
          "x": "Superficie(ha)_Sembrada",
          "xref": "x",
          "y": "Precipitacion",
          "yref": "y"
         },
         {
          "showarrow": false,
          "text": "0.03",
          "x": "Superficie(ha)_Cosechada",
          "xref": "x",
          "y": "Precipitacion",
          "yref": "y"
         },
         {
          "showarrow": false,
          "text": "0.0",
          "x": "Superficie(ha)_Siniestrada",
          "xref": "x",
          "y": "Precipitacion",
          "yref": "y"
         },
         {
          "showarrow": false,
          "text": "0.03",
          "x": "Producción",
          "xref": "x",
          "y": "Precipitacion",
          "yref": "y"
         },
         {
          "showarrow": false,
          "text": "0.13",
          "x": "Rendimiento(udm/ha)",
          "xref": "x",
          "y": "Precipitacion",
          "yref": "y"
         },
         {
          "showarrow": false,
          "text": "1.0",
          "x": "Precipitacion",
          "xref": "x",
          "y": "Precipitacion",
          "yref": "y"
         }
        ],
        "height": 800,
        "template": {
         "data": {
          "bar": [
           {
            "error_x": {
             "color": "#2a3f5f"
            },
            "error_y": {
             "color": "#2a3f5f"
            },
            "marker": {
             "line": {
              "color": "#E5ECF6",
              "width": 0.5
             },
             "pattern": {
              "fillmode": "overlay",
              "size": 10,
              "solidity": 0.2
             }
            },
            "type": "bar"
           }
          ],
          "barpolar": [
           {
            "marker": {
             "line": {
              "color": "#E5ECF6",
              "width": 0.5
             },
             "pattern": {
              "fillmode": "overlay",
              "size": 10,
              "solidity": 0.2
             }
            },
            "type": "barpolar"
           }
          ],
          "carpet": [
           {
            "aaxis": {
             "endlinecolor": "#2a3f5f",
             "gridcolor": "white",
             "linecolor": "white",
             "minorgridcolor": "white",
             "startlinecolor": "#2a3f5f"
            },
            "baxis": {
             "endlinecolor": "#2a3f5f",
             "gridcolor": "white",
             "linecolor": "white",
             "minorgridcolor": "white",
             "startlinecolor": "#2a3f5f"
            },
            "type": "carpet"
           }
          ],
          "choropleth": [
           {
            "colorbar": {
             "outlinewidth": 0,
             "ticks": ""
            },
            "type": "choropleth"
           }
          ],
          "contour": [
           {
            "colorbar": {
             "outlinewidth": 0,
             "ticks": ""
            },
            "colorscale": [
             [
              0,
              "#0d0887"
             ],
             [
              0.1111111111111111,
              "#46039f"
             ],
             [
              0.2222222222222222,
              "#7201a8"
             ],
             [
              0.3333333333333333,
              "#9c179e"
             ],
             [
              0.4444444444444444,
              "#bd3786"
             ],
             [
              0.5555555555555556,
              "#d8576b"
             ],
             [
              0.6666666666666666,
              "#ed7953"
             ],
             [
              0.7777777777777778,
              "#fb9f3a"
             ],
             [
              0.8888888888888888,
              "#fdca26"
             ],
             [
              1,
              "#f0f921"
             ]
            ],
            "type": "contour"
           }
          ],
          "contourcarpet": [
           {
            "colorbar": {
             "outlinewidth": 0,
             "ticks": ""
            },
            "type": "contourcarpet"
           }
          ],
          "heatmap": [
           {
            "colorbar": {
             "outlinewidth": 0,
             "ticks": ""
            },
            "colorscale": [
             [
              0,
              "#0d0887"
             ],
             [
              0.1111111111111111,
              "#46039f"
             ],
             [
              0.2222222222222222,
              "#7201a8"
             ],
             [
              0.3333333333333333,
              "#9c179e"
             ],
             [
              0.4444444444444444,
              "#bd3786"
             ],
             [
              0.5555555555555556,
              "#d8576b"
             ],
             [
              0.6666666666666666,
              "#ed7953"
             ],
             [
              0.7777777777777778,
              "#fb9f3a"
             ],
             [
              0.8888888888888888,
              "#fdca26"
             ],
             [
              1,
              "#f0f921"
             ]
            ],
            "type": "heatmap"
           }
          ],
          "heatmapgl": [
           {
            "colorbar": {
             "outlinewidth": 0,
             "ticks": ""
            },
            "colorscale": [
             [
              0,
              "#0d0887"
             ],
             [
              0.1111111111111111,
              "#46039f"
             ],
             [
              0.2222222222222222,
              "#7201a8"
             ],
             [
              0.3333333333333333,
              "#9c179e"
             ],
             [
              0.4444444444444444,
              "#bd3786"
             ],
             [
              0.5555555555555556,
              "#d8576b"
             ],
             [
              0.6666666666666666,
              "#ed7953"
             ],
             [
              0.7777777777777778,
              "#fb9f3a"
             ],
             [
              0.8888888888888888,
              "#fdca26"
             ],
             [
              1,
              "#f0f921"
             ]
            ],
            "type": "heatmapgl"
           }
          ],
          "histogram": [
           {
            "marker": {
             "pattern": {
              "fillmode": "overlay",
              "size": 10,
              "solidity": 0.2
             }
            },
            "type": "histogram"
           }
          ],
          "histogram2d": [
           {
            "colorbar": {
             "outlinewidth": 0,
             "ticks": ""
            },
            "colorscale": [
             [
              0,
              "#0d0887"
             ],
             [
              0.1111111111111111,
              "#46039f"
             ],
             [
              0.2222222222222222,
              "#7201a8"
             ],
             [
              0.3333333333333333,
              "#9c179e"
             ],
             [
              0.4444444444444444,
              "#bd3786"
             ],
             [
              0.5555555555555556,
              "#d8576b"
             ],
             [
              0.6666666666666666,
              "#ed7953"
             ],
             [
              0.7777777777777778,
              "#fb9f3a"
             ],
             [
              0.8888888888888888,
              "#fdca26"
             ],
             [
              1,
              "#f0f921"
             ]
            ],
            "type": "histogram2d"
           }
          ],
          "histogram2dcontour": [
           {
            "colorbar": {
             "outlinewidth": 0,
             "ticks": ""
            },
            "colorscale": [
             [
              0,
              "#0d0887"
             ],
             [
              0.1111111111111111,
              "#46039f"
             ],
             [
              0.2222222222222222,
              "#7201a8"
             ],
             [
              0.3333333333333333,
              "#9c179e"
             ],
             [
              0.4444444444444444,
              "#bd3786"
             ],
             [
              0.5555555555555556,
              "#d8576b"
             ],
             [
              0.6666666666666666,
              "#ed7953"
             ],
             [
              0.7777777777777778,
              "#fb9f3a"
             ],
             [
              0.8888888888888888,
              "#fdca26"
             ],
             [
              1,
              "#f0f921"
             ]
            ],
            "type": "histogram2dcontour"
           }
          ],
          "mesh3d": [
           {
            "colorbar": {
             "outlinewidth": 0,
             "ticks": ""
            },
            "type": "mesh3d"
           }
          ],
          "parcoords": [
           {
            "line": {
             "colorbar": {
              "outlinewidth": 0,
              "ticks": ""
             }
            },
            "type": "parcoords"
           }
          ],
          "pie": [
           {
            "automargin": true,
            "type": "pie"
           }
          ],
          "scatter": [
           {
            "fillpattern": {
             "fillmode": "overlay",
             "size": 10,
             "solidity": 0.2
            },
            "type": "scatter"
           }
          ],
          "scatter3d": [
           {
            "line": {
             "colorbar": {
              "outlinewidth": 0,
              "ticks": ""
             }
            },
            "marker": {
             "colorbar": {
              "outlinewidth": 0,
              "ticks": ""
             }
            },
            "type": "scatter3d"
           }
          ],
          "scattercarpet": [
           {
            "marker": {
             "colorbar": {
              "outlinewidth": 0,
              "ticks": ""
             }
            },
            "type": "scattercarpet"
           }
          ],
          "scattergeo": [
           {
            "marker": {
             "colorbar": {
              "outlinewidth": 0,
              "ticks": ""
             }
            },
            "type": "scattergeo"
           }
          ],
          "scattergl": [
           {
            "marker": {
             "colorbar": {
              "outlinewidth": 0,
              "ticks": ""
             }
            },
            "type": "scattergl"
           }
          ],
          "scattermapbox": [
           {
            "marker": {
             "colorbar": {
              "outlinewidth": 0,
              "ticks": ""
             }
            },
            "type": "scattermapbox"
           }
          ],
          "scatterpolar": [
           {
            "marker": {
             "colorbar": {
              "outlinewidth": 0,
              "ticks": ""
             }
            },
            "type": "scatterpolar"
           }
          ],
          "scatterpolargl": [
           {
            "marker": {
             "colorbar": {
              "outlinewidth": 0,
              "ticks": ""
             }
            },
            "type": "scatterpolargl"
           }
          ],
          "scatterternary": [
           {
            "marker": {
             "colorbar": {
              "outlinewidth": 0,
              "ticks": ""
             }
            },
            "type": "scatterternary"
           }
          ],
          "surface": [
           {
            "colorbar": {
             "outlinewidth": 0,
             "ticks": ""
            },
            "colorscale": [
             [
              0,
              "#0d0887"
             ],
             [
              0.1111111111111111,
              "#46039f"
             ],
             [
              0.2222222222222222,
              "#7201a8"
             ],
             [
              0.3333333333333333,
              "#9c179e"
             ],
             [
              0.4444444444444444,
              "#bd3786"
             ],
             [
              0.5555555555555556,
              "#d8576b"
             ],
             [
              0.6666666666666666,
              "#ed7953"
             ],
             [
              0.7777777777777778,
              "#fb9f3a"
             ],
             [
              0.8888888888888888,
              "#fdca26"
             ],
             [
              1,
              "#f0f921"
             ]
            ],
            "type": "surface"
           }
          ],
          "table": [
           {
            "cells": {
             "fill": {
              "color": "#EBF0F8"
             },
             "line": {
              "color": "white"
             }
            },
            "header": {
             "fill": {
              "color": "#C8D4E3"
             },
             "line": {
              "color": "white"
             }
            },
            "type": "table"
           }
          ]
         },
         "layout": {
          "annotationdefaults": {
           "arrowcolor": "#2a3f5f",
           "arrowhead": 0,
           "arrowwidth": 1
          },
          "autotypenumbers": "strict",
          "coloraxis": {
           "colorbar": {
            "outlinewidth": 0,
            "ticks": ""
           }
          },
          "colorscale": {
           "diverging": [
            [
             0,
             "#8e0152"
            ],
            [
             0.1,
             "#c51b7d"
            ],
            [
             0.2,
             "#de77ae"
            ],
            [
             0.3,
             "#f1b6da"
            ],
            [
             0.4,
             "#fde0ef"
            ],
            [
             0.5,
             "#f7f7f7"
            ],
            [
             0.6,
             "#e6f5d0"
            ],
            [
             0.7,
             "#b8e186"
            ],
            [
             0.8,
             "#7fbc41"
            ],
            [
             0.9,
             "#4d9221"
            ],
            [
             1,
             "#276419"
            ]
           ],
           "sequential": [
            [
             0,
             "#0d0887"
            ],
            [
             0.1111111111111111,
             "#46039f"
            ],
            [
             0.2222222222222222,
             "#7201a8"
            ],
            [
             0.3333333333333333,
             "#9c179e"
            ],
            [
             0.4444444444444444,
             "#bd3786"
            ],
            [
             0.5555555555555556,
             "#d8576b"
            ],
            [
             0.6666666666666666,
             "#ed7953"
            ],
            [
             0.7777777777777778,
             "#fb9f3a"
            ],
            [
             0.8888888888888888,
             "#fdca26"
            ],
            [
             1,
             "#f0f921"
            ]
           ],
           "sequentialminus": [
            [
             0,
             "#0d0887"
            ],
            [
             0.1111111111111111,
             "#46039f"
            ],
            [
             0.2222222222222222,
             "#7201a8"
            ],
            [
             0.3333333333333333,
             "#9c179e"
            ],
            [
             0.4444444444444444,
             "#bd3786"
            ],
            [
             0.5555555555555556,
             "#d8576b"
            ],
            [
             0.6666666666666666,
             "#ed7953"
            ],
            [
             0.7777777777777778,
             "#fb9f3a"
            ],
            [
             0.8888888888888888,
             "#fdca26"
            ],
            [
             1,
             "#f0f921"
            ]
           ]
          },
          "colorway": [
           "#636efa",
           "#EF553B",
           "#00cc96",
           "#ab63fa",
           "#FFA15A",
           "#19d3f3",
           "#FF6692",
           "#B6E880",
           "#FF97FF",
           "#FECB52"
          ],
          "font": {
           "color": "#2a3f5f"
          },
          "geo": {
           "bgcolor": "white",
           "lakecolor": "white",
           "landcolor": "#E5ECF6",
           "showlakes": true,
           "showland": true,
           "subunitcolor": "white"
          },
          "hoverlabel": {
           "align": "left"
          },
          "hovermode": "closest",
          "mapbox": {
           "style": "light"
          },
          "paper_bgcolor": "white",
          "plot_bgcolor": "#E5ECF6",
          "polar": {
           "angularaxis": {
            "gridcolor": "white",
            "linecolor": "white",
            "ticks": ""
           },
           "bgcolor": "#E5ECF6",
           "radialaxis": {
            "gridcolor": "white",
            "linecolor": "white",
            "ticks": ""
           }
          },
          "scene": {
           "xaxis": {
            "backgroundcolor": "#E5ECF6",
            "gridcolor": "white",
            "gridwidth": 2,
            "linecolor": "white",
            "showbackground": true,
            "ticks": "",
            "zerolinecolor": "white"
           },
           "yaxis": {
            "backgroundcolor": "#E5ECF6",
            "gridcolor": "white",
            "gridwidth": 2,
            "linecolor": "white",
            "showbackground": true,
            "ticks": "",
            "zerolinecolor": "white"
           },
           "zaxis": {
            "backgroundcolor": "#E5ECF6",
            "gridcolor": "white",
            "gridwidth": 2,
            "linecolor": "white",
            "showbackground": true,
            "ticks": "",
            "zerolinecolor": "white"
           }
          },
          "shapedefaults": {
           "line": {
            "color": "#2a3f5f"
           }
          },
          "ternary": {
           "aaxis": {
            "gridcolor": "white",
            "linecolor": "white",
            "ticks": ""
           },
           "baxis": {
            "gridcolor": "white",
            "linecolor": "white",
            "ticks": ""
           },
           "bgcolor": "#E5ECF6",
           "caxis": {
            "gridcolor": "white",
            "linecolor": "white",
            "ticks": ""
           }
          },
          "title": {
           "x": 0.05
          },
          "xaxis": {
           "automargin": true,
           "gridcolor": "white",
           "linecolor": "white",
           "ticks": "",
           "title": {
            "standoff": 15
           },
           "zerolinecolor": "white",
           "zerolinewidth": 2
          },
          "yaxis": {
           "automargin": true,
           "gridcolor": "white",
           "linecolor": "white",
           "ticks": "",
           "title": {
            "standoff": 15
           },
           "zerolinecolor": "white",
           "zerolinewidth": 2
          }
         }
        },
        "title": {
         "text": "Matriz de Correlación"
        },
        "width": 800
       }
      }
     },
     "metadata": {},
     "output_type": "display_data"
    }
   ],
   "source": [
    "# Crear una matriz de correlación\n",
    "correlation_matrix = eda.corr()\n",
    "\n",
    "# Crear el heatmap con etiquetas en cada recuadro\n",
    "fig = go.Figure(data=go.Heatmap(\n",
    "        z=correlation_matrix.values,\n",
    "        x=correlation_matrix.columns,\n",
    "        y=correlation_matrix.columns,\n",
    "        colorscale='OrRd'))\n",
    "\n",
    "fig.update_layout(title='Matriz de Correlación',\n",
    "                  width=800, height=800)\n",
    "\n",
    "# Añadir etiquetas en cada recuadro\n",
    "annotations = []\n",
    "for i, row in enumerate(correlation_matrix.values):\n",
    "    for j, value in enumerate(row):\n",
    "        annotations.append(\n",
    "            dict(text=str(round(value, 2)),\n",
    "                 x=correlation_matrix.columns[j],\n",
    "                 y=correlation_matrix.columns[i],\n",
    "                 xref='x',\n",
    "                 yref='y',\n",
    "                 showarrow=False)\n",
    "        )\n",
    "\n",
    "fig.update_layout(annotations=annotations)\n",
    "\n",
    "fig.show()\n",
    "\n"
   ]
  },
  {
   "cell_type": "code",
   "execution_count": 54,
   "metadata": {},
   "outputs": [],
   "source": [
    "eda.to_parquet('csv\\eda.parquet.gzip', compression='gzip')"
   ]
  },
  {
   "cell_type": "code",
   "execution_count": 50,
   "metadata": {},
   "outputs": [],
   "source": [
    "eda.to_csv('csv\\eda.csv', index=False)"
   ]
  }
 ],
 "metadata": {
  "kernelspec": {
   "display_name": "Python 3",
   "language": "python",
   "name": "python3"
  },
  "language_info": {
   "codemirror_mode": {
    "name": "ipython",
    "version": 3
   },
   "file_extension": ".py",
   "mimetype": "text/x-python",
   "name": "python",
   "nbconvert_exporter": "python",
   "pygments_lexer": "ipython3",
   "version": "3.10.11"
  }
 },
 "nbformat": 4,
 "nbformat_minor": 2
}
